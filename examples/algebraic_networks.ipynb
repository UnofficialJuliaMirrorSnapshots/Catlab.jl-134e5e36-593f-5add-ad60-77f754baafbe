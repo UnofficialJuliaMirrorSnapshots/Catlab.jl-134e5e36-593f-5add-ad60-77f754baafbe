{
 "cells": [
  {
   "cell_type": "code",
   "execution_count": 1,
   "metadata": {
    "collapsed": true
   },
   "outputs": [],
   "source": [
    "using Catlab.Algebra\n",
    "using Catlab.Diagram.TikZWiring\n",
    "import Catlab.Diagram.Interactive"
   ]
  },
  {
   "cell_type": "code",
   "execution_count": 2,
   "metadata": {},
   "outputs": [
    {
     "data": {
      "text/latex": [
       "$\\mathrm{sin} : \\mathbb{R} \\to \\mathbb{R}$"
      ],
      "text/plain": [
       "sin"
      ]
     },
     "metadata": {},
     "output_type": "display_data"
    },
    {
     "data": {
      "text/latex": [
       "$\\mathrm{cos} : \\mathbb{R} \\to \\mathbb{R}$"
      ],
      "text/plain": [
       "cos"
      ]
     },
     "metadata": {},
     "output_type": "display_data"
    }
   ],
   "source": [
    "R = Ob(AlgebraicNet, \"\\\\mathbb{R}\")\n",
    "f_sin = Hom(:sin, R, R)\n",
    "f_cos = Hom(:cos, R, R)\n",
    "display(f_sin)\n",
    "display(f_cos)"
   ]
  },
  {
   "cell_type": "code",
   "execution_count": 3,
   "metadata": {},
   "outputs": [
    {
     "data": {
      "text/latex": [
       "$\\Delta_{\\mathbb{R},2} ; \\left(\\mathrm{sin} \\otimes \\mathrm{cos}\\right) ; \\nabla_{\\mathbb{R},2} : \\mathbb{R} \\to \\mathbb{R}$"
      ],
      "text/plain": [
       "compose(mcopy(\\mathbb{R},2),otimes(sin,cos),mmerge(\\mathbb{R},2))"
      ]
     },
     "execution_count": 3,
     "metadata": {},
     "output_type": "execute_result"
    }
   ],
   "source": [
    "f = compose(mcopy(R),otimes(f_sin,f_cos),mmerge(R))"
   ]
  },
  {
   "cell_type": "code",
   "execution_count": 4,
   "metadata": {},
   "outputs": [
    {
     "data": {
      "image/svg+xml": [
       "<?xml version=\"1.0\" encoding=\"UTF-8\"?>\n",
       "<svg xmlns=\"http://www.w3.org/2000/svg\" xmlns:xlink=\"http://www.w3.org/1999/xlink\" width=\"132.02pt\" height=\"54.595pt\" viewBox=\"0 0 132.02 54.595\" version=\"1.1\">\n",
       "<defs>\n",
       "<g>\n",
       "<symbol overflow=\"visible\" id=\"glyph-1500231612836501-0-0\">\n",
       "<path style=\"stroke:none;\" d=\"\"/>\n",
       "</symbol>\n",
       "<symbol overflow=\"visible\" id=\"glyph-1500231612836501-0-1\">\n",
       "<path style=\"stroke:none;\" d=\"M 3.203125 -3.75 L 3.640625 -3.75 L 5.421875 -0.984375 C 5.546875 -0.78125 5.828125 -0.328125 5.96875 -0.140625 C 6.046875 0 6.078125 0 6.359375 0 L 8.015625 0 C 8.21875 0 8.40625 0 8.40625 -0.21875 C 8.40625 -0.3125 8.328125 -0.390625 8.21875 -0.421875 C 7.78125 -0.515625 7.203125 -1.296875 6.90625 -1.6875 C 6.828125 -1.8125 6.234375 -2.59375 5.421875 -3.890625 C 6.484375 -4.078125 7.515625 -4.53125 7.515625 -5.953125 C 7.515625 -7.609375 5.765625 -8.1875 4.34375 -8.1875 L 0.59375 -8.1875 C 0.375 -8.1875 0.1875 -8.1875 0.1875 -7.96875 C 0.1875 -7.765625 0.421875 -7.765625 0.515625 -7.765625 C 1.1875 -7.765625 1.25 -7.6875 1.25 -7.09375 L 1.25 -1.09375 C 1.25 -0.5 1.1875 -0.421875 0.515625 -0.421875 C 0.421875 -0.421875 0.1875 -0.421875 0.1875 -0.21875 C 0.1875 0 0.375 0 0.59375 0 L 3.875 0 C 4.09375 0 4.265625 0 4.265625 -0.21875 C 4.265625 -0.421875 4.0625 -0.421875 3.9375 -0.421875 C 3.25 -0.421875 3.203125 -0.515625 3.203125 -1.09375 Z M 5.515625 -4.34375 C 5.84375 -4.78125 5.875 -5.421875 5.875 -5.9375 C 5.875 -6.515625 5.8125 -7.140625 5.421875 -7.640625 C 5.921875 -7.53125 7.09375 -7.15625 7.09375 -5.953125 C 7.09375 -5.171875 6.734375 -4.5625 5.515625 -4.34375 Z M 3.203125 -7.125 C 3.203125 -7.375 3.203125 -7.765625 3.9375 -7.765625 C 4.953125 -7.765625 5.46875 -7.34375 5.46875 -5.9375 C 5.46875 -4.40625 5.09375 -4.171875 3.203125 -4.171875 Z M 1.578125 -0.421875 C 1.671875 -0.640625 1.671875 -0.96875 1.671875 -1.078125 L 1.671875 -7.109375 C 1.671875 -7.234375 1.671875 -7.546875 1.578125 -7.765625 L 2.9375 -7.765625 C 2.78125 -7.578125 2.78125 -7.34375 2.78125 -7.15625 L 2.78125 -1.078125 C 2.78125 -0.953125 2.78125 -0.640625 2.875 -0.421875 Z M 4.125 -3.75 C 4.203125 -3.765625 4.25 -3.78125 4.34375 -3.78125 C 4.53125 -3.78125 4.796875 -3.796875 4.96875 -3.828125 C 5.15625 -3.53125 6.4375 -1.40625 7.4375 -0.421875 L 6.28125 -0.421875 Z M 4.125 -3.75 \"/>\n",
       "</symbol>\n",
       "<symbol overflow=\"visible\" id=\"glyph-1500231612836501-1-0\">\n",
       "<path style=\"stroke:none;\" d=\"\"/>\n",
       "</symbol>\n",
       "<symbol overflow=\"visible\" id=\"glyph-1500231612836501-1-1\">\n",
       "<path style=\"stroke:none;\" d=\"M 3.921875 -5.0625 C 3.921875 -5.265625 3.921875 -5.328125 3.796875 -5.328125 C 3.703125 -5.328125 3.484375 -5.0625 3.390625 -4.953125 C 3.03125 -5.265625 2.65625 -5.328125 2.265625 -5.328125 C 0.828125 -5.328125 0.390625 -4.546875 0.390625 -3.890625 C 0.390625 -3.75 0.390625 -3.328125 0.84375 -2.921875 C 1.234375 -2.578125 1.640625 -2.5 2.1875 -2.390625 C 2.84375 -2.265625 3 -2.21875 3.296875 -1.984375 C 3.515625 -1.8125 3.671875 -1.546875 3.671875 -1.203125 C 3.671875 -0.6875 3.375 -0.125 2.3125 -0.125 C 1.53125 -0.125 0.953125 -0.578125 0.6875 -1.765625 C 0.640625 -1.984375 0.640625 -2 0.640625 -2.015625 C 0.609375 -2.0625 0.5625 -2.0625 0.53125 -2.0625 C 0.390625 -2.0625 0.390625 -2 0.390625 -1.78125 L 0.390625 -0.15625 C 0.390625 0.0625 0.390625 0.125 0.515625 0.125 C 0.578125 0.125 0.578125 0.109375 0.78125 -0.140625 C 0.84375 -0.234375 0.84375 -0.25 1.03125 -0.4375 C 1.484375 0.125 2.125 0.125 2.328125 0.125 C 3.578125 0.125 4.203125 -0.578125 4.203125 -1.515625 C 4.203125 -2.15625 3.8125 -2.546875 3.703125 -2.65625 C 3.28125 -3.03125 2.953125 -3.09375 2.15625 -3.234375 C 1.8125 -3.3125 0.9375 -3.484375 0.9375 -4.203125 C 0.9375 -4.5625 1.1875 -5.109375 2.265625 -5.109375 C 3.5625 -5.109375 3.640625 -4 3.65625 -3.640625 C 3.671875 -3.53125 3.75 -3.53125 3.796875 -3.53125 C 3.921875 -3.53125 3.921875 -3.59375 3.921875 -3.8125 Z M 3.921875 -5.0625 \"/>\n",
       "</symbol>\n",
       "<symbol overflow=\"visible\" id=\"glyph-1500231612836501-1-2\">\n",
       "<path style=\"stroke:none;\" d=\"M 2.078125 -7.359375 C 2.078125 -7.671875 1.828125 -7.953125 1.5 -7.953125 C 1.1875 -7.953125 0.921875 -7.703125 0.921875 -7.375 C 0.921875 -7.015625 1.203125 -6.796875 1.5 -6.796875 C 1.859375 -6.796875 2.078125 -7.09375 2.078125 -7.359375 Z M 0.4375 -5.140625 L 0.4375 -4.796875 C 1.1875 -4.796875 1.296875 -4.71875 1.296875 -4.140625 L 1.296875 -0.890625 C 1.296875 -0.34375 1.171875 -0.34375 0.390625 -0.34375 L 0.390625 0 C 0.734375 -0.03125 1.296875 -0.03125 1.65625 -0.03125 C 1.78125 -0.03125 2.46875 -0.03125 2.875 0 L 2.875 -0.34375 C 2.109375 -0.34375 2.0625 -0.40625 2.0625 -0.875 L 2.0625 -5.265625 Z M 0.4375 -5.140625 \"/>\n",
       "</symbol>\n",
       "<symbol overflow=\"visible\" id=\"glyph-1500231612836501-1-3\">\n",
       "<path style=\"stroke:none;\" d=\"M 5.3125 -2.90625 C 5.3125 -4.015625 5.3125 -4.34375 5.046875 -4.734375 C 4.703125 -5.203125 4.140625 -5.265625 3.734375 -5.265625 C 2.5625 -5.265625 2.109375 -4.28125 2.015625 -4.046875 L 2.015625 -5.265625 L 0.375 -5.140625 L 0.375 -4.796875 C 1.1875 -4.796875 1.296875 -4.703125 1.296875 -4.125 L 1.296875 -0.890625 C 1.296875 -0.34375 1.15625 -0.34375 0.375 -0.34375 L 0.375 0 C 0.6875 -0.03125 1.34375 -0.03125 1.671875 -0.03125 C 2.015625 -0.03125 2.671875 -0.03125 2.96875 0 L 2.96875 -0.34375 C 2.21875 -0.34375 2.0625 -0.34375 2.0625 -0.890625 L 2.0625 -3.109375 C 2.0625 -4.359375 2.890625 -5.03125 3.640625 -5.03125 C 4.375 -5.03125 4.546875 -4.421875 4.546875 -3.6875 L 4.546875 -0.890625 C 4.546875 -0.34375 4.40625 -0.34375 3.640625 -0.34375 L 3.640625 0 C 3.9375 -0.03125 4.59375 -0.03125 4.921875 -0.03125 C 5.265625 -0.03125 5.921875 -0.03125 6.234375 0 L 6.234375 -0.34375 C 5.625 -0.34375 5.328125 -0.34375 5.3125 -0.703125 Z M 5.3125 -2.90625 \"/>\n",
       "</symbol>\n",
       "<symbol overflow=\"visible\" id=\"glyph-1500231612836501-1-4\">\n",
       "<path style=\"stroke:none;\" d=\"M 4.328125 -4.421875 C 4.1875 -4.421875 3.734375 -4.421875 3.734375 -3.9375 C 3.734375 -3.640625 3.9375 -3.4375 4.234375 -3.4375 C 4.5 -3.4375 4.734375 -3.609375 4.734375 -3.953125 C 4.734375 -4.75 3.890625 -5.328125 2.921875 -5.328125 C 1.53125 -5.328125 0.421875 -4.09375 0.421875 -2.578125 C 0.421875 -1.046875 1.5625 0.125 2.921875 0.125 C 4.5 0.125 4.859375 -1.3125 4.859375 -1.421875 C 4.859375 -1.53125 4.765625 -1.53125 4.734375 -1.53125 C 4.625 -1.53125 4.609375 -1.5 4.578125 -1.34375 C 4.3125 -0.5 3.671875 -0.140625 3.03125 -0.140625 C 2.296875 -0.140625 1.328125 -0.78125 1.328125 -2.59375 C 1.328125 -4.578125 2.34375 -5.0625 2.9375 -5.0625 C 3.390625 -5.0625 4.046875 -4.890625 4.328125 -4.421875 Z M 4.328125 -4.421875 \"/>\n",
       "</symbol>\n",
       "<symbol overflow=\"visible\" id=\"glyph-1500231612836501-1-5\">\n",
       "<path style=\"stroke:none;\" d=\"M 5.484375 -2.5625 C 5.484375 -4.09375 4.3125 -5.328125 2.921875 -5.328125 C 1.5 -5.328125 0.359375 -4.0625 0.359375 -2.5625 C 0.359375 -1.03125 1.546875 0.125 2.921875 0.125 C 4.328125 0.125 5.484375 -1.046875 5.484375 -2.5625 Z M 2.921875 -0.140625 C 2.484375 -0.140625 1.953125 -0.328125 1.609375 -0.921875 C 1.28125 -1.453125 1.265625 -2.15625 1.265625 -2.671875 C 1.265625 -3.125 1.265625 -3.84375 1.640625 -4.390625 C 1.96875 -4.90625 2.5 -5.09375 2.921875 -5.09375 C 3.375 -5.09375 3.890625 -4.875 4.203125 -4.40625 C 4.578125 -3.859375 4.578125 -3.109375 4.578125 -2.671875 C 4.578125 -2.25 4.578125 -1.5 4.265625 -0.9375 C 3.9375 -0.375 3.375 -0.140625 2.921875 -0.140625 Z M 2.921875 -0.140625 \"/>\n",
       "</symbol>\n",
       "</g>\n",
       "<clipPath id=\"clip-1500231612836501-1\">\n",
       "  <path d=\"M 53 30 L 79 30 L 79 54.59375 L 53 54.59375 Z M 53 30 \"/>\n",
       "</clipPath>\n",
       "<clipPath id=\"clip-1500231612836501-2\">\n",
       "  <path d=\"M 101 21 L 132.019531 21 L 132.019531 33 L 101 33 Z M 101 21 \"/>\n",
       "</clipPath>\n",
       "</defs>\n",
       "<g id=\"surface1\">\n",
       "<path style=\"fill:none;stroke-width:0.3985;stroke-linecap:butt;stroke-linejoin:miter;stroke:rgb(0%,0%,0%);stroke-opacity:1;stroke-miterlimit:10;\" d=\"M 2.687375 0.000125 C 2.687375 1.097781 1.79675 1.992313 0.699094 1.992313 C -0.402469 1.992313 -1.293094 1.097781 -1.293094 0.000125 C -1.293094 -1.097531 -0.402469 -1.992062 0.699094 -1.992062 C 1.79675 -1.992062 2.687375 -1.097531 2.687375 0.000125 Z M 2.687375 0.000125 \" transform=\"matrix(1,0,0,-1,26.797,27.297)\"/>\n",
       "<path style=\"fill:none;stroke-width:0.3985;stroke-linecap:butt;stroke-linejoin:miter;stroke:rgb(0%,0%,0%);stroke-opacity:1;stroke-miterlimit:10;\" d=\"M -0.00190625 0.000125 C 9.673875 0.000125 15.134813 0.000125 24.806687 0.000125 \" transform=\"matrix(1,0,0,-1,0.498,27.297)\"/>\n",
       "<g style=\"fill:rgb(0%,0%,0%);fill-opacity:1;\">\n",
       "  <use xlink:href=\"#glyph-1500231612836501-0-1\" x=\"8.584\" y=\"24.109\"/>\n",
       "</g>\n",
       "<path style=\"fill:none;stroke-width:0.3985;stroke-linecap:butt;stroke-linejoin:miter;stroke:rgb(0%,0%,0%);stroke-opacity:1;stroke-miterlimit:10;\" d=\"M 0.19975 -11.955375 L 22.535687 -11.955375 L 22.535687 11.954781 L 0.19975 11.954781 Z M 0.19975 -11.955375 \" transform=\"matrix(1,0,0,-1,54.644,12.154)\"/>\n",
       "<g style=\"fill:rgb(0%,0%,0%);fill-opacity:1;\">\n",
       "  <use xlink:href=\"#glyph-1500231612836501-1-1\" x=\"58.824\" y=\"16.121\"/>\n",
       "  <use xlink:href=\"#glyph-1500231612836501-1-2\" x=\"63.441087\" y=\"16.121\"/>\n",
       "  <use xlink:href=\"#glyph-1500231612836501-1-3\" x=\"66.692893\" y=\"16.121\"/>\n",
       "</g>\n",
       "<g clip-path=\"url(#clip-1500231612836501-1)\" clip-rule=\"nonzero\">\n",
       "<path style=\"fill:none;stroke-width:0.3985;stroke-linecap:butt;stroke-linejoin:miter;stroke:rgb(0%,0%,0%);stroke-opacity:1;stroke-miterlimit:10;\" d=\"M -0.452594 -42.240531 L 23.184125 -42.240531 L 23.184125 -18.330375 L -0.452594 -18.330375 Z M -0.452594 -42.240531 \" transform=\"matrix(1,0,0,-1,54.644,12.154)\"/>\n",
       "</g>\n",
       "<g style=\"fill:rgb(0%,0%,0%);fill-opacity:1;\">\n",
       "  <use xlink:href=\"#glyph-1500231612836501-1-4\" x=\"58.174\" y=\"45.014\"/>\n",
       "  <use xlink:href=\"#glyph-1500231612836501-1-5\" x=\"63.37689\" y=\"45.014\"/>\n",
       "  <use xlink:href=\"#glyph-1500231612836501-1-1\" x=\"69.230141\" y=\"45.014\"/>\n",
       "</g>\n",
       "<path style=\"fill:none;stroke-width:0.3985;stroke-linecap:butt;stroke-linejoin:miter;stroke:rgb(0%,0%,0%);stroke-opacity:1;stroke-miterlimit:10;\" d=\"M 28.900437 1.097781 C 38.638719 6.722781 42.900438 15.144656 54.146531 15.144656 \" transform=\"matrix(1,0,0,-1,0.498,27.297)\"/>\n",
       "<path style=\"fill:none;stroke-width:0.3985;stroke-linecap:butt;stroke-linejoin:miter;stroke:rgb(0%,0%,0%);stroke-opacity:1;stroke-miterlimit:10;\" d=\"M 28.900437 -1.097531 C 38.474656 -6.624875 42.443406 -15.144406 53.494188 -15.144406 \" transform=\"matrix(1,0,0,-1,0.498,27.297)\"/>\n",
       "<path style=\"fill-rule:nonzero;fill:rgb(0%,0%,0%);fill-opacity:1;stroke-width:0.3985;stroke-linecap:butt;stroke-linejoin:miter;stroke:rgb(0%,0%,0%);stroke-opacity:1;stroke-miterlimit:10;\" d=\"M 2.687625 0.000125 C 2.687625 1.097781 1.797 1.992313 0.695437 1.992313 C -0.402219 1.992313 -1.292844 1.097781 -1.292844 0.000125 C -1.292844 -1.097531 -0.402219 -1.992062 0.695437 -1.992062 C 1.797 -1.992062 2.687625 -1.097531 2.687625 0.000125 Z M 2.687625 0.000125 \" transform=\"matrix(1,0,0,-1,103.828,27.297)\"/>\n",
       "<path style=\"fill:none;stroke-width:0.3985;stroke-linecap:butt;stroke-linejoin:miter;stroke:rgb(0%,0%,0%);stroke-opacity:1;stroke-miterlimit:10;\" d=\"M 76.880906 15.144656 C 88.127 15.144656 92.388719 6.722781 102.127 1.097781 \" transform=\"matrix(1,0,0,-1,0.498,27.297)\"/>\n",
       "<path style=\"fill:none;stroke-width:0.3985;stroke-linecap:butt;stroke-linejoin:miter;stroke:rgb(0%,0%,0%);stroke-opacity:1;stroke-miterlimit:10;\" d=\"M 77.529344 -15.144406 C 88.584031 -15.144406 92.552781 -6.624875 102.127 -1.097531 \" transform=\"matrix(1,0,0,-1,0.498,27.297)\"/>\n",
       "<g clip-path=\"url(#clip-1500231612836501-2)\" clip-rule=\"nonzero\">\n",
       "<path style=\"fill:none;stroke-width:0.3985;stroke-linecap:butt;stroke-linejoin:miter;stroke:rgb(0%,0%,0%);stroke-opacity:1;stroke-miterlimit:10;\" d=\"M 106.216844 0.000125 C 115.892625 0.000125 121.353562 0.000125 131.025438 0.000125 \" transform=\"matrix(1,0,0,-1,0.498,27.297)\"/>\n",
       "</g>\n",
       "<g style=\"fill:rgb(0%,0%,0%);fill-opacity:1;\">\n",
       "  <use xlink:href=\"#glyph-1500231612836501-0-1\" x=\"114.801\" y=\"24.109\"/>\n",
       "</g>\n",
       "</g>\n",
       "</svg>\n",
       "\n"
      ],
      "text/plain": [
       "Catlab.Diagram.TikZ.Picture(Catlab.Diagram.TikZ.Statement[Catlab.Diagram.TikZ.Node(\"n\", Catlab.Diagram.TikZ.Property[Catlab.Diagram.TikZ.Property(\"container\", #NULL)], #NULL, Catlab.Diagram.TikZ.Picture(Catlab.Diagram.TikZ.Statement[Catlab.Diagram.TikZ.Node(\"n1\", Catlab.Diagram.TikZ.Property[Catlab.Diagram.TikZ.Property(\"minimum height\", \"2.0em\")], #NULL, \"\"), Catlab.Diagram.TikZ.Node(\"n2\", Catlab.Diagram.TikZ.Property[Catlab.Diagram.TikZ.Property(\"container\", #NULL), Catlab.Diagram.TikZ.Property(\"right=2em of n1)\", #NULL)], #NULL, Catlab.Diagram.TikZ.Picture(Catlab.Diagram.TikZ.Statement[Catlab.Diagram.TikZ.Node(\"n2 box\", Catlab.Diagram.TikZ.Property[Catlab.Diagram.TikZ.Property(\"minimum height\", \"4.5em\")], #NULL, \"\"), Catlab.Diagram.TikZ.Node(\"n2 point\", Catlab.Diagram.TikZ.Property[Catlab.Diagram.TikZ.Property(\"draw\", #NULL), Catlab.Diagram.TikZ.Property(\"solid\", #NULL), Catlab.Diagram.TikZ.Property(\"circle\", #NULL), Catlab.Diagram.TikZ.Property(\"minimum size\", \"0.333em\"), Catlab.Diagram.TikZ.Property(\"above\", \"0 of n2 box.center\"), Catlab.Diagram.TikZ.Property(\"anchor\", \"center\")], #NULL, \"\")], Catlab.Diagram.TikZ.Property[])), Catlab.Diagram.TikZ.Edge(\"n1.center\", \"n2 point.180\", Catlab.Diagram.TikZ.PathOperation(\"to\", Catlab.Diagram.TikZ.Property[Catlab.Diagram.TikZ.Property(\"out\", \"0\"), Catlab.Diagram.TikZ.Property(\"in\", \"180\")]), Catlab.Diagram.TikZ.Property[], Catlab.Diagram.TikZ.EdgeNode(Catlab.Diagram.TikZ.Property[Catlab.Diagram.TikZ.Property(\"above\", \"0.25em\"), Catlab.Diagram.TikZ.Property(\"midway\", #NULL)], \"\\\\mathbb{R}\")), Catlab.Diagram.TikZ.Node(\"n3\", Catlab.Diagram.TikZ.Property[Catlab.Diagram.TikZ.Property(\"container\", #NULL), Catlab.Diagram.TikZ.Property(\"right=2em of n2)\", #NULL)], #NULL, Catlab.Diagram.TikZ.Picture(Catlab.Diagram.TikZ.Statement[Catlab.Diagram.TikZ.Node(\"n31\", Catlab.Diagram.TikZ.Property[Catlab.Diagram.TikZ.Property(\"draw\", #NULL), Catlab.Diagram.TikZ.Property(\"solid\", #NULL), Catlab.Diagram.TikZ.Property(\"inner sep\", \"0.333em\"), Catlab.Diagram.TikZ.Property(\"rectangle\", #NULL), Catlab.Diagram.TikZ.Property(\"sharp corners\", #NULL), Catlab.Diagram.TikZ.Property(\"minimum height\", \"2.0em\")], #NULL, \"\\\\mathrm{sin}\"), Catlab.Diagram.TikZ.Node(\"n32\", Catlab.Diagram.TikZ.Property[Catlab.Diagram.TikZ.Property(\"draw\", #NULL), Catlab.Diagram.TikZ.Property(\"solid\", #NULL), Catlab.Diagram.TikZ.Property(\"inner sep\", \"0.333em\"), Catlab.Diagram.TikZ.Property(\"rectangle\", #NULL), Catlab.Diagram.TikZ.Property(\"sharp corners\", #NULL), Catlab.Diagram.TikZ.Property(\"minimum height\", \"2.0em\"), Catlab.Diagram.TikZ.Property(\"below=0.5em of n31\", #NULL)], #NULL, \"\\\\mathrm{cos}\")], Catlab.Diagram.TikZ.Property[])), Catlab.Diagram.TikZ.Edge(\"n2 point.30\", \"n31.west\", Catlab.Diagram.TikZ.PathOperation(\"to\", Catlab.Diagram.TikZ.Property[Catlab.Diagram.TikZ.Property(\"out\", \"30\"), Catlab.Diagram.TikZ.Property(\"in\", \"180\")]), Catlab.Diagram.TikZ.Property[], #NULL), Catlab.Diagram.TikZ.Edge(\"n2 point.330\", \"n32.west\", Catlab.Diagram.TikZ.PathOperation(\"to\", Catlab.Diagram.TikZ.Property[Catlab.Diagram.TikZ.Property(\"out\", \"330\"), Catlab.Diagram.TikZ.Property(\"in\", \"180\")]), Catlab.Diagram.TikZ.Property[], #NULL), Catlab.Diagram.TikZ.Node(\"n4\", Catlab.Diagram.TikZ.Property[Catlab.Diagram.TikZ.Property(\"container\", #NULL), Catlab.Diagram.TikZ.Property(\"right=2em of n3)\", #NULL)], #NULL, Catlab.Diagram.TikZ.Picture(Catlab.Diagram.TikZ.Statement[Catlab.Diagram.TikZ.Node(\"n4 box\", Catlab.Diagram.TikZ.Property[Catlab.Diagram.TikZ.Property(\"minimum height\", \"4.5em\")], #NULL, \"\"), Catlab.Diagram.TikZ.Node(\"n4 point\", Catlab.Diagram.TikZ.Property[Catlab.Diagram.TikZ.Property(\"draw\", #NULL), Catlab.Diagram.TikZ.Property(\"fill\", #NULL), Catlab.Diagram.TikZ.Property(\"circle\", #NULL), Catlab.Diagram.TikZ.Property(\"minimum size\", \"0.333em\"), Catlab.Diagram.TikZ.Property(\"above\", \"0 of n4 box.center\"), Catlab.Diagram.TikZ.Property(\"anchor\", \"center\")], #NULL, \"\")], Catlab.Diagram.TikZ.Property[])), Catlab.Diagram.TikZ.Edge(\"n31.east\", \"n4 point.150\", Catlab.Diagram.TikZ.PathOperation(\"to\", Catlab.Diagram.TikZ.Property[Catlab.Diagram.TikZ.Property(\"out\", \"0\"), Catlab.Diagram.TikZ.Property(\"in\", \"150\")]), Catlab.Diagram.TikZ.Property[], #NULL), Catlab.Diagram.TikZ.Edge(\"n32.east\", \"n4 point.210\", Catlab.Diagram.TikZ.PathOperation(\"to\", Catlab.Diagram.TikZ.Property[Catlab.Diagram.TikZ.Property(\"out\", \"0\"), Catlab.Diagram.TikZ.Property(\"in\", \"210\")]), Catlab.Diagram.TikZ.Property[], #NULL), Catlab.Diagram.TikZ.Node(\"n5\", Catlab.Diagram.TikZ.Property[Catlab.Diagram.TikZ.Property(\"minimum height\", \"2.0em\"), Catlab.Diagram.TikZ.Property(\"right=2em of n4)\", #NULL)], #NULL, \"\"), Catlab.Diagram.TikZ.Edge(\"n4 point.0\", \"n5.center\", Catlab.Diagram.TikZ.PathOperation(\"to\", Catlab.Diagram.TikZ.Property[Catlab.Diagram.TikZ.Property(\"out\", \"0\"), Catlab.Diagram.TikZ.Property(\"in\", \"180\")]), Catlab.Diagram.TikZ.Property[], Catlab.Diagram.TikZ.EdgeNode(Catlab.Diagram.TikZ.Property[Catlab.Diagram.TikZ.Property(\"above\", \"0.25em\"), Catlab.Diagram.TikZ.Property(\"midway\", #NULL)], \"\\\\mathbb{R}\"))], Catlab.Diagram.TikZ.Property[]))], Catlab.Diagram.TikZ.Property[Catlab.Diagram.TikZ.Property(\"remember picture\", #NULL), Catlab.Diagram.TikZ.Property(\"font\", \"{\\\\fontsize{12}{14.4}}\"), Catlab.Diagram.TikZ.Property(\"container/.style\", \"{inner sep=0}\"), Catlab.Diagram.TikZ.Property(\"every path/.style\", \"{solid, line width=0.4pt}\"), Catlab.Diagram.TikZ.Property(\"execute at begin node\", \"\\$\"), Catlab.Diagram.TikZ.Property(\"execute at end node\", \"\\$\")])"
      ]
     },
     "execution_count": 4,
     "metadata": {},
     "output_type": "execute_result"
    }
   ],
   "source": [
    "to_tikz(f; labels=true)"
   ]
  },
  {
   "cell_type": "code",
   "execution_count": 5,
   "metadata": {},
   "outputs": [
    {
     "data": {
      "text/plain": [
       "(:(function ($(Expr(:parameters)), x)\n",
       "        v1 = sin.(x)\n",
       "        v2 = cos.(x)\n",
       "        v3 = v1 + v2\n",
       "        return v3\n",
       "    end), Symbol[])"
      ]
     },
     "execution_count": 5,
     "metadata": {},
     "output_type": "execute_result"
    }
   ],
   "source": [
    "compile_expr(f; args=[:x])"
   ]
  },
  {
   "cell_type": "code",
   "execution_count": 6,
   "metadata": {},
   "outputs": [
    {
     "data": {
      "text/latex": [
       "$\\mathop{\\mathrm{sin}}\\left(x\\right) + \\mathop{\\mathrm{cos}}\\left(x\\right)$"
      ],
      "text/plain": [
       "Catlab.Algebra.Tree.Formula(:+, Catlab.Algebra.Tree.Formula[Catlab.Algebra.Tree.Formula(:sin, Symbol[:x]), Catlab.Algebra.Tree.Formula(:cos, Symbol[:x])])"
      ]
     },
     "execution_count": 6,
     "metadata": {},
     "output_type": "execute_result"
    }
   ],
   "source": [
    "to_formula(f, [:x])"
   ]
  },
  {
   "cell_type": "code",
   "execution_count": 7,
   "metadata": {},
   "outputs": [
    {
     "data": {
      "text/latex": [
       "$\\Delta_{\\mathbb{R},3} ; \\left(\\mathrm{sin} \\otimes \\mathrm{cos} \\otimes \\mathrm{sin}\\right) : \\mathbb{R} \\to \\mathbb{R} \\otimes \\mathbb{R} \\otimes \\mathbb{R}$"
      ],
      "text/plain": [
       "compose(mcopy(\\mathbb{R},3),otimes(sin,cos,sin))"
      ]
     },
     "execution_count": 7,
     "metadata": {},
     "output_type": "execute_result"
    }
   ],
   "source": [
    "f = compose(mcopy(R,3), otimes(f_sin, f_cos, f_sin))"
   ]
  },
  {
   "cell_type": "code",
   "execution_count": 8,
   "metadata": {},
   "outputs": [
    {
     "data": {
      "image/svg+xml": [
       "<?xml version=\"1.0\" encoding=\"UTF-8\"?>\n",
       "<svg xmlns=\"http://www.w3.org/2000/svg\" xmlns:xlink=\"http://www.w3.org/1999/xlink\" width=\"103.332pt\" height=\"84.882pt\" viewBox=\"0 0 103.332 84.882\" version=\"1.1\">\n",
       "<defs>\n",
       "<g>\n",
       "<symbol overflow=\"visible\" id=\"glyph-1500231612836502-0-0\">\n",
       "<path style=\"stroke:none;\" d=\"\"/>\n",
       "</symbol>\n",
       "<symbol overflow=\"visible\" id=\"glyph-1500231612836502-0-1\">\n",
       "<path style=\"stroke:none;\" d=\"M 3.921875 -5.0625 C 3.921875 -5.265625 3.921875 -5.328125 3.796875 -5.328125 C 3.703125 -5.328125 3.484375 -5.0625 3.390625 -4.953125 C 3.03125 -5.265625 2.65625 -5.328125 2.265625 -5.328125 C 0.828125 -5.328125 0.390625 -4.546875 0.390625 -3.890625 C 0.390625 -3.75 0.390625 -3.328125 0.84375 -2.921875 C 1.234375 -2.578125 1.640625 -2.5 2.1875 -2.390625 C 2.84375 -2.265625 3 -2.21875 3.296875 -1.984375 C 3.515625 -1.8125 3.671875 -1.546875 3.671875 -1.203125 C 3.671875 -0.6875 3.375 -0.125 2.3125 -0.125 C 1.53125 -0.125 0.953125 -0.578125 0.6875 -1.765625 C 0.640625 -1.984375 0.640625 -2 0.640625 -2.015625 C 0.609375 -2.0625 0.5625 -2.0625 0.53125 -2.0625 C 0.390625 -2.0625 0.390625 -2 0.390625 -1.78125 L 0.390625 -0.15625 C 0.390625 0.0625 0.390625 0.125 0.515625 0.125 C 0.578125 0.125 0.578125 0.109375 0.78125 -0.140625 C 0.84375 -0.234375 0.84375 -0.25 1.03125 -0.4375 C 1.484375 0.125 2.125 0.125 2.328125 0.125 C 3.578125 0.125 4.203125 -0.578125 4.203125 -1.515625 C 4.203125 -2.15625 3.8125 -2.546875 3.703125 -2.65625 C 3.28125 -3.03125 2.953125 -3.09375 2.15625 -3.234375 C 1.8125 -3.3125 0.9375 -3.484375 0.9375 -4.203125 C 0.9375 -4.5625 1.1875 -5.109375 2.265625 -5.109375 C 3.5625 -5.109375 3.640625 -4 3.65625 -3.640625 C 3.671875 -3.53125 3.75 -3.53125 3.796875 -3.53125 C 3.921875 -3.53125 3.921875 -3.59375 3.921875 -3.8125 Z M 3.921875 -5.0625 \"/>\n",
       "</symbol>\n",
       "<symbol overflow=\"visible\" id=\"glyph-1500231612836502-0-2\">\n",
       "<path style=\"stroke:none;\" d=\"M 2.078125 -7.359375 C 2.078125 -7.671875 1.828125 -7.953125 1.5 -7.953125 C 1.1875 -7.953125 0.921875 -7.703125 0.921875 -7.375 C 0.921875 -7.015625 1.203125 -6.796875 1.5 -6.796875 C 1.859375 -6.796875 2.078125 -7.09375 2.078125 -7.359375 Z M 0.4375 -5.140625 L 0.4375 -4.796875 C 1.1875 -4.796875 1.296875 -4.71875 1.296875 -4.140625 L 1.296875 -0.890625 C 1.296875 -0.34375 1.171875 -0.34375 0.390625 -0.34375 L 0.390625 0 C 0.734375 -0.03125 1.296875 -0.03125 1.65625 -0.03125 C 1.78125 -0.03125 2.46875 -0.03125 2.875 0 L 2.875 -0.34375 C 2.109375 -0.34375 2.0625 -0.40625 2.0625 -0.875 L 2.0625 -5.265625 Z M 0.4375 -5.140625 \"/>\n",
       "</symbol>\n",
       "<symbol overflow=\"visible\" id=\"glyph-1500231612836502-0-3\">\n",
       "<path style=\"stroke:none;\" d=\"M 5.3125 -2.90625 C 5.3125 -4.015625 5.3125 -4.34375 5.046875 -4.734375 C 4.703125 -5.203125 4.140625 -5.265625 3.734375 -5.265625 C 2.5625 -5.265625 2.109375 -4.28125 2.015625 -4.046875 L 2.015625 -5.265625 L 0.375 -5.140625 L 0.375 -4.796875 C 1.1875 -4.796875 1.296875 -4.703125 1.296875 -4.125 L 1.296875 -0.890625 C 1.296875 -0.34375 1.15625 -0.34375 0.375 -0.34375 L 0.375 0 C 0.6875 -0.03125 1.34375 -0.03125 1.671875 -0.03125 C 2.015625 -0.03125 2.671875 -0.03125 2.96875 0 L 2.96875 -0.34375 C 2.21875 -0.34375 2.0625 -0.34375 2.0625 -0.890625 L 2.0625 -3.109375 C 2.0625 -4.359375 2.890625 -5.03125 3.640625 -5.03125 C 4.375 -5.03125 4.546875 -4.421875 4.546875 -3.6875 L 4.546875 -0.890625 C 4.546875 -0.34375 4.40625 -0.34375 3.640625 -0.34375 L 3.640625 0 C 3.9375 -0.03125 4.59375 -0.03125 4.921875 -0.03125 C 5.265625 -0.03125 5.921875 -0.03125 6.234375 0 L 6.234375 -0.34375 C 5.625 -0.34375 5.328125 -0.34375 5.3125 -0.703125 Z M 5.3125 -2.90625 \"/>\n",
       "</symbol>\n",
       "<symbol overflow=\"visible\" id=\"glyph-1500231612836502-0-4\">\n",
       "<path style=\"stroke:none;\" d=\"M 4.328125 -4.421875 C 4.1875 -4.421875 3.734375 -4.421875 3.734375 -3.9375 C 3.734375 -3.640625 3.9375 -3.4375 4.234375 -3.4375 C 4.5 -3.4375 4.734375 -3.609375 4.734375 -3.953125 C 4.734375 -4.75 3.890625 -5.328125 2.921875 -5.328125 C 1.53125 -5.328125 0.421875 -4.09375 0.421875 -2.578125 C 0.421875 -1.046875 1.5625 0.125 2.921875 0.125 C 4.5 0.125 4.859375 -1.3125 4.859375 -1.421875 C 4.859375 -1.53125 4.765625 -1.53125 4.734375 -1.53125 C 4.625 -1.53125 4.609375 -1.5 4.578125 -1.34375 C 4.3125 -0.5 3.671875 -0.140625 3.03125 -0.140625 C 2.296875 -0.140625 1.328125 -0.78125 1.328125 -2.59375 C 1.328125 -4.578125 2.34375 -5.0625 2.9375 -5.0625 C 3.390625 -5.0625 4.046875 -4.890625 4.328125 -4.421875 Z M 4.328125 -4.421875 \"/>\n",
       "</symbol>\n",
       "<symbol overflow=\"visible\" id=\"glyph-1500231612836502-0-5\">\n",
       "<path style=\"stroke:none;\" d=\"M 5.484375 -2.5625 C 5.484375 -4.09375 4.3125 -5.328125 2.921875 -5.328125 C 1.5 -5.328125 0.359375 -4.0625 0.359375 -2.5625 C 0.359375 -1.03125 1.546875 0.125 2.921875 0.125 C 4.328125 0.125 5.484375 -1.046875 5.484375 -2.5625 Z M 2.921875 -0.140625 C 2.484375 -0.140625 1.953125 -0.328125 1.609375 -0.921875 C 1.28125 -1.453125 1.265625 -2.15625 1.265625 -2.671875 C 1.265625 -3.125 1.265625 -3.84375 1.640625 -4.390625 C 1.96875 -4.90625 2.5 -5.09375 2.921875 -5.09375 C 3.375 -5.09375 3.890625 -4.875 4.203125 -4.40625 C 4.578125 -3.859375 4.578125 -3.109375 4.578125 -2.671875 C 4.578125 -2.25 4.578125 -1.5 4.265625 -0.9375 C 3.9375 -0.375 3.375 -0.140625 2.921875 -0.140625 Z M 2.921875 -0.140625 \"/>\n",
       "</symbol>\n",
       "</g>\n",
       "<clipPath id=\"clip-1500231612836502-1\">\n",
       "  <path d=\"M 54 60 L 78 60 L 78 84.882812 L 54 84.882812 Z M 54 60 \"/>\n",
       "</clipPath>\n",
       "<clipPath id=\"clip-1500231612836502-2\">\n",
       "  <path d=\"M 71 6 L 103.332031 6 L 103.332031 19 L 71 19 Z M 71 6 \"/>\n",
       "</clipPath>\n",
       "<clipPath id=\"clip-1500231612836502-3\">\n",
       "  <path d=\"M 72 36 L 103.332031 36 L 103.332031 49 L 72 49 Z M 72 36 \"/>\n",
       "</clipPath>\n",
       "<clipPath id=\"clip-1500231612836502-4\">\n",
       "  <path d=\"M 71 66 L 103.332031 66 L 103.332031 79 L 71 79 Z M 71 66 \"/>\n",
       "</clipPath>\n",
       "</defs>\n",
       "<g id=\"surface1\">\n",
       "<path style=\"fill:none;stroke-width:0.3985;stroke-linecap:butt;stroke-linejoin:miter;stroke:rgb(0%,0%,0%);stroke-opacity:1;stroke-miterlimit:10;\" d=\"M 2.687375 -0.00040625 C 2.687375 1.101156 1.79675 1.991781 0.699094 1.991781 C -0.402469 1.991781 -1.293094 1.101156 -1.293094 -0.00040625 C -1.293094 -1.098063 -0.402469 -1.988688 0.699094 -1.988688 C 1.79675 -1.988688 2.687375 -1.098063 2.687375 -0.00040625 Z M 2.687375 -0.00040625 \" transform=\"matrix(1,0,0,-1,26.797,42.441)\"/>\n",
       "<path style=\"fill:none;stroke-width:0.3985;stroke-linecap:butt;stroke-linejoin:miter;stroke:rgb(0%,0%,0%);stroke-opacity:1;stroke-miterlimit:10;\" d=\"M -0.00190625 -0.00040625 C 9.673875 -0.00040625 15.134813 -0.00040625 24.806687 -0.00040625 \" transform=\"matrix(1,0,0,-1,0.498,42.441)\"/>\n",
       "<path style=\"fill:none;stroke-width:0.3985;stroke-linecap:butt;stroke-linejoin:miter;stroke:rgb(0%,0%,0%);stroke-opacity:1;stroke-miterlimit:10;\" d=\"M 0.19975 -11.954375 L 22.535687 -11.954375 L 22.535687 11.955781 L 0.19975 11.955781 Z M 0.19975 -11.954375 \" transform=\"matrix(1,0,0,-1,54.644,12.155)\"/>\n",
       "<g style=\"fill:rgb(0%,0%,0%);fill-opacity:1;\">\n",
       "  <use xlink:href=\"#glyph-1500231612836502-0-1\" x=\"58.824\" y=\"16.122\"/>\n",
       "  <use xlink:href=\"#glyph-1500231612836502-0-2\" x=\"63.441087\" y=\"16.122\"/>\n",
       "  <use xlink:href=\"#glyph-1500231612836502-0-3\" x=\"66.692893\" y=\"16.122\"/>\n",
       "</g>\n",
       "<path style=\"fill:none;stroke-width:0.3985;stroke-linecap:butt;stroke-linejoin:miter;stroke:rgb(0%,0%,0%);stroke-opacity:1;stroke-miterlimit:10;\" d=\"M -0.452594 -42.243438 L 23.184125 -42.243438 L 23.184125 -18.333281 L -0.452594 -18.333281 Z M -0.452594 -42.243438 \" transform=\"matrix(1,0,0,-1,54.644,12.155)\"/>\n",
       "<g style=\"fill:rgb(0%,0%,0%);fill-opacity:1;\">\n",
       "  <use xlink:href=\"#glyph-1500231612836502-0-4\" x=\"58.174\" y=\"45.015\"/>\n",
       "  <use xlink:href=\"#glyph-1500231612836502-0-5\" x=\"63.37689\" y=\"45.015\"/>\n",
       "  <use xlink:href=\"#glyph-1500231612836502-0-1\" x=\"69.230141\" y=\"45.015\"/>\n",
       "</g>\n",
       "<g clip-path=\"url(#clip-1500231612836502-1)\" clip-rule=\"nonzero\">\n",
       "<path style=\"fill:none;stroke-width:0.3985;stroke-linecap:butt;stroke-linejoin:miter;stroke:rgb(0%,0%,0%);stroke-opacity:1;stroke-miterlimit:10;\" d=\"M 0.19975 -72.528594 L 22.535687 -72.528594 L 22.535687 -48.618438 L 0.19975 -48.618438 Z M 0.19975 -72.528594 \" transform=\"matrix(1,0,0,-1,54.644,12.155)\"/>\n",
       "</g>\n",
       "<g style=\"fill:rgb(0%,0%,0%);fill-opacity:1;\">\n",
       "  <use xlink:href=\"#glyph-1500231612836502-0-1\" x=\"58.824\" y=\"76.695\"/>\n",
       "  <use xlink:href=\"#glyph-1500231612836502-0-2\" x=\"63.441087\" y=\"76.695\"/>\n",
       "  <use xlink:href=\"#glyph-1500231612836502-0-3\" x=\"66.692893\" y=\"76.695\"/>\n",
       "</g>\n",
       "<path style=\"fill:none;stroke-width:0.3985;stroke-linecap:butt;stroke-linejoin:miter;stroke:rgb(0%,0%,0%);stroke-opacity:1;stroke-miterlimit:10;\" d=\"M 28.544969 1.546469 C 39.209031 12.210531 39.068406 30.288656 54.146531 30.288656 \" transform=\"matrix(1,0,0,-1,0.498,42.441)\"/>\n",
       "<path style=\"fill:none;stroke-width:0.3985;stroke-linecap:butt;stroke-linejoin:miter;stroke:rgb(0%,0%,0%);stroke-opacity:1;stroke-miterlimit:10;\" d=\"M 29.185594 -0.00040625 C 38.666063 -0.00040625 44.017625 -0.00040625 53.494188 -0.00040625 \" transform=\"matrix(1,0,0,-1,0.498,42.441)\"/>\n",
       "<path style=\"fill:none;stroke-width:0.3985;stroke-linecap:butt;stroke-linejoin:miter;stroke:rgb(0%,0%,0%);stroke-opacity:1;stroke-miterlimit:10;\" d=\"M 28.544969 -1.547281 C 39.209031 -12.211344 39.068406 -30.285563 54.146531 -30.285563 \" transform=\"matrix(1,0,0,-1,0.498,42.441)\"/>\n",
       "<g clip-path=\"url(#clip-1500231612836502-2)\" clip-rule=\"nonzero\">\n",
       "<path style=\"fill:none;stroke-width:0.3985;stroke-linecap:butt;stroke-linejoin:miter;stroke:rgb(0%,0%,0%);stroke-opacity:1;stroke-miterlimit:10;\" d=\"M 76.880906 30.288656 C 86.84575 30.288656 92.369187 29.890219 102.337937 29.890219 \" transform=\"matrix(1,0,0,-1,0.498,42.441)\"/>\n",
       "</g>\n",
       "<g clip-path=\"url(#clip-1500231612836502-3)\" clip-rule=\"nonzero\">\n",
       "<path style=\"fill:none;stroke-width:0.3985;stroke-linecap:butt;stroke-linejoin:miter;stroke:rgb(0%,0%,0%);stroke-opacity:1;stroke-miterlimit:10;\" d=\"M 77.529344 -0.00040625 C 87.205125 -0.00040625 92.662156 -0.00040625 102.337937 -0.00040625 \" transform=\"matrix(1,0,0,-1,0.498,42.441)\"/>\n",
       "</g>\n",
       "<g clip-path=\"url(#clip-1500231612836502-4)\" clip-rule=\"nonzero\">\n",
       "<path style=\"fill:none;stroke-width:0.3985;stroke-linecap:butt;stroke-linejoin:miter;stroke:rgb(0%,0%,0%);stroke-opacity:1;stroke-miterlimit:10;\" d=\"M 76.880906 -30.285563 C 86.84575 -30.285563 92.369187 -29.887125 102.337937 -29.887125 \" transform=\"matrix(1,0,0,-1,0.498,42.441)\"/>\n",
       "</g>\n",
       "</g>\n",
       "</svg>\n",
       "\n"
      ],
      "text/plain": [
       "Catlab.Diagram.TikZ.Picture(Catlab.Diagram.TikZ.Statement[Catlab.Diagram.TikZ.Node(\"n\", Catlab.Diagram.TikZ.Property[Catlab.Diagram.TikZ.Property(\"container\", #NULL)], #NULL, Catlab.Diagram.TikZ.Picture(Catlab.Diagram.TikZ.Statement[Catlab.Diagram.TikZ.Node(\"n1\", Catlab.Diagram.TikZ.Property[Catlab.Diagram.TikZ.Property(\"minimum height\", \"2.0em\")], #NULL, \"\"), Catlab.Diagram.TikZ.Node(\"n2\", Catlab.Diagram.TikZ.Property[Catlab.Diagram.TikZ.Property(\"container\", #NULL), Catlab.Diagram.TikZ.Property(\"right=2em of n1)\", #NULL)], #NULL, Catlab.Diagram.TikZ.Picture(Catlab.Diagram.TikZ.Statement[Catlab.Diagram.TikZ.Node(\"n2 box\", Catlab.Diagram.TikZ.Property[Catlab.Diagram.TikZ.Property(\"minimum height\", \"7.0em\")], #NULL, \"\"), Catlab.Diagram.TikZ.Node(\"n2 point\", Catlab.Diagram.TikZ.Property[Catlab.Diagram.TikZ.Property(\"draw\", #NULL), Catlab.Diagram.TikZ.Property(\"solid\", #NULL), Catlab.Diagram.TikZ.Property(\"circle\", #NULL), Catlab.Diagram.TikZ.Property(\"minimum size\", \"0.333em\"), Catlab.Diagram.TikZ.Property(\"above\", \"0 of n2 box.center\"), Catlab.Diagram.TikZ.Property(\"anchor\", \"center\")], #NULL, \"\")], Catlab.Diagram.TikZ.Property[])), Catlab.Diagram.TikZ.Edge(\"n1.center\", \"n2 point.180\", Catlab.Diagram.TikZ.PathOperation(\"to\", Catlab.Diagram.TikZ.Property[Catlab.Diagram.TikZ.Property(\"out\", \"0\"), Catlab.Diagram.TikZ.Property(\"in\", \"180\")]), Catlab.Diagram.TikZ.Property[], #NULL), Catlab.Diagram.TikZ.Node(\"n3\", Catlab.Diagram.TikZ.Property[Catlab.Diagram.TikZ.Property(\"container\", #NULL), Catlab.Diagram.TikZ.Property(\"right=2em of n2)\", #NULL)], #NULL, Catlab.Diagram.TikZ.Picture(Catlab.Diagram.TikZ.Statement[Catlab.Diagram.TikZ.Node(\"n31\", Catlab.Diagram.TikZ.Property[Catlab.Diagram.TikZ.Property(\"draw\", #NULL), Catlab.Diagram.TikZ.Property(\"solid\", #NULL), Catlab.Diagram.TikZ.Property(\"inner sep\", \"0.333em\"), Catlab.Diagram.TikZ.Property(\"rectangle\", #NULL), Catlab.Diagram.TikZ.Property(\"sharp corners\", #NULL), Catlab.Diagram.TikZ.Property(\"minimum height\", \"2.0em\")], #NULL, \"\\\\mathrm{sin}\"), Catlab.Diagram.TikZ.Node(\"n32\", Catlab.Diagram.TikZ.Property[Catlab.Diagram.TikZ.Property(\"draw\", #NULL), Catlab.Diagram.TikZ.Property(\"solid\", #NULL), Catlab.Diagram.TikZ.Property(\"inner sep\", \"0.333em\"), Catlab.Diagram.TikZ.Property(\"rectangle\", #NULL), Catlab.Diagram.TikZ.Property(\"sharp corners\", #NULL), Catlab.Diagram.TikZ.Property(\"minimum height\", \"2.0em\"), Catlab.Diagram.TikZ.Property(\"below=0.5em of n31\", #NULL)], #NULL, \"\\\\mathrm{cos}\"), Catlab.Diagram.TikZ.Node(\"n33\", Catlab.Diagram.TikZ.Property[Catlab.Diagram.TikZ.Property(\"draw\", #NULL), Catlab.Diagram.TikZ.Property(\"solid\", #NULL), Catlab.Diagram.TikZ.Property(\"inner sep\", \"0.333em\"), Catlab.Diagram.TikZ.Property(\"rectangle\", #NULL), Catlab.Diagram.TikZ.Property(\"sharp corners\", #NULL), Catlab.Diagram.TikZ.Property(\"minimum height\", \"2.0em\"), Catlab.Diagram.TikZ.Property(\"below=0.5em of n32\", #NULL)], #NULL, \"\\\\mathrm{sin}\")], Catlab.Diagram.TikZ.Property[])), Catlab.Diagram.TikZ.Edge(\"n2 point.45\", \"n31.west\", Catlab.Diagram.TikZ.PathOperation(\"to\", Catlab.Diagram.TikZ.Property[Catlab.Diagram.TikZ.Property(\"out\", \"45\"), Catlab.Diagram.TikZ.Property(\"in\", \"180\")]), Catlab.Diagram.TikZ.Property[], #NULL), Catlab.Diagram.TikZ.Edge(\"n2 point.0\", \"n32.west\", Catlab.Diagram.TikZ.PathOperation(\"to\", Catlab.Diagram.TikZ.Property[Catlab.Diagram.TikZ.Property(\"out\", \"0\"), Catlab.Diagram.TikZ.Property(\"in\", \"180\")]), Catlab.Diagram.TikZ.Property[], #NULL), Catlab.Diagram.TikZ.Edge(\"n2 point.315\", \"n33.west\", Catlab.Diagram.TikZ.PathOperation(\"to\", Catlab.Diagram.TikZ.Property[Catlab.Diagram.TikZ.Property(\"out\", \"315\"), Catlab.Diagram.TikZ.Property(\"in\", \"180\")]), Catlab.Diagram.TikZ.Property[], #NULL), Catlab.Diagram.TikZ.Node(\"n4\", Catlab.Diagram.TikZ.Property[Catlab.Diagram.TikZ.Property(\"minimum height\", \"7.0em\"), Catlab.Diagram.TikZ.Property(\"right=2em of n3)\", #NULL)], #NULL, \"\"), Catlab.Diagram.TikZ.Edge(\"n31.east\", \"\\$(n4.center)+(0,2.5em)\\$\", Catlab.Diagram.TikZ.PathOperation(\"to\", Catlab.Diagram.TikZ.Property[Catlab.Diagram.TikZ.Property(\"out\", \"0\"), Catlab.Diagram.TikZ.Property(\"in\", \"180\")]), Catlab.Diagram.TikZ.Property[], #NULL), Catlab.Diagram.TikZ.Edge(\"n32.east\", \"\\$(n4.center)+(0,0.0em)\\$\", Catlab.Diagram.TikZ.PathOperation(\"to\", Catlab.Diagram.TikZ.Property[Catlab.Diagram.TikZ.Property(\"out\", \"0\"), Catlab.Diagram.TikZ.Property(\"in\", \"180\")]), Catlab.Diagram.TikZ.Property[], #NULL), Catlab.Diagram.TikZ.Edge(\"n33.east\", \"\\$(n4.center)+(0,-2.5em)\\$\", Catlab.Diagram.TikZ.PathOperation(\"to\", Catlab.Diagram.TikZ.Property[Catlab.Diagram.TikZ.Property(\"out\", \"0\"), Catlab.Diagram.TikZ.Property(\"in\", \"180\")]), Catlab.Diagram.TikZ.Property[], #NULL)], Catlab.Diagram.TikZ.Property[]))], Catlab.Diagram.TikZ.Property[Catlab.Diagram.TikZ.Property(\"remember picture\", #NULL), Catlab.Diagram.TikZ.Property(\"font\", \"{\\\\fontsize{12}{14.4}}\"), Catlab.Diagram.TikZ.Property(\"container/.style\", \"{inner sep=0}\"), Catlab.Diagram.TikZ.Property(\"every path/.style\", \"{solid, line width=0.4pt}\"), Catlab.Diagram.TikZ.Property(\"execute at begin node\", \"\\$\"), Catlab.Diagram.TikZ.Property(\"execute at end node\", \"\\$\")])"
      ]
     },
     "execution_count": 8,
     "metadata": {},
     "output_type": "execute_result"
    }
   ],
   "source": [
    "to_tikz(f)"
   ]
  },
  {
   "cell_type": "code",
   "execution_count": 9,
   "metadata": {
    "scrolled": true
   },
   "outputs": [
    {
     "data": {
      "text/plain": [
       "(:(function ($(Expr(:parameters)), x)\n",
       "        v1 = sin.(x)\n",
       "        v2 = cos.(x)\n",
       "        v3 = sin.(x)\n",
       "        return (v1, v2, v3)\n",
       "    end), Symbol[])"
      ]
     },
     "execution_count": 9,
     "metadata": {},
     "output_type": "execute_result"
    }
   ],
   "source": [
    "compile_expr(f; args=[:x])"
   ]
  },
  {
   "cell_type": "code",
   "execution_count": 10,
   "metadata": {},
   "outputs": [
    {
     "data": {
      "text/latex": [
       "$\\mathop{\\mathrm{linear}}\\left[2\\right] ; \\mathrm{sin} ; \\mathop{\\mathrm{linear}}\\left[2\\right] : \\mathbb{R} \\to \\mathbb{R}$"
      ],
      "text/plain": [
       "compose(linear(2,\\mathbb{R},\\mathbb{R}),sin,linear(2,\\mathbb{R},\\mathbb{R}))"
      ]
     },
     "execution_count": 10,
     "metadata": {},
     "output_type": "execute_result"
    }
   ],
   "source": [
    "f = compose(linear(2,R,R), f_sin, linear(2,R,R))"
   ]
  },
  {
   "cell_type": "code",
   "execution_count": 11,
   "metadata": {},
   "outputs": [
    {
     "data": {
      "image/svg+xml": [
       "<?xml version=\"1.0\" encoding=\"UTF-8\"?>\n",
       "<svg xmlns=\"http://www.w3.org/2000/svg\" xmlns:xlink=\"http://www.w3.org/1999/xlink\" width=\"149.192pt\" height=\"24.309pt\" viewBox=\"0 0 149.192 24.309\" version=\"1.1\">\n",
       "<defs>\n",
       "<g>\n",
       "<symbol overflow=\"visible\" id=\"glyph-1500231612836503-0-0\">\n",
       "<path style=\"stroke:none;\" d=\"\"/>\n",
       "</symbol>\n",
       "<symbol overflow=\"visible\" id=\"glyph-1500231612836503-0-1\">\n",
       "<path style=\"stroke:none;\" d=\"M 5.265625 -2.015625 L 5 -2.015625 C 4.953125 -1.8125 4.859375 -1.140625 4.75 -0.953125 C 4.65625 -0.84375 3.984375 -0.84375 3.625 -0.84375 L 1.40625 -0.84375 C 1.734375 -1.125 2.46875 -1.890625 2.765625 -2.171875 C 4.59375 -3.84375 5.265625 -4.46875 5.265625 -5.65625 C 5.265625 -7.03125 4.171875 -7.953125 2.78125 -7.953125 C 1.40625 -7.953125 0.578125 -6.765625 0.578125 -5.734375 C 0.578125 -5.125 1.109375 -5.125 1.140625 -5.125 C 1.40625 -5.125 1.703125 -5.3125 1.703125 -5.6875 C 1.703125 -6.03125 1.484375 -6.25 1.140625 -6.25 C 1.046875 -6.25 1.015625 -6.25 0.984375 -6.234375 C 1.203125 -7.046875 1.859375 -7.609375 2.625 -7.609375 C 3.640625 -7.609375 4.265625 -6.75 4.265625 -5.65625 C 4.265625 -4.640625 3.6875 -3.75 3 -2.984375 L 0.578125 -0.28125 L 0.578125 0 L 4.953125 0 Z M 5.265625 -2.015625 \"/>\n",
       "</symbol>\n",
       "<symbol overflow=\"visible\" id=\"glyph-1500231612836503-0-2\">\n",
       "<path style=\"stroke:none;\" d=\"M 3.921875 -5.0625 C 3.921875 -5.265625 3.921875 -5.328125 3.796875 -5.328125 C 3.703125 -5.328125 3.484375 -5.0625 3.390625 -4.953125 C 3.03125 -5.265625 2.65625 -5.328125 2.265625 -5.328125 C 0.828125 -5.328125 0.390625 -4.546875 0.390625 -3.890625 C 0.390625 -3.75 0.390625 -3.328125 0.84375 -2.921875 C 1.234375 -2.578125 1.640625 -2.5 2.1875 -2.390625 C 2.84375 -2.265625 3 -2.21875 3.296875 -1.984375 C 3.515625 -1.8125 3.671875 -1.546875 3.671875 -1.203125 C 3.671875 -0.6875 3.375 -0.125 2.3125 -0.125 C 1.53125 -0.125 0.953125 -0.578125 0.6875 -1.765625 C 0.640625 -1.984375 0.640625 -2 0.640625 -2.015625 C 0.609375 -2.0625 0.5625 -2.0625 0.53125 -2.0625 C 0.390625 -2.0625 0.390625 -2 0.390625 -1.78125 L 0.390625 -0.15625 C 0.390625 0.0625 0.390625 0.125 0.515625 0.125 C 0.578125 0.125 0.578125 0.109375 0.78125 -0.140625 C 0.84375 -0.234375 0.84375 -0.25 1.03125 -0.4375 C 1.484375 0.125 2.125 0.125 2.328125 0.125 C 3.578125 0.125 4.203125 -0.578125 4.203125 -1.515625 C 4.203125 -2.15625 3.8125 -2.546875 3.703125 -2.65625 C 3.28125 -3.03125 2.953125 -3.09375 2.15625 -3.234375 C 1.8125 -3.3125 0.9375 -3.484375 0.9375 -4.203125 C 0.9375 -4.5625 1.1875 -5.109375 2.265625 -5.109375 C 3.5625 -5.109375 3.640625 -4 3.65625 -3.640625 C 3.671875 -3.53125 3.75 -3.53125 3.796875 -3.53125 C 3.921875 -3.53125 3.921875 -3.59375 3.921875 -3.8125 Z M 3.921875 -5.0625 \"/>\n",
       "</symbol>\n",
       "<symbol overflow=\"visible\" id=\"glyph-1500231612836503-0-3\">\n",
       "<path style=\"stroke:none;\" d=\"M 2.078125 -7.359375 C 2.078125 -7.671875 1.828125 -7.953125 1.5 -7.953125 C 1.1875 -7.953125 0.921875 -7.703125 0.921875 -7.375 C 0.921875 -7.015625 1.203125 -6.796875 1.5 -6.796875 C 1.859375 -6.796875 2.078125 -7.09375 2.078125 -7.359375 Z M 0.4375 -5.140625 L 0.4375 -4.796875 C 1.1875 -4.796875 1.296875 -4.71875 1.296875 -4.140625 L 1.296875 -0.890625 C 1.296875 -0.34375 1.171875 -0.34375 0.390625 -0.34375 L 0.390625 0 C 0.734375 -0.03125 1.296875 -0.03125 1.65625 -0.03125 C 1.78125 -0.03125 2.46875 -0.03125 2.875 0 L 2.875 -0.34375 C 2.109375 -0.34375 2.0625 -0.40625 2.0625 -0.875 L 2.0625 -5.265625 Z M 0.4375 -5.140625 \"/>\n",
       "</symbol>\n",
       "<symbol overflow=\"visible\" id=\"glyph-1500231612836503-0-4\">\n",
       "<path style=\"stroke:none;\" d=\"M 5.3125 -2.90625 C 5.3125 -4.015625 5.3125 -4.34375 5.046875 -4.734375 C 4.703125 -5.203125 4.140625 -5.265625 3.734375 -5.265625 C 2.5625 -5.265625 2.109375 -4.28125 2.015625 -4.046875 L 2.015625 -5.265625 L 0.375 -5.140625 L 0.375 -4.796875 C 1.1875 -4.796875 1.296875 -4.703125 1.296875 -4.125 L 1.296875 -0.890625 C 1.296875 -0.34375 1.15625 -0.34375 0.375 -0.34375 L 0.375 0 C 0.6875 -0.03125 1.34375 -0.03125 1.671875 -0.03125 C 2.015625 -0.03125 2.671875 -0.03125 2.96875 0 L 2.96875 -0.34375 C 2.21875 -0.34375 2.0625 -0.34375 2.0625 -0.890625 L 2.0625 -3.109375 C 2.0625 -4.359375 2.890625 -5.03125 3.640625 -5.03125 C 4.375 -5.03125 4.546875 -4.421875 4.546875 -3.6875 L 4.546875 -0.890625 C 4.546875 -0.34375 4.40625 -0.34375 3.640625 -0.34375 L 3.640625 0 C 3.9375 -0.03125 4.59375 -0.03125 4.921875 -0.03125 C 5.265625 -0.03125 5.921875 -0.03125 6.234375 0 L 6.234375 -0.34375 C 5.625 -0.34375 5.328125 -0.34375 5.3125 -0.703125 Z M 5.3125 -2.90625 \"/>\n",
       "</symbol>\n",
       "</g>\n",
       "<clipPath id=\"clip-1500231612836503-1\">\n",
       "  <path d=\"M 19 0 L 45 0 L 45 24.308594 L 19 24.308594 Z M 19 0 \"/>\n",
       "</clipPath>\n",
       "<clipPath id=\"clip-1500231612836503-2\">\n",
       "  <path d=\"M 63 0 L 86 0 L 86 24.308594 L 63 24.308594 Z M 63 0 \"/>\n",
       "</clipPath>\n",
       "<clipPath id=\"clip-1500231612836503-3\">\n",
       "  <path d=\"M 104 0 L 130 0 L 130 24.308594 L 104 24.308594 Z M 104 0 \"/>\n",
       "</clipPath>\n",
       "<clipPath id=\"clip-1500231612836503-4\">\n",
       "  <path d=\"M 118 6 L 149.191406 6 L 149.191406 18 L 118 18 Z M 118 6 \"/>\n",
       "</clipPath>\n",
       "</defs>\n",
       "<g id=\"surface1\">\n",
       "<g clip-path=\"url(#clip-1500231612836503-1)\" clip-rule=\"nonzero\">\n",
       "<path style=\"fill:none;stroke-width:0.3985;stroke-linecap:butt;stroke-linejoin:miter;stroke:rgb(0%,0%,0%);stroke-opacity:1;stroke-miterlimit:10;\" d=\"M 34.638719 11.955781 L 28.791062 11.955781 C 26.591844 11.955781 24.806687 10.170625 24.806687 7.971406 L 24.806687 -7.97 C 24.806687 -10.169219 26.591844 -11.954375 28.791062 -11.954375 L 34.638719 -11.954375 C 36.837938 -11.954375 38.623094 -10.169219 38.623094 -7.97 L 38.623094 7.971406 C 38.623094 10.170625 36.837938 11.955781 34.638719 11.955781 Z M 34.638719 11.955781 \" transform=\"matrix(1,0,0,-1,0.498,12.155)\"/>\n",
       "</g>\n",
       "<g style=\"fill:rgb(0%,0%,0%);fill-opacity:1;\">\n",
       "  <use xlink:href=\"#glyph-1500231612836503-0-1\" x=\"29.286\" y=\"16.007\"/>\n",
       "</g>\n",
       "<path style=\"fill:none;stroke-width:0.3985;stroke-linecap:butt;stroke-linejoin:miter;stroke:rgb(0%,0%,0%);stroke-opacity:1;stroke-miterlimit:10;\" d=\"M -0.00190625 -0.00125 C 9.59575 -0.00125 15.009813 -0.00125 24.607469 -0.00125 \" transform=\"matrix(1,0,0,-1,0.498,12.155)\"/>\n",
       "<g clip-path=\"url(#clip-1500231612836503-2)\" clip-rule=\"nonzero\">\n",
       "<path style=\"fill:none;stroke-width:0.3985;stroke-linecap:butt;stroke-linejoin:miter;stroke:rgb(0%,0%,0%);stroke-opacity:1;stroke-miterlimit:10;\" d=\"M 62.931688 -11.954375 L 85.267625 -11.954375 L 85.267625 11.955781 L 62.931688 11.955781 Z M 62.931688 -11.954375 \" transform=\"matrix(1,0,0,-1,0.498,12.155)\"/>\n",
       "</g>\n",
       "<g style=\"fill:rgb(0%,0%,0%);fill-opacity:1;\">\n",
       "  <use xlink:href=\"#glyph-1500231612836503-0-2\" x=\"67.41\" y=\"16.122\"/>\n",
       "  <use xlink:href=\"#glyph-1500231612836503-0-3\" x=\"72.027087\" y=\"16.122\"/>\n",
       "  <use xlink:href=\"#glyph-1500231612836503-0-4\" x=\"75.278893\" y=\"16.122\"/>\n",
       "</g>\n",
       "<path style=\"fill:none;stroke-width:0.3985;stroke-linecap:butt;stroke-linejoin:miter;stroke:rgb(0%,0%,0%);stroke-opacity:1;stroke-miterlimit:10;\" d=\"M 38.822313 -0.00125 C 48.146531 -0.00125 53.40825 -0.00125 62.732469 -0.00125 \" transform=\"matrix(1,0,0,-1,0.498,12.155)\"/>\n",
       "<g clip-path=\"url(#clip-1500231612836503-3)\" clip-rule=\"nonzero\">\n",
       "<path style=\"fill:none;stroke-width:0.3985;stroke-linecap:butt;stroke-linejoin:miter;stroke:rgb(0%,0%,0%);stroke-opacity:1;stroke-miterlimit:10;\" d=\"M 119.404344 11.955781 L 113.560594 11.955781 C 111.361375 11.955781 109.576219 10.170625 109.576219 7.971406 L 109.576219 -7.97 C 109.576219 -10.169219 111.361375 -11.954375 113.560594 -11.954375 L 119.404344 -11.954375 C 121.607469 -11.954375 123.388719 -10.169219 123.388719 -7.97 L 123.388719 7.971406 C 123.388719 10.170625 121.607469 11.955781 119.404344 11.955781 Z M 119.404344 11.955781 \" transform=\"matrix(1,0,0,-1,0.498,12.155)\"/>\n",
       "</g>\n",
       "<g style=\"fill:rgb(0%,0%,0%);fill-opacity:1;\">\n",
       "  <use xlink:href=\"#glyph-1500231612836503-0-1\" x=\"114.053\" y=\"16.007\"/>\n",
       "</g>\n",
       "<path style=\"fill:none;stroke-width:0.3985;stroke-linecap:butt;stroke-linejoin:miter;stroke:rgb(0%,0%,0%);stroke-opacity:1;stroke-miterlimit:10;\" d=\"M 85.466844 -0.00125 C 94.791062 -0.00125 100.052781 -0.00125 109.377 -0.00125 \" transform=\"matrix(1,0,0,-1,0.498,12.155)\"/>\n",
       "<g clip-path=\"url(#clip-1500231612836503-4)\" clip-rule=\"nonzero\">\n",
       "<path style=\"fill:none;stroke-width:0.3985;stroke-linecap:butt;stroke-linejoin:miter;stroke:rgb(0%,0%,0%);stroke-opacity:1;stroke-miterlimit:10;\" d=\"M 123.587937 -0.00125 C 133.185594 -0.00125 138.599656 -0.00125 148.197313 -0.00125 \" transform=\"matrix(1,0,0,-1,0.498,12.155)\"/>\n",
       "</g>\n",
       "</g>\n",
       "</svg>\n",
       "\n"
      ],
      "text/plain": [
       "Catlab.Diagram.TikZ.Picture(Catlab.Diagram.TikZ.Statement[Catlab.Diagram.TikZ.Node(\"n\", Catlab.Diagram.TikZ.Property[Catlab.Diagram.TikZ.Property(\"container\", #NULL)], #NULL, Catlab.Diagram.TikZ.Picture(Catlab.Diagram.TikZ.Statement[Catlab.Diagram.TikZ.Node(\"n1\", Catlab.Diagram.TikZ.Property[Catlab.Diagram.TikZ.Property(\"minimum height\", \"2.0em\")], #NULL, \"\"), Catlab.Diagram.TikZ.Node(\"n2\", Catlab.Diagram.TikZ.Property[Catlab.Diagram.TikZ.Property(\"draw\", #NULL), Catlab.Diagram.TikZ.Property(\"solid\", #NULL), Catlab.Diagram.TikZ.Property(\"inner sep\", \"0.333em\"), Catlab.Diagram.TikZ.Property(\"rectangle\", #NULL), Catlab.Diagram.TikZ.Property(\"rounded corners\", #NULL), Catlab.Diagram.TikZ.Property(\"minimum height\", \"2.0em\"), Catlab.Diagram.TikZ.Property(\"right=2em of n1)\", #NULL)], #NULL, \"2\"), Catlab.Diagram.TikZ.Edge(\"n1.center\", \"n2.west\", Catlab.Diagram.TikZ.PathOperation(\"to\", Catlab.Diagram.TikZ.Property[Catlab.Diagram.TikZ.Property(\"out\", \"0\"), Catlab.Diagram.TikZ.Property(\"in\", \"180\")]), Catlab.Diagram.TikZ.Property[], #NULL), Catlab.Diagram.TikZ.Node(\"n3\", Catlab.Diagram.TikZ.Property[Catlab.Diagram.TikZ.Property(\"draw\", #NULL), Catlab.Diagram.TikZ.Property(\"solid\", #NULL), Catlab.Diagram.TikZ.Property(\"inner sep\", \"0.333em\"), Catlab.Diagram.TikZ.Property(\"rectangle\", #NULL), Catlab.Diagram.TikZ.Property(\"sharp corners\", #NULL), Catlab.Diagram.TikZ.Property(\"minimum height\", \"2.0em\"), Catlab.Diagram.TikZ.Property(\"right=2em of n2)\", #NULL)], #NULL, \"\\\\mathrm{sin}\"), Catlab.Diagram.TikZ.Edge(\"n2.east\", \"n3.west\", Catlab.Diagram.TikZ.PathOperation(\"to\", Catlab.Diagram.TikZ.Property[Catlab.Diagram.TikZ.Property(\"out\", \"0\"), Catlab.Diagram.TikZ.Property(\"in\", \"180\")]), Catlab.Diagram.TikZ.Property[], #NULL), Catlab.Diagram.TikZ.Node(\"n4\", Catlab.Diagram.TikZ.Property[Catlab.Diagram.TikZ.Property(\"draw\", #NULL), Catlab.Diagram.TikZ.Property(\"solid\", #NULL), Catlab.Diagram.TikZ.Property(\"inner sep\", \"0.333em\"), Catlab.Diagram.TikZ.Property(\"rectangle\", #NULL), Catlab.Diagram.TikZ.Property(\"rounded corners\", #NULL), Catlab.Diagram.TikZ.Property(\"minimum height\", \"2.0em\"), Catlab.Diagram.TikZ.Property(\"right=2em of n3)\", #NULL)], #NULL, \"2\"), Catlab.Diagram.TikZ.Edge(\"n3.east\", \"n4.west\", Catlab.Diagram.TikZ.PathOperation(\"to\", Catlab.Diagram.TikZ.Property[Catlab.Diagram.TikZ.Property(\"out\", \"0\"), Catlab.Diagram.TikZ.Property(\"in\", \"180\")]), Catlab.Diagram.TikZ.Property[], #NULL), Catlab.Diagram.TikZ.Node(\"n5\", Catlab.Diagram.TikZ.Property[Catlab.Diagram.TikZ.Property(\"minimum height\", \"2.0em\"), Catlab.Diagram.TikZ.Property(\"right=2em of n4)\", #NULL)], #NULL, \"\"), Catlab.Diagram.TikZ.Edge(\"n4.east\", \"n5.center\", Catlab.Diagram.TikZ.PathOperation(\"to\", Catlab.Diagram.TikZ.Property[Catlab.Diagram.TikZ.Property(\"out\", \"0\"), Catlab.Diagram.TikZ.Property(\"in\", \"180\")]), Catlab.Diagram.TikZ.Property[], #NULL)], Catlab.Diagram.TikZ.Property[]))], Catlab.Diagram.TikZ.Property[Catlab.Diagram.TikZ.Property(\"remember picture\", #NULL), Catlab.Diagram.TikZ.Property(\"font\", \"{\\\\fontsize{12}{14.4}}\"), Catlab.Diagram.TikZ.Property(\"container/.style\", \"{inner sep=0}\"), Catlab.Diagram.TikZ.Property(\"every path/.style\", \"{solid, line width=0.4pt}\"), Catlab.Diagram.TikZ.Property(\"execute at begin node\", \"\\$\"), Catlab.Diagram.TikZ.Property(\"execute at end node\", \"\\$\")])"
      ]
     },
     "execution_count": 11,
     "metadata": {},
     "output_type": "execute_result"
    }
   ],
   "source": [
    "to_tikz(f)"
   ]
  },
  {
   "cell_type": "code",
   "execution_count": 12,
   "metadata": {},
   "outputs": [
    {
     "data": {
      "text/plain": [
       "(:(function ($(Expr(:parameters)), x)\n",
       "        v1 = 2x\n",
       "        v2 = sin.(v1)\n",
       "        v3 = 2v2\n",
       "        return v3\n",
       "    end), Symbol[])"
      ]
     },
     "execution_count": 12,
     "metadata": {},
     "output_type": "execute_result"
    }
   ],
   "source": [
    "compile_expr(f; args=[:x])"
   ]
  },
  {
   "cell_type": "code",
   "execution_count": 13,
   "metadata": {},
   "outputs": [
    {
     "data": {
      "text/latex": [
       "$2 \\mathop{\\mathrm{sin}}\\left(2 x\\right)$"
      ],
      "text/plain": [
       "Catlab.Algebra.Tree.Formula(:*, Any[2, Catlab.Algebra.Tree.Formula(:sin, Catlab.Algebra.Tree.Formula[Catlab.Algebra.Tree.Formula(:*, Any[2, :x])])])"
      ]
     },
     "execution_count": 13,
     "metadata": {},
     "output_type": "execute_result"
    }
   ],
   "source": [
    "to_formula(f, [:x])"
   ]
  },
  {
   "cell_type": "code",
   "execution_count": 14,
   "metadata": {},
   "outputs": [
    {
     "data": {
      "text/latex": [
       "$\\Delta_{\\mathbb{R},2} ; \\left(\\mathrm{id}_{\\mathbb{R}} \\otimes \\mathrm{cos}\\right) ; * : \\mathbb{R} \\to \\mathbb{R}$"
      ],
      "text/plain": [
       "compose(mcopy(\\mathbb{R},2),otimes(id(\\mathbb{R}),cos),*)"
      ]
     },
     "execution_count": 14,
     "metadata": {},
     "output_type": "execute_result"
    }
   ],
   "source": [
    "f = compose(mcopy(R), otimes(id(R),Hom(:cos,R,R)), Hom(:*,otimes(R,R),R))"
   ]
  },
  {
   "cell_type": "code",
   "execution_count": 15,
   "metadata": {},
   "outputs": [
    {
     "data": {
      "image/svg+xml": [
       "<?xml version=\"1.0\" encoding=\"UTF-8\"?>\n",
       "<svg xmlns=\"http://www.w3.org/2000/svg\" xmlns:xlink=\"http://www.w3.org/1999/xlink\" width=\"141.58pt\" height=\"54.396pt\" viewBox=\"0 0 141.58 54.396\" version=\"1.1\">\n",
       "<defs>\n",
       "<g>\n",
       "<symbol overflow=\"visible\" id=\"glyph-1500231612836504-0-0\">\n",
       "<path style=\"stroke:none;\" d=\"\"/>\n",
       "</symbol>\n",
       "<symbol overflow=\"visible\" id=\"glyph-1500231612836504-0-1\">\n",
       "<path style=\"stroke:none;\" d=\"M 4.328125 -4.421875 C 4.1875 -4.421875 3.734375 -4.421875 3.734375 -3.9375 C 3.734375 -3.640625 3.9375 -3.4375 4.234375 -3.4375 C 4.5 -3.4375 4.734375 -3.609375 4.734375 -3.953125 C 4.734375 -4.75 3.890625 -5.328125 2.921875 -5.328125 C 1.53125 -5.328125 0.421875 -4.09375 0.421875 -2.578125 C 0.421875 -1.046875 1.5625 0.125 2.921875 0.125 C 4.5 0.125 4.859375 -1.3125 4.859375 -1.421875 C 4.859375 -1.53125 4.765625 -1.53125 4.734375 -1.53125 C 4.625 -1.53125 4.609375 -1.5 4.578125 -1.34375 C 4.3125 -0.5 3.671875 -0.140625 3.03125 -0.140625 C 2.296875 -0.140625 1.328125 -0.78125 1.328125 -2.59375 C 1.328125 -4.578125 2.34375 -5.0625 2.9375 -5.0625 C 3.390625 -5.0625 4.046875 -4.890625 4.328125 -4.421875 Z M 4.328125 -4.421875 \"/>\n",
       "</symbol>\n",
       "<symbol overflow=\"visible\" id=\"glyph-1500231612836504-0-2\">\n",
       "<path style=\"stroke:none;\" d=\"M 5.484375 -2.5625 C 5.484375 -4.09375 4.3125 -5.328125 2.921875 -5.328125 C 1.5 -5.328125 0.359375 -4.0625 0.359375 -2.5625 C 0.359375 -1.03125 1.546875 0.125 2.921875 0.125 C 4.328125 0.125 5.484375 -1.046875 5.484375 -2.5625 Z M 2.921875 -0.140625 C 2.484375 -0.140625 1.953125 -0.328125 1.609375 -0.921875 C 1.28125 -1.453125 1.265625 -2.15625 1.265625 -2.671875 C 1.265625 -3.125 1.265625 -3.84375 1.640625 -4.390625 C 1.96875 -4.90625 2.5 -5.09375 2.921875 -5.09375 C 3.375 -5.09375 3.890625 -4.875 4.203125 -4.40625 C 4.578125 -3.859375 4.578125 -3.109375 4.578125 -2.671875 C 4.578125 -2.25 4.578125 -1.5 4.265625 -0.9375 C 3.9375 -0.375 3.375 -0.140625 2.921875 -0.140625 Z M 2.921875 -0.140625 \"/>\n",
       "</symbol>\n",
       "<symbol overflow=\"visible\" id=\"glyph-1500231612836504-0-3\">\n",
       "<path style=\"stroke:none;\" d=\"M 3.921875 -5.0625 C 3.921875 -5.265625 3.921875 -5.328125 3.796875 -5.328125 C 3.703125 -5.328125 3.484375 -5.0625 3.390625 -4.953125 C 3.03125 -5.265625 2.65625 -5.328125 2.265625 -5.328125 C 0.828125 -5.328125 0.390625 -4.546875 0.390625 -3.890625 C 0.390625 -3.75 0.390625 -3.328125 0.84375 -2.921875 C 1.234375 -2.578125 1.640625 -2.5 2.1875 -2.390625 C 2.84375 -2.265625 3 -2.21875 3.296875 -1.984375 C 3.515625 -1.8125 3.671875 -1.546875 3.671875 -1.203125 C 3.671875 -0.6875 3.375 -0.125 2.3125 -0.125 C 1.53125 -0.125 0.953125 -0.578125 0.6875 -1.765625 C 0.640625 -1.984375 0.640625 -2 0.640625 -2.015625 C 0.609375 -2.0625 0.5625 -2.0625 0.53125 -2.0625 C 0.390625 -2.0625 0.390625 -2 0.390625 -1.78125 L 0.390625 -0.15625 C 0.390625 0.0625 0.390625 0.125 0.515625 0.125 C 0.578125 0.125 0.578125 0.109375 0.78125 -0.140625 C 0.84375 -0.234375 0.84375 -0.25 1.03125 -0.4375 C 1.484375 0.125 2.125 0.125 2.328125 0.125 C 3.578125 0.125 4.203125 -0.578125 4.203125 -1.515625 C 4.203125 -2.15625 3.8125 -2.546875 3.703125 -2.65625 C 3.28125 -3.03125 2.953125 -3.09375 2.15625 -3.234375 C 1.8125 -3.3125 0.9375 -3.484375 0.9375 -4.203125 C 0.9375 -4.5625 1.1875 -5.109375 2.265625 -5.109375 C 3.5625 -5.109375 3.640625 -4 3.65625 -3.640625 C 3.671875 -3.53125 3.75 -3.53125 3.796875 -3.53125 C 3.921875 -3.53125 3.921875 -3.59375 3.921875 -3.8125 Z M 3.921875 -5.0625 \"/>\n",
       "</symbol>\n",
       "<symbol overflow=\"visible\" id=\"glyph-1500231612836504-1-0\">\n",
       "<path style=\"stroke:none;\" d=\"\"/>\n",
       "</symbol>\n",
       "<symbol overflow=\"visible\" id=\"glyph-1500231612836504-1-1\">\n",
       "<path style=\"stroke:none;\" d=\"M 3.28125 -5.109375 C 3.296875 -5.265625 3.296875 -5.5625 2.984375 -5.5625 C 2.796875 -5.5625 2.640625 -5.40625 2.671875 -5.25 L 2.671875 -5.09375 L 2.84375 -3.234375 L 1.3125 -4.34375 C 1.203125 -4.40625 1.1875 -4.4375 1.09375 -4.4375 C 0.9375 -4.4375 0.78125 -4.265625 0.78125 -4.09375 C 0.78125 -3.90625 0.890625 -3.859375 1.015625 -3.796875 L 2.71875 -2.984375 L 1.0625 -2.1875 C 0.875 -2.09375 0.78125 -2.046875 0.78125 -1.859375 C 0.78125 -1.6875 0.9375 -1.53125 1.09375 -1.53125 C 1.1875 -1.53125 1.203125 -1.53125 1.5 -1.75 L 2.84375 -2.71875 L 2.671875 -0.71875 C 2.671875 -0.46875 2.875 -0.40625 2.96875 -0.40625 C 3.125 -0.40625 3.296875 -0.484375 3.296875 -0.71875 L 3.125 -2.71875 L 4.65625 -1.609375 C 4.75 -1.546875 4.78125 -1.53125 4.859375 -1.53125 C 5.03125 -1.53125 5.1875 -1.703125 5.1875 -1.859375 C 5.1875 -2.046875 5.078125 -2.109375 4.9375 -2.171875 C 4.21875 -2.53125 4.203125 -2.53125 3.25 -2.96875 L 4.90625 -3.78125 C 5.09375 -3.875 5.1875 -3.921875 5.1875 -4.09375 C 5.1875 -4.28125 5.03125 -4.4375 4.859375 -4.4375 C 4.78125 -4.4375 4.75 -4.4375 4.453125 -4.203125 L 3.125 -3.234375 Z M 3.28125 -5.109375 \"/>\n",
       "</symbol>\n",
       "</g>\n",
       "<clipPath id=\"clip-1500231612836504-1\">\n",
       "  <path d=\"M 53 30 L 79 30 L 79 54.394531 L 53 54.394531 Z M 53 30 \"/>\n",
       "</clipPath>\n",
       "<clipPath id=\"clip-1500231612836504-2\">\n",
       "  <path d=\"M 102 0 L 117 0 L 117 54.394531 L 102 54.394531 Z M 102 0 \"/>\n",
       "</clipPath>\n",
       "<clipPath id=\"clip-1500231612836504-3\">\n",
       "  <path d=\"M 110 21 L 141.578125 21 L 141.578125 33 L 110 33 Z M 110 21 \"/>\n",
       "</clipPath>\n",
       "</defs>\n",
       "<g id=\"surface1\">\n",
       "<path style=\"fill:none;stroke-width:0.3985;stroke-linecap:butt;stroke-linejoin:miter;stroke:rgb(0%,0%,0%);stroke-opacity:1;stroke-miterlimit:10;\" d=\"M 2.687375 -0.00121875 C 2.687375 1.100344 1.79675 1.990969 0.699094 1.990969 C -0.402469 1.990969 -1.293094 1.100344 -1.293094 -0.00121875 C -1.293094 -1.098875 -0.402469 -1.9895 0.699094 -1.9895 C 1.79675 -1.9895 2.687375 -1.098875 2.687375 -0.00121875 Z M 2.687375 -0.00121875 \" transform=\"matrix(1,0,0,-1,26.797,27.198)\"/>\n",
       "<path style=\"fill:none;stroke-width:0.3985;stroke-linecap:butt;stroke-linejoin:miter;stroke:rgb(0%,0%,0%);stroke-opacity:1;stroke-miterlimit:10;\" d=\"M -0.00190625 -0.00121875 C 9.673875 -0.00121875 15.134813 -0.00121875 24.806687 -0.00121875 \" transform=\"matrix(1,0,0,-1,0.498,27.198)\"/>\n",
       "<g clip-path=\"url(#clip-1500231612836504-1)\" clip-rule=\"nonzero\">\n",
       "<path style=\"fill:none;stroke-width:0.3985;stroke-linecap:butt;stroke-linejoin:miter;stroke:rgb(0%,0%,0%);stroke-opacity:1;stroke-miterlimit:10;\" d=\"M -11.121594 -42.240312 L 12.515125 -42.240312 L 12.515125 -18.330156 L -11.121594 -18.330156 Z M -11.121594 -42.240312 \" transform=\"matrix(1,0,0,-1,65.313,11.955)\"/>\n",
       "</g>\n",
       "<g style=\"fill:rgb(0%,0%,0%);fill-opacity:1;\">\n",
       "  <use xlink:href=\"#glyph-1500231612836504-0-1\" x=\"58.174\" y=\"44.815\"/>\n",
       "  <use xlink:href=\"#glyph-1500231612836504-0-2\" x=\"63.37689\" y=\"44.815\"/>\n",
       "  <use xlink:href=\"#glyph-1500231612836504-0-3\" x=\"69.230141\" y=\"44.815\"/>\n",
       "</g>\n",
       "<path style=\"fill:none;stroke-width:0.3985;stroke-linecap:butt;stroke-linejoin:miter;stroke:rgb(0%,0%,0%);stroke-opacity:1;stroke-miterlimit:10;\" d=\"M 28.900437 1.096438 C 42.138719 8.744875 50.224656 15.244875 65.513719 15.244875 \" transform=\"matrix(1,0,0,-1,0.498,27.198)\"/>\n",
       "<path style=\"fill:none;stroke-width:0.3985;stroke-linecap:butt;stroke-linejoin:miter;stroke:rgb(0%,0%,0%);stroke-opacity:1;stroke-miterlimit:10;\" d=\"M 28.900437 -1.098875 C 38.431688 -6.602781 42.490281 -15.044187 53.494188 -15.044187 \" transform=\"matrix(1,0,0,-1,0.498,27.198)\"/>\n",
       "<g clip-path=\"url(#clip-1500231612836504-2)\" clip-rule=\"nonzero\">\n",
       "<path style=\"fill:none;stroke-width:0.3985;stroke-linecap:butt;stroke-linejoin:miter;stroke:rgb(0%,0%,0%);stroke-opacity:1;stroke-miterlimit:10;\" d=\"M 101.837937 -26.899656 L 115.779344 -26.899656 L 115.779344 26.901125 L 101.837937 26.901125 Z M 101.837937 -26.899656 \" transform=\"matrix(1,0,0,-1,0.498,27.198)\"/>\n",
       "</g>\n",
       "<g style=\"fill:rgb(0%,0%,0%);fill-opacity:1;\">\n",
       "  <use xlink:href=\"#glyph-1500231612836504-1-1\" x=\"106.317\" y=\"29.979\"/>\n",
       "</g>\n",
       "<path style=\"fill:none;stroke-width:0.3985;stroke-linecap:butt;stroke-linejoin:miter;stroke:rgb(0%,0%,0%);stroke-opacity:1;stroke-miterlimit:10;\" d=\"M 65.513719 15.244875 C 79.599656 15.244875 87.552781 14.944094 101.638719 14.944094 \" transform=\"matrix(1,0,0,-1,0.498,27.198)\"/>\n",
       "<path style=\"fill:none;stroke-width:0.3985;stroke-linecap:butt;stroke-linejoin:miter;stroke:rgb(0%,0%,0%);stroke-opacity:1;stroke-miterlimit:10;\" d=\"M 77.529344 -15.044187 C 86.931687 -15.044187 92.236375 -14.942625 101.638719 -14.942625 \" transform=\"matrix(1,0,0,-1,0.498,27.198)\"/>\n",
       "<g clip-path=\"url(#clip-1500231612836504-3)\" clip-rule=\"nonzero\">\n",
       "<path style=\"fill:none;stroke-width:0.3985;stroke-linecap:butt;stroke-linejoin:miter;stroke:rgb(0%,0%,0%);stroke-opacity:1;stroke-miterlimit:10;\" d=\"M 115.978562 -0.00121875 C 125.572312 -0.00121875 130.990281 -0.00121875 140.584031 -0.00121875 \" transform=\"matrix(1,0,0,-1,0.498,27.198)\"/>\n",
       "</g>\n",
       "</g>\n",
       "</svg>\n",
       "\n"
      ],
      "text/plain": [
       "Catlab.Diagram.TikZ.Picture(Catlab.Diagram.TikZ.Statement[Catlab.Diagram.TikZ.Node(\"n\", Catlab.Diagram.TikZ.Property[Catlab.Diagram.TikZ.Property(\"container\", #NULL)], #NULL, Catlab.Diagram.TikZ.Picture(Catlab.Diagram.TikZ.Statement[Catlab.Diagram.TikZ.Node(\"n1\", Catlab.Diagram.TikZ.Property[Catlab.Diagram.TikZ.Property(\"minimum height\", \"2.0em\")], #NULL, \"\"), Catlab.Diagram.TikZ.Node(\"n2\", Catlab.Diagram.TikZ.Property[Catlab.Diagram.TikZ.Property(\"container\", #NULL), Catlab.Diagram.TikZ.Property(\"right=2em of n1)\", #NULL)], #NULL, Catlab.Diagram.TikZ.Picture(Catlab.Diagram.TikZ.Statement[Catlab.Diagram.TikZ.Node(\"n2 box\", Catlab.Diagram.TikZ.Property[Catlab.Diagram.TikZ.Property(\"minimum height\", \"4.5em\")], #NULL, \"\"), Catlab.Diagram.TikZ.Node(\"n2 point\", Catlab.Diagram.TikZ.Property[Catlab.Diagram.TikZ.Property(\"draw\", #NULL), Catlab.Diagram.TikZ.Property(\"solid\", #NULL), Catlab.Diagram.TikZ.Property(\"circle\", #NULL), Catlab.Diagram.TikZ.Property(\"minimum size\", \"0.333em\"), Catlab.Diagram.TikZ.Property(\"above\", \"0 of n2 box.center\"), Catlab.Diagram.TikZ.Property(\"anchor\", \"center\")], #NULL, \"\")], Catlab.Diagram.TikZ.Property[])), Catlab.Diagram.TikZ.Edge(\"n1.center\", \"n2 point.180\", Catlab.Diagram.TikZ.PathOperation(\"to\", Catlab.Diagram.TikZ.Property[Catlab.Diagram.TikZ.Property(\"out\", \"0\"), Catlab.Diagram.TikZ.Property(\"in\", \"180\")]), Catlab.Diagram.TikZ.Property[], #NULL), Catlab.Diagram.TikZ.Node(\"n3\", Catlab.Diagram.TikZ.Property[Catlab.Diagram.TikZ.Property(\"container\", #NULL), Catlab.Diagram.TikZ.Property(\"right=2em of n2)\", #NULL)], #NULL, Catlab.Diagram.TikZ.Picture(Catlab.Diagram.TikZ.Statement[Catlab.Diagram.TikZ.Node(\"n31\", Catlab.Diagram.TikZ.Property[Catlab.Diagram.TikZ.Property(\"minimum height\", \"2.0em\")], #NULL, \"\"), Catlab.Diagram.TikZ.Node(\"n32\", Catlab.Diagram.TikZ.Property[Catlab.Diagram.TikZ.Property(\"draw\", #NULL), Catlab.Diagram.TikZ.Property(\"solid\", #NULL), Catlab.Diagram.TikZ.Property(\"inner sep\", \"0.333em\"), Catlab.Diagram.TikZ.Property(\"rectangle\", #NULL), Catlab.Diagram.TikZ.Property(\"sharp corners\", #NULL), Catlab.Diagram.TikZ.Property(\"minimum height\", \"2.0em\"), Catlab.Diagram.TikZ.Property(\"below=0.5em of n31\", #NULL)], #NULL, \"\\\\mathrm{cos}\")], Catlab.Diagram.TikZ.Property[])), Catlab.Diagram.TikZ.Edge(\"n2 point.30\", \"n31.center\", Catlab.Diagram.TikZ.PathOperation(\"to\", Catlab.Diagram.TikZ.Property[Catlab.Diagram.TikZ.Property(\"out\", \"30\"), Catlab.Diagram.TikZ.Property(\"in\", \"180\")]), Catlab.Diagram.TikZ.Property[], #NULL), Catlab.Diagram.TikZ.Edge(\"n2 point.330\", \"n32.west\", Catlab.Diagram.TikZ.PathOperation(\"to\", Catlab.Diagram.TikZ.Property[Catlab.Diagram.TikZ.Property(\"out\", \"330\"), Catlab.Diagram.TikZ.Property(\"in\", \"180\")]), Catlab.Diagram.TikZ.Property[], #NULL), Catlab.Diagram.TikZ.Node(\"n4\", Catlab.Diagram.TikZ.Property[Catlab.Diagram.TikZ.Property(\"draw\", #NULL), Catlab.Diagram.TikZ.Property(\"solid\", #NULL), Catlab.Diagram.TikZ.Property(\"inner sep\", \"0.333em\"), Catlab.Diagram.TikZ.Property(\"rectangle\", #NULL), Catlab.Diagram.TikZ.Property(\"sharp corners\", #NULL), Catlab.Diagram.TikZ.Property(\"minimum height\", \"4.5em\"), Catlab.Diagram.TikZ.Property(\"right=2em of n3)\", #NULL)], #NULL, \"*\"), Catlab.Diagram.TikZ.Edge(\"n31.center\", \"\\$(n4.west)+(0,1.25em)\\$\", Catlab.Diagram.TikZ.PathOperation(\"to\", Catlab.Diagram.TikZ.Property[Catlab.Diagram.TikZ.Property(\"out\", \"0\"), Catlab.Diagram.TikZ.Property(\"in\", \"180\")]), Catlab.Diagram.TikZ.Property[], #NULL), Catlab.Diagram.TikZ.Edge(\"n32.east\", \"\\$(n4.west)+(0,-1.25em)\\$\", Catlab.Diagram.TikZ.PathOperation(\"to\", Catlab.Diagram.TikZ.Property[Catlab.Diagram.TikZ.Property(\"out\", \"0\"), Catlab.Diagram.TikZ.Property(\"in\", \"180\")]), Catlab.Diagram.TikZ.Property[], #NULL), Catlab.Diagram.TikZ.Node(\"n5\", Catlab.Diagram.TikZ.Property[Catlab.Diagram.TikZ.Property(\"minimum height\", \"2.0em\"), Catlab.Diagram.TikZ.Property(\"right=2em of n4)\", #NULL)], #NULL, \"\"), Catlab.Diagram.TikZ.Edge(\"n4.east\", \"n5.center\", Catlab.Diagram.TikZ.PathOperation(\"to\", Catlab.Diagram.TikZ.Property[Catlab.Diagram.TikZ.Property(\"out\", \"0\"), Catlab.Diagram.TikZ.Property(\"in\", \"180\")]), Catlab.Diagram.TikZ.Property[], #NULL)], Catlab.Diagram.TikZ.Property[]))], Catlab.Diagram.TikZ.Property[Catlab.Diagram.TikZ.Property(\"remember picture\", #NULL), Catlab.Diagram.TikZ.Property(\"font\", \"{\\\\fontsize{12}{14.4}}\"), Catlab.Diagram.TikZ.Property(\"container/.style\", \"{inner sep=0}\"), Catlab.Diagram.TikZ.Property(\"every path/.style\", \"{solid, line width=0.4pt}\"), Catlab.Diagram.TikZ.Property(\"execute at begin node\", \"\\$\"), Catlab.Diagram.TikZ.Property(\"execute at end node\", \"\\$\")])"
      ]
     },
     "execution_count": 15,
     "metadata": {},
     "output_type": "execute_result"
    }
   ],
   "source": [
    "to_tikz(f)"
   ]
  },
  {
   "cell_type": "code",
   "execution_count": 16,
   "metadata": {},
   "outputs": [
    {
     "data": {
      "text/plain": [
       "(:(function ($(Expr(:parameters)), x)\n",
       "        v1 = cos.(x)\n",
       "        v2 = *.(x, v1)\n",
       "        return v2\n",
       "    end), Symbol[])"
      ]
     },
     "execution_count": 16,
     "metadata": {},
     "output_type": "execute_result"
    }
   ],
   "source": [
    "compile_expr(f; args=[:x])"
   ]
  },
  {
   "cell_type": "code",
   "execution_count": 17,
   "metadata": {},
   "outputs": [
    {
     "data": {
      "text/latex": [
       "$x \\mathop{\\mathrm{cos}}\\left(x\\right)$"
      ],
      "text/plain": [
       "Catlab.Algebra.Tree.Formula(:*, Any[:x, Catlab.Algebra.Tree.Formula(:cos, Symbol[:x])])"
      ]
     },
     "execution_count": 17,
     "metadata": {},
     "output_type": "execute_result"
    }
   ],
   "source": [
    "to_formula(f, [:x])"
   ]
  }
 ],
 "metadata": {
  "kernelspec": {
   "display_name": "Julia 0.6.0",
   "language": "julia",
   "name": "julia-0.6"
  },
  "language_info": {
   "file_extension": ".jl",
   "mimetype": "application/julia",
   "name": "julia",
   "version": "0.6.0"
  }
 },
 "nbformat": 4,
 "nbformat_minor": 2
}
