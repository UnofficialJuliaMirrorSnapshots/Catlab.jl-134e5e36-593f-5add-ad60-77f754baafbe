{
 "cells": [
  {
   "cell_type": "markdown",
   "metadata": {},
   "source": [
    "# Wiring diagrams in Catlab\n",
    "\n",
    "Using Catlab, you can create, manipulate, serialize, and visualize *wiring diagrams*, also known as [string diagrams](https://ncatlab.org/nlab/show/string+diagram). The flexible data structure for wiring diagrams allows arbitrary data to be attached to boxes, ports, and wires, and supports recursively nested diagrams.\n",
    "\n",
    "You can interact with wiring diagrams using two different progamming interfaces:\n",
    "\n",
    "1. **Categorical**: A high-level, functional interface expressed in terms of categorical concepts, such as composition (`compose`), monoidal products (`otimes`), duplication (`mcopy`), and deletion (`delete`).\n",
    "\n",
    "2. **Imperative**: A lower-level, mutating interface to directly manipulate boxes, ports, and wires, via operations like adding boxes (`add_box`) and wires (`add_wire`).\n",
    "\n",
    "In this notebook, we introduce both interfaces. We do not explicitly cover the visualization API, although for illustrative purposes we will draw wiring diagrams using Graphviz. Thus, you should install [Graphviz](https://www.graphviz.org/) if you wish to run this notebook."
   ]
  },
  {
   "cell_type": "code",
   "execution_count": 1,
   "metadata": {},
   "outputs": [
    {
     "data": {
      "text/plain": [
       "show_diagram (generic function with 1 method)"
      ]
     },
     "execution_count": 1,
     "metadata": {},
     "output_type": "execute_result"
    }
   ],
   "source": [
    "using Catlab.WiringDiagrams\n",
    "\n",
    "using Catlab.Graphics\n",
    "import Catlab.Graphics: Graphviz\n",
    "\n",
    "show_diagram(d::WiringDiagram) = to_graphviz(d,\n",
    "    direction=:horizontal,\n",
    "    labels=true, label_attr=:xlabel,\n",
    "    node_attrs=Graphviz.Attributes(\n",
    "        :fontname => \"Courier\",\n",
    "    ),\n",
    "    edge_attrs=Graphviz.Attributes(\n",
    "        :fontname => \"Courier\",\n",
    "    )\n",
    ")"
   ]
  },
  {
   "cell_type": "markdown",
   "metadata": {},
   "source": [
    "## Data structures\n",
    "\n",
    "The basic building blocks of a wiring diagram are boxes, ports, and wires. The top-level data structure is `WiringDiagram`, defined in the module `Catlab.WiringDiagrams`. A wiring diagram consists of boxes (usually of type `Box`) connected by wires (of type `Wire`). Each box has a sequence of input ports and a sequence of output ports, as does the wiring diagram itself. The wires have sources and targets, both of which consist of a box and a port on that box.\n",
    "\n",
    "The boxes in a wiring diagram are indexed by integer IDs. Boxes can be retrieved by ID, and wires refer to boxes using their IDs. Two special IDs, obtained by `input_id` and `output_id` methods, refer to the inputs and outputs of the diagram itself. In this way, wires can connect the (inner) boxes of a diagram to the diagram's \"outer box\".\n",
    "\n",
    "The `WiringDiagram` data structure is an elaborate wrapper around a directed graph from [LightGraphs.jl](https://github.com/JuliaGraphs/LightGraphs.jl). The underlying `DiGraph` object can be accessed using the `graph` method. The vertices of this graph are exactly the box IDs. The graph should never be mutated directly, on pain of creating inconsistent state, but it does allow convenient access to the large array of [graph algorithms](https://juliagraphs.github.io/LightGraphs.jl/latest/) supported by LightGraphs.\n",
    "\n",
    "All this is somewhat abstract but should become clearer as we see concrete examples."
   ]
  },
  {
   "cell_type": "markdown",
   "metadata": {},
   "source": [
    "## Categorical interface"
   ]
  },
  {
   "cell_type": "markdown",
   "metadata": {},
   "source": [
    "In this example, the wiring diagrams will carry symbolic expressions (of type `Catlab.ObExpr` and `Catlab.HomExpr`)."
   ]
  },
  {
   "cell_type": "code",
   "execution_count": 2,
   "metadata": {},
   "outputs": [
    {
     "data": {
      "text/latex": [
       "$f : A \\to B$"
      ],
      "text/plain": [
       "f"
      ]
     },
     "execution_count": 2,
     "metadata": {},
     "output_type": "execute_result"
    }
   ],
   "source": [
    "using Catlab.Doctrines\n",
    "\n",
    "A, B, C, D = Ob(FreeBiproductCategory, :A, :B, :C, :D)\n",
    "f = Hom(:f, A, B)\n",
    "g = Hom(:g, B, C)\n",
    "h = Hom(:h, C, D)\n",
    "\n",
    "f"
   ]
  },
  {
   "cell_type": "markdown",
   "metadata": {},
   "source": [
    "### Generators"
   ]
  },
  {
   "cell_type": "markdown",
   "metadata": {},
   "source": [
    "Convert each of the morphism generators into a diagram with a single box."
   ]
  },
  {
   "cell_type": "code",
   "execution_count": 3,
   "metadata": {},
   "outputs": [
    {
     "data": {
      "text/plain": [
       "WiringDiagram([:A], [:B], \n",
       "[ 1 => {inputs},\n",
       "  2 => {outputs},\n",
       "  3 => Box(:f, [:A], [:B]) ],\n",
       "[ Wire((1,1) => (3,1)),\n",
       "  Wire((3,1) => (2,1)) ])"
      ]
     },
     "execution_count": 3,
     "metadata": {},
     "output_type": "execute_result"
    }
   ],
   "source": [
    "f, g, h = WiringDiagram(f), WiringDiagram(g), WiringDiagram(h)\n",
    "f"
   ]
  },
  {
   "cell_type": "code",
   "execution_count": 4,
   "metadata": {},
   "outputs": [
    {
     "data": {
      "image/svg+xml": [
       "<?xml version=\"1.0\" encoding=\"UTF-8\" standalone=\"no\"?>\n",
       "<!DOCTYPE svg PUBLIC \"-//W3C//DTD SVG 1.1//EN\"\n",
       " \"http://www.w3.org/Graphics/SVG/1.1/DTD/svg11.dtd\">\n",
       "<!-- Generated by graphviz version 2.40.1 (20161225.0304)\n",
       " -->\n",
       "<!-- Title: G Pages: 1 -->\n",
       "<svg width=\"101pt\" height=\"37pt\"\n",
       " viewBox=\"0.00 0.00 101.00 36.50\" xmlns=\"http://www.w3.org/2000/svg\" xmlns:xlink=\"http://www.w3.org/1999/xlink\">\n",
       "<g id=\"graph0\" class=\"graph\" transform=\"scale(1 1) rotate(0) translate(4 32.5)\">\n",
       "<title>G</title>\n",
       "<polygon fill=\"#ffffff\" stroke=\"transparent\" points=\"-4,4 -4,-32.5 97,-32.5 97,4 -4,4\"/>\n",
       "<!-- n1p1 -->\n",
       "<!-- n3 -->\n",
       "<!-- f -->\n",
       "<g id=\"n3\" class=\"node\">\n",
       "<title>n3</title>\n",
       "<polygon fill=\"none\" stroke=\"#000000\" points=\"37.5,-3 37.5,-28 56.5,-28 56.5,-3 37.5,-3\"/>\n",
       "<text text-anchor=\"start\" x=\"42.5\" y=\"-11.8\" font-family=\"Courier,monospace\" font-size=\"14.00\" fill=\"#000000\">f</text>\n",
       "</g>\n",
       "<!-- n1p1&#45;&gt;n3 -->\n",
       "<!-- A -->\n",
       "<g id=\"e1\" class=\"edge\">\n",
       "<title>n1p1:e&#45;&gt;n3:w</title>\n",
       "<path fill=\"none\" stroke=\"#000000\" d=\"M1,-15C15.3212,-15 20.1602,-15 32.259,-15\"/>\n",
       "<polygon fill=\"#000000\" stroke=\"#000000\" points=\"32.5,-16.7501 37.5,-15 32.5,-13.2501 32.5,-16.7501\"/>\n",
       "<text text-anchor=\"middle\" x=\"14.646\" y=\"-3.8\" font-family=\"Courier,monospace\" font-size=\"14.00\" fill=\"#000000\">A</text>\n",
       "</g>\n",
       "<!-- n2p1 -->\n",
       "<!-- n3&#45;&gt;n2p1 -->\n",
       "<!-- B -->\n",
       "<g id=\"e2\" class=\"edge\">\n",
       "<title>n3:e&#45;&gt;n2p1:w</title>\n",
       "<path fill=\"none\" stroke=\"#000000\" d=\"M56,-15C70.125,-15 74.8977,-15 86.8308,-15\"/>\n",
       "<polygon fill=\"#000000\" stroke=\"#000000\" points=\"87,-16.7501 92,-15 87,-13.2501 87,-16.7501\"/>\n",
       "<text text-anchor=\"middle\" x=\"69.3975\" y=\"-3.8\" font-family=\"Courier,monospace\" font-size=\"14.00\" fill=\"#000000\">B</text>\n",
       "</g>\n",
       "</g>\n",
       "</svg>\n",
       "\n"
      ],
      "text/plain": [
       "Catlab.Graphics.Graphviz.Graph(\"G\", true, Catlab.Graphics.Graphviz.Statement[Subgraph(\"\", Catlab.Graphics.Graphviz.Statement[Node(\"n1p1\", OrderedCollections.OrderedDict{Symbol,Union{String, Html}}(:id=>\"in1\")), Edge(Catlab.Graphics.Graphviz.NodeID[NodeID(\"n1p1\", \"\", \"\")], OrderedCollections.OrderedDict{Symbol,Union{String, Html}}())], OrderedCollections.OrderedDict{Symbol,Union{String, Html}}(:rank=>\"source\",:rankdir=>\"TB\"), OrderedCollections.OrderedDict{Symbol,Union{String, Html}}(:style=>\"invis\",:shape=>\"none\",:label=>\"\",:width=>\"0\",:height=>\"0.333\"), OrderedCollections.OrderedDict{Symbol,Union{String, Html}}(:style=>\"invis\")), Subgraph(\"\", Catlab.Graphics.Graphviz.Statement[Node(\"n2p1\", OrderedCollections.OrderedDict{Symbol,Union{String, Html}}(:id=>\"out1\")), Edge(Catlab.Graphics.Graphviz.NodeID[NodeID(\"n2p1\", \"\", \"\")], OrderedCollections.OrderedDict{Symbol,Union{String, Html}}())], OrderedCollections.OrderedDict{Symbol,Union{String, Html}}(:rank=>\"sink\",:rankdir=>\"TB\"), OrderedCollections.OrderedDict{Symbol,Union{String, Html}}(:style=>\"invis\",:shape=>\"none\",:label=>\"\",:width=>\"0\",:height=>\"0.333\"), OrderedCollections.OrderedDict{Symbol,Union{String, Html}}(:style=>\"invis\")), Node(\"n3\", OrderedCollections.OrderedDict{Symbol,Union{String, Html}}(:id=>\"n3\",:comment=>\"f\",:label=>Html(\"<TABLE BORDER=\\\"0\\\" CELLPADDING=\\\"0\\\" CELLSPACING=\\\"0\\\">\\n<TR>\\n<TD><TABLE BORDER=\\\"0\\\" CELLPADDING=\\\"0\\\" CELLSPACING=\\\"0\\\"><TR><TD HEIGHT=\\\"24\\\" WIDTH=\\\"0\\\" PORT=\\\"in1\\\"></TD></TR></TABLE></TD>\\n<TD BORDER=\\\"1\\\" CELLPADDING=\\\"4\\\">f</TD>\\n<TD><TABLE BORDER=\\\"0\\\" CELLPADDING=\\\"0\\\" CELLSPACING=\\\"0\\\"><TR><TD HEIGHT=\\\"24\\\" WIDTH=\\\"0\\\" PORT=\\\"out1\\\"></TD></TR></TABLE></TD>\\n</TR>\\n</TABLE>\"))), Edge(Catlab.Graphics.Graphviz.NodeID[NodeID(\"n1p1\", \"e\", \"\"), NodeID(\"n3\", \"in1\", \"w\")], OrderedCollections.OrderedDict{Symbol,Union{String, Html}}(:id=>\"e1\",:comment=>\"A\",:xlabel=>\"A\")), Edge(Catlab.Graphics.Graphviz.NodeID[NodeID(\"n3\", \"out1\", \"e\"), NodeID(\"n2p1\", \"w\", \"\")], OrderedCollections.OrderedDict{Symbol,Union{String, Html}}(:id=>\"e2\",:comment=>\"B\",:xlabel=>\"B\"))], OrderedCollections.OrderedDict{Symbol,Union{String, Html}}(:fontname=>\"Serif\",:rankdir=>\"LR\"), OrderedCollections.OrderedDict{Symbol,Union{String, Html}}(:fontname=>\"Courier\",:shape=>\"none\",:width=>\"0\",:height=>\"0\",:margin=>\"0\"), OrderedCollections.OrderedDict{Symbol,Union{String, Html}}(:arrowsize=>\"0.5\",:fontname=>\"Courier\"))"
      ]
     },
     "execution_count": 4,
     "metadata": {},
     "output_type": "execute_result"
    }
   ],
   "source": [
    "show_diagram(f)"
   ]
  },
  {
   "cell_type": "markdown",
   "metadata": {},
   "source": [
    "### Composition"
   ]
  },
  {
   "cell_type": "code",
   "execution_count": 5,
   "metadata": {},
   "outputs": [
    {
     "data": {
      "text/plain": [
       "WiringDiagram([:A], [:C], \n",
       "[ 1 => {inputs},\n",
       "  2 => {outputs},\n",
       "  3 => Box(:f, [:A], [:B]),\n",
       "  4 => Box(:g, [:B], [:C]) ],\n",
       "[ Wire((1,1) => (3,1)),\n",
       "  Wire((3,1) => (4,1)),\n",
       "  Wire((4,1) => (2,1)) ])"
      ]
     },
     "execution_count": 5,
     "metadata": {},
     "output_type": "execute_result"
    }
   ],
   "source": [
    "compose(f,g)"
   ]
  },
  {
   "cell_type": "code",
   "execution_count": 6,
   "metadata": {},
   "outputs": [
    {
     "data": {
      "image/svg+xml": [
       "<?xml version=\"1.0\" encoding=\"UTF-8\" standalone=\"no\"?>\n",
       "<!DOCTYPE svg PUBLIC \"-//W3C//DTD SVG 1.1//EN\"\n",
       " \"http://www.w3.org/Graphics/SVG/1.1/DTD/svg11.dtd\">\n",
       "<!-- Generated by graphviz version 2.40.1 (20161225.0304)\n",
       " -->\n",
       "<!-- Title: G Pages: 1 -->\n",
       "<svg width=\"156pt\" height=\"37pt\"\n",
       " viewBox=\"0.00 0.00 156.00 36.50\" xmlns=\"http://www.w3.org/2000/svg\" xmlns:xlink=\"http://www.w3.org/1999/xlink\">\n",
       "<g id=\"graph0\" class=\"graph\" transform=\"scale(1 1) rotate(0) translate(4 32.5)\">\n",
       "<title>G</title>\n",
       "<polygon fill=\"#ffffff\" stroke=\"transparent\" points=\"-4,4 -4,-32.5 152,-32.5 152,4 -4,4\"/>\n",
       "<!-- n1p1 -->\n",
       "<!-- n3 -->\n",
       "<!-- f -->\n",
       "<g id=\"n3\" class=\"node\">\n",
       "<title>n3</title>\n",
       "<polygon fill=\"none\" stroke=\"#000000\" points=\"37.5,-3 37.5,-28 56.5,-28 56.5,-3 37.5,-3\"/>\n",
       "<text text-anchor=\"start\" x=\"42.5\" y=\"-11.8\" font-family=\"Courier,monospace\" font-size=\"14.00\" fill=\"#000000\">f</text>\n",
       "</g>\n",
       "<!-- n1p1&#45;&gt;n3 -->\n",
       "<!-- A -->\n",
       "<g id=\"e1\" class=\"edge\">\n",
       "<title>n1p1:e&#45;&gt;n3:w</title>\n",
       "<path fill=\"none\" stroke=\"#000000\" d=\"M1,-15C15.3212,-15 20.1602,-15 32.259,-15\"/>\n",
       "<polygon fill=\"#000000\" stroke=\"#000000\" points=\"32.5,-16.7501 37.5,-15 32.5,-13.2501 32.5,-16.7501\"/>\n",
       "<text text-anchor=\"middle\" x=\"14.646\" y=\"-3.8\" font-family=\"Courier,monospace\" font-size=\"14.00\" fill=\"#000000\">A</text>\n",
       "</g>\n",
       "<!-- n2p1 -->\n",
       "<!-- n4 -->\n",
       "<!-- g -->\n",
       "<g id=\"n4\" class=\"node\">\n",
       "<title>n4</title>\n",
       "<polygon fill=\"none\" stroke=\"#000000\" points=\"92.5,-3 92.5,-28 111.5,-28 111.5,-3 92.5,-3\"/>\n",
       "<text text-anchor=\"start\" x=\"97.5\" y=\"-11.8\" font-family=\"Courier,monospace\" font-size=\"14.00\" fill=\"#000000\">g</text>\n",
       "</g>\n",
       "<!-- n3&#45;&gt;n4 -->\n",
       "<!-- B -->\n",
       "<g id=\"e2\" class=\"edge\">\n",
       "<title>n3:e&#45;&gt;n4:w</title>\n",
       "<path fill=\"none\" stroke=\"#000000\" d=\"M56,-15C70.3212,-15 75.1602,-15 87.259,-15\"/>\n",
       "<polygon fill=\"#000000\" stroke=\"#000000\" points=\"87.5,-16.7501 92.5,-15 87.5,-13.2501 87.5,-16.7501\"/>\n",
       "<text text-anchor=\"middle\" x=\"69.646\" y=\"-3.8\" font-family=\"Courier,monospace\" font-size=\"14.00\" fill=\"#000000\">B</text>\n",
       "</g>\n",
       "<!-- n4&#45;&gt;n2p1 -->\n",
       "<!-- C -->\n",
       "<g id=\"e3\" class=\"edge\">\n",
       "<title>n4:e&#45;&gt;n2p1:w</title>\n",
       "<path fill=\"none\" stroke=\"#000000\" d=\"M111,-15C125.125,-15 129.8977,-15 141.8308,-15\"/>\n",
       "<polygon fill=\"#000000\" stroke=\"#000000\" points=\"142,-16.7501 147,-15 142,-13.2501 142,-16.7501\"/>\n",
       "<text text-anchor=\"middle\" x=\"124.3975\" y=\"-3.8\" font-family=\"Courier,monospace\" font-size=\"14.00\" fill=\"#000000\">C</text>\n",
       "</g>\n",
       "</g>\n",
       "</svg>\n",
       "\n"
      ],
      "text/plain": [
       "Catlab.Graphics.Graphviz.Graph(\"G\", true, Catlab.Graphics.Graphviz.Statement[Subgraph(\"\", Catlab.Graphics.Graphviz.Statement[Node(\"n1p1\", OrderedCollections.OrderedDict{Symbol,Union{String, Html}}(:id=>\"in1\")), Edge(Catlab.Graphics.Graphviz.NodeID[NodeID(\"n1p1\", \"\", \"\")], OrderedCollections.OrderedDict{Symbol,Union{String, Html}}())], OrderedCollections.OrderedDict{Symbol,Union{String, Html}}(:rank=>\"source\",:rankdir=>\"TB\"), OrderedCollections.OrderedDict{Symbol,Union{String, Html}}(:style=>\"invis\",:shape=>\"none\",:label=>\"\",:width=>\"0\",:height=>\"0.333\"), OrderedCollections.OrderedDict{Symbol,Union{String, Html}}(:style=>\"invis\")), Subgraph(\"\", Catlab.Graphics.Graphviz.Statement[Node(\"n2p1\", OrderedCollections.OrderedDict{Symbol,Union{String, Html}}(:id=>\"out1\")), Edge(Catlab.Graphics.Graphviz.NodeID[NodeID(\"n2p1\", \"\", \"\")], OrderedCollections.OrderedDict{Symbol,Union{String, Html}}())], OrderedCollections.OrderedDict{Symbol,Union{String, Html}}(:rank=>\"sink\",:rankdir=>\"TB\"), OrderedCollections.OrderedDict{Symbol,Union{String, Html}}(:style=>\"invis\",:shape=>\"none\",:label=>\"\",:width=>\"0\",:height=>\"0.333\"), OrderedCollections.OrderedDict{Symbol,Union{String, Html}}(:style=>\"invis\")), Node(\"n3\", OrderedCollections.OrderedDict{Symbol,Union{String, Html}}(:id=>\"n3\",:comment=>\"f\",:label=>Html(\"<TABLE BORDER=\\\"0\\\" CELLPADDING=\\\"0\\\" CELLSPACING=\\\"0\\\">\\n<TR>\\n<TD><TABLE BORDER=\\\"0\\\" CELLPADDING=\\\"0\\\" CELLSPACING=\\\"0\\\"><TR><TD HEIGHT=\\\"24\\\" WIDTH=\\\"0\\\" PORT=\\\"in1\\\"></TD></TR></TABLE></TD>\\n<TD BORDER=\\\"1\\\" CELLPADDING=\\\"4\\\">f</TD>\\n<TD><TABLE BORDER=\\\"0\\\" CELLPADDING=\\\"0\\\" CELLSPACING=\\\"0\\\"><TR><TD HEIGHT=\\\"24\\\" WIDTH=\\\"0\\\" PORT=\\\"out1\\\"></TD></TR></TABLE></TD>\\n</TR>\\n</TABLE>\"))), Node(\"n4\", OrderedCollections.OrderedDict{Symbol,Union{String, Html}}(:id=>\"n4\",:comment=>\"g\",:label=>Html(\"<TABLE BORDER=\\\"0\\\" CELLPADDING=\\\"0\\\" CELLSPACING=\\\"0\\\">\\n<TR>\\n<TD><TABLE BORDER=\\\"0\\\" CELLPADDING=\\\"0\\\" CELLSPACING=\\\"0\\\"><TR><TD HEIGHT=\\\"24\\\" WIDTH=\\\"0\\\" PORT=\\\"in1\\\"></TD></TR></TABLE></TD>\\n<TD BORDER=\\\"1\\\" CELLPADDING=\\\"4\\\">g</TD>\\n<TD><TABLE BORDER=\\\"0\\\" CELLPADDING=\\\"0\\\" CELLSPACING=\\\"0\\\"><TR><TD HEIGHT=\\\"24\\\" WIDTH=\\\"0\\\" PORT=\\\"out1\\\"></TD></TR></TABLE></TD>\\n</TR>\\n</TABLE>\"))), Edge(Catlab.Graphics.Graphviz.NodeID[NodeID(\"n1p1\", \"e\", \"\"), NodeID(\"n3\", \"in1\", \"w\")], OrderedCollections.OrderedDict{Symbol,Union{String, Html}}(:id=>\"e1\",:comment=>\"A\",:xlabel=>\"A\")), Edge(Catlab.Graphics.Graphviz.NodeID[NodeID(\"n3\", \"out1\", \"e\"), NodeID(\"n4\", \"in1\", \"w\")], OrderedCollections.OrderedDict{Symbol,Union{String, Html}}(:id=>\"e2\",:comment=>\"B\",:xlabel=>\"B\")), Edge(Catlab.Graphics.Graphviz.NodeID[NodeID(\"n4\", \"out1\", \"e\"), NodeID(\"n2p1\", \"w\", \"\")], OrderedCollections.OrderedDict{Symbol,Union{String, Html}}(:id=>\"e3\",:comment=>\"C\",:xlabel=>\"C\"))], OrderedCollections.OrderedDict{Symbol,Union{String, Html}}(:fontname=>\"Serif\",:rankdir=>\"LR\"), OrderedCollections.OrderedDict{Symbol,Union{String, Html}}(:fontname=>\"Courier\",:shape=>\"none\",:width=>\"0\",:height=>\"0\",:margin=>\"0\"), OrderedCollections.OrderedDict{Symbol,Union{String, Html}}(:arrowsize=>\"0.5\",:fontname=>\"Courier\"))"
      ]
     },
     "execution_count": 6,
     "metadata": {},
     "output_type": "execute_result"
    }
   ],
   "source": [
    "show_diagram(compose(f,g))"
   ]
  },
  {
   "cell_type": "markdown",
   "metadata": {},
   "source": [
    "### Monoidal products"
   ]
  },
  {
   "cell_type": "code",
   "execution_count": 7,
   "metadata": {},
   "outputs": [
    {
     "data": {
      "text/plain": [
       "WiringDiagram([:A,:C], [:B,:D], \n",
       "[ 1 => {inputs},\n",
       "  2 => {outputs},\n",
       "  3 => Box(:f, [:A], [:B]),\n",
       "  4 => Box(:h, [:C], [:D]) ],\n",
       "[ Wire((1,1) => (3,1)),\n",
       "  Wire((1,2) => (4,1)),\n",
       "  Wire((3,1) => (2,1)),\n",
       "  Wire((4,1) => (2,2)) ])"
      ]
     },
     "execution_count": 7,
     "metadata": {},
     "output_type": "execute_result"
    }
   ],
   "source": [
    "otimes(f,h)"
   ]
  },
  {
   "cell_type": "code",
   "execution_count": 8,
   "metadata": {},
   "outputs": [
    {
     "data": {
      "image/svg+xml": [
       "<?xml version=\"1.0\" encoding=\"UTF-8\" standalone=\"no\"?>\n",
       "<!DOCTYPE svg PUBLIC \"-//W3C//DTD SVG 1.1//EN\"\n",
       " \"http://www.w3.org/Graphics/SVG/1.1/DTD/svg11.dtd\">\n",
       "<!-- Generated by graphviz version 2.40.1 (20161225.0304)\n",
       " -->\n",
       "<!-- Title: G Pages: 1 -->\n",
       "<svg width=\"101pt\" height=\"79pt\"\n",
       " viewBox=\"0.00 0.00 101.00 79.01\" xmlns=\"http://www.w3.org/2000/svg\" xmlns:xlink=\"http://www.w3.org/1999/xlink\">\n",
       "<g id=\"graph0\" class=\"graph\" transform=\"scale(1 1) rotate(0) translate(4 75.0051)\">\n",
       "<title>G</title>\n",
       "<polygon fill=\"#ffffff\" stroke=\"transparent\" points=\"-4,4 -4,-75.0051 97,-75.0051 97,4 -4,4\"/>\n",
       "<!-- n1p1 -->\n",
       "<!-- n1p2 -->\n",
       "<!-- n1p1&#45;&gt;n1p2 -->\n",
       "<!-- n3 -->\n",
       "<!-- f -->\n",
       "<g id=\"n3\" class=\"node\">\n",
       "<title>n3</title>\n",
       "<polygon fill=\"none\" stroke=\"#000000\" points=\"37.5,-45.5051 37.5,-70.5051 56.5,-70.5051 56.5,-45.5051 37.5,-45.5051\"/>\n",
       "<text text-anchor=\"start\" x=\"42.5\" y=\"-54.3051\" font-family=\"Courier,monospace\" font-size=\"14.00\" fill=\"#000000\">f</text>\n",
       "</g>\n",
       "<!-- n1p1&#45;&gt;n3 -->\n",
       "<!-- A -->\n",
       "<g id=\"e1\" class=\"edge\">\n",
       "<title>n1p1:e&#45;&gt;n3:w</title>\n",
       "<path fill=\"none\" stroke=\"#000000\" d=\"M1,-57.5051C15.3212,-57.5051 20.1602,-57.5051 32.259,-57.5051\"/>\n",
       "<polygon fill=\"#000000\" stroke=\"#000000\" points=\"32.5,-59.2552 37.5,-57.5051 32.5,-55.7552 32.5,-59.2552\"/>\n",
       "<text text-anchor=\"middle\" x=\"14.646\" y=\"-46.3051\" font-family=\"Courier,monospace\" font-size=\"14.00\" fill=\"#000000\">A</text>\n",
       "</g>\n",
       "<!-- n4 -->\n",
       "<!-- h -->\n",
       "<g id=\"n4\" class=\"node\">\n",
       "<title>n4</title>\n",
       "<polygon fill=\"none\" stroke=\"#000000\" points=\"37.5,-2.5051 37.5,-27.5051 56.5,-27.5051 56.5,-2.5051 37.5,-2.5051\"/>\n",
       "<text text-anchor=\"start\" x=\"42.5\" y=\"-11.3051\" font-family=\"Courier,monospace\" font-size=\"14.00\" fill=\"#000000\">h</text>\n",
       "</g>\n",
       "<!-- n1p2&#45;&gt;n4 -->\n",
       "<!-- C -->\n",
       "<g id=\"e2\" class=\"edge\">\n",
       "<title>n1p2:e&#45;&gt;n4:w</title>\n",
       "<path fill=\"none\" stroke=\"#000000\" d=\"M1,-15.5051C15.3266,-15.5051 20.1567,-14.7258 32.2575,-14.5431\"/>\n",
       "<polygon fill=\"#000000\" stroke=\"#000000\" points=\"32.5128,-16.2914 37.5,-14.5051 32.4874,-12.7915 32.5128,-16.2914\"/>\n",
       "<text text-anchor=\"middle\" x=\"14.6461\" y=\"-3.8103\" font-family=\"Courier,monospace\" font-size=\"14.00\" fill=\"#000000\">C</text>\n",
       "</g>\n",
       "<!-- n2p1 -->\n",
       "<!-- n2p2 -->\n",
       "<!-- n2p1&#45;&gt;n2p2 -->\n",
       "<!-- n3&#45;&gt;n2p1 -->\n",
       "<!-- B -->\n",
       "<g id=\"e3\" class=\"edge\">\n",
       "<title>n3:e&#45;&gt;n2p1:w</title>\n",
       "<path fill=\"none\" stroke=\"#000000\" d=\"M56,-57.5051C70.125,-57.5051 74.8977,-57.5051 86.8308,-57.5051\"/>\n",
       "<polygon fill=\"#000000\" stroke=\"#000000\" points=\"87,-59.2552 92,-57.5051 87,-55.7552 87,-59.2552\"/>\n",
       "<text text-anchor=\"middle\" x=\"69.3975\" y=\"-46.3051\" font-family=\"Courier,monospace\" font-size=\"14.00\" fill=\"#000000\">B</text>\n",
       "</g>\n",
       "<!-- n4&#45;&gt;n2p2 -->\n",
       "<!-- D -->\n",
       "<g id=\"e4\" class=\"edge\">\n",
       "<title>n4:e&#45;&gt;n2p2:w</title>\n",
       "<path fill=\"none\" stroke=\"#000000\" d=\"M56,-14.5051C70.1304,-14.5051 74.8942,-15.2845 86.8293,-15.4671\"/>\n",
       "<polygon fill=\"#000000\" stroke=\"#000000\" points=\"86.9872,-17.2183 92,-15.5051 87.013,-13.7184 86.9872,-17.2183\"/>\n",
       "<text text-anchor=\"middle\" x=\"69.3975\" y=\"-3.8\" font-family=\"Courier,monospace\" font-size=\"14.00\" fill=\"#000000\">D</text>\n",
       "</g>\n",
       "</g>\n",
       "</svg>\n",
       "\n"
      ],
      "text/plain": [
       "Catlab.Graphics.Graphviz.Graph(\"G\", true, Catlab.Graphics.Graphviz.Statement[Subgraph(\"\", Catlab.Graphics.Graphviz.Statement[Node(\"n1p1\", OrderedCollections.OrderedDict{Symbol,Union{String, Html}}(:id=>\"in1\")), Node(\"n1p2\", OrderedCollections.OrderedDict{Symbol,Union{String, Html}}(:id=>\"in2\")), Edge(Catlab.Graphics.Graphviz.NodeID[NodeID(\"n1p1\", \"\", \"\"), NodeID(\"n1p2\", \"\", \"\")], OrderedCollections.OrderedDict{Symbol,Union{String, Html}}())], OrderedCollections.OrderedDict{Symbol,Union{String, Html}}(:rank=>\"source\",:rankdir=>\"TB\"), OrderedCollections.OrderedDict{Symbol,Union{String, Html}}(:style=>\"invis\",:shape=>\"none\",:label=>\"\",:width=>\"0\",:height=>\"0.333\"), OrderedCollections.OrderedDict{Symbol,Union{String, Html}}(:style=>\"invis\")), Subgraph(\"\", Catlab.Graphics.Graphviz.Statement[Node(\"n2p1\", OrderedCollections.OrderedDict{Symbol,Union{String, Html}}(:id=>\"out1\")), Node(\"n2p2\", OrderedCollections.OrderedDict{Symbol,Union{String, Html}}(:id=>\"out2\")), Edge(Catlab.Graphics.Graphviz.NodeID[NodeID(\"n2p1\", \"\", \"\"), NodeID(\"n2p2\", \"\", \"\")], OrderedCollections.OrderedDict{Symbol,Union{String, Html}}())], OrderedCollections.OrderedDict{Symbol,Union{String, Html}}(:rank=>\"sink\",:rankdir=>\"TB\"), OrderedCollections.OrderedDict{Symbol,Union{String, Html}}(:style=>\"invis\",:shape=>\"none\",:label=>\"\",:width=>\"0\",:height=>\"0.333\"), OrderedCollections.OrderedDict{Symbol,Union{String, Html}}(:style=>\"invis\")), Node(\"n3\", OrderedCollections.OrderedDict{Symbol,Union{String, Html}}(:id=>\"n3\",:comment=>\"f\",:label=>Html(\"<TABLE BORDER=\\\"0\\\" CELLPADDING=\\\"0\\\" CELLSPACING=\\\"0\\\">\\n<TR>\\n<TD><TABLE BORDER=\\\"0\\\" CELLPADDING=\\\"0\\\" CELLSPACING=\\\"0\\\"><TR><TD HEIGHT=\\\"24\\\" WIDTH=\\\"0\\\" PORT=\\\"in1\\\"></TD></TR></TABLE></TD>\\n<TD BORDER=\\\"1\\\" CELLPADDING=\\\"4\\\">f</TD>\\n<TD><TABLE BORDER=\\\"0\\\" CELLPADDING=\\\"0\\\" CELLSPACING=\\\"0\\\"><TR><TD HEIGHT=\\\"24\\\" WIDTH=\\\"0\\\" PORT=\\\"out1\\\"></TD></TR></TABLE></TD>\\n</TR>\\n</TABLE>\"))), Node(\"n4\", OrderedCollections.OrderedDict{Symbol,Union{String, Html}}(:id=>\"n4\",:comment=>\"h\",:label=>Html(\"<TABLE BORDER=\\\"0\\\" CELLPADDING=\\\"0\\\" CELLSPACING=\\\"0\\\">\\n<TR>\\n<TD><TABLE BORDER=\\\"0\\\" CELLPADDING=\\\"0\\\" CELLSPACING=\\\"0\\\"><TR><TD HEIGHT=\\\"24\\\" WIDTH=\\\"0\\\" PORT=\\\"in1\\\"></TD></TR></TABLE></TD>\\n<TD BORDER=\\\"1\\\" CELLPADDING=\\\"4\\\">h</TD>\\n<TD><TABLE BORDER=\\\"0\\\" CELLPADDING=\\\"0\\\" CELLSPACING=\\\"0\\\"><TR><TD HEIGHT=\\\"24\\\" WIDTH=\\\"0\\\" PORT=\\\"out1\\\"></TD></TR></TABLE></TD>\\n</TR>\\n</TABLE>\"))), Edge(Catlab.Graphics.Graphviz.NodeID[NodeID(\"n1p1\", \"e\", \"\"), NodeID(\"n3\", \"in1\", \"w\")], OrderedCollections.OrderedDict{Symbol,Union{String, Html}}(:id=>\"e1\",:comment=>\"A\",:xlabel=>\"A\")), Edge(Catlab.Graphics.Graphviz.NodeID[NodeID(\"n1p2\", \"e\", \"\"), NodeID(\"n4\", \"in1\", \"w\")], OrderedCollections.OrderedDict{Symbol,Union{String, Html}}(:id=>\"e2\",:comment=>\"C\",:xlabel=>\"C\")), Edge(Catlab.Graphics.Graphviz.NodeID[NodeID(\"n3\", \"out1\", \"e\"), NodeID(\"n2p1\", \"w\", \"\")], OrderedCollections.OrderedDict{Symbol,Union{String, Html}}(:id=>\"e3\",:comment=>\"B\",:xlabel=>\"B\")), Edge(Catlab.Graphics.Graphviz.NodeID[NodeID(\"n4\", \"out1\", \"e\"), NodeID(\"n2p2\", \"w\", \"\")], OrderedCollections.OrderedDict{Symbol,Union{String, Html}}(:id=>\"e4\",:comment=>\"D\",:xlabel=>\"D\"))], OrderedCollections.OrderedDict{Symbol,Union{String, Html}}(:fontname=>\"Serif\",:rankdir=>\"LR\"), OrderedCollections.OrderedDict{Symbol,Union{String, Html}}(:fontname=>\"Courier\",:shape=>\"none\",:width=>\"0\",:height=>\"0\",:margin=>\"0\"), OrderedCollections.OrderedDict{Symbol,Union{String, Html}}(:arrowsize=>\"0.5\",:fontname=>\"Courier\"))"
      ]
     },
     "execution_count": 8,
     "metadata": {},
     "output_type": "execute_result"
    }
   ],
   "source": [
    "show_diagram(otimes(f,h))"
   ]
  },
  {
   "cell_type": "markdown",
   "metadata": {},
   "source": [
    "### Copy and merge, delete and create"
   ]
  },
  {
   "cell_type": "code",
   "execution_count": 9,
   "metadata": {},
   "outputs": [
    {
     "data": {
      "text/plain": [
       "WiringDiagram([:B], [:B,:B], \n",
       "[ 1 => {inputs},\n",
       "  2 => {outputs},\n",
       "   ],\n",
       "[ Wire((1,1) => (2,1)),\n",
       "  Wire((1,1) => (2,2)) ])"
      ]
     },
     "execution_count": 9,
     "metadata": {},
     "output_type": "execute_result"
    }
   ],
   "source": [
    "mcopy(codom(f),2)"
   ]
  },
  {
   "cell_type": "code",
   "execution_count": 10,
   "metadata": {},
   "outputs": [
    {
     "data": {
      "image/svg+xml": [
       "<?xml version=\"1.0\" encoding=\"UTF-8\" standalone=\"no\"?>\n",
       "<!DOCTYPE svg PUBLIC \"-//W3C//DTD SVG 1.1//EN\"\n",
       " \"http://www.w3.org/Graphics/SVG/1.1/DTD/svg11.dtd\">\n",
       "<!-- Generated by graphviz version 2.40.1 (20161225.0304)\n",
       " -->\n",
       "<!-- Title: G Pages: 1 -->\n",
       "<svg width=\"46pt\" height=\"74pt\"\n",
       " viewBox=\"0.00 0.00 46.00 74.00\" xmlns=\"http://www.w3.org/2000/svg\" xmlns:xlink=\"http://www.w3.org/1999/xlink\">\n",
       "<g id=\"graph0\" class=\"graph\" transform=\"scale(1 1) rotate(0) translate(4 70)\">\n",
       "<title>G</title>\n",
       "<polygon fill=\"#ffffff\" stroke=\"transparent\" points=\"-4,4 -4,-70 42,-70 42,4 -4,4\"/>\n",
       "<!-- n1p1 -->\n",
       "<!-- n2p1 -->\n",
       "<!-- n1p1&#45;&gt;n2p1 -->\n",
       "<!-- B -->\n",
       "<g id=\"e1\" class=\"edge\">\n",
       "<title>n1p1:e&#45;&gt;n2p1:w</title>\n",
       "<path fill=\"none\" stroke=\"#000000\" d=\"M1,-33C17.642,-33 18.4875,-49.951 31.9208,-53.3942\"/>\n",
       "<polygon fill=\"#000000\" stroke=\"#000000\" points=\"31.8279,-55.1454 37,-54 32.2425,-51.67 31.8279,-55.1454\"/>\n",
       "<text text-anchor=\"middle\" x=\"14.2728\" y=\"-32.027\" font-family=\"Courier,monospace\" font-size=\"14.00\" fill=\"#000000\">B</text>\n",
       "</g>\n",
       "<!-- n2p2 -->\n",
       "<!-- n1p1&#45;&gt;n2p2 -->\n",
       "<!-- B -->\n",
       "<g id=\"e2\" class=\"edge\">\n",
       "<title>n1p1:e&#45;&gt;n2p2:w</title>\n",
       "<path fill=\"none\" stroke=\"#000000\" d=\"M1,-33C17.642,-33 18.4875,-16.049 31.9208,-12.6058\"/>\n",
       "<polygon fill=\"#000000\" stroke=\"#000000\" points=\"32.2425,-14.33 37,-12 31.8279,-10.8546 32.2425,-14.33\"/>\n",
       "<text text-anchor=\"middle\" x=\"14.2728\" y=\"-11.573\" font-family=\"Courier,monospace\" font-size=\"14.00\" fill=\"#000000\">B</text>\n",
       "</g>\n",
       "<!-- n2p1&#45;&gt;n2p2 -->\n",
       "</g>\n",
       "</svg>\n",
       "\n"
      ],
      "text/plain": [
       "Catlab.Graphics.Graphviz.Graph(\"G\", true, Catlab.Graphics.Graphviz.Statement[Subgraph(\"\", Catlab.Graphics.Graphviz.Statement[Node(\"n1p1\", OrderedCollections.OrderedDict{Symbol,Union{String, Html}}(:id=>\"in1\")), Edge(Catlab.Graphics.Graphviz.NodeID[NodeID(\"n1p1\", \"\", \"\")], OrderedCollections.OrderedDict{Symbol,Union{String, Html}}())], OrderedCollections.OrderedDict{Symbol,Union{String, Html}}(:rank=>\"source\",:rankdir=>\"TB\"), OrderedCollections.OrderedDict{Symbol,Union{String, Html}}(:style=>\"invis\",:shape=>\"none\",:label=>\"\",:width=>\"0\",:height=>\"0.333\"), OrderedCollections.OrderedDict{Symbol,Union{String, Html}}(:style=>\"invis\")), Subgraph(\"\", Catlab.Graphics.Graphviz.Statement[Node(\"n2p1\", OrderedCollections.OrderedDict{Symbol,Union{String, Html}}(:id=>\"out1\")), Node(\"n2p2\", OrderedCollections.OrderedDict{Symbol,Union{String, Html}}(:id=>\"out2\")), Edge(Catlab.Graphics.Graphviz.NodeID[NodeID(\"n2p1\", \"\", \"\"), NodeID(\"n2p2\", \"\", \"\")], OrderedCollections.OrderedDict{Symbol,Union{String, Html}}())], OrderedCollections.OrderedDict{Symbol,Union{String, Html}}(:rank=>\"sink\",:rankdir=>\"TB\"), OrderedCollections.OrderedDict{Symbol,Union{String, Html}}(:style=>\"invis\",:shape=>\"none\",:label=>\"\",:width=>\"0\",:height=>\"0.333\"), OrderedCollections.OrderedDict{Symbol,Union{String, Html}}(:style=>\"invis\")), Edge(Catlab.Graphics.Graphviz.NodeID[NodeID(\"n1p1\", \"e\", \"\"), NodeID(\"n2p1\", \"w\", \"\")], OrderedCollections.OrderedDict{Symbol,Union{String, Html}}(:id=>\"e1\",:comment=>\"B\",:xlabel=>\"B\")), Edge(Catlab.Graphics.Graphviz.NodeID[NodeID(\"n1p1\", \"e\", \"\"), NodeID(\"n2p2\", \"w\", \"\")], OrderedCollections.OrderedDict{Symbol,Union{String, Html}}(:id=>\"e2\",:comment=>\"B\",:xlabel=>\"B\"))], OrderedCollections.OrderedDict{Symbol,Union{String, Html}}(:fontname=>\"Serif\",:rankdir=>\"LR\"), OrderedCollections.OrderedDict{Symbol,Union{String, Html}}(:fontname=>\"Courier\",:shape=>\"none\",:width=>\"0\",:height=>\"0\",:margin=>\"0\"), OrderedCollections.OrderedDict{Symbol,Union{String, Html}}(:arrowsize=>\"0.5\",:fontname=>\"Courier\"))"
      ]
     },
     "execution_count": 10,
     "metadata": {},
     "output_type": "execute_result"
    }
   ],
   "source": [
    "show_diagram(mcopy(codom(f),2))"
   ]
  },
  {
   "cell_type": "code",
   "execution_count": 11,
   "metadata": {},
   "outputs": [
    {
     "data": {
      "image/svg+xml": [
       "<?xml version=\"1.0\" encoding=\"UTF-8\" standalone=\"no\"?>\n",
       "<!DOCTYPE svg PUBLIC \"-//W3C//DTD SVG 1.1//EN\"\n",
       " \"http://www.w3.org/Graphics/SVG/1.1/DTD/svg11.dtd\">\n",
       "<!-- Generated by graphviz version 2.40.1 (20161225.0304)\n",
       " -->\n",
       "<!-- Title: G Pages: 1 -->\n",
       "<svg width=\"101pt\" height=\"74pt\"\n",
       " viewBox=\"0.00 0.00 101.00 74.00\" xmlns=\"http://www.w3.org/2000/svg\" xmlns:xlink=\"http://www.w3.org/1999/xlink\">\n",
       "<g id=\"graph0\" class=\"graph\" transform=\"scale(1 1) rotate(0) translate(4 70)\">\n",
       "<title>G</title>\n",
       "<polygon fill=\"#ffffff\" stroke=\"transparent\" points=\"-4,4 -4,-70 97,-70 97,4 -4,4\"/>\n",
       "<!-- n1p1 -->\n",
       "<!-- n3 -->\n",
       "<!-- f -->\n",
       "<g id=\"n3\" class=\"node\">\n",
       "<title>n3</title>\n",
       "<polygon fill=\"none\" stroke=\"#000000\" points=\"37.5,-21 37.5,-46 56.5,-46 56.5,-21 37.5,-21\"/>\n",
       "<text text-anchor=\"start\" x=\"42.5\" y=\"-29.8\" font-family=\"Courier,monospace\" font-size=\"14.00\" fill=\"#000000\">f</text>\n",
       "</g>\n",
       "<!-- n1p1&#45;&gt;n3 -->\n",
       "<!-- A -->\n",
       "<g id=\"e1\" class=\"edge\">\n",
       "<title>n1p1:e&#45;&gt;n3:w</title>\n",
       "<path fill=\"none\" stroke=\"#000000\" d=\"M1,-33C15.3212,-33 20.1602,-33 32.259,-33\"/>\n",
       "<polygon fill=\"#000000\" stroke=\"#000000\" points=\"32.5,-34.7501 37.5,-33 32.5,-31.2501 32.5,-34.7501\"/>\n",
       "<text text-anchor=\"middle\" x=\"14.646\" y=\"-21.8\" font-family=\"Courier,monospace\" font-size=\"14.00\" fill=\"#000000\">A</text>\n",
       "</g>\n",
       "<!-- n2p1 -->\n",
       "<!-- n2p2 -->\n",
       "<!-- n2p1&#45;&gt;n2p2 -->\n",
       "<!-- n3&#45;&gt;n2p1 -->\n",
       "<!-- B -->\n",
       "<g id=\"e2\" class=\"edge\">\n",
       "<title>n3:e&#45;&gt;n2p1:w</title>\n",
       "<path fill=\"none\" stroke=\"#000000\" d=\"M56,-33C72.642,-33 73.4875,-49.951 86.9208,-53.3942\"/>\n",
       "<polygon fill=\"#000000\" stroke=\"#000000\" points=\"86.8279,-55.1454 92,-54 87.2425,-51.67 86.8279,-55.1454\"/>\n",
       "<text text-anchor=\"middle\" x=\"69.2728\" y=\"-32.027\" font-family=\"Courier,monospace\" font-size=\"14.00\" fill=\"#000000\">B</text>\n",
       "</g>\n",
       "<!-- n3&#45;&gt;n2p2 -->\n",
       "<!-- B -->\n",
       "<g id=\"e3\" class=\"edge\">\n",
       "<title>n3:e&#45;&gt;n2p2:w</title>\n",
       "<path fill=\"none\" stroke=\"#000000\" d=\"M56,-33C72.642,-33 73.4875,-16.049 86.9208,-12.6058\"/>\n",
       "<polygon fill=\"#000000\" stroke=\"#000000\" points=\"87.2425,-14.33 92,-12 86.8279,-10.8546 87.2425,-14.33\"/>\n",
       "<text text-anchor=\"middle\" x=\"69.2728\" y=\"-11.573\" font-family=\"Courier,monospace\" font-size=\"14.00\" fill=\"#000000\">B</text>\n",
       "</g>\n",
       "</g>\n",
       "</svg>\n",
       "\n"
      ],
      "text/plain": [
       "Catlab.Graphics.Graphviz.Graph(\"G\", true, Catlab.Graphics.Graphviz.Statement[Subgraph(\"\", Catlab.Graphics.Graphviz.Statement[Node(\"n1p1\", OrderedCollections.OrderedDict{Symbol,Union{String, Html}}(:id=>\"in1\")), Edge(Catlab.Graphics.Graphviz.NodeID[NodeID(\"n1p1\", \"\", \"\")], OrderedCollections.OrderedDict{Symbol,Union{String, Html}}())], OrderedCollections.OrderedDict{Symbol,Union{String, Html}}(:rank=>\"source\",:rankdir=>\"TB\"), OrderedCollections.OrderedDict{Symbol,Union{String, Html}}(:style=>\"invis\",:shape=>\"none\",:label=>\"\",:width=>\"0\",:height=>\"0.333\"), OrderedCollections.OrderedDict{Symbol,Union{String, Html}}(:style=>\"invis\")), Subgraph(\"\", Catlab.Graphics.Graphviz.Statement[Node(\"n2p1\", OrderedCollections.OrderedDict{Symbol,Union{String, Html}}(:id=>\"out1\")), Node(\"n2p2\", OrderedCollections.OrderedDict{Symbol,Union{String, Html}}(:id=>\"out2\")), Edge(Catlab.Graphics.Graphviz.NodeID[NodeID(\"n2p1\", \"\", \"\"), NodeID(\"n2p2\", \"\", \"\")], OrderedCollections.OrderedDict{Symbol,Union{String, Html}}())], OrderedCollections.OrderedDict{Symbol,Union{String, Html}}(:rank=>\"sink\",:rankdir=>\"TB\"), OrderedCollections.OrderedDict{Symbol,Union{String, Html}}(:style=>\"invis\",:shape=>\"none\",:label=>\"\",:width=>\"0\",:height=>\"0.333\"), OrderedCollections.OrderedDict{Symbol,Union{String, Html}}(:style=>\"invis\")), Node(\"n3\", OrderedCollections.OrderedDict{Symbol,Union{String, Html}}(:id=>\"n3\",:comment=>\"f\",:label=>Html(\"<TABLE BORDER=\\\"0\\\" CELLPADDING=\\\"0\\\" CELLSPACING=\\\"0\\\">\\n<TR>\\n<TD><TABLE BORDER=\\\"0\\\" CELLPADDING=\\\"0\\\" CELLSPACING=\\\"0\\\"><TR><TD HEIGHT=\\\"24\\\" WIDTH=\\\"0\\\" PORT=\\\"in1\\\"></TD></TR></TABLE></TD>\\n<TD BORDER=\\\"1\\\" CELLPADDING=\\\"4\\\">f</TD>\\n<TD><TABLE BORDER=\\\"0\\\" CELLPADDING=\\\"0\\\" CELLSPACING=\\\"0\\\"><TR><TD HEIGHT=\\\"24\\\" WIDTH=\\\"0\\\" PORT=\\\"out1\\\"></TD></TR></TABLE></TD>\\n</TR>\\n</TABLE>\"))), Edge(Catlab.Graphics.Graphviz.NodeID[NodeID(\"n1p1\", \"e\", \"\"), NodeID(\"n3\", \"in1\", \"w\")], OrderedCollections.OrderedDict{Symbol,Union{String, Html}}(:id=>\"e1\",:comment=>\"A\",:xlabel=>\"A\")), Edge(Catlab.Graphics.Graphviz.NodeID[NodeID(\"n3\", \"out1\", \"e\"), NodeID(\"n2p1\", \"w\", \"\")], OrderedCollections.OrderedDict{Symbol,Union{String, Html}}(:id=>\"e2\",:comment=>\"B\",:xlabel=>\"B\")), Edge(Catlab.Graphics.Graphviz.NodeID[NodeID(\"n3\", \"out1\", \"e\"), NodeID(\"n2p2\", \"w\", \"\")], OrderedCollections.OrderedDict{Symbol,Union{String, Html}}(:id=>\"e3\",:comment=>\"B\",:xlabel=>\"B\"))], OrderedCollections.OrderedDict{Symbol,Union{String, Html}}(:fontname=>\"Serif\",:rankdir=>\"LR\"), OrderedCollections.OrderedDict{Symbol,Union{String, Html}}(:fontname=>\"Courier\",:shape=>\"none\",:width=>\"0\",:height=>\"0\",:margin=>\"0\"), OrderedCollections.OrderedDict{Symbol,Union{String, Html}}(:arrowsize=>\"0.5\",:fontname=>\"Courier\"))"
      ]
     },
     "execution_count": 11,
     "metadata": {},
     "output_type": "execute_result"
    }
   ],
   "source": [
    "show_diagram(compose(f, mcopy(codom(f),2)))"
   ]
  },
  {
   "cell_type": "code",
   "execution_count": 12,
   "metadata": {},
   "outputs": [
    {
     "data": {
      "image/svg+xml": [
       "<?xml version=\"1.0\" encoding=\"UTF-8\" standalone=\"no\"?>\n",
       "<!DOCTYPE svg PUBLIC \"-//W3C//DTD SVG 1.1//EN\"\n",
       " \"http://www.w3.org/Graphics/SVG/1.1/DTD/svg11.dtd\">\n",
       "<!-- Generated by graphviz version 2.40.1 (20161225.0304)\n",
       " -->\n",
       "<!-- Title: G Pages: 1 -->\n",
       "<svg width=\"101pt\" height=\"79pt\"\n",
       " viewBox=\"0.00 0.00 101.00 79.01\" xmlns=\"http://www.w3.org/2000/svg\" xmlns:xlink=\"http://www.w3.org/1999/xlink\">\n",
       "<g id=\"graph0\" class=\"graph\" transform=\"scale(1 1) rotate(0) translate(4 75.0051)\">\n",
       "<title>G</title>\n",
       "<polygon fill=\"#ffffff\" stroke=\"transparent\" points=\"-4,4 -4,-75.0051 97,-75.0051 97,4 -4,4\"/>\n",
       "<!-- n1p1 -->\n",
       "<!-- n3 -->\n",
       "<!-- f -->\n",
       "<g id=\"n3\" class=\"node\">\n",
       "<title>n3</title>\n",
       "<polygon fill=\"none\" stroke=\"#000000\" points=\"37.5,-45.5051 37.5,-70.5051 56.5,-70.5051 56.5,-45.5051 37.5,-45.5051\"/>\n",
       "<text text-anchor=\"start\" x=\"42.5\" y=\"-54.3051\" font-family=\"Courier,monospace\" font-size=\"14.00\" fill=\"#000000\">f</text>\n",
       "</g>\n",
       "<!-- n1p1&#45;&gt;n3 -->\n",
       "<!-- A -->\n",
       "<g id=\"e1\" class=\"edge\">\n",
       "<title>n1p1:e&#45;&gt;n3:w</title>\n",
       "<path fill=\"none\" stroke=\"#000000\" d=\"M1,-35.5051C18.0174,-35.5051 18.63,-53.2633 32.3152,-56.8704\"/>\n",
       "<polygon fill=\"#000000\" stroke=\"#000000\" points=\"32.3244,-58.6345 37.5,-57.5051 32.7497,-55.1605 32.3244,-58.6345\"/>\n",
       "<text text-anchor=\"middle\" x=\"14.5217\" y=\"-35.0191\" font-family=\"Courier,monospace\" font-size=\"14.00\" fill=\"#000000\">A</text>\n",
       "</g>\n",
       "<!-- n4 -->\n",
       "<!-- f -->\n",
       "<g id=\"n4\" class=\"node\">\n",
       "<title>n4</title>\n",
       "<polygon fill=\"none\" stroke=\"#000000\" points=\"37.5,-2.5051 37.5,-27.5051 56.5,-27.5051 56.5,-2.5051 37.5,-2.5051\"/>\n",
       "<text text-anchor=\"start\" x=\"42.5\" y=\"-11.3051\" font-family=\"Courier,monospace\" font-size=\"14.00\" fill=\"#000000\">f</text>\n",
       "</g>\n",
       "<!-- n1p1&#45;&gt;n4 -->\n",
       "<!-- A -->\n",
       "<g id=\"e2\" class=\"edge\">\n",
       "<title>n1p1:e&#45;&gt;n4:w</title>\n",
       "<path fill=\"none\" stroke=\"#000000\" d=\"M1,-35.5051C17.8147,-35.5051 18.7709,-18.5541 32.3644,-15.111\"/>\n",
       "<polygon fill=\"#000000\" stroke=\"#000000\" points=\"32.7395,-16.8289 37.5,-14.5051 32.3294,-13.353 32.7395,-16.8289\"/>\n",
       "<text text-anchor=\"middle\" x=\"14.5188\" y=\"-14.0781\" font-family=\"Courier,monospace\" font-size=\"14.00\" fill=\"#000000\">A</text>\n",
       "</g>\n",
       "<!-- n2p1 -->\n",
       "<!-- n2p2 -->\n",
       "<!-- n2p1&#45;&gt;n2p2 -->\n",
       "<!-- n3&#45;&gt;n2p1 -->\n",
       "<!-- B -->\n",
       "<g id=\"e3\" class=\"edge\">\n",
       "<title>n3:e&#45;&gt;n2p1:w</title>\n",
       "<path fill=\"none\" stroke=\"#000000\" d=\"M56,-57.5051C70.125,-57.5051 74.8977,-57.5051 86.8308,-57.5051\"/>\n",
       "<polygon fill=\"#000000\" stroke=\"#000000\" points=\"87,-59.2552 92,-57.5051 87,-55.7552 87,-59.2552\"/>\n",
       "<text text-anchor=\"middle\" x=\"69.3975\" y=\"-46.3051\" font-family=\"Courier,monospace\" font-size=\"14.00\" fill=\"#000000\">B</text>\n",
       "</g>\n",
       "<!-- n4&#45;&gt;n2p2 -->\n",
       "<!-- B -->\n",
       "<g id=\"e4\" class=\"edge\">\n",
       "<title>n4:e&#45;&gt;n2p2:w</title>\n",
       "<path fill=\"none\" stroke=\"#000000\" d=\"M56,-14.5051C70.1304,-14.5051 74.8942,-15.2845 86.8293,-15.4671\"/>\n",
       "<polygon fill=\"#000000\" stroke=\"#000000\" points=\"86.9872,-17.2183 92,-15.5051 87.013,-13.7184 86.9872,-17.2183\"/>\n",
       "<text text-anchor=\"middle\" x=\"69.3975\" y=\"-3.8\" font-family=\"Courier,monospace\" font-size=\"14.00\" fill=\"#000000\">B</text>\n",
       "</g>\n",
       "</g>\n",
       "</svg>\n",
       "\n"
      ],
      "text/plain": [
       "Catlab.Graphics.Graphviz.Graph(\"G\", true, Catlab.Graphics.Graphviz.Statement[Subgraph(\"\", Catlab.Graphics.Graphviz.Statement[Node(\"n1p1\", OrderedCollections.OrderedDict{Symbol,Union{String, Html}}(:id=>\"in1\")), Edge(Catlab.Graphics.Graphviz.NodeID[NodeID(\"n1p1\", \"\", \"\")], OrderedCollections.OrderedDict{Symbol,Union{String, Html}}())], OrderedCollections.OrderedDict{Symbol,Union{String, Html}}(:rank=>\"source\",:rankdir=>\"TB\"), OrderedCollections.OrderedDict{Symbol,Union{String, Html}}(:style=>\"invis\",:shape=>\"none\",:label=>\"\",:width=>\"0\",:height=>\"0.333\"), OrderedCollections.OrderedDict{Symbol,Union{String, Html}}(:style=>\"invis\")), Subgraph(\"\", Catlab.Graphics.Graphviz.Statement[Node(\"n2p1\", OrderedCollections.OrderedDict{Symbol,Union{String, Html}}(:id=>\"out1\")), Node(\"n2p2\", OrderedCollections.OrderedDict{Symbol,Union{String, Html}}(:id=>\"out2\")), Edge(Catlab.Graphics.Graphviz.NodeID[NodeID(\"n2p1\", \"\", \"\"), NodeID(\"n2p2\", \"\", \"\")], OrderedCollections.OrderedDict{Symbol,Union{String, Html}}())], OrderedCollections.OrderedDict{Symbol,Union{String, Html}}(:rank=>\"sink\",:rankdir=>\"TB\"), OrderedCollections.OrderedDict{Symbol,Union{String, Html}}(:style=>\"invis\",:shape=>\"none\",:label=>\"\",:width=>\"0\",:height=>\"0.333\"), OrderedCollections.OrderedDict{Symbol,Union{String, Html}}(:style=>\"invis\")), Node(\"n3\", OrderedCollections.OrderedDict{Symbol,Union{String, Html}}(:id=>\"n3\",:comment=>\"f\",:label=>Html(\"<TABLE BORDER=\\\"0\\\" CELLPADDING=\\\"0\\\" CELLSPACING=\\\"0\\\">\\n<TR>\\n<TD><TABLE BORDER=\\\"0\\\" CELLPADDING=\\\"0\\\" CELLSPACING=\\\"0\\\"><TR><TD HEIGHT=\\\"24\\\" WIDTH=\\\"0\\\" PORT=\\\"in1\\\"></TD></TR></TABLE></TD>\\n<TD BORDER=\\\"1\\\" CELLPADDING=\\\"4\\\">f</TD>\\n<TD><TABLE BORDER=\\\"0\\\" CELLPADDING=\\\"0\\\" CELLSPACING=\\\"0\\\"><TR><TD HEIGHT=\\\"24\\\" WIDTH=\\\"0\\\" PORT=\\\"out1\\\"></TD></TR></TABLE></TD>\\n</TR>\\n</TABLE>\"))), Node(\"n4\", OrderedCollections.OrderedDict{Symbol,Union{String, Html}}(:id=>\"n4\",:comment=>\"f\",:label=>Html(\"<TABLE BORDER=\\\"0\\\" CELLPADDING=\\\"0\\\" CELLSPACING=\\\"0\\\">\\n<TR>\\n<TD><TABLE BORDER=\\\"0\\\" CELLPADDING=\\\"0\\\" CELLSPACING=\\\"0\\\"><TR><TD HEIGHT=\\\"24\\\" WIDTH=\\\"0\\\" PORT=\\\"in1\\\"></TD></TR></TABLE></TD>\\n<TD BORDER=\\\"1\\\" CELLPADDING=\\\"4\\\">f</TD>\\n<TD><TABLE BORDER=\\\"0\\\" CELLPADDING=\\\"0\\\" CELLSPACING=\\\"0\\\"><TR><TD HEIGHT=\\\"24\\\" WIDTH=\\\"0\\\" PORT=\\\"out1\\\"></TD></TR></TABLE></TD>\\n</TR>\\n</TABLE>\"))), Edge(Catlab.Graphics.Graphviz.NodeID[NodeID(\"n1p1\", \"e\", \"\"), NodeID(\"n3\", \"in1\", \"w\")], OrderedCollections.OrderedDict{Symbol,Union{String, Html}}(:id=>\"e1\",:comment=>\"A\",:xlabel=>\"A\")), Edge(Catlab.Graphics.Graphviz.NodeID[NodeID(\"n1p1\", \"e\", \"\"), NodeID(\"n4\", \"in1\", \"w\")], OrderedCollections.OrderedDict{Symbol,Union{String, Html}}(:id=>\"e2\",:comment=>\"A\",:xlabel=>\"A\")), Edge(Catlab.Graphics.Graphviz.NodeID[NodeID(\"n3\", \"out1\", \"e\"), NodeID(\"n2p1\", \"w\", \"\")], OrderedCollections.OrderedDict{Symbol,Union{String, Html}}(:id=>\"e3\",:comment=>\"B\",:xlabel=>\"B\")), Edge(Catlab.Graphics.Graphviz.NodeID[NodeID(\"n4\", \"out1\", \"e\"), NodeID(\"n2p2\", \"w\", \"\")], OrderedCollections.OrderedDict{Symbol,Union{String, Html}}(:id=>\"e4\",:comment=>\"B\",:xlabel=>\"B\"))], OrderedCollections.OrderedDict{Symbol,Union{String, Html}}(:fontname=>\"Serif\",:rankdir=>\"LR\"), OrderedCollections.OrderedDict{Symbol,Union{String, Html}}(:fontname=>\"Courier\",:shape=>\"none\",:width=>\"0\",:height=>\"0\",:margin=>\"0\"), OrderedCollections.OrderedDict{Symbol,Union{String, Html}}(:arrowsize=>\"0.5\",:fontname=>\"Courier\"))"
      ]
     },
     "execution_count": 12,
     "metadata": {},
     "output_type": "execute_result"
    }
   ],
   "source": [
    "show_diagram(compose(mcopy(dom(f),2), otimes(f,f)))"
   ]
  },
  {
   "cell_type": "markdown",
   "metadata": {},
   "source": [
    "## Imperative interface\n",
    "\n",
    "We now show how to manipulate wiring diagrams using the low-level, imperative interface. The diagrams will carry Julia symbols."
   ]
  },
  {
   "cell_type": "code",
   "execution_count": 13,
   "metadata": {},
   "outputs": [
    {
     "data": {
      "text/plain": [
       "Box(:f, [:A], [:B])"
      ]
     },
     "execution_count": 13,
     "metadata": {},
     "output_type": "execute_result"
    }
   ],
   "source": [
    "f = Box(:f, [:A], [:B])\n",
    "g = Box(:g, [:B], [:C])\n",
    "h = Box(:h, [:C], [:D])\n",
    "\n",
    "f"
   ]
  },
  {
   "cell_type": "markdown",
   "metadata": {},
   "source": [
    "### Composition"
   ]
  },
  {
   "cell_type": "markdown",
   "metadata": {},
   "source": [
    "For example, here is how to manually construct a composition of two boxes.\n",
    "\n",
    "The `add_box!` method adds a box to a wiring diagrams and returns the ID assigned to the box. How the boxes are indexed is an implementation detail that you should not rely on; use the IDs that the system gives you."
   ]
  },
  {
   "cell_type": "code",
   "execution_count": 14,
   "metadata": {},
   "outputs": [],
   "source": [
    "d = WiringDiagram([:A], [:C])\n",
    "\n",
    "fv = add_box!(d, f)\n",
    "gv = add_box!(d, g)\n",
    "\n",
    "add_wires!(d, [\n",
    "    (input_id(d),1) => (fv,1),\n",
    "    (fv,1) => (gv,1),\n",
    "    (gv,1) => (output_id(d),1),\n",
    "])"
   ]
  },
  {
   "cell_type": "code",
   "execution_count": 15,
   "metadata": {},
   "outputs": [
    {
     "data": {
      "text/plain": [
       "2"
      ]
     },
     "execution_count": 15,
     "metadata": {},
     "output_type": "execute_result"
    }
   ],
   "source": [
    "nboxes(d)"
   ]
  },
  {
   "cell_type": "code",
   "execution_count": 16,
   "metadata": {},
   "outputs": [
    {
     "data": {
      "text/plain": [
       "3"
      ]
     },
     "execution_count": 16,
     "metadata": {},
     "output_type": "execute_result"
    }
   ],
   "source": [
    "nwires(d)"
   ]
  },
  {
   "cell_type": "code",
   "execution_count": 17,
   "metadata": {},
   "outputs": [
    {
     "data": {
      "text/plain": [
       "WiringDiagram([:A], [:C], \n",
       "[ 1 => {inputs},\n",
       "  2 => {outputs},\n",
       "  3 => Box(:f, [:A], [:B]),\n",
       "  4 => Box(:g, [:B], [:C]) ],\n",
       "[ Wire((1,1) => (3,1)),\n",
       "  Wire((3,1) => (4,1)),\n",
       "  Wire((4,1) => (2,1)) ])"
      ]
     },
     "execution_count": 17,
     "metadata": {},
     "output_type": "execute_result"
    }
   ],
   "source": [
    "d"
   ]
  },
  {
   "cell_type": "code",
   "execution_count": 18,
   "metadata": {},
   "outputs": [
    {
     "data": {
      "image/svg+xml": [
       "<?xml version=\"1.0\" encoding=\"UTF-8\" standalone=\"no\"?>\n",
       "<!DOCTYPE svg PUBLIC \"-//W3C//DTD SVG 1.1//EN\"\n",
       " \"http://www.w3.org/Graphics/SVG/1.1/DTD/svg11.dtd\">\n",
       "<!-- Generated by graphviz version 2.40.1 (20161225.0304)\n",
       " -->\n",
       "<!-- Title: G Pages: 1 -->\n",
       "<svg width=\"156pt\" height=\"37pt\"\n",
       " viewBox=\"0.00 0.00 156.00 36.50\" xmlns=\"http://www.w3.org/2000/svg\" xmlns:xlink=\"http://www.w3.org/1999/xlink\">\n",
       "<g id=\"graph0\" class=\"graph\" transform=\"scale(1 1) rotate(0) translate(4 32.5)\">\n",
       "<title>G</title>\n",
       "<polygon fill=\"#ffffff\" stroke=\"transparent\" points=\"-4,4 -4,-32.5 152,-32.5 152,4 -4,4\"/>\n",
       "<!-- n1p1 -->\n",
       "<!-- n3 -->\n",
       "<!-- f -->\n",
       "<g id=\"n3\" class=\"node\">\n",
       "<title>n3</title>\n",
       "<polygon fill=\"none\" stroke=\"#000000\" points=\"37.5,-3 37.5,-28 56.5,-28 56.5,-3 37.5,-3\"/>\n",
       "<text text-anchor=\"start\" x=\"42.5\" y=\"-11.8\" font-family=\"Courier,monospace\" font-size=\"14.00\" fill=\"#000000\">f</text>\n",
       "</g>\n",
       "<!-- n1p1&#45;&gt;n3 -->\n",
       "<!-- A -->\n",
       "<g id=\"e1\" class=\"edge\">\n",
       "<title>n1p1:e&#45;&gt;n3:w</title>\n",
       "<path fill=\"none\" stroke=\"#000000\" d=\"M1,-15C15.3212,-15 20.1602,-15 32.259,-15\"/>\n",
       "<polygon fill=\"#000000\" stroke=\"#000000\" points=\"32.5,-16.7501 37.5,-15 32.5,-13.2501 32.5,-16.7501\"/>\n",
       "<text text-anchor=\"middle\" x=\"14.646\" y=\"-3.8\" font-family=\"Courier,monospace\" font-size=\"14.00\" fill=\"#000000\">A</text>\n",
       "</g>\n",
       "<!-- n2p1 -->\n",
       "<!-- n4 -->\n",
       "<!-- g -->\n",
       "<g id=\"n4\" class=\"node\">\n",
       "<title>n4</title>\n",
       "<polygon fill=\"none\" stroke=\"#000000\" points=\"92.5,-3 92.5,-28 111.5,-28 111.5,-3 92.5,-3\"/>\n",
       "<text text-anchor=\"start\" x=\"97.5\" y=\"-11.8\" font-family=\"Courier,monospace\" font-size=\"14.00\" fill=\"#000000\">g</text>\n",
       "</g>\n",
       "<!-- n3&#45;&gt;n4 -->\n",
       "<!-- B -->\n",
       "<g id=\"e2\" class=\"edge\">\n",
       "<title>n3:e&#45;&gt;n4:w</title>\n",
       "<path fill=\"none\" stroke=\"#000000\" d=\"M56,-15C70.3212,-15 75.1602,-15 87.259,-15\"/>\n",
       "<polygon fill=\"#000000\" stroke=\"#000000\" points=\"87.5,-16.7501 92.5,-15 87.5,-13.2501 87.5,-16.7501\"/>\n",
       "<text text-anchor=\"middle\" x=\"69.646\" y=\"-3.8\" font-family=\"Courier,monospace\" font-size=\"14.00\" fill=\"#000000\">B</text>\n",
       "</g>\n",
       "<!-- n4&#45;&gt;n2p1 -->\n",
       "<!-- C -->\n",
       "<g id=\"e3\" class=\"edge\">\n",
       "<title>n4:e&#45;&gt;n2p1:w</title>\n",
       "<path fill=\"none\" stroke=\"#000000\" d=\"M111,-15C125.125,-15 129.8977,-15 141.8308,-15\"/>\n",
       "<polygon fill=\"#000000\" stroke=\"#000000\" points=\"142,-16.7501 147,-15 142,-13.2501 142,-16.7501\"/>\n",
       "<text text-anchor=\"middle\" x=\"124.3975\" y=\"-3.8\" font-family=\"Courier,monospace\" font-size=\"14.00\" fill=\"#000000\">C</text>\n",
       "</g>\n",
       "</g>\n",
       "</svg>\n",
       "\n"
      ],
      "text/plain": [
       "Catlab.Graphics.Graphviz.Graph(\"G\", true, Catlab.Graphics.Graphviz.Statement[Subgraph(\"\", Catlab.Graphics.Graphviz.Statement[Node(\"n1p1\", OrderedCollections.OrderedDict{Symbol,Union{String, Html}}(:id=>\"in1\")), Edge(Catlab.Graphics.Graphviz.NodeID[NodeID(\"n1p1\", \"\", \"\")], OrderedCollections.OrderedDict{Symbol,Union{String, Html}}())], OrderedCollections.OrderedDict{Symbol,Union{String, Html}}(:rank=>\"source\",:rankdir=>\"TB\"), OrderedCollections.OrderedDict{Symbol,Union{String, Html}}(:style=>\"invis\",:shape=>\"none\",:label=>\"\",:width=>\"0\",:height=>\"0.333\"), OrderedCollections.OrderedDict{Symbol,Union{String, Html}}(:style=>\"invis\")), Subgraph(\"\", Catlab.Graphics.Graphviz.Statement[Node(\"n2p1\", OrderedCollections.OrderedDict{Symbol,Union{String, Html}}(:id=>\"out1\")), Edge(Catlab.Graphics.Graphviz.NodeID[NodeID(\"n2p1\", \"\", \"\")], OrderedCollections.OrderedDict{Symbol,Union{String, Html}}())], OrderedCollections.OrderedDict{Symbol,Union{String, Html}}(:rank=>\"sink\",:rankdir=>\"TB\"), OrderedCollections.OrderedDict{Symbol,Union{String, Html}}(:style=>\"invis\",:shape=>\"none\",:label=>\"\",:width=>\"0\",:height=>\"0.333\"), OrderedCollections.OrderedDict{Symbol,Union{String, Html}}(:style=>\"invis\")), Node(\"n3\", OrderedCollections.OrderedDict{Symbol,Union{String, Html}}(:id=>\"n3\",:comment=>\"f\",:label=>Html(\"<TABLE BORDER=\\\"0\\\" CELLPADDING=\\\"0\\\" CELLSPACING=\\\"0\\\">\\n<TR>\\n<TD><TABLE BORDER=\\\"0\\\" CELLPADDING=\\\"0\\\" CELLSPACING=\\\"0\\\"><TR><TD HEIGHT=\\\"24\\\" WIDTH=\\\"0\\\" PORT=\\\"in1\\\"></TD></TR></TABLE></TD>\\n<TD BORDER=\\\"1\\\" CELLPADDING=\\\"4\\\">f</TD>\\n<TD><TABLE BORDER=\\\"0\\\" CELLPADDING=\\\"0\\\" CELLSPACING=\\\"0\\\"><TR><TD HEIGHT=\\\"24\\\" WIDTH=\\\"0\\\" PORT=\\\"out1\\\"></TD></TR></TABLE></TD>\\n</TR>\\n</TABLE>\"))), Node(\"n4\", OrderedCollections.OrderedDict{Symbol,Union{String, Html}}(:id=>\"n4\",:comment=>\"g\",:label=>Html(\"<TABLE BORDER=\\\"0\\\" CELLPADDING=\\\"0\\\" CELLSPACING=\\\"0\\\">\\n<TR>\\n<TD><TABLE BORDER=\\\"0\\\" CELLPADDING=\\\"0\\\" CELLSPACING=\\\"0\\\"><TR><TD HEIGHT=\\\"24\\\" WIDTH=\\\"0\\\" PORT=\\\"in1\\\"></TD></TR></TABLE></TD>\\n<TD BORDER=\\\"1\\\" CELLPADDING=\\\"4\\\">g</TD>\\n<TD><TABLE BORDER=\\\"0\\\" CELLPADDING=\\\"0\\\" CELLSPACING=\\\"0\\\"><TR><TD HEIGHT=\\\"24\\\" WIDTH=\\\"0\\\" PORT=\\\"out1\\\"></TD></TR></TABLE></TD>\\n</TR>\\n</TABLE>\"))), Edge(Catlab.Graphics.Graphviz.NodeID[NodeID(\"n1p1\", \"e\", \"\"), NodeID(\"n3\", \"in1\", \"w\")], OrderedCollections.OrderedDict{Symbol,Union{String, Html}}(:id=>\"e1\",:comment=>\"A\",:xlabel=>\"A\")), Edge(Catlab.Graphics.Graphviz.NodeID[NodeID(\"n3\", \"out1\", \"e\"), NodeID(\"n4\", \"in1\", \"w\")], OrderedCollections.OrderedDict{Symbol,Union{String, Html}}(:id=>\"e2\",:comment=>\"B\",:xlabel=>\"B\")), Edge(Catlab.Graphics.Graphviz.NodeID[NodeID(\"n4\", \"out1\", \"e\"), NodeID(\"n2p1\", \"w\", \"\")], OrderedCollections.OrderedDict{Symbol,Union{String, Html}}(:id=>\"e3\",:comment=>\"C\",:xlabel=>\"C\"))], OrderedCollections.OrderedDict{Symbol,Union{String, Html}}(:fontname=>\"Serif\",:rankdir=>\"LR\"), OrderedCollections.OrderedDict{Symbol,Union{String, Html}}(:fontname=>\"Courier\",:shape=>\"none\",:width=>\"0\",:height=>\"0\",:margin=>\"0\"), OrderedCollections.OrderedDict{Symbol,Union{String, Html}}(:arrowsize=>\"0.5\",:fontname=>\"Courier\"))"
      ]
     },
     "execution_count": 18,
     "metadata": {},
     "output_type": "execute_result"
    }
   ],
   "source": [
    "show_diagram(d)"
   ]
  },
  {
   "cell_type": "markdown",
   "metadata": {},
   "source": [
    "### Products\n",
    "\n",
    "Here is how to manually construct a product of two boxes."
   ]
  },
  {
   "cell_type": "code",
   "execution_count": 19,
   "metadata": {},
   "outputs": [
    {
     "data": {
      "text/plain": [
       "WiringDiagram([:A,:C], [:B,:D], \n",
       "[ 1 => {inputs},\n",
       "  2 => {outputs},\n",
       "  3 => Box(:f, [:A], [:B]),\n",
       "  4 => Box(:h, [:C], [:D]) ],\n",
       "[ Wire((1,1) => (3,1)),\n",
       "  Wire((1,2) => (4,1)),\n",
       "  Wire((3,1) => (2,1)),\n",
       "  Wire((4,1) => (2,2)) ])"
      ]
     },
     "execution_count": 19,
     "metadata": {},
     "output_type": "execute_result"
    }
   ],
   "source": [
    "d = WiringDiagram([:A,:C], [:B,:D])\n",
    "\n",
    "fv = add_box!(d, f)\n",
    "hv = add_box!(d, h)\n",
    "\n",
    "add_wires!(d, [\n",
    "    (input_id(d),1) => (fv,1),\n",
    "    (input_id(d),2) => (hv,1),\n",
    "    (fv,1) => (output_id(d),1),\n",
    "    (hv,1) => (output_id(d),2),\n",
    "])\n",
    "\n",
    "d"
   ]
  },
  {
   "cell_type": "code",
   "execution_count": 20,
   "metadata": {},
   "outputs": [
    {
     "data": {
      "image/svg+xml": [
       "<?xml version=\"1.0\" encoding=\"UTF-8\" standalone=\"no\"?>\n",
       "<!DOCTYPE svg PUBLIC \"-//W3C//DTD SVG 1.1//EN\"\n",
       " \"http://www.w3.org/Graphics/SVG/1.1/DTD/svg11.dtd\">\n",
       "<!-- Generated by graphviz version 2.40.1 (20161225.0304)\n",
       " -->\n",
       "<!-- Title: G Pages: 1 -->\n",
       "<svg width=\"101pt\" height=\"79pt\"\n",
       " viewBox=\"0.00 0.00 101.00 79.01\" xmlns=\"http://www.w3.org/2000/svg\" xmlns:xlink=\"http://www.w3.org/1999/xlink\">\n",
       "<g id=\"graph0\" class=\"graph\" transform=\"scale(1 1) rotate(0) translate(4 75.0051)\">\n",
       "<title>G</title>\n",
       "<polygon fill=\"#ffffff\" stroke=\"transparent\" points=\"-4,4 -4,-75.0051 97,-75.0051 97,4 -4,4\"/>\n",
       "<!-- n1p1 -->\n",
       "<!-- n1p2 -->\n",
       "<!-- n1p1&#45;&gt;n1p2 -->\n",
       "<!-- n3 -->\n",
       "<!-- f -->\n",
       "<g id=\"n3\" class=\"node\">\n",
       "<title>n3</title>\n",
       "<polygon fill=\"none\" stroke=\"#000000\" points=\"37.5,-45.5051 37.5,-70.5051 56.5,-70.5051 56.5,-45.5051 37.5,-45.5051\"/>\n",
       "<text text-anchor=\"start\" x=\"42.5\" y=\"-54.3051\" font-family=\"Courier,monospace\" font-size=\"14.00\" fill=\"#000000\">f</text>\n",
       "</g>\n",
       "<!-- n1p1&#45;&gt;n3 -->\n",
       "<!-- A -->\n",
       "<g id=\"e1\" class=\"edge\">\n",
       "<title>n1p1:e&#45;&gt;n3:w</title>\n",
       "<path fill=\"none\" stroke=\"#000000\" d=\"M1,-57.5051C15.3212,-57.5051 20.1602,-57.5051 32.259,-57.5051\"/>\n",
       "<polygon fill=\"#000000\" stroke=\"#000000\" points=\"32.5,-59.2552 37.5,-57.5051 32.5,-55.7552 32.5,-59.2552\"/>\n",
       "<text text-anchor=\"middle\" x=\"14.646\" y=\"-46.3051\" font-family=\"Courier,monospace\" font-size=\"14.00\" fill=\"#000000\">A</text>\n",
       "</g>\n",
       "<!-- n4 -->\n",
       "<!-- h -->\n",
       "<g id=\"n4\" class=\"node\">\n",
       "<title>n4</title>\n",
       "<polygon fill=\"none\" stroke=\"#000000\" points=\"37.5,-2.5051 37.5,-27.5051 56.5,-27.5051 56.5,-2.5051 37.5,-2.5051\"/>\n",
       "<text text-anchor=\"start\" x=\"42.5\" y=\"-11.3051\" font-family=\"Courier,monospace\" font-size=\"14.00\" fill=\"#000000\">h</text>\n",
       "</g>\n",
       "<!-- n1p2&#45;&gt;n4 -->\n",
       "<!-- C -->\n",
       "<g id=\"e2\" class=\"edge\">\n",
       "<title>n1p2:e&#45;&gt;n4:w</title>\n",
       "<path fill=\"none\" stroke=\"#000000\" d=\"M1,-15.5051C15.3266,-15.5051 20.1567,-14.7258 32.2575,-14.5431\"/>\n",
       "<polygon fill=\"#000000\" stroke=\"#000000\" points=\"32.5128,-16.2914 37.5,-14.5051 32.4874,-12.7915 32.5128,-16.2914\"/>\n",
       "<text text-anchor=\"middle\" x=\"14.6461\" y=\"-3.8103\" font-family=\"Courier,monospace\" font-size=\"14.00\" fill=\"#000000\">C</text>\n",
       "</g>\n",
       "<!-- n2p1 -->\n",
       "<!-- n2p2 -->\n",
       "<!-- n2p1&#45;&gt;n2p2 -->\n",
       "<!-- n3&#45;&gt;n2p1 -->\n",
       "<!-- B -->\n",
       "<g id=\"e3\" class=\"edge\">\n",
       "<title>n3:e&#45;&gt;n2p1:w</title>\n",
       "<path fill=\"none\" stroke=\"#000000\" d=\"M56,-57.5051C70.125,-57.5051 74.8977,-57.5051 86.8308,-57.5051\"/>\n",
       "<polygon fill=\"#000000\" stroke=\"#000000\" points=\"87,-59.2552 92,-57.5051 87,-55.7552 87,-59.2552\"/>\n",
       "<text text-anchor=\"middle\" x=\"69.3975\" y=\"-46.3051\" font-family=\"Courier,monospace\" font-size=\"14.00\" fill=\"#000000\">B</text>\n",
       "</g>\n",
       "<!-- n4&#45;&gt;n2p2 -->\n",
       "<!-- D -->\n",
       "<g id=\"e4\" class=\"edge\">\n",
       "<title>n4:e&#45;&gt;n2p2:w</title>\n",
       "<path fill=\"none\" stroke=\"#000000\" d=\"M56,-14.5051C70.1304,-14.5051 74.8942,-15.2845 86.8293,-15.4671\"/>\n",
       "<polygon fill=\"#000000\" stroke=\"#000000\" points=\"86.9872,-17.2183 92,-15.5051 87.013,-13.7184 86.9872,-17.2183\"/>\n",
       "<text text-anchor=\"middle\" x=\"69.3975\" y=\"-3.8\" font-family=\"Courier,monospace\" font-size=\"14.00\" fill=\"#000000\">D</text>\n",
       "</g>\n",
       "</g>\n",
       "</svg>\n",
       "\n"
      ],
      "text/plain": [
       "Catlab.Graphics.Graphviz.Graph(\"G\", true, Catlab.Graphics.Graphviz.Statement[Subgraph(\"\", Catlab.Graphics.Graphviz.Statement[Node(\"n1p1\", OrderedCollections.OrderedDict{Symbol,Union{String, Html}}(:id=>\"in1\")), Node(\"n1p2\", OrderedCollections.OrderedDict{Symbol,Union{String, Html}}(:id=>\"in2\")), Edge(Catlab.Graphics.Graphviz.NodeID[NodeID(\"n1p1\", \"\", \"\"), NodeID(\"n1p2\", \"\", \"\")], OrderedCollections.OrderedDict{Symbol,Union{String, Html}}())], OrderedCollections.OrderedDict{Symbol,Union{String, Html}}(:rank=>\"source\",:rankdir=>\"TB\"), OrderedCollections.OrderedDict{Symbol,Union{String, Html}}(:style=>\"invis\",:shape=>\"none\",:label=>\"\",:width=>\"0\",:height=>\"0.333\"), OrderedCollections.OrderedDict{Symbol,Union{String, Html}}(:style=>\"invis\")), Subgraph(\"\", Catlab.Graphics.Graphviz.Statement[Node(\"n2p1\", OrderedCollections.OrderedDict{Symbol,Union{String, Html}}(:id=>\"out1\")), Node(\"n2p2\", OrderedCollections.OrderedDict{Symbol,Union{String, Html}}(:id=>\"out2\")), Edge(Catlab.Graphics.Graphviz.NodeID[NodeID(\"n2p1\", \"\", \"\"), NodeID(\"n2p2\", \"\", \"\")], OrderedCollections.OrderedDict{Symbol,Union{String, Html}}())], OrderedCollections.OrderedDict{Symbol,Union{String, Html}}(:rank=>\"sink\",:rankdir=>\"TB\"), OrderedCollections.OrderedDict{Symbol,Union{String, Html}}(:style=>\"invis\",:shape=>\"none\",:label=>\"\",:width=>\"0\",:height=>\"0.333\"), OrderedCollections.OrderedDict{Symbol,Union{String, Html}}(:style=>\"invis\")), Node(\"n3\", OrderedCollections.OrderedDict{Symbol,Union{String, Html}}(:id=>\"n3\",:comment=>\"f\",:label=>Html(\"<TABLE BORDER=\\\"0\\\" CELLPADDING=\\\"0\\\" CELLSPACING=\\\"0\\\">\\n<TR>\\n<TD><TABLE BORDER=\\\"0\\\" CELLPADDING=\\\"0\\\" CELLSPACING=\\\"0\\\"><TR><TD HEIGHT=\\\"24\\\" WIDTH=\\\"0\\\" PORT=\\\"in1\\\"></TD></TR></TABLE></TD>\\n<TD BORDER=\\\"1\\\" CELLPADDING=\\\"4\\\">f</TD>\\n<TD><TABLE BORDER=\\\"0\\\" CELLPADDING=\\\"0\\\" CELLSPACING=\\\"0\\\"><TR><TD HEIGHT=\\\"24\\\" WIDTH=\\\"0\\\" PORT=\\\"out1\\\"></TD></TR></TABLE></TD>\\n</TR>\\n</TABLE>\"))), Node(\"n4\", OrderedCollections.OrderedDict{Symbol,Union{String, Html}}(:id=>\"n4\",:comment=>\"h\",:label=>Html(\"<TABLE BORDER=\\\"0\\\" CELLPADDING=\\\"0\\\" CELLSPACING=\\\"0\\\">\\n<TR>\\n<TD><TABLE BORDER=\\\"0\\\" CELLPADDING=\\\"0\\\" CELLSPACING=\\\"0\\\"><TR><TD HEIGHT=\\\"24\\\" WIDTH=\\\"0\\\" PORT=\\\"in1\\\"></TD></TR></TABLE></TD>\\n<TD BORDER=\\\"1\\\" CELLPADDING=\\\"4\\\">h</TD>\\n<TD><TABLE BORDER=\\\"0\\\" CELLPADDING=\\\"0\\\" CELLSPACING=\\\"0\\\"><TR><TD HEIGHT=\\\"24\\\" WIDTH=\\\"0\\\" PORT=\\\"out1\\\"></TD></TR></TABLE></TD>\\n</TR>\\n</TABLE>\"))), Edge(Catlab.Graphics.Graphviz.NodeID[NodeID(\"n1p1\", \"e\", \"\"), NodeID(\"n3\", \"in1\", \"w\")], OrderedCollections.OrderedDict{Symbol,Union{String, Html}}(:id=>\"e1\",:comment=>\"A\",:xlabel=>\"A\")), Edge(Catlab.Graphics.Graphviz.NodeID[NodeID(\"n1p2\", \"e\", \"\"), NodeID(\"n4\", \"in1\", \"w\")], OrderedCollections.OrderedDict{Symbol,Union{String, Html}}(:id=>\"e2\",:comment=>\"C\",:xlabel=>\"C\")), Edge(Catlab.Graphics.Graphviz.NodeID[NodeID(\"n3\", \"out1\", \"e\"), NodeID(\"n2p1\", \"w\", \"\")], OrderedCollections.OrderedDict{Symbol,Union{String, Html}}(:id=>\"e3\",:comment=>\"B\",:xlabel=>\"B\")), Edge(Catlab.Graphics.Graphviz.NodeID[NodeID(\"n4\", \"out1\", \"e\"), NodeID(\"n2p2\", \"w\", \"\")], OrderedCollections.OrderedDict{Symbol,Union{String, Html}}(:id=>\"e4\",:comment=>\"D\",:xlabel=>\"D\"))], OrderedCollections.OrderedDict{Symbol,Union{String, Html}}(:fontname=>\"Serif\",:rankdir=>\"LR\"), OrderedCollections.OrderedDict{Symbol,Union{String, Html}}(:fontname=>\"Courier\",:shape=>\"none\",:width=>\"0\",:height=>\"0\",:margin=>\"0\"), OrderedCollections.OrderedDict{Symbol,Union{String, Html}}(:arrowsize=>\"0.5\",:fontname=>\"Courier\"))"
      ]
     },
     "execution_count": 20,
     "metadata": {},
     "output_type": "execute_result"
    }
   ],
   "source": [
    "show_diagram(d)"
   ]
  }
 ],
 "metadata": {
  "kernelspec": {
   "display_name": "Julia 1.1.1",
   "language": "julia",
   "name": "julia-1.1"
  },
  "language_info": {
   "file_extension": ".jl",
   "mimetype": "application/julia",
   "name": "julia",
   "version": "1.1.1"
  }
 },
 "nbformat": 4,
 "nbformat_minor": 4
}
