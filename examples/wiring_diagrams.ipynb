{
 "cells": [
  {
   "cell_type": "markdown",
   "metadata": {},
   "source": [
    "# Wiring diagrams"
   ]
  },
  {
   "cell_type": "code",
   "execution_count": 1,
   "metadata": {
    "collapsed": true
   },
   "outputs": [],
   "source": [
    "using Catlab.Doctrines"
   ]
  },
  {
   "cell_type": "markdown",
   "metadata": {},
   "source": [
    "## TikZ\n",
    "\n",
    "Catlab can draw morphism expressions as TikZ pictures. This feature requires the [TikzPictures.jl](https://github.com/sisl/TikzPictures.jl) package."
   ]
  },
  {
   "cell_type": "code",
   "execution_count": 2,
   "metadata": {
    "collapsed": true
   },
   "outputs": [],
   "source": [
    "import TikzPictures\n",
    "using Catlab.Graphics"
   ]
  },
  {
   "cell_type": "markdown",
   "metadata": {},
   "source": [
    "### Symmetric monoidal category"
   ]
  },
  {
   "cell_type": "code",
   "execution_count": 3,
   "metadata": {
    "collapsed": true
   },
   "outputs": [],
   "source": [
    "A, B = Ob(FreeSymmetricMonoidalCategory, :A, :B)\n",
    "f = Hom(:f, A, B)\n",
    "g = Hom(:g, B, A)\n",
    "h = Hom(:h, otimes(A,B), otimes(A,B));"
   ]
  },
  {
   "cell_type": "code",
   "execution_count": 4,
   "metadata": {},
   "outputs": [
    {
     "data": {
      "image/svg+xml": [
       "<?xml version=\"1.0\" encoding=\"UTF-8\"?>\n",
       "<svg xmlns=\"http://www.w3.org/2000/svg\" xmlns:xlink=\"http://www.w3.org/1999/xlink\" width=\"65.619pt\" height=\"24.309pt\" viewBox=\"0 0 65.619 24.309\" version=\"1.1\">\n",
       "<defs>\n",
       "<g>\n",
       "<symbol overflow=\"visible\" id=\"glyph-1544992871540602-0-0\">\n",
       "<path style=\"stroke:none;\" d=\"\"/>\n",
       "</symbol>\n",
       "<symbol overflow=\"visible\" id=\"glyph-1544992871540602-0-1\">\n",
       "<path style=\"stroke:none;\" d=\"M 5.328125 -4.8125 C 5.5625 -4.8125 5.671875 -4.8125 5.671875 -5.03125 C 5.671875 -5.15625 5.5625 -5.15625 5.359375 -5.15625 L 4.390625 -5.15625 C 4.609375 -6.390625 4.78125 -7.234375 4.875 -7.609375 C 4.953125 -7.90625 5.203125 -8.171875 5.515625 -8.171875 C 5.765625 -8.171875 6.015625 -8.0625 6.125 -7.953125 C 5.671875 -7.90625 5.515625 -7.5625 5.515625 -7.359375 C 5.515625 -7.125 5.703125 -6.984375 5.921875 -6.984375 C 6.171875 -6.984375 6.53125 -7.1875 6.53125 -7.640625 C 6.53125 -8.140625 6.03125 -8.421875 5.5 -8.421875 C 4.984375 -8.421875 4.484375 -8.03125 4.25 -7.5625 C 4.03125 -7.140625 3.90625 -6.71875 3.640625 -5.15625 L 2.828125 -5.15625 C 2.609375 -5.15625 2.484375 -5.15625 2.484375 -4.9375 C 2.484375 -4.8125 2.5625 -4.8125 2.796875 -4.8125 L 3.5625 -4.8125 C 3.34375 -3.6875 2.859375 -0.984375 2.578125 0.28125 C 2.375 1.328125 2.203125 2.203125 1.609375 2.203125 C 1.5625 2.203125 1.21875 2.203125 1 1.96875 C 1.609375 1.921875 1.609375 1.40625 1.609375 1.390625 C 1.609375 1.140625 1.4375 1 1.203125 1 C 0.96875 1 0.609375 1.203125 0.609375 1.65625 C 0.609375 2.171875 1.140625 2.4375 1.609375 2.4375 C 2.828125 2.4375 3.328125 0.25 3.453125 -0.34375 C 3.671875 -1.265625 4.25 -4.453125 4.3125 -4.8125 Z M 5.328125 -4.8125 \"/>\n",
       "</symbol>\n",
       "<symbol overflow=\"visible\" id=\"glyph-1544992871540602-0-2\">\n",
       "<path style=\"stroke:none;\" d=\"M 2.03125 -1.328125 C 1.609375 -0.625 1.203125 -0.375 0.640625 -0.34375 C 0.5 -0.328125 0.40625 -0.328125 0.40625 -0.125 C 0.40625 -0.046875 0.46875 0 0.546875 0 C 0.765625 0 1.296875 -0.03125 1.515625 -0.03125 C 1.859375 -0.03125 2.25 0 2.578125 0 C 2.65625 0 2.796875 0 2.796875 -0.234375 C 2.796875 -0.328125 2.703125 -0.34375 2.625 -0.34375 C 2.359375 -0.375 2.125 -0.46875 2.125 -0.75 C 2.125 -0.921875 2.203125 -1.046875 2.359375 -1.3125 L 3.265625 -2.828125 L 6.3125 -2.828125 C 6.328125 -2.71875 6.328125 -2.625 6.328125 -2.515625 C 6.375 -2.203125 6.515625 -0.953125 6.515625 -0.734375 C 6.515625 -0.375 5.90625 -0.34375 5.71875 -0.34375 C 5.578125 -0.34375 5.453125 -0.34375 5.453125 -0.125 C 5.453125 0 5.5625 0 5.625 0 C 5.828125 0 6.078125 -0.03125 6.28125 -0.03125 L 6.953125 -0.03125 C 7.6875 -0.03125 8.21875 0 8.21875 0 C 8.3125 0 8.4375 0 8.4375 -0.234375 C 8.4375 -0.34375 8.328125 -0.34375 8.15625 -0.34375 C 7.5 -0.34375 7.484375 -0.453125 7.453125 -0.8125 L 6.71875 -8.265625 C 6.6875 -8.515625 6.640625 -8.53125 6.515625 -8.53125 C 6.390625 -8.53125 6.328125 -8.515625 6.21875 -8.328125 Z M 3.46875 -3.171875 L 5.875 -7.1875 L 6.28125 -3.171875 Z M 3.46875 -3.171875 \"/>\n",
       "</symbol>\n",
       "<symbol overflow=\"visible\" id=\"glyph-1544992871540602-0-3\">\n",
       "<path style=\"stroke:none;\" d=\"M 4.375 -7.34375 C 4.484375 -7.796875 4.53125 -7.8125 5 -7.8125 L 6.546875 -7.8125 C 7.90625 -7.8125 7.90625 -6.671875 7.90625 -6.5625 C 7.90625 -5.59375 6.9375 -4.359375 5.359375 -4.359375 L 3.640625 -4.359375 Z M 6.390625 -4.265625 C 7.703125 -4.5 8.875 -5.421875 8.875 -6.515625 C 8.875 -7.453125 8.0625 -8.15625 6.703125 -8.15625 L 2.875 -8.15625 C 2.640625 -8.15625 2.53125 -8.15625 2.53125 -7.9375 C 2.53125 -7.8125 2.640625 -7.8125 2.828125 -7.8125 C 3.546875 -7.8125 3.546875 -7.71875 3.546875 -7.59375 C 3.546875 -7.5625 3.546875 -7.5 3.5 -7.3125 L 1.890625 -0.890625 C 1.78125 -0.46875 1.75 -0.34375 0.921875 -0.34375 C 0.6875 -0.34375 0.578125 -0.34375 0.578125 -0.125 C 0.578125 0 0.640625 0 0.890625 0 L 4.984375 0 C 6.8125 0 8.21875 -1.390625 8.21875 -2.59375 C 8.21875 -3.578125 7.359375 -4.171875 6.390625 -4.265625 Z M 4.703125 -0.34375 L 3.078125 -0.34375 C 2.921875 -0.34375 2.890625 -0.34375 2.828125 -0.359375 C 2.6875 -0.375 2.671875 -0.390625 2.671875 -0.484375 C 2.671875 -0.578125 2.703125 -0.640625 2.71875 -0.75 L 3.5625 -4.125 L 5.8125 -4.125 C 7.21875 -4.125 7.21875 -2.8125 7.21875 -2.71875 C 7.21875 -1.5625 6.1875 -0.34375 4.703125 -0.34375 Z M 4.703125 -0.34375 \"/>\n",
       "</symbol>\n",
       "</g>\n",
       "<clipPath id=\"clip-1544992871540602-1\">\n",
       "  <path d=\"M 19 0 L 46 0 L 46 24.308594 L 19 24.308594 Z M 19 0 \"/>\n",
       "</clipPath>\n",
       "<clipPath id=\"clip-1544992871540602-2\">\n",
       "  <path d=\"M 34 6 L 65.617188 6 L 65.617188 18 L 34 18 Z M 34 6 \"/>\n",
       "</clipPath>\n",
       "</defs>\n",
       "<g id=\"surface1\">\n",
       "<g clip-path=\"url(#clip-1544992871540602-1)\" clip-rule=\"nonzero\">\n",
       "<path style=\"fill:none;stroke-width:0.3985;stroke-linecap:butt;stroke-linejoin:miter;stroke:rgb(0%,0%,0%);stroke-opacity:1;stroke-miterlimit:10;\" d=\"M 35.830125 11.955781 L 28.791062 11.955781 C 26.591844 11.955781 24.806687 10.170625 24.806687 7.971406 L 24.806687 -7.97 C 24.806687 -10.169219 26.591844 -11.954375 28.791062 -11.954375 L 35.830125 -11.954375 C 38.03325 -11.954375 39.8145 -10.169219 39.8145 -7.97 L 39.8145 7.971406 C 39.8145 10.170625 38.03325 11.955781 35.830125 11.955781 Z M 35.830125 11.955781 \" transform=\"matrix(1,0,0,-1,0.498,12.155)\"/>\n",
       "</g>\n",
       "<g style=\"fill:rgb(0%,0%,0%);fill-opacity:1;\">\n",
       "  <use xlink:href=\"#glyph-1544992871540602-0-1\" x=\"29.286\" y=\"15.143\"/>\n",
       "</g>\n",
       "<path style=\"fill:none;stroke-width:0.3985;stroke-linecap:butt;stroke-linejoin:miter;stroke:rgb(0%,0%,0%);stroke-opacity:1;stroke-miterlimit:10;\" d=\"M -0.00190625 -0.00125 C 9.59575 -0.00125 15.009813 -0.00125 24.607469 -0.00125 \" transform=\"matrix(1,0,0,-1,0.498,12.155)\"/>\n",
       "<path style=\"fill-rule:nonzero;fill:rgb(0%,0%,0%);fill-opacity:1;stroke-width:0.3985;stroke-linecap:butt;stroke-linejoin:miter;stroke:rgb(0%,0%,0%);stroke-opacity:1;stroke-miterlimit:10;\" d=\"M 4.214865 -0.00125 L 0.644553 1.346406 L 1.816428 -0.00125 L 0.644553 -1.345 Z M 4.214865 -0.00125 \" transform=\"matrix(1,0,0,-1,8.01951,12.155)\"/>\n",
       "<g style=\"fill:rgb(0%,0%,0%);fill-opacity:1;\">\n",
       "  <use xlink:href=\"#glyph-1544992871540602-0-2\" x=\"8.414\" y=\"8.967\"/>\n",
       "</g>\n",
       "<g clip-path=\"url(#clip-1544992871540602-2)\" clip-rule=\"nonzero\">\n",
       "<path style=\"fill:none;stroke-width:0.3985;stroke-linecap:butt;stroke-linejoin:miter;stroke:rgb(0%,0%,0%);stroke-opacity:1;stroke-miterlimit:10;\" d=\"M 40.013719 -0.00125 C 49.611375 -0.00125 55.025438 -0.00125 64.623094 -0.00125 \" transform=\"matrix(1,0,0,-1,0.498,12.155)\"/>\n",
       "</g>\n",
       "<path style=\"fill-rule:nonzero;fill:rgb(0%,0%,0%);fill-opacity:1;stroke-width:0.3985;stroke-linecap:butt;stroke-linejoin:miter;stroke:rgb(0%,0%,0%);stroke-opacity:1;stroke-miterlimit:10;\" d=\"M 4.21536 -0.00125 L 0.645048 1.346406 L 1.816923 -0.00125 L 0.645048 -1.345 Z M 4.21536 -0.00125 \" transform=\"matrix(1,0,0,-1,48.03464,12.155)\"/>\n",
       "<g style=\"fill:rgb(0%,0%,0%);fill-opacity:1;\">\n",
       "  <use xlink:href=\"#glyph-1544992871540602-0-3\" x=\"48.068\" y=\"8.967\"/>\n",
       "</g>\n",
       "</g>\n",
       "</svg>\n",
       "\n"
      ],
      "text/plain": [
       "Catlab.Graphics.TikZ.Picture(Catlab.Graphics.TikZ.Statement[Node(\"n\", Catlab.Graphics.TikZ.Property[Property(\"container\", Nullable{AbstractString}())], Nullable{Coordinate}(), Picture(Catlab.Graphics.TikZ.Statement[Node(\"n1\", Catlab.Graphics.TikZ.Property[Property(\"minimum height\", Nullable{AbstractString}(\"2.0em\"))], Nullable{Coordinate}(), \"\"), Node(\"n2\", Catlab.Graphics.TikZ.Property[Property(\"draw\", Nullable{AbstractString}()), Property(\"solid\", Nullable{AbstractString}()), Property(\"inner sep\", Nullable{AbstractString}(\"0.333em\")), Property(\"rectangle\", Nullable{AbstractString}()), Property(\"rounded corners\", Nullable{AbstractString}()), Property(\"minimum height\", Nullable{AbstractString}(\"2.0em\")), Property(\"right=2em of n1)\", Nullable{AbstractString}())], Nullable{Coordinate}(), \"f\"), Edge(\"n1.center\", \"n2.west\", PathOperation(\"to\", Catlab.Graphics.TikZ.Property[Property(\"out\", Nullable{AbstractString}(\"0\")), Property(\"in\", Nullable{AbstractString}(\"180\"))]), Catlab.Graphics.TikZ.Property[Property(\"postaction\", Nullable{AbstractString}(\"{decorate}\"))], Nullable{EdgeNode}(EdgeNode(Catlab.Graphics.TikZ.Property[Property(\"above\", Nullable{AbstractString}(\"0.25em\")), Property(\"midway\", Nullable{AbstractString}())], Nullable{AbstractString}(\"A\")))), Node(\"n3\", Catlab.Graphics.TikZ.Property[Property(\"minimum height\", Nullable{AbstractString}(\"2.0em\")), Property(\"right=2em of n2)\", Nullable{AbstractString}())], Nullable{Coordinate}(), \"\"), Edge(\"n2.east\", \"n3.center\", PathOperation(\"to\", Catlab.Graphics.TikZ.Property[Property(\"out\", Nullable{AbstractString}(\"0\")), Property(\"in\", Nullable{AbstractString}(\"180\"))]), Catlab.Graphics.TikZ.Property[Property(\"postaction\", Nullable{AbstractString}(\"{decorate}\"))], Nullable{EdgeNode}(EdgeNode(Catlab.Graphics.TikZ.Property[Property(\"above\", Nullable{AbstractString}(\"0.25em\")), Property(\"midway\", Nullable{AbstractString}())], Nullable{AbstractString}(\"B\"))))], Catlab.Graphics.TikZ.Property[]))], Catlab.Graphics.TikZ.Property[Property(\"remember picture\", Nullable{AbstractString}()), Property(\"font\", Nullable{AbstractString}(\"{\\\\fontsize{12}{14.4}}\")), Property(\"container/.style\", Nullable{AbstractString}(\"{inner sep=0}\")), Property(\"every path/.style\", Nullable{AbstractString}(\"{solid, line width=0.4pt}\")), Property(\"decoration\", Nullable{AbstractString}(\"{markings, mark=at position 0.5 with {\\\\arrow{Stealth}}}\")), Property(\"execute at begin node\", Nullable{AbstractString}(\"\\$\")), Property(\"execute at end node\", Nullable{AbstractString}(\"\\$\"))])"
      ]
     },
     "execution_count": 4,
     "metadata": {},
     "output_type": "execute_result"
    }
   ],
   "source": [
    "to_tikz(f; arrowtip=\"Stealth\", labels=true)"
   ]
  },
  {
   "cell_type": "code",
   "execution_count": 5,
   "metadata": {},
   "outputs": [
    {
     "data": {
      "image/svg+xml": [
       "<?xml version=\"1.0\" encoding=\"UTF-8\"?>\n",
       "<svg xmlns=\"http://www.w3.org/2000/svg\" xmlns:xlink=\"http://www.w3.org/1999/xlink\" width=\"103.924pt\" height=\"24.309pt\" viewBox=\"0 0 103.924 24.309\" version=\"1.1\">\n",
       "<defs>\n",
       "<g>\n",
       "<symbol overflow=\"visible\" id=\"glyph-1544992871540603-0-0\">\n",
       "<path style=\"stroke:none;\" d=\"\"/>\n",
       "</symbol>\n",
       "<symbol overflow=\"visible\" id=\"glyph-1544992871540603-0-1\">\n",
       "<path style=\"stroke:none;\" d=\"M 5.328125 -4.8125 C 5.5625 -4.8125 5.671875 -4.8125 5.671875 -5.03125 C 5.671875 -5.15625 5.5625 -5.15625 5.359375 -5.15625 L 4.390625 -5.15625 C 4.609375 -6.390625 4.78125 -7.234375 4.875 -7.609375 C 4.953125 -7.90625 5.203125 -8.171875 5.515625 -8.171875 C 5.765625 -8.171875 6.015625 -8.0625 6.125 -7.953125 C 5.671875 -7.90625 5.515625 -7.5625 5.515625 -7.359375 C 5.515625 -7.125 5.703125 -6.984375 5.921875 -6.984375 C 6.171875 -6.984375 6.53125 -7.1875 6.53125 -7.640625 C 6.53125 -8.140625 6.03125 -8.421875 5.5 -8.421875 C 4.984375 -8.421875 4.484375 -8.03125 4.25 -7.5625 C 4.03125 -7.140625 3.90625 -6.71875 3.640625 -5.15625 L 2.828125 -5.15625 C 2.609375 -5.15625 2.484375 -5.15625 2.484375 -4.9375 C 2.484375 -4.8125 2.5625 -4.8125 2.796875 -4.8125 L 3.5625 -4.8125 C 3.34375 -3.6875 2.859375 -0.984375 2.578125 0.28125 C 2.375 1.328125 2.203125 2.203125 1.609375 2.203125 C 1.5625 2.203125 1.21875 2.203125 1 1.96875 C 1.609375 1.921875 1.609375 1.40625 1.609375 1.390625 C 1.609375 1.140625 1.4375 1 1.203125 1 C 0.96875 1 0.609375 1.203125 0.609375 1.65625 C 0.609375 2.171875 1.140625 2.4375 1.609375 2.4375 C 2.828125 2.4375 3.328125 0.25 3.453125 -0.34375 C 3.671875 -1.265625 4.25 -4.453125 4.3125 -4.8125 Z M 5.328125 -4.8125 \"/>\n",
       "</symbol>\n",
       "<symbol overflow=\"visible\" id=\"glyph-1544992871540603-0-2\">\n",
       "<path style=\"stroke:none;\" d=\"M 2.03125 -1.328125 C 1.609375 -0.625 1.203125 -0.375 0.640625 -0.34375 C 0.5 -0.328125 0.40625 -0.328125 0.40625 -0.125 C 0.40625 -0.046875 0.46875 0 0.546875 0 C 0.765625 0 1.296875 -0.03125 1.515625 -0.03125 C 1.859375 -0.03125 2.25 0 2.578125 0 C 2.65625 0 2.796875 0 2.796875 -0.234375 C 2.796875 -0.328125 2.703125 -0.34375 2.625 -0.34375 C 2.359375 -0.375 2.125 -0.46875 2.125 -0.75 C 2.125 -0.921875 2.203125 -1.046875 2.359375 -1.3125 L 3.265625 -2.828125 L 6.3125 -2.828125 C 6.328125 -2.71875 6.328125 -2.625 6.328125 -2.515625 C 6.375 -2.203125 6.515625 -0.953125 6.515625 -0.734375 C 6.515625 -0.375 5.90625 -0.34375 5.71875 -0.34375 C 5.578125 -0.34375 5.453125 -0.34375 5.453125 -0.125 C 5.453125 0 5.5625 0 5.625 0 C 5.828125 0 6.078125 -0.03125 6.28125 -0.03125 L 6.953125 -0.03125 C 7.6875 -0.03125 8.21875 0 8.21875 0 C 8.3125 0 8.4375 0 8.4375 -0.234375 C 8.4375 -0.34375 8.328125 -0.34375 8.15625 -0.34375 C 7.5 -0.34375 7.484375 -0.453125 7.453125 -0.8125 L 6.71875 -8.265625 C 6.6875 -8.515625 6.640625 -8.53125 6.515625 -8.53125 C 6.390625 -8.53125 6.328125 -8.515625 6.21875 -8.328125 Z M 3.46875 -3.171875 L 5.875 -7.1875 L 6.28125 -3.171875 Z M 3.46875 -3.171875 \"/>\n",
       "</symbol>\n",
       "<symbol overflow=\"visible\" id=\"glyph-1544992871540603-0-3\">\n",
       "<path style=\"stroke:none;\" d=\"M 4.046875 -1.515625 C 4 -1.328125 3.96875 -1.28125 3.8125 -1.09375 C 3.328125 -0.46875 2.828125 -0.234375 2.453125 -0.234375 C 2.0625 -0.234375 1.6875 -0.546875 1.6875 -1.375 C 1.6875 -2.015625 2.046875 -3.34375 2.3125 -3.890625 C 2.65625 -4.546875 3.1875 -5.03125 3.6875 -5.03125 C 4.484375 -5.03125 4.640625 -4.046875 4.640625 -3.984375 L 4.609375 -3.8125 Z M 4.78125 -4.484375 C 4.625 -4.828125 4.296875 -5.265625 3.6875 -5.265625 C 2.390625 -5.265625 0.90625 -3.640625 0.90625 -1.859375 C 0.90625 -0.609375 1.65625 0 2.421875 0 C 3.0625 0 3.625 -0.5 3.84375 -0.734375 L 3.578125 0.328125 C 3.40625 0.984375 3.328125 1.296875 2.90625 1.703125 C 2.421875 2.203125 1.953125 2.203125 1.703125 2.203125 C 1.34375 2.203125 1.046875 2.171875 0.734375 2.078125 C 1.125 1.96875 1.21875 1.640625 1.21875 1.5 C 1.21875 1.3125 1.078125 1.125 0.8125 1.125 C 0.53125 1.125 0.21875 1.359375 0.21875 1.75 C 0.21875 2.25 0.703125 2.4375 1.71875 2.4375 C 3.265625 2.4375 4.0625 1.453125 4.21875 0.796875 L 5.546875 -4.546875 C 5.578125 -4.703125 5.578125 -4.71875 5.578125 -4.75 C 5.578125 -4.90625 5.453125 -5.046875 5.265625 -5.046875 C 4.984375 -5.046875 4.8125 -4.8125 4.78125 -4.484375 Z M 4.78125 -4.484375 \"/>\n",
       "</symbol>\n",
       "<symbol overflow=\"visible\" id=\"glyph-1544992871540603-0-4\">\n",
       "<path style=\"stroke:none;\" d=\"M 4.375 -7.34375 C 4.484375 -7.796875 4.53125 -7.8125 5 -7.8125 L 6.546875 -7.8125 C 7.90625 -7.8125 7.90625 -6.671875 7.90625 -6.5625 C 7.90625 -5.59375 6.9375 -4.359375 5.359375 -4.359375 L 3.640625 -4.359375 Z M 6.390625 -4.265625 C 7.703125 -4.5 8.875 -5.421875 8.875 -6.515625 C 8.875 -7.453125 8.0625 -8.15625 6.703125 -8.15625 L 2.875 -8.15625 C 2.640625 -8.15625 2.53125 -8.15625 2.53125 -7.9375 C 2.53125 -7.8125 2.640625 -7.8125 2.828125 -7.8125 C 3.546875 -7.8125 3.546875 -7.71875 3.546875 -7.59375 C 3.546875 -7.5625 3.546875 -7.5 3.5 -7.3125 L 1.890625 -0.890625 C 1.78125 -0.46875 1.75 -0.34375 0.921875 -0.34375 C 0.6875 -0.34375 0.578125 -0.34375 0.578125 -0.125 C 0.578125 0 0.640625 0 0.890625 0 L 4.984375 0 C 6.8125 0 8.21875 -1.390625 8.21875 -2.59375 C 8.21875 -3.578125 7.359375 -4.171875 6.390625 -4.265625 Z M 4.703125 -0.34375 L 3.078125 -0.34375 C 2.921875 -0.34375 2.890625 -0.34375 2.828125 -0.359375 C 2.6875 -0.375 2.671875 -0.390625 2.671875 -0.484375 C 2.671875 -0.578125 2.703125 -0.640625 2.71875 -0.75 L 3.5625 -4.125 L 5.8125 -4.125 C 7.21875 -4.125 7.21875 -2.8125 7.21875 -2.71875 C 7.21875 -1.5625 6.1875 -0.34375 4.703125 -0.34375 Z M 4.703125 -0.34375 \"/>\n",
       "</symbol>\n",
       "</g>\n",
       "<clipPath id=\"clip-1544992871540603-1\">\n",
       "  <path d=\"M 19 0 L 46 0 L 46 24.308594 L 19 24.308594 Z M 19 0 \"/>\n",
       "</clipPath>\n",
       "<clipPath id=\"clip-1544992871540603-2\">\n",
       "  <path d=\"M 58 0 L 85 0 L 85 24.308594 L 58 24.308594 Z M 58 0 \"/>\n",
       "</clipPath>\n",
       "<clipPath id=\"clip-1544992871540603-3\">\n",
       "  <path d=\"M 73 6 L 103.925781 6 L 103.925781 18 L 73 18 Z M 73 6 \"/>\n",
       "</clipPath>\n",
       "</defs>\n",
       "<g id=\"surface1\">\n",
       "<g clip-path=\"url(#clip-1544992871540603-1)\" clip-rule=\"nonzero\">\n",
       "<path style=\"fill:none;stroke-width:0.3985;stroke-linecap:butt;stroke-linejoin:miter;stroke:rgb(0%,0%,0%);stroke-opacity:1;stroke-miterlimit:10;\" d=\"M 35.830125 11.955781 L 28.791062 11.955781 C 26.591844 11.955781 24.806687 10.170625 24.806687 7.971406 L 24.806687 -7.97 C 24.806687 -10.169219 26.591844 -11.954375 28.791062 -11.954375 L 35.830125 -11.954375 C 38.03325 -11.954375 39.8145 -10.169219 39.8145 -7.97 L 39.8145 7.971406 C 39.8145 10.170625 38.03325 11.955781 35.830125 11.955781 Z M 35.830125 11.955781 \" transform=\"matrix(1,0,0,-1,0.498,12.155)\"/>\n",
       "</g>\n",
       "<g style=\"fill:rgb(0%,0%,0%);fill-opacity:1;\">\n",
       "  <use xlink:href=\"#glyph-1544992871540603-0-1\" x=\"29.286\" y=\"15.143\"/>\n",
       "</g>\n",
       "<path style=\"fill:none;stroke-width:0.3985;stroke-linecap:butt;stroke-linejoin:miter;stroke:rgb(0%,0%,0%);stroke-opacity:1;stroke-miterlimit:10;\" d=\"M -0.00190625 -0.00125 C 9.59575 -0.00125 15.009813 -0.00125 24.607469 -0.00125 \" transform=\"matrix(1,0,0,-1,0.498,12.155)\"/>\n",
       "<path style=\"fill-rule:nonzero;fill:rgb(0%,0%,0%);fill-opacity:1;stroke-width:0.3985;stroke-linecap:butt;stroke-linejoin:miter;stroke:rgb(0%,0%,0%);stroke-opacity:1;stroke-miterlimit:10;\" d=\"M 4.214865 -0.00125 L 0.644553 1.346406 L 1.816428 -0.00125 L 0.644553 -1.345 Z M 4.214865 -0.00125 \" transform=\"matrix(1,0,0,-1,8.01951,12.155)\"/>\n",
       "<g style=\"fill:rgb(0%,0%,0%);fill-opacity:1;\">\n",
       "  <use xlink:href=\"#glyph-1544992871540603-0-2\" x=\"8.414\" y=\"8.967\"/>\n",
       "</g>\n",
       "<g clip-path=\"url(#clip-1544992871540603-2)\" clip-rule=\"nonzero\">\n",
       "<path style=\"fill:none;stroke-width:0.3985;stroke-linecap:butt;stroke-linejoin:miter;stroke:rgb(0%,0%,0%);stroke-opacity:1;stroke-miterlimit:10;\" d=\"M 74.134812 11.955781 L 68.111375 11.955781 C 65.90825 11.955781 64.123094 10.170625 64.123094 7.971406 L 64.123094 -7.97 C 64.123094 -10.169219 65.90825 -11.954375 68.111375 -11.954375 L 74.134812 -11.954375 C 76.337937 -11.954375 78.123094 -10.169219 78.123094 -7.97 L 78.123094 7.971406 C 78.123094 10.170625 76.337937 11.955781 74.134812 11.955781 Z M 74.134812 11.955781 \" transform=\"matrix(1,0,0,-1,0.498,12.155)\"/>\n",
       "</g>\n",
       "<g style=\"fill:rgb(0%,0%,0%);fill-opacity:1;\">\n",
       "  <use xlink:href=\"#glyph-1544992871540603-0-3\" x=\"68.603\" y=\"13.566\"/>\n",
       "</g>\n",
       "<path style=\"fill:none;stroke-width:0.3985;stroke-linecap:butt;stroke-linejoin:miter;stroke:rgb(0%,0%,0%);stroke-opacity:1;stroke-miterlimit:10;\" d=\"M 40.013719 -0.00125 C 49.337938 -0.00125 54.599656 -0.00125 63.923875 -0.00125 \" transform=\"matrix(1,0,0,-1,0.498,12.155)\"/>\n",
       "<path style=\"fill-rule:nonzero;fill:rgb(0%,0%,0%);fill-opacity:1;stroke-width:0.3985;stroke-linecap:butt;stroke-linejoin:miter;stroke:rgb(0%,0%,0%);stroke-opacity:1;stroke-miterlimit:10;\" d=\"M 4.216384 -0.00125 L 0.642165 1.346406 L 1.817946 -0.00125 L 0.642165 -1.345 Z M 4.216384 -0.00125 \" transform=\"matrix(1,0,0,-1,47.68596,12.155)\"/>\n",
       "<g style=\"fill:rgb(0%,0%,0%);fill-opacity:1;\">\n",
       "  <use xlink:href=\"#glyph-1544992871540603-0-4\" x=\"47.72\" y=\"8.967\"/>\n",
       "</g>\n",
       "<g clip-path=\"url(#clip-1544992871540603-3)\" clip-rule=\"nonzero\">\n",
       "<path style=\"fill:none;stroke-width:0.3985;stroke-linecap:butt;stroke-linejoin:miter;stroke:rgb(0%,0%,0%);stroke-opacity:1;stroke-miterlimit:10;\" d=\"M 78.322312 -0.00125 C 87.916062 -0.00125 93.334031 -0.00125 102.927781 -0.00125 \" transform=\"matrix(1,0,0,-1,0.498,12.155)\"/>\n",
       "</g>\n",
       "<path style=\"fill-rule:nonzero;fill:rgb(0%,0%,0%);fill-opacity:1;stroke-width:0.3985;stroke-linecap:butt;stroke-linejoin:miter;stroke:rgb(0%,0%,0%);stroke-opacity:1;stroke-miterlimit:10;\" d=\"M 4.214487 -0.00125 L 0.644175 1.346406 L 1.81605 -0.00125 L 0.644175 -1.345 Z M 4.214487 -0.00125 \" transform=\"matrix(1,0,0,-1,86.3402,12.155)\"/>\n",
       "<g style=\"fill:rgb(0%,0%,0%);fill-opacity:1;\">\n",
       "  <use xlink:href=\"#glyph-1544992871540603-0-2\" x=\"86.734\" y=\"8.967\"/>\n",
       "</g>\n",
       "</g>\n",
       "</svg>\n",
       "\n"
      ],
      "text/plain": [
       "Catlab.Graphics.TikZ.Picture(Catlab.Graphics.TikZ.Statement[Node(\"n\", Catlab.Graphics.TikZ.Property[Property(\"container\", Nullable{AbstractString}())], Nullable{Coordinate}(), Picture(Catlab.Graphics.TikZ.Statement[Node(\"n1\", Catlab.Graphics.TikZ.Property[Property(\"minimum height\", Nullable{AbstractString}(\"2.0em\"))], Nullable{Coordinate}(), \"\"), Node(\"n2\", Catlab.Graphics.TikZ.Property[Property(\"draw\", Nullable{AbstractString}()), Property(\"solid\", Nullable{AbstractString}()), Property(\"inner sep\", Nullable{AbstractString}(\"0.333em\")), Property(\"rectangle\", Nullable{AbstractString}()), Property(\"rounded corners\", Nullable{AbstractString}()), Property(\"minimum height\", Nullable{AbstractString}(\"2.0em\")), Property(\"right=2em of n1)\", Nullable{AbstractString}())], Nullable{Coordinate}(), \"f\"), Edge(\"n1.center\", \"n2.west\", PathOperation(\"to\", Catlab.Graphics.TikZ.Property[Property(\"out\", Nullable{AbstractString}(\"0\")), Property(\"in\", Nullable{AbstractString}(\"180\"))]), Catlab.Graphics.TikZ.Property[Property(\"postaction\", Nullable{AbstractString}(\"{decorate}\"))], Nullable{EdgeNode}(EdgeNode(Catlab.Graphics.TikZ.Property[Property(\"above\", Nullable{AbstractString}(\"0.25em\")), Property(\"midway\", Nullable{AbstractString}())], Nullable{AbstractString}(\"A\")))), Node(\"n3\", Catlab.Graphics.TikZ.Property[Property(\"draw\", Nullable{AbstractString}()), Property(\"solid\", Nullable{AbstractString}()), Property(\"inner sep\", Nullable{AbstractString}(\"0.333em\")), Property(\"rectangle\", Nullable{AbstractString}()), Property(\"rounded corners\", Nullable{AbstractString}()), Property(\"minimum height\", Nullable{AbstractString}(\"2.0em\")), Property(\"right=2em of n2)\", Nullable{AbstractString}())], Nullable{Coordinate}(), \"g\"), Edge(\"n2.east\", \"n3.west\", PathOperation(\"to\", Catlab.Graphics.TikZ.Property[Property(\"out\", Nullable{AbstractString}(\"0\")), Property(\"in\", Nullable{AbstractString}(\"180\"))]), Catlab.Graphics.TikZ.Property[Property(\"postaction\", Nullable{AbstractString}(\"{decorate}\"))], Nullable{EdgeNode}(EdgeNode(Catlab.Graphics.TikZ.Property[Property(\"above\", Nullable{AbstractString}(\"0.25em\")), Property(\"midway\", Nullable{AbstractString}())], Nullable{AbstractString}(\"B\")))), Node(\"n4\", Catlab.Graphics.TikZ.Property[Property(\"minimum height\", Nullable{AbstractString}(\"2.0em\")), Property(\"right=2em of n3)\", Nullable{AbstractString}())], Nullable{Coordinate}(), \"\"), Edge(\"n3.east\", \"n4.center\", PathOperation(\"to\", Catlab.Graphics.TikZ.Property[Property(\"out\", Nullable{AbstractString}(\"0\")), Property(\"in\", Nullable{AbstractString}(\"180\"))]), Catlab.Graphics.TikZ.Property[Property(\"postaction\", Nullable{AbstractString}(\"{decorate}\"))], Nullable{EdgeNode}(EdgeNode(Catlab.Graphics.TikZ.Property[Property(\"above\", Nullable{AbstractString}(\"0.25em\")), Property(\"midway\", Nullable{AbstractString}())], Nullable{AbstractString}(\"A\"))))], Catlab.Graphics.TikZ.Property[]))], Catlab.Graphics.TikZ.Property[Property(\"remember picture\", Nullable{AbstractString}()), Property(\"font\", Nullable{AbstractString}(\"{\\\\fontsize{12}{14.4}}\")), Property(\"container/.style\", Nullable{AbstractString}(\"{inner sep=0}\")), Property(\"every path/.style\", Nullable{AbstractString}(\"{solid, line width=0.4pt}\")), Property(\"decoration\", Nullable{AbstractString}(\"{markings, mark=at position 0.5 with {\\\\arrow{Stealth}}}\")), Property(\"execute at begin node\", Nullable{AbstractString}(\"\\$\")), Property(\"execute at end node\", Nullable{AbstractString}(\"\\$\"))])"
      ]
     },
     "execution_count": 5,
     "metadata": {},
     "output_type": "execute_result"
    }
   ],
   "source": [
    "to_tikz(compose(f,g); arrowtip=\"Stealth\", labels=true)"
   ]
  },
  {
   "cell_type": "code",
   "execution_count": 6,
   "metadata": {},
   "outputs": [
    {
     "data": {
      "text/latex": [
       "$\\left(g \\otimes f\\right) \\cdot h \\cdot \\left(f \\otimes g\\right) : B \\otimes A \\to B \\otimes A$"
      ],
      "text/plain": [
       "compose(otimes(g,f),h,otimes(f,g))"
      ]
     },
     "execution_count": 6,
     "metadata": {},
     "output_type": "execute_result"
    }
   ],
   "source": [
    "comp1 = compose(otimes(g,f), h, otimes(f,g))"
   ]
  },
  {
   "cell_type": "code",
   "execution_count": 7,
   "metadata": {},
   "outputs": [
    {
     "data": {
      "image/svg+xml": [
       "<?xml version=\"1.0\" encoding=\"UTF-8\"?>\n",
       "<svg xmlns=\"http://www.w3.org/2000/svg\" xmlns:xlink=\"http://www.w3.org/1999/xlink\" width=\"144.742pt\" height=\"54.595pt\" viewBox=\"0 0 144.742 54.595\" version=\"1.1\">\n",
       "<defs>\n",
       "<g>\n",
       "<symbol overflow=\"visible\" id=\"glyph-1544992871540604-0-0\">\n",
       "<path style=\"stroke:none;\" d=\"\"/>\n",
       "</symbol>\n",
       "<symbol overflow=\"visible\" id=\"glyph-1544992871540604-0-1\">\n",
       "<path style=\"stroke:none;\" d=\"M 4.046875 -1.515625 C 4 -1.328125 3.96875 -1.28125 3.8125 -1.09375 C 3.328125 -0.46875 2.828125 -0.234375 2.453125 -0.234375 C 2.0625 -0.234375 1.6875 -0.546875 1.6875 -1.375 C 1.6875 -2.015625 2.046875 -3.34375 2.3125 -3.890625 C 2.65625 -4.546875 3.1875 -5.03125 3.6875 -5.03125 C 4.484375 -5.03125 4.640625 -4.046875 4.640625 -3.984375 L 4.609375 -3.8125 Z M 4.78125 -4.484375 C 4.625 -4.828125 4.296875 -5.265625 3.6875 -5.265625 C 2.390625 -5.265625 0.90625 -3.640625 0.90625 -1.859375 C 0.90625 -0.609375 1.65625 0 2.421875 0 C 3.0625 0 3.625 -0.5 3.84375 -0.734375 L 3.578125 0.328125 C 3.40625 0.984375 3.328125 1.296875 2.90625 1.703125 C 2.421875 2.203125 1.953125 2.203125 1.703125 2.203125 C 1.34375 2.203125 1.046875 2.171875 0.734375 2.078125 C 1.125 1.96875 1.21875 1.640625 1.21875 1.5 C 1.21875 1.3125 1.078125 1.125 0.8125 1.125 C 0.53125 1.125 0.21875 1.359375 0.21875 1.75 C 0.21875 2.25 0.703125 2.4375 1.71875 2.4375 C 3.265625 2.4375 4.0625 1.453125 4.21875 0.796875 L 5.546875 -4.546875 C 5.578125 -4.703125 5.578125 -4.71875 5.578125 -4.75 C 5.578125 -4.90625 5.453125 -5.046875 5.265625 -5.046875 C 4.984375 -5.046875 4.8125 -4.8125 4.78125 -4.484375 Z M 4.78125 -4.484375 \"/>\n",
       "</symbol>\n",
       "<symbol overflow=\"visible\" id=\"glyph-1544992871540604-0-2\">\n",
       "<path style=\"stroke:none;\" d=\"M 5.328125 -4.8125 C 5.5625 -4.8125 5.671875 -4.8125 5.671875 -5.03125 C 5.671875 -5.15625 5.5625 -5.15625 5.359375 -5.15625 L 4.390625 -5.15625 C 4.609375 -6.390625 4.78125 -7.234375 4.875 -7.609375 C 4.953125 -7.90625 5.203125 -8.171875 5.515625 -8.171875 C 5.765625 -8.171875 6.015625 -8.0625 6.125 -7.953125 C 5.671875 -7.90625 5.515625 -7.5625 5.515625 -7.359375 C 5.515625 -7.125 5.703125 -6.984375 5.921875 -6.984375 C 6.171875 -6.984375 6.53125 -7.1875 6.53125 -7.640625 C 6.53125 -8.140625 6.03125 -8.421875 5.5 -8.421875 C 4.984375 -8.421875 4.484375 -8.03125 4.25 -7.5625 C 4.03125 -7.140625 3.90625 -6.71875 3.640625 -5.15625 L 2.828125 -5.15625 C 2.609375 -5.15625 2.484375 -5.15625 2.484375 -4.9375 C 2.484375 -4.8125 2.5625 -4.8125 2.796875 -4.8125 L 3.5625 -4.8125 C 3.34375 -3.6875 2.859375 -0.984375 2.578125 0.28125 C 2.375 1.328125 2.203125 2.203125 1.609375 2.203125 C 1.5625 2.203125 1.21875 2.203125 1 1.96875 C 1.609375 1.921875 1.609375 1.40625 1.609375 1.390625 C 1.609375 1.140625 1.4375 1 1.203125 1 C 0.96875 1 0.609375 1.203125 0.609375 1.65625 C 0.609375 2.171875 1.140625 2.4375 1.609375 2.4375 C 2.828125 2.4375 3.328125 0.25 3.453125 -0.34375 C 3.671875 -1.265625 4.25 -4.453125 4.3125 -4.8125 Z M 5.328125 -4.8125 \"/>\n",
       "</symbol>\n",
       "<symbol overflow=\"visible\" id=\"glyph-1544992871540604-0-3\">\n",
       "<path style=\"stroke:none;\" d=\"M 3.359375 -8 C 3.375 -8.046875 3.390625 -8.109375 3.390625 -8.171875 C 3.390625 -8.296875 3.28125 -8.296875 3.25 -8.296875 C 3.234375 -8.296875 2.65625 -8.25 2.59375 -8.234375 C 2.390625 -8.21875 2.21875 -8.203125 2 -8.1875 C 1.703125 -8.15625 1.609375 -8.15625 1.609375 -7.9375 C 1.609375 -7.8125 1.703125 -7.8125 1.875 -7.8125 C 2.46875 -7.8125 2.46875 -7.703125 2.46875 -7.59375 C 2.46875 -7.515625 2.453125 -7.421875 2.4375 -7.390625 L 0.703125 -0.46875 C 0.65625 -0.28125 0.65625 -0.265625 0.65625 -0.1875 C 0.65625 0.078125 0.859375 0.125 0.984375 0.125 C 1.1875 0.125 1.34375 -0.03125 1.40625 -0.171875 L 1.9375 -2.328125 C 2 -2.59375 2.0625 -2.84375 2.125 -3.109375 C 2.265625 -3.609375 2.265625 -3.625 2.484375 -3.96875 C 2.71875 -4.3125 3.25 -5.03125 4.171875 -5.03125 C 4.65625 -5.03125 4.8125 -4.671875 4.8125 -4.203125 C 4.8125 -3.53125 4.34375 -2.21875 4.09375 -1.5 C 3.984375 -1.21875 3.921875 -1.0625 3.921875 -0.84375 C 3.921875 -0.3125 4.296875 0.125 4.859375 0.125 C 5.96875 0.125 6.390625 -1.640625 6.390625 -1.703125 C 6.390625 -1.765625 6.34375 -1.8125 6.28125 -1.8125 C 6.171875 -1.8125 6.15625 -1.78125 6.09375 -1.578125 C 5.828125 -0.625 5.375 -0.125 4.90625 -0.125 C 4.78125 -0.125 4.59375 -0.125 4.59375 -0.515625 C 4.59375 -0.828125 4.734375 -1.203125 4.78125 -1.34375 C 5 -1.90625 5.53125 -3.328125 5.53125 -4.015625 C 5.53125 -4.734375 5.109375 -5.265625 4.203125 -5.265625 C 3.53125 -5.265625 2.921875 -4.953125 2.4375 -4.328125 Z M 3.359375 -8 \"/>\n",
       "</symbol>\n",
       "</g>\n",
       "<clipPath id=\"clip-1544992871540604-1\">\n",
       "  <path d=\"M 19 24 L 47 24 L 47 54.59375 L 19 54.59375 Z M 19 24 \"/>\n",
       "</clipPath>\n",
       "<clipPath id=\"clip-1544992871540604-2\">\n",
       "  <path d=\"M 59 0 L 86 0 L 86 54.59375 L 59 54.59375 Z M 59 0 \"/>\n",
       "</clipPath>\n",
       "<clipPath id=\"clip-1544992871540604-3\">\n",
       "  <path d=\"M 99 24 L 125 24 L 125 54.59375 L 99 54.59375 Z M 99 24 \"/>\n",
       "</clipPath>\n",
       "<clipPath id=\"clip-1544992871540604-4\">\n",
       "  <path d=\"M 113 6 L 144.742188 6 L 144.742188 18 L 113 18 Z M 113 6 \"/>\n",
       "</clipPath>\n",
       "<clipPath id=\"clip-1544992871540604-5\">\n",
       "  <path d=\"M 113 36 L 144.742188 36 L 144.742188 49 L 113 49 Z M 113 36 \"/>\n",
       "</clipPath>\n",
       "</defs>\n",
       "<g id=\"surface1\">\n",
       "<path style=\"fill:none;stroke-width:0.3985;stroke-linecap:butt;stroke-linejoin:miter;stroke:rgb(0%,0%,0%);stroke-opacity:1;stroke-miterlimit:10;\" d=\"M 10.212437 11.954781 L 4.185094 11.954781 C 1.981969 11.954781 0.200719 10.169625 0.200719 7.970406 L 0.200719 -7.971 C 0.200719 -10.170219 1.981969 -11.955375 4.185094 -11.955375 L 10.212437 -11.955375 C 12.411656 -11.955375 14.196812 -10.170219 14.196812 -7.971 L 14.196812 7.970406 C 14.196812 10.169625 12.411656 11.954781 10.212437 11.954781 Z M 10.212437 11.954781 \" transform=\"matrix(1,0,0,-1,25.811,12.154)\"/>\n",
       "<g style=\"fill:rgb(0%,0%,0%);fill-opacity:1;\">\n",
       "  <use xlink:href=\"#glyph-1544992871540604-0-1\" x=\"29.991\" y=\"13.566\"/>\n",
       "</g>\n",
       "<g clip-path=\"url(#clip-1544992871540604-1)\" clip-rule=\"nonzero\">\n",
       "<path style=\"fill:none;stroke-width:0.3985;stroke-linecap:butt;stroke-linejoin:miter;stroke:rgb(0%,0%,0%);stroke-opacity:1;stroke-miterlimit:10;\" d=\"M 10.716344 -18.330375 L 3.677281 -18.330375 C 1.478062 -18.330375 -0.307094 -20.115531 -0.307094 -22.31475 L -0.307094 -38.256156 C -0.307094 -40.459281 1.478062 -42.240531 3.677281 -42.240531 L 10.716344 -42.240531 C 12.919469 -42.240531 14.700719 -40.459281 14.700719 -38.256156 L 14.700719 -22.31475 C 14.700719 -20.115531 12.919469 -18.330375 10.716344 -18.330375 Z M 10.716344 -18.330375 \" transform=\"matrix(1,0,0,-1,25.811,12.154)\"/>\n",
       "</g>\n",
       "<g style=\"fill:rgb(0%,0%,0%);fill-opacity:1;\">\n",
       "  <use xlink:href=\"#glyph-1544992871540604-0-2\" x=\"29.485\" y=\"45.429\"/>\n",
       "</g>\n",
       "<path style=\"fill:none;stroke-width:0.3985;stroke-linecap:butt;stroke-linejoin:miter;stroke:rgb(0%,0%,0%);stroke-opacity:1;stroke-miterlimit:10;\" d=\"M -0.00190625 14.945438 C 9.873094 14.945438 15.443406 15.144656 25.3145 15.144656 \" transform=\"matrix(1,0,0,-1,0.498,27.297)\"/>\n",
       "<path style=\"fill:none;stroke-width:0.3985;stroke-linecap:butt;stroke-linejoin:miter;stroke:rgb(0%,0%,0%);stroke-opacity:1;stroke-miterlimit:10;\" d=\"M -0.00190625 -14.945187 C 9.673875 -14.945187 15.134813 -15.144406 24.806687 -15.144406 \" transform=\"matrix(1,0,0,-1,0.498,27.297)\"/>\n",
       "<g clip-path=\"url(#clip-1544992871540604-2)\" clip-rule=\"nonzero\">\n",
       "<path style=\"fill:none;stroke-width:0.3985;stroke-linecap:butt;stroke-linejoin:miter;stroke:rgb(0%,0%,0%);stroke-opacity:1;stroke-miterlimit:10;\" d=\"M 75.240281 26.898563 L 68.509812 26.898563 C 66.306687 26.898563 64.525437 25.113406 64.525437 22.914188 L 64.525437 -22.913937 C 64.525437 -25.117062 66.306687 -26.898312 68.509812 -26.898312 L 75.240281 -26.898312 C 77.4395 -26.898312 79.224656 -25.117062 79.224656 -22.913937 L 79.224656 22.914188 C 79.224656 25.113406 77.4395 26.898563 75.240281 26.898563 Z M 75.240281 26.898563 \" transform=\"matrix(1,0,0,-1,0.498,27.297)\"/>\n",
       "</g>\n",
       "<g style=\"fill:rgb(0%,0%,0%);fill-opacity:1;\">\n",
       "  <use xlink:href=\"#glyph-1544992871540604-0-3\" x=\"69.002\" y=\"31.448\"/>\n",
       "</g>\n",
       "<path style=\"fill:none;stroke-width:0.3985;stroke-linecap:butt;stroke-linejoin:miter;stroke:rgb(0%,0%,0%);stroke-opacity:1;stroke-miterlimit:10;\" d=\"M 39.709031 15.144656 C 49.306688 15.144656 54.724656 14.945438 64.322312 14.945438 \" transform=\"matrix(1,0,0,-1,0.498,27.297)\"/>\n",
       "<path style=\"fill:none;stroke-width:0.3985;stroke-linecap:butt;stroke-linejoin:miter;stroke:rgb(0%,0%,0%);stroke-opacity:1;stroke-miterlimit:10;\" d=\"M 40.212938 -15.144406 C 49.615281 -15.144406 54.923875 -14.945187 64.322312 -14.945187 \" transform=\"matrix(1,0,0,-1,0.498,27.297)\"/>\n",
       "<path style=\"fill:none;stroke-width:0.3985;stroke-linecap:butt;stroke-linejoin:miter;stroke:rgb(0%,0%,0%);stroke-opacity:1;stroke-miterlimit:10;\" d=\"M 11.223906 11.954781 L 4.184844 11.954781 C 1.981719 11.954781 0.200469 10.169625 0.200469 7.970406 L 0.200469 -7.971 C 0.200469 -10.170219 1.981719 -11.955375 4.184844 -11.955375 L 11.223906 -11.955375 C 13.423125 -11.955375 15.208281 -10.170219 15.208281 -7.971 L 15.208281 7.970406 C 15.208281 10.169625 13.423125 11.954781 11.223906 11.954781 Z M 11.223906 11.954781 \" transform=\"matrix(1,0,0,-1,104.03,12.154)\"/>\n",
       "<g style=\"fill:rgb(0%,0%,0%);fill-opacity:1;\">\n",
       "  <use xlink:href=\"#glyph-1544992871540604-0-2\" x=\"108.21\" y=\"15.143\"/>\n",
       "</g>\n",
       "<g clip-path=\"url(#clip-1544992871540604-3)\" clip-rule=\"nonzero\">\n",
       "<path style=\"fill:none;stroke-width:0.3985;stroke-linecap:butt;stroke-linejoin:miter;stroke:rgb(0%,0%,0%);stroke-opacity:1;stroke-miterlimit:10;\" d=\"M 10.716094 -18.330375 L 4.68875 -18.330375 C 2.489531 -18.330375 0.704375 -20.115531 0.704375 -22.31475 L 0.704375 -38.256156 C 0.704375 -40.459281 2.489531 -42.240531 4.68875 -42.240531 L 10.716094 -42.240531 C 12.919219 -42.240531 14.700469 -40.459281 14.700469 -38.256156 L 14.700469 -22.31475 C 14.700469 -20.115531 12.919219 -18.330375 10.716094 -18.330375 Z M 10.716094 -18.330375 \" transform=\"matrix(1,0,0,-1,104.03,12.154)\"/>\n",
       "</g>\n",
       "<g style=\"fill:rgb(0%,0%,0%);fill-opacity:1;\">\n",
       "  <use xlink:href=\"#glyph-1544992871540604-0-1\" x=\"108.716\" y=\"43.852\"/>\n",
       "</g>\n",
       "<path style=\"fill:none;stroke-width:0.3985;stroke-linecap:butt;stroke-linejoin:miter;stroke:rgb(0%,0%,0%);stroke-opacity:1;stroke-miterlimit:10;\" d=\"M 79.423875 14.945438 C 88.826219 14.945438 94.130906 15.144656 103.53325 15.144656 \" transform=\"matrix(1,0,0,-1,0.498,27.297)\"/>\n",
       "<path style=\"fill:none;stroke-width:0.3985;stroke-linecap:butt;stroke-linejoin:miter;stroke:rgb(0%,0%,0%);stroke-opacity:1;stroke-miterlimit:10;\" d=\"M 79.423875 -14.945187 C 89.021531 -14.945187 94.4395 -15.144406 104.041062 -15.144406 \" transform=\"matrix(1,0,0,-1,0.498,27.297)\"/>\n",
       "<g clip-path=\"url(#clip-1544992871540604-4)\" clip-rule=\"nonzero\">\n",
       "<path style=\"fill:none;stroke-width:0.3985;stroke-linecap:butt;stroke-linejoin:miter;stroke:rgb(0%,0%,0%);stroke-opacity:1;stroke-miterlimit:10;\" d=\"M 118.9395 15.144656 C 128.615281 15.144656 134.072313 14.945438 143.748094 14.945438 \" transform=\"matrix(1,0,0,-1,0.498,27.297)\"/>\n",
       "</g>\n",
       "<g clip-path=\"url(#clip-1544992871540604-5)\" clip-rule=\"nonzero\">\n",
       "<path style=\"fill:none;stroke-width:0.3985;stroke-linecap:butt;stroke-linejoin:miter;stroke:rgb(0%,0%,0%);stroke-opacity:1;stroke-miterlimit:10;\" d=\"M 118.435594 -15.144406 C 128.306688 -15.144406 133.877 -14.945187 143.748094 -14.945187 \" transform=\"matrix(1,0,0,-1,0.498,27.297)\"/>\n",
       "</g>\n",
       "</g>\n",
       "</svg>\n",
       "\n"
      ],
      "text/plain": [
       "Catlab.Graphics.TikZ.Picture(Catlab.Graphics.TikZ.Statement[Node(\"n\", Catlab.Graphics.TikZ.Property[Property(\"container\", Nullable{AbstractString}())], Nullable{Coordinate}(), Picture(Catlab.Graphics.TikZ.Statement[Node(\"n1\", Catlab.Graphics.TikZ.Property[Property(\"minimum height\", Nullable{AbstractString}(\"4.5em\"))], Nullable{Coordinate}(), \"\"), Node(\"n2\", Catlab.Graphics.TikZ.Property[Property(\"container\", Nullable{AbstractString}()), Property(\"right=2em of n1)\", Nullable{AbstractString}())], Nullable{Coordinate}(), Picture(Catlab.Graphics.TikZ.Statement[Node(\"n21\", Catlab.Graphics.TikZ.Property[Property(\"draw\", Nullable{AbstractString}()), Property(\"solid\", Nullable{AbstractString}()), Property(\"inner sep\", Nullable{AbstractString}(\"0.333em\")), Property(\"rectangle\", Nullable{AbstractString}()), Property(\"rounded corners\", Nullable{AbstractString}()), Property(\"minimum height\", Nullable{AbstractString}(\"2.0em\"))], Nullable{Coordinate}(), \"g\"), Node(\"n22\", Catlab.Graphics.TikZ.Property[Property(\"draw\", Nullable{AbstractString}()), Property(\"solid\", Nullable{AbstractString}()), Property(\"inner sep\", Nullable{AbstractString}(\"0.333em\")), Property(\"rectangle\", Nullable{AbstractString}()), Property(\"rounded corners\", Nullable{AbstractString}()), Property(\"minimum height\", Nullable{AbstractString}(\"2.0em\")), Property(\"below=0.5em of n21\", Nullable{AbstractString}())], Nullable{Coordinate}(), \"f\")], Catlab.Graphics.TikZ.Property[])), Edge(\"\\$(n1.center)+(0,1.25em)\\$\", \"n21.west\", PathOperation(\"to\", Catlab.Graphics.TikZ.Property[Property(\"out\", Nullable{AbstractString}(\"0\")), Property(\"in\", Nullable{AbstractString}(\"180\"))]), Catlab.Graphics.TikZ.Property[], Nullable{EdgeNode}()), Edge(\"\\$(n1.center)+(0,-1.25em)\\$\", \"n22.west\", PathOperation(\"to\", Catlab.Graphics.TikZ.Property[Property(\"out\", Nullable{AbstractString}(\"0\")), Property(\"in\", Nullable{AbstractString}(\"180\"))]), Catlab.Graphics.TikZ.Property[], Nullable{EdgeNode}()), Node(\"n3\", Catlab.Graphics.TikZ.Property[Property(\"draw\", Nullable{AbstractString}()), Property(\"solid\", Nullable{AbstractString}()), Property(\"inner sep\", Nullable{AbstractString}(\"0.333em\")), Property(\"rectangle\", Nullable{AbstractString}()), Property(\"rounded corners\", Nullable{AbstractString}()), Property(\"minimum height\", Nullable{AbstractString}(\"4.5em\")), Property(\"right=2em of n2)\", Nullable{AbstractString}())], Nullable{Coordinate}(), \"h\"), Edge(\"n21.east\", \"\\$(n3.west)+(0,1.25em)\\$\", PathOperation(\"to\", Catlab.Graphics.TikZ.Property[Property(\"out\", Nullable{AbstractString}(\"0\")), Property(\"in\", Nullable{AbstractString}(\"180\"))]), Catlab.Graphics.TikZ.Property[], Nullable{EdgeNode}()), Edge(\"n22.east\", \"\\$(n3.west)+(0,-1.25em)\\$\", PathOperation(\"to\", Catlab.Graphics.TikZ.Property[Property(\"out\", Nullable{AbstractString}(\"0\")), Property(\"in\", Nullable{AbstractString}(\"180\"))]), Catlab.Graphics.TikZ.Property[], Nullable{EdgeNode}()), Node(\"n4\", Catlab.Graphics.TikZ.Property[Property(\"container\", Nullable{AbstractString}()), Property(\"right=2em of n3)\", Nullable{AbstractString}())], Nullable{Coordinate}(), Picture(Catlab.Graphics.TikZ.Statement[Node(\"n41\", Catlab.Graphics.TikZ.Property[Property(\"draw\", Nullable{AbstractString}()), Property(\"solid\", Nullable{AbstractString}()), Property(\"inner sep\", Nullable{AbstractString}(\"0.333em\")), Property(\"rectangle\", Nullable{AbstractString}()), Property(\"rounded corners\", Nullable{AbstractString}()), Property(\"minimum height\", Nullable{AbstractString}(\"2.0em\"))], Nullable{Coordinate}(), \"f\"), Node(\"n42\", Catlab.Graphics.TikZ.Property[Property(\"draw\", Nullable{AbstractString}()), Property(\"solid\", Nullable{AbstractString}()), Property(\"inner sep\", Nullable{AbstractString}(\"0.333em\")), Property(\"rectangle\", Nullable{AbstractString}()), Property(\"rounded corners\", Nullable{AbstractString}()), Property(\"minimum height\", Nullable{AbstractString}(\"2.0em\")), Property(\"below=0.5em of n41\", Nullable{AbstractString}())], Nullable{Coordinate}(), \"g\")], Catlab.Graphics.TikZ.Property[])), Edge(\"\\$(n3.east)+(0,1.25em)\\$\", \"n41.west\", PathOperation(\"to\", Catlab.Graphics.TikZ.Property[Property(\"out\", Nullable{AbstractString}(\"0\")), Property(\"in\", Nullable{AbstractString}(\"180\"))]), Catlab.Graphics.TikZ.Property[], Nullable{EdgeNode}()), Edge(\"\\$(n3.east)+(0,-1.25em)\\$\", \"n42.west\", PathOperation(\"to\", Catlab.Graphics.TikZ.Property[Property(\"out\", Nullable{AbstractString}(\"0\")), Property(\"in\", Nullable{AbstractString}(\"180\"))]), Catlab.Graphics.TikZ.Property[], Nullable{EdgeNode}()), Node(\"n5\", Catlab.Graphics.TikZ.Property[Property(\"minimum height\", Nullable{AbstractString}(\"4.5em\")), Property(\"right=2em of n4)\", Nullable{AbstractString}())], Nullable{Coordinate}(), \"\"), Edge(\"n41.east\", \"\\$(n5.center)+(0,1.25em)\\$\", PathOperation(\"to\", Catlab.Graphics.TikZ.Property[Property(\"out\", Nullable{AbstractString}(\"0\")), Property(\"in\", Nullable{AbstractString}(\"180\"))]), Catlab.Graphics.TikZ.Property[], Nullable{EdgeNode}()), Edge(\"n42.east\", \"\\$(n5.center)+(0,-1.25em)\\$\", PathOperation(\"to\", Catlab.Graphics.TikZ.Property[Property(\"out\", Nullable{AbstractString}(\"0\")), Property(\"in\", Nullable{AbstractString}(\"180\"))]), Catlab.Graphics.TikZ.Property[], Nullable{EdgeNode}())], Catlab.Graphics.TikZ.Property[]))], Catlab.Graphics.TikZ.Property[Property(\"remember picture\", Nullable{AbstractString}()), Property(\"font\", Nullable{AbstractString}(\"{\\\\fontsize{12}{14.4}}\")), Property(\"container/.style\", Nullable{AbstractString}(\"{inner sep=0}\")), Property(\"every path/.style\", Nullable{AbstractString}(\"{solid, line width=0.4pt}\")), Property(\"execute at begin node\", Nullable{AbstractString}(\"\\$\")), Property(\"execute at end node\", Nullable{AbstractString}(\"\\$\"))])"
      ]
     },
     "execution_count": 7,
     "metadata": {},
     "output_type": "execute_result"
    }
   ],
   "source": [
    "to_tikz(comp1)"
   ]
  },
  {
   "cell_type": "code",
   "execution_count": 8,
   "metadata": {},
   "outputs": [
    {
     "data": {
      "text/latex": [
       "$\\left(\\mathrm{id}_{A} \\otimes f\\right) \\cdot h \\cdot \\left(\\mathrm{id}_{A} \\otimes g\\right) : A \\otimes A \\to A \\otimes A$"
      ],
      "text/plain": [
       "compose(otimes(id(A),f),h,otimes(id(A),g))"
      ]
     },
     "execution_count": 8,
     "metadata": {},
     "output_type": "execute_result"
    }
   ],
   "source": [
    "comp2 = compose(otimes(id(A),f), h, otimes(id(A),g))"
   ]
  },
  {
   "cell_type": "code",
   "execution_count": 9,
   "metadata": {},
   "outputs": [
    {
     "data": {
      "image/svg+xml": [
       "<?xml version=\"1.0\" encoding=\"UTF-8\"?>\n",
       "<svg xmlns=\"http://www.w3.org/2000/svg\" xmlns:xlink=\"http://www.w3.org/1999/xlink\" width=\"143.73pt\" height=\"54.396pt\" viewBox=\"0 0 143.73 54.396\" version=\"1.1\">\n",
       "<defs>\n",
       "<g>\n",
       "<symbol overflow=\"visible\" id=\"glyph-1544992871540605-0-0\">\n",
       "<path style=\"stroke:none;\" d=\"\"/>\n",
       "</symbol>\n",
       "<symbol overflow=\"visible\" id=\"glyph-1544992871540605-0-1\">\n",
       "<path style=\"stroke:none;\" d=\"M 5.328125 -4.8125 C 5.5625 -4.8125 5.671875 -4.8125 5.671875 -5.03125 C 5.671875 -5.15625 5.5625 -5.15625 5.359375 -5.15625 L 4.390625 -5.15625 C 4.609375 -6.390625 4.78125 -7.234375 4.875 -7.609375 C 4.953125 -7.90625 5.203125 -8.171875 5.515625 -8.171875 C 5.765625 -8.171875 6.015625 -8.0625 6.125 -7.953125 C 5.671875 -7.90625 5.515625 -7.5625 5.515625 -7.359375 C 5.515625 -7.125 5.703125 -6.984375 5.921875 -6.984375 C 6.171875 -6.984375 6.53125 -7.1875 6.53125 -7.640625 C 6.53125 -8.140625 6.03125 -8.421875 5.5 -8.421875 C 4.984375 -8.421875 4.484375 -8.03125 4.25 -7.5625 C 4.03125 -7.140625 3.90625 -6.71875 3.640625 -5.15625 L 2.828125 -5.15625 C 2.609375 -5.15625 2.484375 -5.15625 2.484375 -4.9375 C 2.484375 -4.8125 2.5625 -4.8125 2.796875 -4.8125 L 3.5625 -4.8125 C 3.34375 -3.6875 2.859375 -0.984375 2.578125 0.28125 C 2.375 1.328125 2.203125 2.203125 1.609375 2.203125 C 1.5625 2.203125 1.21875 2.203125 1 1.96875 C 1.609375 1.921875 1.609375 1.40625 1.609375 1.390625 C 1.609375 1.140625 1.4375 1 1.203125 1 C 0.96875 1 0.609375 1.203125 0.609375 1.65625 C 0.609375 2.171875 1.140625 2.4375 1.609375 2.4375 C 2.828125 2.4375 3.328125 0.25 3.453125 -0.34375 C 3.671875 -1.265625 4.25 -4.453125 4.3125 -4.8125 Z M 5.328125 -4.8125 \"/>\n",
       "</symbol>\n",
       "<symbol overflow=\"visible\" id=\"glyph-1544992871540605-0-2\">\n",
       "<path style=\"stroke:none;\" d=\"M 3.359375 -8 C 3.375 -8.046875 3.390625 -8.109375 3.390625 -8.171875 C 3.390625 -8.296875 3.28125 -8.296875 3.25 -8.296875 C 3.234375 -8.296875 2.65625 -8.25 2.59375 -8.234375 C 2.390625 -8.21875 2.21875 -8.203125 2 -8.1875 C 1.703125 -8.15625 1.609375 -8.15625 1.609375 -7.9375 C 1.609375 -7.8125 1.703125 -7.8125 1.875 -7.8125 C 2.46875 -7.8125 2.46875 -7.703125 2.46875 -7.59375 C 2.46875 -7.515625 2.453125 -7.421875 2.4375 -7.390625 L 0.703125 -0.46875 C 0.65625 -0.28125 0.65625 -0.265625 0.65625 -0.1875 C 0.65625 0.078125 0.859375 0.125 0.984375 0.125 C 1.1875 0.125 1.34375 -0.03125 1.40625 -0.171875 L 1.9375 -2.328125 C 2 -2.59375 2.0625 -2.84375 2.125 -3.109375 C 2.265625 -3.609375 2.265625 -3.625 2.484375 -3.96875 C 2.71875 -4.3125 3.25 -5.03125 4.171875 -5.03125 C 4.65625 -5.03125 4.8125 -4.671875 4.8125 -4.203125 C 4.8125 -3.53125 4.34375 -2.21875 4.09375 -1.5 C 3.984375 -1.21875 3.921875 -1.0625 3.921875 -0.84375 C 3.921875 -0.3125 4.296875 0.125 4.859375 0.125 C 5.96875 0.125 6.390625 -1.640625 6.390625 -1.703125 C 6.390625 -1.765625 6.34375 -1.8125 6.28125 -1.8125 C 6.171875 -1.8125 6.15625 -1.78125 6.09375 -1.578125 C 5.828125 -0.625 5.375 -0.125 4.90625 -0.125 C 4.78125 -0.125 4.59375 -0.125 4.59375 -0.515625 C 4.59375 -0.828125 4.734375 -1.203125 4.78125 -1.34375 C 5 -1.90625 5.53125 -3.328125 5.53125 -4.015625 C 5.53125 -4.734375 5.109375 -5.265625 4.203125 -5.265625 C 3.53125 -5.265625 2.921875 -4.953125 2.4375 -4.328125 Z M 3.359375 -8 \"/>\n",
       "</symbol>\n",
       "<symbol overflow=\"visible\" id=\"glyph-1544992871540605-0-3\">\n",
       "<path style=\"stroke:none;\" d=\"M 4.046875 -1.515625 C 4 -1.328125 3.96875 -1.28125 3.8125 -1.09375 C 3.328125 -0.46875 2.828125 -0.234375 2.453125 -0.234375 C 2.0625 -0.234375 1.6875 -0.546875 1.6875 -1.375 C 1.6875 -2.015625 2.046875 -3.34375 2.3125 -3.890625 C 2.65625 -4.546875 3.1875 -5.03125 3.6875 -5.03125 C 4.484375 -5.03125 4.640625 -4.046875 4.640625 -3.984375 L 4.609375 -3.8125 Z M 4.78125 -4.484375 C 4.625 -4.828125 4.296875 -5.265625 3.6875 -5.265625 C 2.390625 -5.265625 0.90625 -3.640625 0.90625 -1.859375 C 0.90625 -0.609375 1.65625 0 2.421875 0 C 3.0625 0 3.625 -0.5 3.84375 -0.734375 L 3.578125 0.328125 C 3.40625 0.984375 3.328125 1.296875 2.90625 1.703125 C 2.421875 2.203125 1.953125 2.203125 1.703125 2.203125 C 1.34375 2.203125 1.046875 2.171875 0.734375 2.078125 C 1.125 1.96875 1.21875 1.640625 1.21875 1.5 C 1.21875 1.3125 1.078125 1.125 0.8125 1.125 C 0.53125 1.125 0.21875 1.359375 0.21875 1.75 C 0.21875 2.25 0.703125 2.4375 1.71875 2.4375 C 3.265625 2.4375 4.0625 1.453125 4.21875 0.796875 L 5.546875 -4.546875 C 5.578125 -4.703125 5.578125 -4.71875 5.578125 -4.75 C 5.578125 -4.90625 5.453125 -5.046875 5.265625 -5.046875 C 4.984375 -5.046875 4.8125 -4.8125 4.78125 -4.484375 Z M 4.78125 -4.484375 \"/>\n",
       "</symbol>\n",
       "</g>\n",
       "<clipPath id=\"clip-1544992871540605-1\">\n",
       "  <path d=\"M 19 24 L 47 24 L 47 54.394531 L 19 54.394531 Z M 19 24 \"/>\n",
       "</clipPath>\n",
       "<clipPath id=\"clip-1544992871540605-2\">\n",
       "  <path d=\"M 59 0 L 86 0 L 86 54.394531 L 59 54.394531 Z M 59 0 \"/>\n",
       "</clipPath>\n",
       "<clipPath id=\"clip-1544992871540605-3\">\n",
       "  <path d=\"M 98 24 L 124 24 L 124 54.394531 L 98 54.394531 Z M 98 24 \"/>\n",
       "</clipPath>\n",
       "<clipPath id=\"clip-1544992871540605-4\">\n",
       "  <path d=\"M 105 6 L 143.730469 6 L 143.730469 18 L 105 18 Z M 105 6 \"/>\n",
       "</clipPath>\n",
       "<clipPath id=\"clip-1544992871540605-5\">\n",
       "  <path d=\"M 112 36 L 143.730469 36 L 143.730469 48 L 112 48 Z M 112 36 \"/>\n",
       "</clipPath>\n",
       "</defs>\n",
       "<g id=\"surface1\">\n",
       "<g clip-path=\"url(#clip-1544992871540605-1)\" clip-rule=\"nonzero\">\n",
       "<path style=\"fill:none;stroke-width:0.3985;stroke-linecap:butt;stroke-linejoin:miter;stroke:rgb(0%,0%,0%);stroke-opacity:1;stroke-miterlimit:10;\" d=\"M 4.216344 -18.330156 L -2.822719 -18.330156 C -5.021938 -18.330156 -6.807094 -20.115312 -6.807094 -22.318437 L -6.807094 -38.255937 C -6.807094 -40.459062 -5.021938 -42.240312 -2.822719 -42.240312 L 4.216344 -42.240312 C 6.415562 -42.240312 8.200719 -40.459062 8.200719 -38.255937 L 8.200719 -22.318437 C 8.200719 -20.115312 6.415562 -18.330156 4.216344 -18.330156 Z M 4.216344 -18.330156 \" transform=\"matrix(1,0,0,-1,32.311,11.955)\"/>\n",
       "</g>\n",
       "<g style=\"fill:rgb(0%,0%,0%);fill-opacity:1;\">\n",
       "  <use xlink:href=\"#glyph-1544992871540605-0-1\" x=\"29.485\" y=\"45.23\"/>\n",
       "</g>\n",
       "<path style=\"fill:none;stroke-width:0.3985;stroke-linecap:butt;stroke-linejoin:miter;stroke:rgb(0%,0%,0%);stroke-opacity:1;stroke-miterlimit:10;\" d=\"M -0.00190625 14.944094 C 12.677781 14.944094 19.834031 15.244875 32.509813 15.244875 \" transform=\"matrix(1,0,0,-1,0.498,27.198)\"/>\n",
       "<path style=\"fill:none;stroke-width:0.3985;stroke-linecap:butt;stroke-linejoin:miter;stroke:rgb(0%,0%,0%);stroke-opacity:1;stroke-miterlimit:10;\" d=\"M -0.00190625 -14.942625 C 9.673875 -14.942625 15.134813 -15.044187 24.806687 -15.044187 \" transform=\"matrix(1,0,0,-1,0.498,27.198)\"/>\n",
       "<g clip-path=\"url(#clip-1544992871540605-2)\" clip-rule=\"nonzero\">\n",
       "<path style=\"fill:none;stroke-width:0.3985;stroke-linecap:butt;stroke-linejoin:miter;stroke:rgb(0%,0%,0%);stroke-opacity:1;stroke-miterlimit:10;\" d=\"M 75.240281 26.901125 L 68.509812 26.901125 C 66.306687 26.901125 64.525437 25.115969 64.525437 22.912844 L 64.525437 -22.915281 C 64.525437 -25.1145 66.306687 -26.899656 68.509812 -26.899656 L 75.240281 -26.899656 C 77.4395 -26.899656 79.224656 -25.1145 79.224656 -22.915281 L 79.224656 22.912844 C 79.224656 25.115969 77.4395 26.901125 75.240281 26.901125 Z M 75.240281 26.901125 \" transform=\"matrix(1,0,0,-1,0.498,27.198)\"/>\n",
       "</g>\n",
       "<g style=\"fill:rgb(0%,0%,0%);fill-opacity:1;\">\n",
       "  <use xlink:href=\"#glyph-1544992871540605-0-2\" x=\"69.002\" y=\"31.349\"/>\n",
       "</g>\n",
       "<path style=\"fill:none;stroke-width:0.3985;stroke-linecap:butt;stroke-linejoin:miter;stroke:rgb(0%,0%,0%);stroke-opacity:1;stroke-miterlimit:10;\" d=\"M 32.509813 15.244875 C 44.916063 15.244875 51.916063 14.944094 64.322312 14.944094 \" transform=\"matrix(1,0,0,-1,0.498,27.198)\"/>\n",
       "<path style=\"fill:none;stroke-width:0.3985;stroke-linecap:butt;stroke-linejoin:miter;stroke:rgb(0%,0%,0%);stroke-opacity:1;stroke-miterlimit:10;\" d=\"M 40.212938 -15.044187 C 49.615281 -15.044187 54.923875 -14.942625 64.322312 -14.942625 \" transform=\"matrix(1,0,0,-1,0.498,27.198)\"/>\n",
       "<g clip-path=\"url(#clip-1544992871540605-3)\" clip-rule=\"nonzero\">\n",
       "<path style=\"fill:none;stroke-width:0.3985;stroke-linecap:butt;stroke-linejoin:miter;stroke:rgb(0%,0%,0%);stroke-opacity:1;stroke-miterlimit:10;\" d=\"M 3.712187 -18.330156 L -2.315156 -18.330156 C -4.518281 -18.330156 -6.299531 -20.115312 -6.299531 -22.318437 L -6.299531 -38.255937 C -6.299531 -40.459062 -4.518281 -42.240312 -2.315156 -42.240312 L 3.712187 -42.240312 C 5.911406 -42.240312 7.696562 -40.459062 7.696562 -38.255937 L 7.696562 -22.318437 C 7.696562 -20.115312 5.911406 -18.330156 3.712187 -18.330156 Z M 3.712187 -18.330156 \" transform=\"matrix(1,0,0,-1,110.53,11.955)\"/>\n",
       "</g>\n",
       "<g style=\"fill:rgb(0%,0%,0%);fill-opacity:1;\">\n",
       "  <use xlink:href=\"#glyph-1544992871540605-0-3\" x=\"108.21\" y=\"43.653\"/>\n",
       "</g>\n",
       "<path style=\"fill:none;stroke-width:0.3985;stroke-linecap:butt;stroke-linejoin:miter;stroke:rgb(0%,0%,0%);stroke-opacity:1;stroke-miterlimit:10;\" d=\"M 79.423875 14.944094 C 91.630906 14.944094 98.521531 15.244875 110.732469 15.244875 \" transform=\"matrix(1,0,0,-1,0.498,27.198)\"/>\n",
       "<path style=\"fill:none;stroke-width:0.3985;stroke-linecap:butt;stroke-linejoin:miter;stroke:rgb(0%,0%,0%);stroke-opacity:1;stroke-miterlimit:10;\" d=\"M 79.423875 -14.942625 C 88.826219 -14.942625 94.130906 -15.044187 103.53325 -15.044187 \" transform=\"matrix(1,0,0,-1,0.498,27.198)\"/>\n",
       "<g clip-path=\"url(#clip-1544992871540605-4)\" clip-rule=\"nonzero\">\n",
       "<path style=\"fill:none;stroke-width:0.3985;stroke-linecap:butt;stroke-linejoin:miter;stroke:rgb(0%,0%,0%);stroke-opacity:1;stroke-miterlimit:10;\" d=\"M 110.732469 15.244875 C 123.212937 15.244875 130.255906 14.944094 142.736375 14.944094 \" transform=\"matrix(1,0,0,-1,0.498,27.198)\"/>\n",
       "</g>\n",
       "<g clip-path=\"url(#clip-1544992871540605-5)\" clip-rule=\"nonzero\">\n",
       "<path style=\"fill:none;stroke-width:0.3985;stroke-linecap:butt;stroke-linejoin:miter;stroke:rgb(0%,0%,0%);stroke-opacity:1;stroke-miterlimit:10;\" d=\"M 117.927781 -15.044187 C 127.603562 -15.044187 133.060594 -14.942625 142.736375 -14.942625 \" transform=\"matrix(1,0,0,-1,0.498,27.198)\"/>\n",
       "</g>\n",
       "</g>\n",
       "</svg>\n",
       "\n"
      ],
      "text/plain": [
       "Catlab.Graphics.TikZ.Picture(Catlab.Graphics.TikZ.Statement[Node(\"n\", Catlab.Graphics.TikZ.Property[Property(\"container\", Nullable{AbstractString}())], Nullable{Coordinate}(), Picture(Catlab.Graphics.TikZ.Statement[Node(\"n1\", Catlab.Graphics.TikZ.Property[Property(\"minimum height\", Nullable{AbstractString}(\"4.5em\"))], Nullable{Coordinate}(), \"\"), Node(\"n2\", Catlab.Graphics.TikZ.Property[Property(\"container\", Nullable{AbstractString}()), Property(\"right=2em of n1)\", Nullable{AbstractString}())], Nullable{Coordinate}(), Picture(Catlab.Graphics.TikZ.Statement[Node(\"n21\", Catlab.Graphics.TikZ.Property[Property(\"minimum height\", Nullable{AbstractString}(\"2.0em\"))], Nullable{Coordinate}(), \"\"), Node(\"n22\", Catlab.Graphics.TikZ.Property[Property(\"draw\", Nullable{AbstractString}()), Property(\"solid\", Nullable{AbstractString}()), Property(\"inner sep\", Nullable{AbstractString}(\"0.333em\")), Property(\"rectangle\", Nullable{AbstractString}()), Property(\"rounded corners\", Nullable{AbstractString}()), Property(\"minimum height\", Nullable{AbstractString}(\"2.0em\")), Property(\"below=0.5em of n21\", Nullable{AbstractString}())], Nullable{Coordinate}(), \"f\")], Catlab.Graphics.TikZ.Property[])), Edge(\"\\$(n1.center)+(0,1.25em)\\$\", \"n21.center\", PathOperation(\"to\", Catlab.Graphics.TikZ.Property[Property(\"out\", Nullable{AbstractString}(\"0\")), Property(\"in\", Nullable{AbstractString}(\"180\"))]), Catlab.Graphics.TikZ.Property[], Nullable{EdgeNode}()), Edge(\"\\$(n1.center)+(0,-1.25em)\\$\", \"n22.west\", PathOperation(\"to\", Catlab.Graphics.TikZ.Property[Property(\"out\", Nullable{AbstractString}(\"0\")), Property(\"in\", Nullable{AbstractString}(\"180\"))]), Catlab.Graphics.TikZ.Property[], Nullable{EdgeNode}()), Node(\"n3\", Catlab.Graphics.TikZ.Property[Property(\"draw\", Nullable{AbstractString}()), Property(\"solid\", Nullable{AbstractString}()), Property(\"inner sep\", Nullable{AbstractString}(\"0.333em\")), Property(\"rectangle\", Nullable{AbstractString}()), Property(\"rounded corners\", Nullable{AbstractString}()), Property(\"minimum height\", Nullable{AbstractString}(\"4.5em\")), Property(\"right=2em of n2)\", Nullable{AbstractString}())], Nullable{Coordinate}(), \"h\"), Edge(\"n21.center\", \"\\$(n3.west)+(0,1.25em)\\$\", PathOperation(\"to\", Catlab.Graphics.TikZ.Property[Property(\"out\", Nullable{AbstractString}(\"0\")), Property(\"in\", Nullable{AbstractString}(\"180\"))]), Catlab.Graphics.TikZ.Property[], Nullable{EdgeNode}()), Edge(\"n22.east\", \"\\$(n3.west)+(0,-1.25em)\\$\", PathOperation(\"to\", Catlab.Graphics.TikZ.Property[Property(\"out\", Nullable{AbstractString}(\"0\")), Property(\"in\", Nullable{AbstractString}(\"180\"))]), Catlab.Graphics.TikZ.Property[], Nullable{EdgeNode}()), Node(\"n4\", Catlab.Graphics.TikZ.Property[Property(\"container\", Nullable{AbstractString}()), Property(\"right=2em of n3)\", Nullable{AbstractString}())], Nullable{Coordinate}(), Picture(Catlab.Graphics.TikZ.Statement[Node(\"n41\", Catlab.Graphics.TikZ.Property[Property(\"minimum height\", Nullable{AbstractString}(\"2.0em\"))], Nullable{Coordinate}(), \"\"), Node(\"n42\", Catlab.Graphics.TikZ.Property[Property(\"draw\", Nullable{AbstractString}()), Property(\"solid\", Nullable{AbstractString}()), Property(\"inner sep\", Nullable{AbstractString}(\"0.333em\")), Property(\"rectangle\", Nullable{AbstractString}()), Property(\"rounded corners\", Nullable{AbstractString}()), Property(\"minimum height\", Nullable{AbstractString}(\"2.0em\")), Property(\"below=0.5em of n41\", Nullable{AbstractString}())], Nullable{Coordinate}(), \"g\")], Catlab.Graphics.TikZ.Property[])), Edge(\"\\$(n3.east)+(0,1.25em)\\$\", \"n41.center\", PathOperation(\"to\", Catlab.Graphics.TikZ.Property[Property(\"out\", Nullable{AbstractString}(\"0\")), Property(\"in\", Nullable{AbstractString}(\"180\"))]), Catlab.Graphics.TikZ.Property[], Nullable{EdgeNode}()), Edge(\"\\$(n3.east)+(0,-1.25em)\\$\", \"n42.west\", PathOperation(\"to\", Catlab.Graphics.TikZ.Property[Property(\"out\", Nullable{AbstractString}(\"0\")), Property(\"in\", Nullable{AbstractString}(\"180\"))]), Catlab.Graphics.TikZ.Property[], Nullable{EdgeNode}()), Node(\"n5\", Catlab.Graphics.TikZ.Property[Property(\"minimum height\", Nullable{AbstractString}(\"4.5em\")), Property(\"right=2em of n4)\", Nullable{AbstractString}())], Nullable{Coordinate}(), \"\"), Edge(\"n41.center\", \"\\$(n5.center)+(0,1.25em)\\$\", PathOperation(\"to\", Catlab.Graphics.TikZ.Property[Property(\"out\", Nullable{AbstractString}(\"0\")), Property(\"in\", Nullable{AbstractString}(\"180\"))]), Catlab.Graphics.TikZ.Property[], Nullable{EdgeNode}()), Edge(\"n42.east\", \"\\$(n5.center)+(0,-1.25em)\\$\", PathOperation(\"to\", Catlab.Graphics.TikZ.Property[Property(\"out\", Nullable{AbstractString}(\"0\")), Property(\"in\", Nullable{AbstractString}(\"180\"))]), Catlab.Graphics.TikZ.Property[], Nullable{EdgeNode}())], Catlab.Graphics.TikZ.Property[]))], Catlab.Graphics.TikZ.Property[Property(\"remember picture\", Nullable{AbstractString}()), Property(\"font\", Nullable{AbstractString}(\"{\\\\fontsize{12}{14.4}}\")), Property(\"container/.style\", Nullable{AbstractString}(\"{inner sep=0}\")), Property(\"every path/.style\", Nullable{AbstractString}(\"{solid, line width=0.4pt}\")), Property(\"execute at begin node\", Nullable{AbstractString}(\"\\$\")), Property(\"execute at end node\", Nullable{AbstractString}(\"\\$\"))])"
      ]
     },
     "execution_count": 9,
     "metadata": {},
     "output_type": "execute_result"
    }
   ],
   "source": [
    "to_tikz(comp2)"
   ]
  },
  {
   "cell_type": "code",
   "execution_count": 10,
   "metadata": {
    "scrolled": true
   },
   "outputs": [
    {
     "data": {
      "image/svg+xml": [
       "<?xml version=\"1.0\" encoding=\"UTF-8\"?>\n",
       "<svg xmlns=\"http://www.w3.org/2000/svg\" xmlns:xlink=\"http://www.w3.org/1999/xlink\" width=\"69.195pt\" height=\"84.085pt\" viewBox=\"0 0 69.195 84.085\" version=\"1.1\">\n",
       "<defs>\n",
       "<g>\n",
       "<symbol overflow=\"visible\" id=\"glyph-1544992871540606-0-0\">\n",
       "<path style=\"stroke:none;\" d=\"\"/>\n",
       "</symbol>\n",
       "<symbol overflow=\"visible\" id=\"glyph-1544992871540606-0-1\">\n",
       "<path style=\"stroke:none;\" d=\"M 8.9375 -7.296875 C 9.046875 -7.703125 9.078125 -7.8125 9.921875 -7.8125 C 10.140625 -7.8125 10.25 -7.8125 10.25 -8.03125 C 10.25 -8.15625 10.140625 -8.15625 10.078125 -8.15625 C 9.859375 -8.15625 9.609375 -8.140625 9.390625 -8.140625 L 7.96875 -8.140625 C 7.75 -8.140625 7.5 -8.15625 7.265625 -8.15625 C 7.1875 -8.15625 7.046875 -8.15625 7.046875 -7.9375 C 7.046875 -7.8125 7.125 -7.8125 7.34375 -7.8125 C 8.0625 -7.8125 8.0625 -7.71875 8.0625 -7.59375 C 8.0625 -7.5625 8.0625 -7.5 8.015625 -7.3125 L 7.296875 -4.421875 L 3.6875 -4.421875 L 4.40625 -7.296875 C 4.5 -7.703125 4.53125 -7.8125 5.375 -7.8125 C 5.59375 -7.8125 5.71875 -7.8125 5.71875 -8.03125 C 5.71875 -8.15625 5.609375 -8.15625 5.53125 -8.15625 C 5.3125 -8.15625 5.0625 -8.140625 4.84375 -8.140625 L 3.4375 -8.140625 C 3.203125 -8.140625 2.953125 -8.15625 2.71875 -8.15625 C 2.640625 -8.15625 2.5 -8.15625 2.5 -7.9375 C 2.5 -7.8125 2.578125 -7.8125 2.8125 -7.8125 C 3.53125 -7.8125 3.53125 -7.71875 3.53125 -7.59375 C 3.53125 -7.5625 3.53125 -7.5 3.484375 -7.3125 L 1.859375 -0.890625 C 1.75 -0.46875 1.734375 -0.34375 0.90625 -0.34375 C 0.640625 -0.34375 0.546875 -0.34375 0.546875 -0.125 C 0.546875 0 0.6875 0 0.71875 0 C 0.9375 0 1.1875 -0.03125 1.40625 -0.03125 L 2.828125 -0.03125 C 3.046875 -0.03125 3.296875 0 3.53125 0 C 3.625 0 3.75 0 3.75 -0.234375 C 3.75 -0.34375 3.640625 -0.34375 3.46875 -0.34375 C 2.734375 -0.34375 2.734375 -0.4375 2.734375 -0.5625 C 2.734375 -0.578125 2.734375 -0.65625 2.765625 -0.75 L 3.578125 -4.078125 L 7.203125 -4.078125 C 7 -3.28125 6.390625 -0.78125 6.375 -0.71875 C 6.234375 -0.359375 6.046875 -0.359375 5.34375 -0.34375 C 5.203125 -0.34375 5.09375 -0.34375 5.09375 -0.125 C 5.09375 0 5.21875 0 5.265625 0 C 5.46875 0 5.71875 -0.03125 5.953125 -0.03125 L 7.359375 -0.03125 C 7.59375 -0.03125 7.84375 0 8.0625 0 C 8.15625 0 8.296875 0 8.296875 -0.234375 C 8.296875 -0.34375 8.1875 -0.34375 8.015625 -0.34375 C 7.28125 -0.34375 7.28125 -0.4375 7.28125 -0.5625 C 7.28125 -0.578125 7.28125 -0.65625 7.296875 -0.75 Z M 8.9375 -7.296875 \"/>\n",
       "</symbol>\n",
       "</g>\n",
       "<clipPath id=\"clip-1544992871540606-1\">\n",
       "  <path d=\"M 19 0 L 50 0 L 50 84.085938 L 19 84.085938 Z M 19 0 \"/>\n",
       "</clipPath>\n",
       "<clipPath id=\"clip-1544992871540606-2\">\n",
       "  <path d=\"M 38 6 L 69.195312 6 L 69.195312 18 L 38 18 Z M 38 6 \"/>\n",
       "</clipPath>\n",
       "<clipPath id=\"clip-1544992871540606-3\">\n",
       "  <path d=\"M 38 36 L 69.195312 36 L 69.195312 48 L 38 48 Z M 38 36 \"/>\n",
       "</clipPath>\n",
       "<clipPath id=\"clip-1544992871540606-4\">\n",
       "  <path d=\"M 38 66 L 69.195312 66 L 69.195312 78 L 38 78 Z M 38 66 \"/>\n",
       "</clipPath>\n",
       "</defs>\n",
       "<g id=\"surface1\">\n",
       "<g clip-path=\"url(#clip-1544992871540606-1)\" clip-rule=\"nonzero\">\n",
       "<path style=\"fill:none;stroke-width:0.3985;stroke-linecap:butt;stroke-linejoin:miter;stroke:rgb(0%,0%,0%);stroke-opacity:1;stroke-miterlimit:10;\" d=\"M 39.40825 41.843781 L 28.791062 41.843781 C 26.591844 41.843781 24.806687 40.058625 24.806687 37.859406 L 24.806687 -37.859344 C 24.806687 -40.058563 26.591844 -41.843719 28.791062 -41.843719 L 39.40825 -41.843719 C 41.607469 -41.843719 43.392625 -40.058563 43.392625 -37.859344 L 43.392625 37.859406 C 43.392625 40.058625 41.607469 41.843781 39.40825 41.843781 Z M 39.40825 41.843781 \" transform=\"matrix(1,0,0,-1,0.498,42.043)\"/>\n",
       "</g>\n",
       "<g style=\"fill:rgb(0%,0%,0%);fill-opacity:1;\">\n",
       "  <use xlink:href=\"#glyph-1544992871540606-0-1\" x=\"29.286\" y=\"46.127\"/>\n",
       "</g>\n",
       "<path style=\"fill:none;stroke-width:0.3985;stroke-linecap:butt;stroke-linejoin:miter;stroke:rgb(0%,0%,0%);stroke-opacity:1;stroke-miterlimit:10;\" d=\"M -0.00190625 14.945344 C 9.59575 14.945344 15.009813 14.945344 24.607469 14.945344 \" transform=\"matrix(1,0,0,-1,0.498,42.043)\"/>\n",
       "<path style=\"fill:none;stroke-width:0.3985;stroke-linecap:butt;stroke-linejoin:miter;stroke:rgb(0%,0%,0%);stroke-opacity:1;stroke-miterlimit:10;\" d=\"M -0.00190625 -14.945281 C 9.59575 -14.945281 15.009813 -14.945281 24.607469 -14.945281 \" transform=\"matrix(1,0,0,-1,0.498,42.043)\"/>\n",
       "<g clip-path=\"url(#clip-1544992871540606-2)\" clip-rule=\"nonzero\">\n",
       "<path style=\"fill:none;stroke-width:0.3985;stroke-linecap:butt;stroke-linejoin:miter;stroke:rgb(0%,0%,0%);stroke-opacity:1;stroke-miterlimit:10;\" d=\"M 43.591844 29.88675 C 53.1895 29.88675 58.603563 29.88675 68.201219 29.88675 \" transform=\"matrix(1,0,0,-1,0.498,42.043)\"/>\n",
       "</g>\n",
       "<g clip-path=\"url(#clip-1544992871540606-3)\" clip-rule=\"nonzero\">\n",
       "<path style=\"fill:none;stroke-width:0.3985;stroke-linecap:butt;stroke-linejoin:miter;stroke:rgb(0%,0%,0%);stroke-opacity:1;stroke-miterlimit:10;\" d=\"M 43.591844 0.00003125 C 53.1895 0.00003125 58.603563 0.00003125 68.201219 0.00003125 \" transform=\"matrix(1,0,0,-1,0.498,42.043)\"/>\n",
       "</g>\n",
       "<g clip-path=\"url(#clip-1544992871540606-4)\" clip-rule=\"nonzero\">\n",
       "<path style=\"fill:none;stroke-width:0.3985;stroke-linecap:butt;stroke-linejoin:miter;stroke:rgb(0%,0%,0%);stroke-opacity:1;stroke-miterlimit:10;\" d=\"M 43.591844 -29.886688 C 53.1895 -29.886688 58.603563 -29.886688 68.201219 -29.886688 \" transform=\"matrix(1,0,0,-1,0.498,42.043)\"/>\n",
       "</g>\n",
       "</g>\n",
       "</svg>\n",
       "\n"
      ],
      "text/plain": [
       "Catlab.Graphics.TikZ.Picture(Catlab.Graphics.TikZ.Statement[Node(\"n\", Catlab.Graphics.TikZ.Property[Property(\"container\", Nullable{AbstractString}())], Nullable{Coordinate}(), Picture(Catlab.Graphics.TikZ.Statement[Node(\"n1\", Catlab.Graphics.TikZ.Property[Property(\"minimum height\", Nullable{AbstractString}(\"4.5em\"))], Nullable{Coordinate}(), \"\"), Node(\"n2\", Catlab.Graphics.TikZ.Property[Property(\"draw\", Nullable{AbstractString}()), Property(\"solid\", Nullable{AbstractString}()), Property(\"inner sep\", Nullable{AbstractString}(\"0.333em\")), Property(\"rectangle\", Nullable{AbstractString}()), Property(\"rounded corners\", Nullable{AbstractString}()), Property(\"minimum height\", Nullable{AbstractString}(\"7.0em\")), Property(\"right=2em of n1)\", Nullable{AbstractString}())], Nullable{Coordinate}(), \"H\"), Edge(\"\\$(n1.center)+(0,1.25em)\\$\", \"\\$(n2.west)+(0,1.25em)\\$\", PathOperation(\"to\", Catlab.Graphics.TikZ.Property[Property(\"out\", Nullable{AbstractString}(\"0\")), Property(\"in\", Nullable{AbstractString}(\"180\"))]), Catlab.Graphics.TikZ.Property[], Nullable{EdgeNode}()), Edge(\"\\$(n1.center)+(0,-1.25em)\\$\", \"\\$(n2.west)+(0,-1.25em)\\$\", PathOperation(\"to\", Catlab.Graphics.TikZ.Property[Property(\"out\", Nullable{AbstractString}(\"0\")), Property(\"in\", Nullable{AbstractString}(\"180\"))]), Catlab.Graphics.TikZ.Property[], Nullable{EdgeNode}()), Node(\"n3\", Catlab.Graphics.TikZ.Property[Property(\"minimum height\", Nullable{AbstractString}(\"7.0em\")), Property(\"right=2em of n2)\", Nullable{AbstractString}())], Nullable{Coordinate}(), \"\"), Edge(\"\\$(n2.east)+(0,2.5em)\\$\", \"\\$(n3.center)+(0,2.5em)\\$\", PathOperation(\"to\", Catlab.Graphics.TikZ.Property[Property(\"out\", Nullable{AbstractString}(\"0\")), Property(\"in\", Nullable{AbstractString}(\"180\"))]), Catlab.Graphics.TikZ.Property[], Nullable{EdgeNode}()), Edge(\"\\$(n2.east)+(0,0.0em)\\$\", \"\\$(n3.center)+(0,0.0em)\\$\", PathOperation(\"to\", Catlab.Graphics.TikZ.Property[Property(\"out\", Nullable{AbstractString}(\"0\")), Property(\"in\", Nullable{AbstractString}(\"180\"))]), Catlab.Graphics.TikZ.Property[], Nullable{EdgeNode}()), Edge(\"\\$(n2.east)+(0,-2.5em)\\$\", \"\\$(n3.center)+(0,-2.5em)\\$\", PathOperation(\"to\", Catlab.Graphics.TikZ.Property[Property(\"out\", Nullable{AbstractString}(\"0\")), Property(\"in\", Nullable{AbstractString}(\"180\"))]), Catlab.Graphics.TikZ.Property[], Nullable{EdgeNode}())], Catlab.Graphics.TikZ.Property[]))], Catlab.Graphics.TikZ.Property[Property(\"remember picture\", Nullable{AbstractString}()), Property(\"font\", Nullable{AbstractString}(\"{\\\\fontsize{12}{14.4}}\")), Property(\"container/.style\", Nullable{AbstractString}(\"{inner sep=0}\")), Property(\"every path/.style\", Nullable{AbstractString}(\"{solid, line width=0.4pt}\")), Property(\"execute at begin node\", Nullable{AbstractString}(\"\\$\")), Property(\"execute at end node\", Nullable{AbstractString}(\"\\$\"))])"
      ]
     },
     "execution_count": 10,
     "metadata": {},
     "output_type": "execute_result"
    }
   ],
   "source": [
    "to_tikz(Hom(:H, otimes(A,A), otimes(B,B,B)))"
   ]
  },
  {
   "cell_type": "code",
   "execution_count": 11,
   "metadata": {},
   "outputs": [
    {
     "data": {
      "text/latex": [
       "$\\sigma_{A,A} \\cdot \\left(f \\otimes f\\right) \\cdot \\sigma_{B,B} : A \\otimes A \\to B \\otimes B$"
      ],
      "text/plain": [
       "compose(braid(A,A),otimes(f,f),braid(B,B))"
      ]
     },
     "execution_count": 11,
     "metadata": {},
     "output_type": "execute_result"
    }
   ],
   "source": [
    "twist = compose(braid(A,A), otimes(f,f), braid(B,B))"
   ]
  },
  {
   "cell_type": "code",
   "execution_count": 12,
   "metadata": {},
   "outputs": [
    {
     "data": {
      "image/svg+xml": [
       "<?xml version=\"1.0\" encoding=\"UTF-8\"?>\n",
       "<svg xmlns=\"http://www.w3.org/2000/svg\" xmlns:xlink=\"http://www.w3.org/1999/xlink\" width=\"116.627pt\" height=\"54.595pt\" viewBox=\"0 0 116.627 54.595\" version=\"1.1\">\n",
       "<defs>\n",
       "<g>\n",
       "<symbol overflow=\"visible\" id=\"glyph-1544992871540607-0-0\">\n",
       "<path style=\"stroke:none;\" d=\"\"/>\n",
       "</symbol>\n",
       "<symbol overflow=\"visible\" id=\"glyph-1544992871540607-0-1\">\n",
       "<path style=\"stroke:none;\" d=\"M 5.328125 -4.8125 C 5.5625 -4.8125 5.671875 -4.8125 5.671875 -5.03125 C 5.671875 -5.15625 5.5625 -5.15625 5.359375 -5.15625 L 4.390625 -5.15625 C 4.609375 -6.390625 4.78125 -7.234375 4.875 -7.609375 C 4.953125 -7.90625 5.203125 -8.171875 5.515625 -8.171875 C 5.765625 -8.171875 6.015625 -8.0625 6.125 -7.953125 C 5.671875 -7.90625 5.515625 -7.5625 5.515625 -7.359375 C 5.515625 -7.125 5.703125 -6.984375 5.921875 -6.984375 C 6.171875 -6.984375 6.53125 -7.1875 6.53125 -7.640625 C 6.53125 -8.140625 6.03125 -8.421875 5.5 -8.421875 C 4.984375 -8.421875 4.484375 -8.03125 4.25 -7.5625 C 4.03125 -7.140625 3.90625 -6.71875 3.640625 -5.15625 L 2.828125 -5.15625 C 2.609375 -5.15625 2.484375 -5.15625 2.484375 -4.9375 C 2.484375 -4.8125 2.5625 -4.8125 2.796875 -4.8125 L 3.5625 -4.8125 C 3.34375 -3.6875 2.859375 -0.984375 2.578125 0.28125 C 2.375 1.328125 2.203125 2.203125 1.609375 2.203125 C 1.5625 2.203125 1.21875 2.203125 1 1.96875 C 1.609375 1.921875 1.609375 1.40625 1.609375 1.390625 C 1.609375 1.140625 1.4375 1 1.203125 1 C 0.96875 1 0.609375 1.203125 0.609375 1.65625 C 0.609375 2.171875 1.140625 2.4375 1.609375 2.4375 C 2.828125 2.4375 3.328125 0.25 3.453125 -0.34375 C 3.671875 -1.265625 4.25 -4.453125 4.3125 -4.8125 Z M 5.328125 -4.8125 \"/>\n",
       "</symbol>\n",
       "</g>\n",
       "<clipPath id=\"clip-1544992871540607-1\">\n",
       "  <path d=\"M 45 24 L 72 24 L 72 54.59375 L 45 54.59375 Z M 45 24 \"/>\n",
       "</clipPath>\n",
       "<clipPath id=\"clip-1544992871540607-2\">\n",
       "  <path d=\"M 85 6 L 116.628906 6 L 116.628906 33 L 85 33 Z M 85 6 \"/>\n",
       "</clipPath>\n",
       "<clipPath id=\"clip-1544992871540607-3\">\n",
       "  <path d=\"M 85 21 L 116.628906 21 L 116.628906 48 L 85 48 Z M 85 21 \"/>\n",
       "</clipPath>\n",
       "</defs>\n",
       "<g id=\"surface1\">\n",
       "<path style=\"fill:none;stroke-width:0.3985;stroke-linecap:butt;stroke-linejoin:miter;stroke:rgb(0%,0%,0%);stroke-opacity:1;stroke-miterlimit:10;\" d=\"M -0.00190625 14.945438 C 11.474656 14.945438 17.1895 8.113406 25.306687 0.000125 \" transform=\"matrix(1,0,0,-1,0.498,27.297)\"/>\n",
       "<path style=\"fill:none;stroke-width:0.3985;stroke-linecap:butt;stroke-linejoin:miter;stroke:rgb(0%,0%,0%);stroke-opacity:1;stroke-miterlimit:10;\" d=\"M -0.00190625 -14.945187 C 11.474656 -14.945187 17.1895 -8.113156 25.306687 0.000125 \" transform=\"matrix(1,0,0,-1,0.498,27.297)\"/>\n",
       "<path style=\"fill:none;stroke-width:0.3985;stroke-linecap:butt;stroke-linejoin:miter;stroke:rgb(0%,0%,0%);stroke-opacity:1;stroke-miterlimit:10;\" d=\"M 11.222031 11.954781 L 4.182969 11.954781 C 1.98375 11.954781 0.198594 10.169625 0.198594 7.970406 L 0.198594 -7.971 C 0.198594 -10.170219 1.98375 -11.955375 4.182969 -11.955375 L 11.222031 -11.955375 C 13.425156 -11.955375 15.206406 -10.170219 15.206406 -7.971 L 15.206406 7.970406 C 15.206406 10.169625 13.425156 11.954781 11.222031 11.954781 Z M 11.222031 11.954781 \" transform=\"matrix(1,0,0,-1,50.61,12.154)\"/>\n",
       "<g style=\"fill:rgb(0%,0%,0%);fill-opacity:1;\">\n",
       "  <use xlink:href=\"#glyph-1544992871540607-0-1\" x=\"54.79\" y=\"15.143\"/>\n",
       "</g>\n",
       "<g clip-path=\"url(#clip-1544992871540607-1)\" clip-rule=\"nonzero\">\n",
       "<path style=\"fill:none;stroke-width:0.3985;stroke-linecap:butt;stroke-linejoin:miter;stroke:rgb(0%,0%,0%);stroke-opacity:1;stroke-miterlimit:10;\" d=\"M 11.222031 -18.330375 L 4.182969 -18.330375 C 1.98375 -18.330375 0.198594 -20.115531 0.198594 -22.31475 L 0.198594 -38.256156 C 0.198594 -40.459281 1.98375 -42.240531 4.182969 -42.240531 L 11.222031 -42.240531 C 13.425156 -42.240531 15.206406 -40.459281 15.206406 -38.256156 L 15.206406 -22.31475 C 15.206406 -20.115531 13.425156 -18.330375 11.222031 -18.330375 Z M 11.222031 -18.330375 \" transform=\"matrix(1,0,0,-1,50.61,12.154)\"/>\n",
       "</g>\n",
       "<g style=\"fill:rgb(0%,0%,0%);fill-opacity:1;\">\n",
       "  <use xlink:href=\"#glyph-1544992871540607-0-1\" x=\"54.79\" y=\"45.429\"/>\n",
       "</g>\n",
       "<path style=\"fill:none;stroke-width:0.3985;stroke-linecap:butt;stroke-linejoin:miter;stroke:rgb(0%,0%,0%);stroke-opacity:1;stroke-miterlimit:10;\" d=\"M 25.306687 0.000125 C 33.334031 8.027469 38.759813 15.144656 50.111375 15.144656 \" transform=\"matrix(1,0,0,-1,0.498,27.297)\"/>\n",
       "<path style=\"fill:none;stroke-width:0.3985;stroke-linecap:butt;stroke-linejoin:miter;stroke:rgb(0%,0%,0%);stroke-opacity:1;stroke-miterlimit:10;\" d=\"M 25.306687 0.000125 C 33.334031 -8.027219 38.759813 -15.144406 50.111375 -15.144406 \" transform=\"matrix(1,0,0,-1,0.498,27.297)\"/>\n",
       "<path style=\"fill:none;stroke-width:0.3985;stroke-linecap:butt;stroke-linejoin:miter;stroke:rgb(0%,0%,0%);stroke-opacity:1;stroke-miterlimit:10;\" d=\"M 65.521531 15.144656 C 76.873094 15.144656 82.298875 8.027469 90.326219 0.000125 \" transform=\"matrix(1,0,0,-1,0.498,27.297)\"/>\n",
       "<path style=\"fill:none;stroke-width:0.3985;stroke-linecap:butt;stroke-linejoin:miter;stroke:rgb(0%,0%,0%);stroke-opacity:1;stroke-miterlimit:10;\" d=\"M 65.521531 -15.144406 C 76.873094 -15.144406 82.298875 -8.027219 90.326219 0.000125 \" transform=\"matrix(1,0,0,-1,0.498,27.297)\"/>\n",
       "<g clip-path=\"url(#clip-1544992871540607-2)\" clip-rule=\"nonzero\">\n",
       "<path style=\"fill:none;stroke-width:0.3985;stroke-linecap:butt;stroke-linejoin:miter;stroke:rgb(0%,0%,0%);stroke-opacity:1;stroke-miterlimit:10;\" d=\"M 90.326219 0.000125 C 98.443406 8.113406 104.15825 14.945438 115.630906 14.945438 \" transform=\"matrix(1,0,0,-1,0.498,27.297)\"/>\n",
       "</g>\n",
       "<g clip-path=\"url(#clip-1544992871540607-3)\" clip-rule=\"nonzero\">\n",
       "<path style=\"fill:none;stroke-width:0.3985;stroke-linecap:butt;stroke-linejoin:miter;stroke:rgb(0%,0%,0%);stroke-opacity:1;stroke-miterlimit:10;\" d=\"M 90.326219 0.000125 C 98.443406 -8.113156 104.15825 -14.945187 115.630906 -14.945187 \" transform=\"matrix(1,0,0,-1,0.498,27.297)\"/>\n",
       "</g>\n",
       "</g>\n",
       "</svg>\n",
       "\n"
      ],
      "text/plain": [
       "Catlab.Graphics.TikZ.Picture(Catlab.Graphics.TikZ.Statement[Node(\"n\", Catlab.Graphics.TikZ.Property[Property(\"container\", Nullable{AbstractString}())], Nullable{Coordinate}(), Picture(Catlab.Graphics.TikZ.Statement[Node(\"n1\", Catlab.Graphics.TikZ.Property[Property(\"minimum height\", Nullable{AbstractString}(\"4.5em\"))], Nullable{Coordinate}(), \"\"), Node(\"n2\", Catlab.Graphics.TikZ.Property[Property(\"minimum height\", Nullable{AbstractString}(\"4.5em\")), Property(\"right=2em of n1)\", Nullable{AbstractString}())], Nullable{Coordinate}(), \"\"), Edge(\"\\$(n1.center)+(0,1.25em)\\$\", \"n2.center\", PathOperation(\"to\", Catlab.Graphics.TikZ.Property[Property(\"out\", Nullable{AbstractString}(\"0\")), Property(\"in\", Nullable{AbstractString}(\"135\"))]), Catlab.Graphics.TikZ.Property[], Nullable{EdgeNode}()), Edge(\"\\$(n1.center)+(0,-1.25em)\\$\", \"n2.center\", PathOperation(\"to\", Catlab.Graphics.TikZ.Property[Property(\"out\", Nullable{AbstractString}(\"0\")), Property(\"in\", Nullable{AbstractString}(\"225\"))]), Catlab.Graphics.TikZ.Property[], Nullable{EdgeNode}()), Node(\"n3\", Catlab.Graphics.TikZ.Property[Property(\"container\", Nullable{AbstractString}()), Property(\"right=2em of n2)\", Nullable{AbstractString}())], Nullable{Coordinate}(), Picture(Catlab.Graphics.TikZ.Statement[Node(\"n31\", Catlab.Graphics.TikZ.Property[Property(\"draw\", Nullable{AbstractString}()), Property(\"solid\", Nullable{AbstractString}()), Property(\"inner sep\", Nullable{AbstractString}(\"0.333em\")), Property(\"rectangle\", Nullable{AbstractString}()), Property(\"rounded corners\", Nullable{AbstractString}()), Property(\"minimum height\", Nullable{AbstractString}(\"2.0em\"))], Nullable{Coordinate}(), \"f\"), Node(\"n32\", Catlab.Graphics.TikZ.Property[Property(\"draw\", Nullable{AbstractString}()), Property(\"solid\", Nullable{AbstractString}()), Property(\"inner sep\", Nullable{AbstractString}(\"0.333em\")), Property(\"rectangle\", Nullable{AbstractString}()), Property(\"rounded corners\", Nullable{AbstractString}()), Property(\"minimum height\", Nullable{AbstractString}(\"2.0em\")), Property(\"below=0.5em of n31\", Nullable{AbstractString}())], Nullable{Coordinate}(), \"f\")], Catlab.Graphics.TikZ.Property[])), Edge(\"n2.center\", \"n31.west\", PathOperation(\"to\", Catlab.Graphics.TikZ.Property[Property(\"out\", Nullable{AbstractString}(\"45\")), Property(\"in\", Nullable{AbstractString}(\"180\"))]), Catlab.Graphics.TikZ.Property[], Nullable{EdgeNode}()), Edge(\"n2.center\", \"n32.west\", PathOperation(\"to\", Catlab.Graphics.TikZ.Property[Property(\"out\", Nullable{AbstractString}(\"315\")), Property(\"in\", Nullable{AbstractString}(\"180\"))]), Catlab.Graphics.TikZ.Property[], Nullable{EdgeNode}()), Node(\"n4\", Catlab.Graphics.TikZ.Property[Property(\"minimum height\", Nullable{AbstractString}(\"4.5em\")), Property(\"right=2em of n3)\", Nullable{AbstractString}())], Nullable{Coordinate}(), \"\"), Edge(\"n31.east\", \"n4.center\", PathOperation(\"to\", Catlab.Graphics.TikZ.Property[Property(\"out\", Nullable{AbstractString}(\"0\")), Property(\"in\", Nullable{AbstractString}(\"135\"))]), Catlab.Graphics.TikZ.Property[], Nullable{EdgeNode}()), Edge(\"n32.east\", \"n4.center\", PathOperation(\"to\", Catlab.Graphics.TikZ.Property[Property(\"out\", Nullable{AbstractString}(\"0\")), Property(\"in\", Nullable{AbstractString}(\"225\"))]), Catlab.Graphics.TikZ.Property[], Nullable{EdgeNode}()), Node(\"n5\", Catlab.Graphics.TikZ.Property[Property(\"minimum height\", Nullable{AbstractString}(\"4.5em\")), Property(\"right=2em of n4)\", Nullable{AbstractString}())], Nullable{Coordinate}(), \"\"), Edge(\"n4.center\", \"\\$(n5.center)+(0,1.25em)\\$\", PathOperation(\"to\", Catlab.Graphics.TikZ.Property[Property(\"out\", Nullable{AbstractString}(\"45\")), Property(\"in\", Nullable{AbstractString}(\"180\"))]), Catlab.Graphics.TikZ.Property[], Nullable{EdgeNode}()), Edge(\"n4.center\", \"\\$(n5.center)+(0,-1.25em)\\$\", PathOperation(\"to\", Catlab.Graphics.TikZ.Property[Property(\"out\", Nullable{AbstractString}(\"315\")), Property(\"in\", Nullable{AbstractString}(\"180\"))]), Catlab.Graphics.TikZ.Property[], Nullable{EdgeNode}())], Catlab.Graphics.TikZ.Property[]))], Catlab.Graphics.TikZ.Property[Property(\"remember picture\", Nullable{AbstractString}()), Property(\"font\", Nullable{AbstractString}(\"{\\\\fontsize{12}{14.4}}\")), Property(\"container/.style\", Nullable{AbstractString}(\"{inner sep=0}\")), Property(\"every path/.style\", Nullable{AbstractString}(\"{solid, line width=0.4pt}\")), Property(\"execute at begin node\", Nullable{AbstractString}(\"\\$\")), Property(\"execute at end node\", Nullable{AbstractString}(\"\\$\"))])"
      ]
     },
     "execution_count": 12,
     "metadata": {},
     "output_type": "execute_result"
    }
   ],
   "source": [
    "to_tikz(twist)"
   ]
  },
  {
   "cell_type": "markdown",
   "metadata": {},
   "source": [
    "### Biproduct category"
   ]
  },
  {
   "cell_type": "code",
   "execution_count": 13,
   "metadata": {
    "collapsed": true
   },
   "outputs": [],
   "source": [
    "A, B = Ob(FreeBiproductCategory, :A, :B)\n",
    "f = Hom(:f, A, B)\n",
    "g = Hom(:g, B, A);"
   ]
  },
  {
   "cell_type": "code",
   "execution_count": 14,
   "metadata": {},
   "outputs": [
    {
     "data": {
      "text/latex": [
       "$\\Delta_{A} \\cdot \\left(f \\otimes f\\right) : A \\to B \\otimes B$"
      ],
      "text/plain": [
       "compose(mcopy(A),otimes(f,f))"
      ]
     },
     "execution_count": 14,
     "metadata": {},
     "output_type": "execute_result"
    }
   ],
   "source": [
    "split = compose(mcopy(A), otimes(f,f))"
   ]
  },
  {
   "cell_type": "code",
   "execution_count": 15,
   "metadata": {},
   "outputs": [
    {
     "data": {
      "image/svg+xml": [
       "<?xml version=\"1.0\" encoding=\"UTF-8\"?>\n",
       "<svg xmlns=\"http://www.w3.org/2000/svg\" xmlns:xlink=\"http://www.w3.org/1999/xlink\" width=\"94.705pt\" height=\"54.595pt\" viewBox=\"0 0 94.705 54.595\" version=\"1.1\">\n",
       "<defs>\n",
       "<g>\n",
       "<symbol overflow=\"visible\" id=\"glyph-1544992871540608-0-0\">\n",
       "<path style=\"stroke:none;\" d=\"\"/>\n",
       "</symbol>\n",
       "<symbol overflow=\"visible\" id=\"glyph-1544992871540608-0-1\">\n",
       "<path style=\"stroke:none;\" d=\"M 5.328125 -4.8125 C 5.5625 -4.8125 5.671875 -4.8125 5.671875 -5.03125 C 5.671875 -5.15625 5.5625 -5.15625 5.359375 -5.15625 L 4.390625 -5.15625 C 4.609375 -6.390625 4.78125 -7.234375 4.875 -7.609375 C 4.953125 -7.90625 5.203125 -8.171875 5.515625 -8.171875 C 5.765625 -8.171875 6.015625 -8.0625 6.125 -7.953125 C 5.671875 -7.90625 5.515625 -7.5625 5.515625 -7.359375 C 5.515625 -7.125 5.703125 -6.984375 5.921875 -6.984375 C 6.171875 -6.984375 6.53125 -7.1875 6.53125 -7.640625 C 6.53125 -8.140625 6.03125 -8.421875 5.5 -8.421875 C 4.984375 -8.421875 4.484375 -8.03125 4.25 -7.5625 C 4.03125 -7.140625 3.90625 -6.71875 3.640625 -5.15625 L 2.828125 -5.15625 C 2.609375 -5.15625 2.484375 -5.15625 2.484375 -4.9375 C 2.484375 -4.8125 2.5625 -4.8125 2.796875 -4.8125 L 3.5625 -4.8125 C 3.34375 -3.6875 2.859375 -0.984375 2.578125 0.28125 C 2.375 1.328125 2.203125 2.203125 1.609375 2.203125 C 1.5625 2.203125 1.21875 2.203125 1 1.96875 C 1.609375 1.921875 1.609375 1.40625 1.609375 1.390625 C 1.609375 1.140625 1.4375 1 1.203125 1 C 0.96875 1 0.609375 1.203125 0.609375 1.65625 C 0.609375 2.171875 1.140625 2.4375 1.609375 2.4375 C 2.828125 2.4375 3.328125 0.25 3.453125 -0.34375 C 3.671875 -1.265625 4.25 -4.453125 4.3125 -4.8125 Z M 5.328125 -4.8125 \"/>\n",
       "</symbol>\n",
       "</g>\n",
       "<clipPath id=\"clip-1544992871540608-1\">\n",
       "  <path d=\"M 48 24 L 75 24 L 75 54.59375 L 48 54.59375 Z M 48 24 \"/>\n",
       "</clipPath>\n",
       "<clipPath id=\"clip-1544992871540608-2\">\n",
       "  <path d=\"M 63 6 L 94.703125 6 L 94.703125 18 L 63 18 Z M 63 6 \"/>\n",
       "</clipPath>\n",
       "<clipPath id=\"clip-1544992871540608-3\">\n",
       "  <path d=\"M 63 36 L 94.703125 36 L 94.703125 49 L 63 49 Z M 63 36 \"/>\n",
       "</clipPath>\n",
       "</defs>\n",
       "<g id=\"surface1\">\n",
       "<path style=\"fill-rule:nonzero;fill:rgb(0%,0%,0%);fill-opacity:1;stroke-width:0.3985;stroke-linecap:butt;stroke-linejoin:miter;stroke:rgb(0%,0%,0%);stroke-opacity:1;stroke-miterlimit:10;\" d=\"M 2.687375 0.000125 C 2.687375 1.097781 1.79675 1.992313 0.699094 1.992313 C -0.402469 1.992313 -1.293094 1.097781 -1.293094 0.000125 C -1.293094 -1.097531 -0.402469 -1.992062 0.699094 -1.992062 C 1.79675 -1.992062 2.687375 -1.097531 2.687375 0.000125 Z M 2.687375 0.000125 \" transform=\"matrix(1,0,0,-1,26.797,27.297)\"/>\n",
       "<path style=\"fill:none;stroke-width:0.3985;stroke-linecap:butt;stroke-linejoin:miter;stroke:rgb(0%,0%,0%);stroke-opacity:1;stroke-miterlimit:10;\" d=\"M -0.00190625 0.000125 C 9.673875 0.000125 15.134813 0.000125 24.806687 0.000125 \" transform=\"matrix(1,0,0,-1,0.498,27.297)\"/>\n",
       "<path style=\"fill:none;stroke-width:0.3985;stroke-linecap:butt;stroke-linejoin:miter;stroke:rgb(0%,0%,0%);stroke-opacity:1;stroke-miterlimit:10;\" d=\"M 11.221844 11.954781 L 4.182781 11.954781 C 1.983562 11.954781 0.198406 10.169625 0.198406 7.970406 L 0.198406 -7.971 C 0.198406 -10.170219 1.983562 -11.955375 4.182781 -11.955375 L 11.221844 -11.955375 C 13.424969 -11.955375 15.206219 -10.170219 15.206219 -7.971 L 15.206219 7.970406 C 15.206219 10.169625 13.424969 11.954781 11.221844 11.954781 Z M 11.221844 11.954781 \" transform=\"matrix(1,0,0,-1,53.993,12.154)\"/>\n",
       "<g style=\"fill:rgb(0%,0%,0%);fill-opacity:1;\">\n",
       "  <use xlink:href=\"#glyph-1544992871540608-0-1\" x=\"58.174\" y=\"15.143\"/>\n",
       "</g>\n",
       "<g clip-path=\"url(#clip-1544992871540608-1)\" clip-rule=\"nonzero\">\n",
       "<path style=\"fill:none;stroke-width:0.3985;stroke-linecap:butt;stroke-linejoin:miter;stroke:rgb(0%,0%,0%);stroke-opacity:1;stroke-miterlimit:10;\" d=\"M 11.221844 -18.330375 L 4.182781 -18.330375 C 1.983562 -18.330375 0.198406 -20.115531 0.198406 -22.31475 L 0.198406 -38.256156 C 0.198406 -40.459281 1.983562 -42.240531 4.182781 -42.240531 L 11.221844 -42.240531 C 13.424969 -42.240531 15.206219 -40.459281 15.206219 -38.256156 L 15.206219 -22.31475 C 15.206219 -20.115531 13.424969 -18.330375 11.221844 -18.330375 Z M 11.221844 -18.330375 \" transform=\"matrix(1,0,0,-1,53.993,12.154)\"/>\n",
       "</g>\n",
       "<g style=\"fill:rgb(0%,0%,0%);fill-opacity:1;\">\n",
       "  <use xlink:href=\"#glyph-1544992871540608-0-1\" x=\"58.174\" y=\"45.429\"/>\n",
       "</g>\n",
       "<path style=\"fill:none;stroke-width:0.3985;stroke-linecap:butt;stroke-linejoin:miter;stroke:rgb(0%,0%,0%);stroke-opacity:1;stroke-miterlimit:10;\" d=\"M 28.900437 1.097781 C 38.474656 6.625125 42.443406 15.144656 53.494188 15.144656 \" transform=\"matrix(1,0,0,-1,0.498,27.297)\"/>\n",
       "<path style=\"fill:none;stroke-width:0.3985;stroke-linecap:butt;stroke-linejoin:miter;stroke:rgb(0%,0%,0%);stroke-opacity:1;stroke-miterlimit:10;\" d=\"M 28.900437 -1.097531 C 38.474656 -6.624875 42.443406 -15.144406 53.494188 -15.144406 \" transform=\"matrix(1,0,0,-1,0.498,27.297)\"/>\n",
       "<g clip-path=\"url(#clip-1544992871540608-2)\" clip-rule=\"nonzero\">\n",
       "<path style=\"fill:none;stroke-width:0.3985;stroke-linecap:butt;stroke-linejoin:miter;stroke:rgb(0%,0%,0%);stroke-opacity:1;stroke-miterlimit:10;\" d=\"M 68.904344 15.144656 C 78.576219 15.144656 84.037156 14.945438 93.709031 14.945438 \" transform=\"matrix(1,0,0,-1,0.498,27.297)\"/>\n",
       "</g>\n",
       "<g clip-path=\"url(#clip-1544992871540608-3)\" clip-rule=\"nonzero\">\n",
       "<path style=\"fill:none;stroke-width:0.3985;stroke-linecap:butt;stroke-linejoin:miter;stroke:rgb(0%,0%,0%);stroke-opacity:1;stroke-miterlimit:10;\" d=\"M 68.904344 -15.144406 C 78.576219 -15.144406 84.037156 -14.945187 93.709031 -14.945187 \" transform=\"matrix(1,0,0,-1,0.498,27.297)\"/>\n",
       "</g>\n",
       "</g>\n",
       "</svg>\n",
       "\n"
      ],
      "text/plain": [
       "Catlab.Graphics.TikZ.Picture(Catlab.Graphics.TikZ.Statement[Node(\"n\", Catlab.Graphics.TikZ.Property[Property(\"container\", Nullable{AbstractString}())], Nullable{Coordinate}(), Picture(Catlab.Graphics.TikZ.Statement[Node(\"n1\", Catlab.Graphics.TikZ.Property[Property(\"minimum height\", Nullable{AbstractString}(\"2.0em\"))], Nullable{Coordinate}(), \"\"), Node(\"n2\", Catlab.Graphics.TikZ.Property[Property(\"container\", Nullable{AbstractString}()), Property(\"right=2em of n1)\", Nullable{AbstractString}())], Nullable{Coordinate}(), Picture(Catlab.Graphics.TikZ.Statement[Node(\"n2 box\", Catlab.Graphics.TikZ.Property[Property(\"minimum height\", Nullable{AbstractString}(\"4.5em\"))], Nullable{Coordinate}(), \"\"), Node(\"n2 point\", Catlab.Graphics.TikZ.Property[Property(\"draw\", Nullable{AbstractString}()), Property(\"fill\", Nullable{AbstractString}()), Property(\"circle\", Nullable{AbstractString}()), Property(\"minimum size\", Nullable{AbstractString}(\"0.333em\")), Property(\"above\", Nullable{AbstractString}(\"0 of n2 box.center\")), Property(\"anchor\", Nullable{AbstractString}(\"center\"))], Nullable{Coordinate}(), \"\")], Catlab.Graphics.TikZ.Property[])), Edge(\"n1.center\", \"n2 point.180\", PathOperation(\"to\", Catlab.Graphics.TikZ.Property[Property(\"out\", Nullable{AbstractString}(\"0\")), Property(\"in\", Nullable{AbstractString}(\"180\"))]), Catlab.Graphics.TikZ.Property[], Nullable{EdgeNode}()), Node(\"n3\", Catlab.Graphics.TikZ.Property[Property(\"container\", Nullable{AbstractString}()), Property(\"right=2em of n2)\", Nullable{AbstractString}())], Nullable{Coordinate}(), Picture(Catlab.Graphics.TikZ.Statement[Node(\"n31\", Catlab.Graphics.TikZ.Property[Property(\"draw\", Nullable{AbstractString}()), Property(\"solid\", Nullable{AbstractString}()), Property(\"inner sep\", Nullable{AbstractString}(\"0.333em\")), Property(\"rectangle\", Nullable{AbstractString}()), Property(\"rounded corners\", Nullable{AbstractString}()), Property(\"minimum height\", Nullable{AbstractString}(\"2.0em\"))], Nullable{Coordinate}(), \"f\"), Node(\"n32\", Catlab.Graphics.TikZ.Property[Property(\"draw\", Nullable{AbstractString}()), Property(\"solid\", Nullable{AbstractString}()), Property(\"inner sep\", Nullable{AbstractString}(\"0.333em\")), Property(\"rectangle\", Nullable{AbstractString}()), Property(\"rounded corners\", Nullable{AbstractString}()), Property(\"minimum height\", Nullable{AbstractString}(\"2.0em\")), Property(\"below=0.5em of n31\", Nullable{AbstractString}())], Nullable{Coordinate}(), \"f\")], Catlab.Graphics.TikZ.Property[])), Edge(\"n2 point.30\", \"n31.west\", PathOperation(\"to\", Catlab.Graphics.TikZ.Property[Property(\"out\", Nullable{AbstractString}(\"30\")), Property(\"in\", Nullable{AbstractString}(\"180\"))]), Catlab.Graphics.TikZ.Property[], Nullable{EdgeNode}()), Edge(\"n2 point.330\", \"n32.west\", PathOperation(\"to\", Catlab.Graphics.TikZ.Property[Property(\"out\", Nullable{AbstractString}(\"330\")), Property(\"in\", Nullable{AbstractString}(\"180\"))]), Catlab.Graphics.TikZ.Property[], Nullable{EdgeNode}()), Node(\"n4\", Catlab.Graphics.TikZ.Property[Property(\"minimum height\", Nullable{AbstractString}(\"4.5em\")), Property(\"right=2em of n3)\", Nullable{AbstractString}())], Nullable{Coordinate}(), \"\"), Edge(\"n31.east\", \"\\$(n4.center)+(0,1.25em)\\$\", PathOperation(\"to\", Catlab.Graphics.TikZ.Property[Property(\"out\", Nullable{AbstractString}(\"0\")), Property(\"in\", Nullable{AbstractString}(\"180\"))]), Catlab.Graphics.TikZ.Property[], Nullable{EdgeNode}()), Edge(\"n32.east\", \"\\$(n4.center)+(0,-1.25em)\\$\", PathOperation(\"to\", Catlab.Graphics.TikZ.Property[Property(\"out\", Nullable{AbstractString}(\"0\")), Property(\"in\", Nullable{AbstractString}(\"180\"))]), Catlab.Graphics.TikZ.Property[], Nullable{EdgeNode}())], Catlab.Graphics.TikZ.Property[]))], Catlab.Graphics.TikZ.Property[Property(\"remember picture\", Nullable{AbstractString}()), Property(\"font\", Nullable{AbstractString}(\"{\\\\fontsize{12}{14.4}}\")), Property(\"container/.style\", Nullable{AbstractString}(\"{inner sep=0}\")), Property(\"every path/.style\", Nullable{AbstractString}(\"{solid, line width=0.4pt}\")), Property(\"execute at begin node\", Nullable{AbstractString}(\"\\$\")), Property(\"execute at end node\", Nullable{AbstractString}(\"\\$\"))])"
      ]
     },
     "execution_count": 15,
     "metadata": {},
     "output_type": "execute_result"
    }
   ],
   "source": [
    "to_tikz(split)"
   ]
  },
  {
   "cell_type": "code",
   "execution_count": 16,
   "metadata": {},
   "outputs": [
    {
     "data": {
      "text/latex": [
       "$\\Delta_{A} \\cdot \\left(f \\otimes f\\right) \\cdot \\nabla_{B} : A \\to B$"
      ],
      "text/plain": [
       "compose(mcopy(A),otimes(f,f),mmerge(B))"
      ]
     },
     "execution_count": 16,
     "metadata": {},
     "output_type": "execute_result"
    }
   ],
   "source": [
    "combine = compose(split, mmerge(B))"
   ]
  },
  {
   "cell_type": "code",
   "execution_count": 17,
   "metadata": {},
   "outputs": [
    {
     "data": {
      "image/svg+xml": [
       "<?xml version=\"1.0\" encoding=\"UTF-8\"?>\n",
       "<svg xmlns=\"http://www.w3.org/2000/svg\" xmlns:xlink=\"http://www.w3.org/1999/xlink\" width=\"123.394pt\" height=\"54.595pt\" viewBox=\"0 0 123.394 54.595\" version=\"1.1\">\n",
       "<defs>\n",
       "<g>\n",
       "<symbol overflow=\"visible\" id=\"glyph-1544992871540609-0-0\">\n",
       "<path style=\"stroke:none;\" d=\"\"/>\n",
       "</symbol>\n",
       "<symbol overflow=\"visible\" id=\"glyph-1544992871540609-0-1\">\n",
       "<path style=\"stroke:none;\" d=\"M 2.03125 -1.328125 C 1.609375 -0.625 1.203125 -0.375 0.640625 -0.34375 C 0.5 -0.328125 0.40625 -0.328125 0.40625 -0.125 C 0.40625 -0.046875 0.46875 0 0.546875 0 C 0.765625 0 1.296875 -0.03125 1.515625 -0.03125 C 1.859375 -0.03125 2.25 0 2.578125 0 C 2.65625 0 2.796875 0 2.796875 -0.234375 C 2.796875 -0.328125 2.703125 -0.34375 2.625 -0.34375 C 2.359375 -0.375 2.125 -0.46875 2.125 -0.75 C 2.125 -0.921875 2.203125 -1.046875 2.359375 -1.3125 L 3.265625 -2.828125 L 6.3125 -2.828125 C 6.328125 -2.71875 6.328125 -2.625 6.328125 -2.515625 C 6.375 -2.203125 6.515625 -0.953125 6.515625 -0.734375 C 6.515625 -0.375 5.90625 -0.34375 5.71875 -0.34375 C 5.578125 -0.34375 5.453125 -0.34375 5.453125 -0.125 C 5.453125 0 5.5625 0 5.625 0 C 5.828125 0 6.078125 -0.03125 6.28125 -0.03125 L 6.953125 -0.03125 C 7.6875 -0.03125 8.21875 0 8.21875 0 C 8.3125 0 8.4375 0 8.4375 -0.234375 C 8.4375 -0.34375 8.328125 -0.34375 8.15625 -0.34375 C 7.5 -0.34375 7.484375 -0.453125 7.453125 -0.8125 L 6.71875 -8.265625 C 6.6875 -8.515625 6.640625 -8.53125 6.515625 -8.53125 C 6.390625 -8.53125 6.328125 -8.515625 6.21875 -8.328125 Z M 3.46875 -3.171875 L 5.875 -7.1875 L 6.28125 -3.171875 Z M 3.46875 -3.171875 \"/>\n",
       "</symbol>\n",
       "<symbol overflow=\"visible\" id=\"glyph-1544992871540609-0-2\">\n",
       "<path style=\"stroke:none;\" d=\"M 5.328125 -4.8125 C 5.5625 -4.8125 5.671875 -4.8125 5.671875 -5.03125 C 5.671875 -5.15625 5.5625 -5.15625 5.359375 -5.15625 L 4.390625 -5.15625 C 4.609375 -6.390625 4.78125 -7.234375 4.875 -7.609375 C 4.953125 -7.90625 5.203125 -8.171875 5.515625 -8.171875 C 5.765625 -8.171875 6.015625 -8.0625 6.125 -7.953125 C 5.671875 -7.90625 5.515625 -7.5625 5.515625 -7.359375 C 5.515625 -7.125 5.703125 -6.984375 5.921875 -6.984375 C 6.171875 -6.984375 6.53125 -7.1875 6.53125 -7.640625 C 6.53125 -8.140625 6.03125 -8.421875 5.5 -8.421875 C 4.984375 -8.421875 4.484375 -8.03125 4.25 -7.5625 C 4.03125 -7.140625 3.90625 -6.71875 3.640625 -5.15625 L 2.828125 -5.15625 C 2.609375 -5.15625 2.484375 -5.15625 2.484375 -4.9375 C 2.484375 -4.8125 2.5625 -4.8125 2.796875 -4.8125 L 3.5625 -4.8125 C 3.34375 -3.6875 2.859375 -0.984375 2.578125 0.28125 C 2.375 1.328125 2.203125 2.203125 1.609375 2.203125 C 1.5625 2.203125 1.21875 2.203125 1 1.96875 C 1.609375 1.921875 1.609375 1.40625 1.609375 1.390625 C 1.609375 1.140625 1.4375 1 1.203125 1 C 0.96875 1 0.609375 1.203125 0.609375 1.65625 C 0.609375 2.171875 1.140625 2.4375 1.609375 2.4375 C 2.828125 2.4375 3.328125 0.25 3.453125 -0.34375 C 3.671875 -1.265625 4.25 -4.453125 4.3125 -4.8125 Z M 5.328125 -4.8125 \"/>\n",
       "</symbol>\n",
       "<symbol overflow=\"visible\" id=\"glyph-1544992871540609-0-3\">\n",
       "<path style=\"stroke:none;\" d=\"M 4.375 -7.34375 C 4.484375 -7.796875 4.53125 -7.8125 5 -7.8125 L 6.546875 -7.8125 C 7.90625 -7.8125 7.90625 -6.671875 7.90625 -6.5625 C 7.90625 -5.59375 6.9375 -4.359375 5.359375 -4.359375 L 3.640625 -4.359375 Z M 6.390625 -4.265625 C 7.703125 -4.5 8.875 -5.421875 8.875 -6.515625 C 8.875 -7.453125 8.0625 -8.15625 6.703125 -8.15625 L 2.875 -8.15625 C 2.640625 -8.15625 2.53125 -8.15625 2.53125 -7.9375 C 2.53125 -7.8125 2.640625 -7.8125 2.828125 -7.8125 C 3.546875 -7.8125 3.546875 -7.71875 3.546875 -7.59375 C 3.546875 -7.5625 3.546875 -7.5 3.5 -7.3125 L 1.890625 -0.890625 C 1.78125 -0.46875 1.75 -0.34375 0.921875 -0.34375 C 0.6875 -0.34375 0.578125 -0.34375 0.578125 -0.125 C 0.578125 0 0.640625 0 0.890625 0 L 4.984375 0 C 6.8125 0 8.21875 -1.390625 8.21875 -2.59375 C 8.21875 -3.578125 7.359375 -4.171875 6.390625 -4.265625 Z M 4.703125 -0.34375 L 3.078125 -0.34375 C 2.921875 -0.34375 2.890625 -0.34375 2.828125 -0.359375 C 2.6875 -0.375 2.671875 -0.390625 2.671875 -0.484375 C 2.671875 -0.578125 2.703125 -0.640625 2.71875 -0.75 L 3.5625 -4.125 L 5.8125 -4.125 C 7.21875 -4.125 7.21875 -2.8125 7.21875 -2.71875 C 7.21875 -1.5625 6.1875 -0.34375 4.703125 -0.34375 Z M 4.703125 -0.34375 \"/>\n",
       "</symbol>\n",
       "</g>\n",
       "<clipPath id=\"clip-1544992871540609-1\">\n",
       "  <path d=\"M 48 24 L 75 24 L 75 54.59375 L 48 54.59375 Z M 48 24 \"/>\n",
       "</clipPath>\n",
       "<clipPath id=\"clip-1544992871540609-2\">\n",
       "  <path d=\"M 92 21 L 123.394531 21 L 123.394531 33 L 92 33 Z M 92 21 \"/>\n",
       "</clipPath>\n",
       "</defs>\n",
       "<g id=\"surface1\">\n",
       "<path style=\"fill-rule:nonzero;fill:rgb(0%,0%,0%);fill-opacity:1;stroke-width:0.3985;stroke-linecap:butt;stroke-linejoin:miter;stroke:rgb(0%,0%,0%);stroke-opacity:1;stroke-miterlimit:10;\" d=\"M 2.687375 0.000125 C 2.687375 1.097781 1.79675 1.992313 0.699094 1.992313 C -0.402469 1.992313 -1.293094 1.097781 -1.293094 0.000125 C -1.293094 -1.097531 -0.402469 -1.992062 0.699094 -1.992062 C 1.79675 -1.992062 2.687375 -1.097531 2.687375 0.000125 Z M 2.687375 0.000125 \" transform=\"matrix(1,0,0,-1,26.797,27.297)\"/>\n",
       "<path style=\"fill:none;stroke-width:0.3985;stroke-linecap:butt;stroke-linejoin:miter;stroke:rgb(0%,0%,0%);stroke-opacity:1;stroke-miterlimit:10;\" d=\"M -0.00190625 0.000125 C 9.673875 0.000125 15.134813 0.000125 24.806687 0.000125 \" transform=\"matrix(1,0,0,-1,0.498,27.297)\"/>\n",
       "<g style=\"fill:rgb(0%,0%,0%);fill-opacity:1;\">\n",
       "  <use xlink:href=\"#glyph-1544992871540609-0-1\" x=\"8.514\" y=\"24.109\"/>\n",
       "</g>\n",
       "<path style=\"fill:none;stroke-width:0.3985;stroke-linecap:butt;stroke-linejoin:miter;stroke:rgb(0%,0%,0%);stroke-opacity:1;stroke-miterlimit:10;\" d=\"M 11.221844 11.954781 L 4.182781 11.954781 C 1.983562 11.954781 0.198406 10.169625 0.198406 7.970406 L 0.198406 -7.971 C 0.198406 -10.170219 1.983562 -11.955375 4.182781 -11.955375 L 11.221844 -11.955375 C 13.424969 -11.955375 15.206219 -10.170219 15.206219 -7.971 L 15.206219 7.970406 C 15.206219 10.169625 13.424969 11.954781 11.221844 11.954781 Z M 11.221844 11.954781 \" transform=\"matrix(1,0,0,-1,53.993,12.154)\"/>\n",
       "<g style=\"fill:rgb(0%,0%,0%);fill-opacity:1;\">\n",
       "  <use xlink:href=\"#glyph-1544992871540609-0-2\" x=\"58.174\" y=\"15.143\"/>\n",
       "</g>\n",
       "<g clip-path=\"url(#clip-1544992871540609-1)\" clip-rule=\"nonzero\">\n",
       "<path style=\"fill:none;stroke-width:0.3985;stroke-linecap:butt;stroke-linejoin:miter;stroke:rgb(0%,0%,0%);stroke-opacity:1;stroke-miterlimit:10;\" d=\"M 11.221844 -18.330375 L 4.182781 -18.330375 C 1.983562 -18.330375 0.198406 -20.115531 0.198406 -22.31475 L 0.198406 -38.256156 C 0.198406 -40.459281 1.983562 -42.240531 4.182781 -42.240531 L 11.221844 -42.240531 C 13.424969 -42.240531 15.206219 -40.459281 15.206219 -38.256156 L 15.206219 -22.31475 C 15.206219 -20.115531 13.424969 -18.330375 11.221844 -18.330375 Z M 11.221844 -18.330375 \" transform=\"matrix(1,0,0,-1,53.993,12.154)\"/>\n",
       "</g>\n",
       "<g style=\"fill:rgb(0%,0%,0%);fill-opacity:1;\">\n",
       "  <use xlink:href=\"#glyph-1544992871540609-0-2\" x=\"58.174\" y=\"45.429\"/>\n",
       "</g>\n",
       "<path style=\"fill:none;stroke-width:0.3985;stroke-linecap:butt;stroke-linejoin:miter;stroke:rgb(0%,0%,0%);stroke-opacity:1;stroke-miterlimit:10;\" d=\"M 28.900437 1.097781 C 38.474656 6.625125 42.443406 15.144656 53.494188 15.144656 \" transform=\"matrix(1,0,0,-1,0.498,27.297)\"/>\n",
       "<path style=\"fill:none;stroke-width:0.3985;stroke-linecap:butt;stroke-linejoin:miter;stroke:rgb(0%,0%,0%);stroke-opacity:1;stroke-miterlimit:10;\" d=\"M 28.900437 -1.097531 C 38.474656 -6.624875 42.443406 -15.144406 53.494188 -15.144406 \" transform=\"matrix(1,0,0,-1,0.498,27.297)\"/>\n",
       "<path style=\"fill-rule:nonzero;fill:rgb(0%,0%,0%);fill-opacity:1;stroke-width:0.3985;stroke-linecap:butt;stroke-linejoin:miter;stroke:rgb(0%,0%,0%);stroke-opacity:1;stroke-miterlimit:10;\" d=\"M 2.689625 0.000125 C 2.689625 1.097781 1.795094 1.992313 0.697437 1.992313 C -0.400219 1.992313 -1.29475 1.097781 -1.29475 0.000125 C -1.29475 -1.097531 -0.400219 -1.992062 0.697437 -1.992062 C 1.795094 -1.992062 2.689625 -1.097531 2.689625 0.000125 Z M 2.689625 0.000125 \" transform=\"matrix(1,0,0,-1,95.201,27.297)\"/>\n",
       "<path style=\"fill:none;stroke-width:0.3985;stroke-linecap:butt;stroke-linejoin:miter;stroke:rgb(0%,0%,0%);stroke-opacity:1;stroke-miterlimit:10;\" d=\"M 68.904344 15.144656 C 79.959031 15.144656 83.927781 6.625125 93.498094 1.097781 \" transform=\"matrix(1,0,0,-1,0.498,27.297)\"/>\n",
       "<path style=\"fill:none;stroke-width:0.3985;stroke-linecap:butt;stroke-linejoin:miter;stroke:rgb(0%,0%,0%);stroke-opacity:1;stroke-miterlimit:10;\" d=\"M 68.904344 -15.144406 C 79.959031 -15.144406 83.927781 -6.624875 93.498094 -1.097531 \" transform=\"matrix(1,0,0,-1,0.498,27.297)\"/>\n",
       "<g clip-path=\"url(#clip-1544992871540609-2)\" clip-rule=\"nonzero\">\n",
       "<path style=\"fill:none;stroke-width:0.3985;stroke-linecap:butt;stroke-linejoin:miter;stroke:rgb(0%,0%,0%);stroke-opacity:1;stroke-miterlimit:10;\" d=\"M 97.591844 0.000125 C 107.267625 0.000125 112.724656 0.000125 122.400437 0.000125 \" transform=\"matrix(1,0,0,-1,0.498,27.297)\"/>\n",
       "</g>\n",
       "<g style=\"fill:rgb(0%,0%,0%);fill-opacity:1;\">\n",
       "  <use xlink:href=\"#glyph-1544992871540609-0-3\" x=\"105.744\" y=\"24.109\"/>\n",
       "</g>\n",
       "</g>\n",
       "</svg>\n",
       "\n"
      ],
      "text/plain": [
       "Catlab.Graphics.TikZ.Picture(Catlab.Graphics.TikZ.Statement[Node(\"n\", Catlab.Graphics.TikZ.Property[Property(\"container\", Nullable{AbstractString}())], Nullable{Coordinate}(), Picture(Catlab.Graphics.TikZ.Statement[Node(\"n1\", Catlab.Graphics.TikZ.Property[Property(\"minimum height\", Nullable{AbstractString}(\"2.0em\"))], Nullable{Coordinate}(), \"\"), Node(\"n2\", Catlab.Graphics.TikZ.Property[Property(\"container\", Nullable{AbstractString}()), Property(\"right=2em of n1)\", Nullable{AbstractString}())], Nullable{Coordinate}(), Picture(Catlab.Graphics.TikZ.Statement[Node(\"n2 box\", Catlab.Graphics.TikZ.Property[Property(\"minimum height\", Nullable{AbstractString}(\"4.5em\"))], Nullable{Coordinate}(), \"\"), Node(\"n2 point\", Catlab.Graphics.TikZ.Property[Property(\"draw\", Nullable{AbstractString}()), Property(\"fill\", Nullable{AbstractString}()), Property(\"circle\", Nullable{AbstractString}()), Property(\"minimum size\", Nullable{AbstractString}(\"0.333em\")), Property(\"above\", Nullable{AbstractString}(\"0 of n2 box.center\")), Property(\"anchor\", Nullable{AbstractString}(\"center\"))], Nullable{Coordinate}(), \"\")], Catlab.Graphics.TikZ.Property[])), Edge(\"n1.center\", \"n2 point.180\", PathOperation(\"to\", Catlab.Graphics.TikZ.Property[Property(\"out\", Nullable{AbstractString}(\"0\")), Property(\"in\", Nullable{AbstractString}(\"180\"))]), Catlab.Graphics.TikZ.Property[], Nullable{EdgeNode}(EdgeNode(Catlab.Graphics.TikZ.Property[Property(\"above\", Nullable{AbstractString}(\"0.25em\")), Property(\"midway\", Nullable{AbstractString}())], Nullable{AbstractString}(\"A\")))), Node(\"n3\", Catlab.Graphics.TikZ.Property[Property(\"container\", Nullable{AbstractString}()), Property(\"right=2em of n2)\", Nullable{AbstractString}())], Nullable{Coordinate}(), Picture(Catlab.Graphics.TikZ.Statement[Node(\"n31\", Catlab.Graphics.TikZ.Property[Property(\"draw\", Nullable{AbstractString}()), Property(\"solid\", Nullable{AbstractString}()), Property(\"inner sep\", Nullable{AbstractString}(\"0.333em\")), Property(\"rectangle\", Nullable{AbstractString}()), Property(\"rounded corners\", Nullable{AbstractString}()), Property(\"minimum height\", Nullable{AbstractString}(\"2.0em\"))], Nullable{Coordinate}(), \"f\"), Node(\"n32\", Catlab.Graphics.TikZ.Property[Property(\"draw\", Nullable{AbstractString}()), Property(\"solid\", Nullable{AbstractString}()), Property(\"inner sep\", Nullable{AbstractString}(\"0.333em\")), Property(\"rectangle\", Nullable{AbstractString}()), Property(\"rounded corners\", Nullable{AbstractString}()), Property(\"minimum height\", Nullable{AbstractString}(\"2.0em\")), Property(\"below=0.5em of n31\", Nullable{AbstractString}())], Nullable{Coordinate}(), \"f\")], Catlab.Graphics.TikZ.Property[])), Edge(\"n2 point.30\", \"n31.west\", PathOperation(\"to\", Catlab.Graphics.TikZ.Property[Property(\"out\", Nullable{AbstractString}(\"30\")), Property(\"in\", Nullable{AbstractString}(\"180\"))]), Catlab.Graphics.TikZ.Property[], Nullable{EdgeNode}()), Edge(\"n2 point.330\", \"n32.west\", PathOperation(\"to\", Catlab.Graphics.TikZ.Property[Property(\"out\", Nullable{AbstractString}(\"330\")), Property(\"in\", Nullable{AbstractString}(\"180\"))]), Catlab.Graphics.TikZ.Property[], Nullable{EdgeNode}()), Node(\"n4\", Catlab.Graphics.TikZ.Property[Property(\"container\", Nullable{AbstractString}()), Property(\"right=2em of n3)\", Nullable{AbstractString}())], Nullable{Coordinate}(), Picture(Catlab.Graphics.TikZ.Statement[Node(\"n4 box\", Catlab.Graphics.TikZ.Property[Property(\"minimum height\", Nullable{AbstractString}(\"4.5em\"))], Nullable{Coordinate}(), \"\"), Node(\"n4 point\", Catlab.Graphics.TikZ.Property[Property(\"draw\", Nullable{AbstractString}()), Property(\"fill\", Nullable{AbstractString}()), Property(\"circle\", Nullable{AbstractString}()), Property(\"minimum size\", Nullable{AbstractString}(\"0.333em\")), Property(\"above\", Nullable{AbstractString}(\"0 of n4 box.center\")), Property(\"anchor\", Nullable{AbstractString}(\"center\"))], Nullable{Coordinate}(), \"\")], Catlab.Graphics.TikZ.Property[])), Edge(\"n31.east\", \"n4 point.150\", PathOperation(\"to\", Catlab.Graphics.TikZ.Property[Property(\"out\", Nullable{AbstractString}(\"0\")), Property(\"in\", Nullable{AbstractString}(\"150\"))]), Catlab.Graphics.TikZ.Property[], Nullable{EdgeNode}()), Edge(\"n32.east\", \"n4 point.210\", PathOperation(\"to\", Catlab.Graphics.TikZ.Property[Property(\"out\", Nullable{AbstractString}(\"0\")), Property(\"in\", Nullable{AbstractString}(\"210\"))]), Catlab.Graphics.TikZ.Property[], Nullable{EdgeNode}()), Node(\"n5\", Catlab.Graphics.TikZ.Property[Property(\"minimum height\", Nullable{AbstractString}(\"2.0em\")), Property(\"right=2em of n4)\", Nullable{AbstractString}())], Nullable{Coordinate}(), \"\"), Edge(\"n4 point.0\", \"n5.center\", PathOperation(\"to\", Catlab.Graphics.TikZ.Property[Property(\"out\", Nullable{AbstractString}(\"0\")), Property(\"in\", Nullable{AbstractString}(\"180\"))]), Catlab.Graphics.TikZ.Property[], Nullable{EdgeNode}(EdgeNode(Catlab.Graphics.TikZ.Property[Property(\"above\", Nullable{AbstractString}(\"0.25em\")), Property(\"midway\", Nullable{AbstractString}())], Nullable{AbstractString}(\"B\"))))], Catlab.Graphics.TikZ.Property[]))], Catlab.Graphics.TikZ.Property[Property(\"remember picture\", Nullable{AbstractString}()), Property(\"font\", Nullable{AbstractString}(\"{\\\\fontsize{12}{14.4}}\")), Property(\"container/.style\", Nullable{AbstractString}(\"{inner sep=0}\")), Property(\"every path/.style\", Nullable{AbstractString}(\"{solid, line width=0.4pt}\")), Property(\"execute at begin node\", Nullable{AbstractString}(\"\\$\")), Property(\"execute at end node\", Nullable{AbstractString}(\"\\$\"))])"
      ]
     },
     "execution_count": 17,
     "metadata": {},
     "output_type": "execute_result"
    }
   ],
   "source": [
    "to_tikz(combine, labels=true)"
   ]
  },
  {
   "cell_type": "code",
   "execution_count": 18,
   "metadata": {
    "scrolled": true
   },
   "outputs": [
    {
     "data": {
      "image/svg+xml": [
       "<?xml version=\"1.0\" encoding=\"UTF-8\"?>\n",
       "<svg xmlns=\"http://www.w3.org/2000/svg\" xmlns:xlink=\"http://www.w3.org/1999/xlink\" width=\"110.69pt\" height=\"24.309pt\" viewBox=\"0 0 110.69 24.309\" version=\"1.1\">\n",
       "<defs>\n",
       "<g>\n",
       "<symbol overflow=\"visible\" id=\"glyph-1544992871540610-0-0\">\n",
       "<path style=\"stroke:none;\" d=\"\"/>\n",
       "</symbol>\n",
       "<symbol overflow=\"visible\" id=\"glyph-1544992871540610-0-1\">\n",
       "<path style=\"stroke:none;\" d=\"M 5.328125 -4.8125 C 5.5625 -4.8125 5.671875 -4.8125 5.671875 -5.03125 C 5.671875 -5.15625 5.5625 -5.15625 5.359375 -5.15625 L 4.390625 -5.15625 C 4.609375 -6.390625 4.78125 -7.234375 4.875 -7.609375 C 4.953125 -7.90625 5.203125 -8.171875 5.515625 -8.171875 C 5.765625 -8.171875 6.015625 -8.0625 6.125 -7.953125 C 5.671875 -7.90625 5.515625 -7.5625 5.515625 -7.359375 C 5.515625 -7.125 5.703125 -6.984375 5.921875 -6.984375 C 6.171875 -6.984375 6.53125 -7.1875 6.53125 -7.640625 C 6.53125 -8.140625 6.03125 -8.421875 5.5 -8.421875 C 4.984375 -8.421875 4.484375 -8.03125 4.25 -7.5625 C 4.03125 -7.140625 3.90625 -6.71875 3.640625 -5.15625 L 2.828125 -5.15625 C 2.609375 -5.15625 2.484375 -5.15625 2.484375 -4.9375 C 2.484375 -4.8125 2.5625 -4.8125 2.796875 -4.8125 L 3.5625 -4.8125 C 3.34375 -3.6875 2.859375 -0.984375 2.578125 0.28125 C 2.375 1.328125 2.203125 2.203125 1.609375 2.203125 C 1.5625 2.203125 1.21875 2.203125 1 1.96875 C 1.609375 1.921875 1.609375 1.40625 1.609375 1.390625 C 1.609375 1.140625 1.4375 1 1.203125 1 C 0.96875 1 0.609375 1.203125 0.609375 1.65625 C 0.609375 2.171875 1.140625 2.4375 1.609375 2.4375 C 2.828125 2.4375 3.328125 0.25 3.453125 -0.34375 C 3.671875 -1.265625 4.25 -4.453125 4.3125 -4.8125 Z M 5.328125 -4.8125 \"/>\n",
       "</symbol>\n",
       "<symbol overflow=\"visible\" id=\"glyph-1544992871540610-0-2\">\n",
       "<path style=\"stroke:none;\" d=\"M 4.046875 -1.515625 C 4 -1.328125 3.96875 -1.28125 3.8125 -1.09375 C 3.328125 -0.46875 2.828125 -0.234375 2.453125 -0.234375 C 2.0625 -0.234375 1.6875 -0.546875 1.6875 -1.375 C 1.6875 -2.015625 2.046875 -3.34375 2.3125 -3.890625 C 2.65625 -4.546875 3.1875 -5.03125 3.6875 -5.03125 C 4.484375 -5.03125 4.640625 -4.046875 4.640625 -3.984375 L 4.609375 -3.8125 Z M 4.78125 -4.484375 C 4.625 -4.828125 4.296875 -5.265625 3.6875 -5.265625 C 2.390625 -5.265625 0.90625 -3.640625 0.90625 -1.859375 C 0.90625 -0.609375 1.65625 0 2.421875 0 C 3.0625 0 3.625 -0.5 3.84375 -0.734375 L 3.578125 0.328125 C 3.40625 0.984375 3.328125 1.296875 2.90625 1.703125 C 2.421875 2.203125 1.953125 2.203125 1.703125 2.203125 C 1.34375 2.203125 1.046875 2.171875 0.734375 2.078125 C 1.125 1.96875 1.21875 1.640625 1.21875 1.5 C 1.21875 1.3125 1.078125 1.125 0.8125 1.125 C 0.53125 1.125 0.21875 1.359375 0.21875 1.75 C 0.21875 2.25 0.703125 2.4375 1.71875 2.4375 C 3.265625 2.4375 4.0625 1.453125 4.21875 0.796875 L 5.546875 -4.546875 C 5.578125 -4.703125 5.578125 -4.71875 5.578125 -4.75 C 5.578125 -4.90625 5.453125 -5.046875 5.265625 -5.046875 C 4.984375 -5.046875 4.8125 -4.8125 4.78125 -4.484375 Z M 4.78125 -4.484375 \"/>\n",
       "</symbol>\n",
       "</g>\n",
       "<clipPath id=\"clip-1544992871540610-1\">\n",
       "  <path d=\"M 23 0 L 50 0 L 50 24.308594 L 23 24.308594 Z M 23 0 \"/>\n",
       "</clipPath>\n",
       "<clipPath id=\"clip-1544992871540610-2\">\n",
       "  <path d=\"M 62 0 L 88 0 L 88 24.308594 L 62 24.308594 Z M 62 0 \"/>\n",
       "</clipPath>\n",
       "<clipPath id=\"clip-1544992871540610-3\">\n",
       "  <path d=\"M 106 10 L 110.691406 10 L 110.691406 15 L 106 15 Z M 106 10 \"/>\n",
       "</clipPath>\n",
       "<clipPath id=\"clip-1544992871540610-4\">\n",
       "  <path d=\"M 100 4 L 110.691406 4 L 110.691406 20 L 100 20 Z M 100 4 \"/>\n",
       "</clipPath>\n",
       "<clipPath id=\"clip-1544992871540610-5\">\n",
       "  <path d=\"M 76 6 L 110.691406 6 L 110.691406 18 L 76 18 Z M 76 6 \"/>\n",
       "</clipPath>\n",
       "</defs>\n",
       "<g id=\"surface1\">\n",
       "<path style=\"fill-rule:nonzero;fill:rgb(0%,0%,0%);fill-opacity:1;stroke-width:0.3985;stroke-linecap:butt;stroke-linejoin:miter;stroke:rgb(0%,0%,0%);stroke-opacity:1;stroke-miterlimit:10;\" d=\"M 1.989688 -0.00125 C 1.989688 1.100313 1.099063 1.990938 0.00140625 1.990938 C -1.100156 1.990938 -1.990781 1.100313 -1.990781 -0.00125 C -1.990781 -1.098906 -1.100156 -1.989531 0.00140625 -1.989531 C 1.099063 -1.989531 1.989688 -1.098906 1.989688 -0.00125 Z M 1.989688 -0.00125 \" transform=\"matrix(1,0,0,-1,2.19,12.155)\"/>\n",
       "<g clip-path=\"url(#clip-1544992871540610-1)\" clip-rule=\"nonzero\">\n",
       "<path style=\"fill:none;stroke-width:0.3985;stroke-linecap:butt;stroke-linejoin:miter;stroke:rgb(0%,0%,0%);stroke-opacity:1;stroke-miterlimit:10;\" d=\"M 37.520938 11.955781 L 30.485781 11.955781 C 28.282656 11.955781 26.4975 10.170625 26.4975 7.971406 L 26.4975 -7.97 C 26.4975 -10.169219 28.282656 -11.954375 30.485781 -11.954375 L 37.520938 -11.954375 C 39.724063 -11.954375 41.509219 -10.169219 41.509219 -7.97 L 41.509219 7.971406 C 41.509219 10.170625 39.724063 11.955781 37.520938 11.955781 Z M 37.520938 11.955781 \" transform=\"matrix(1,0,0,-1,2.19,12.155)\"/>\n",
       "</g>\n",
       "<g style=\"fill:rgb(0%,0%,0%);fill-opacity:1;\">\n",
       "  <use xlink:href=\"#glyph-1544992871540610-0-1\" x=\"32.669\" y=\"15.143\"/>\n",
       "</g>\n",
       "<path style=\"fill:none;stroke-width:0.3985;stroke-linecap:butt;stroke-linejoin:miter;stroke:rgb(0%,0%,0%);stroke-opacity:1;stroke-miterlimit:10;\" d=\"M 2.188906 -0.00125 C 11.59125 -0.00125 16.895937 -0.00125 26.298281 -0.00125 \" transform=\"matrix(1,0,0,-1,2.19,12.155)\"/>\n",
       "<g clip-path=\"url(#clip-1544992871540610-2)\" clip-rule=\"nonzero\">\n",
       "<path style=\"fill:none;stroke-width:0.3985;stroke-linecap:butt;stroke-linejoin:miter;stroke:rgb(0%,0%,0%);stroke-opacity:1;stroke-miterlimit:10;\" d=\"M 75.829531 11.955781 L 69.802188 11.955781 C 67.599063 11.955781 65.817813 10.170625 65.817813 7.971406 L 65.817813 -7.97 C 65.817813 -10.169219 67.599063 -11.954375 69.802188 -11.954375 L 75.829531 -11.954375 C 78.02875 -11.954375 79.813906 -10.169219 79.813906 -7.97 L 79.813906 7.971406 C 79.813906 10.170625 78.02875 11.955781 75.829531 11.955781 Z M 75.829531 11.955781 \" transform=\"matrix(1,0,0,-1,2.19,12.155)\"/>\n",
       "</g>\n",
       "<g style=\"fill:rgb(0%,0%,0%);fill-opacity:1;\">\n",
       "  <use xlink:href=\"#glyph-1544992871540610-0-2\" x=\"71.987\" y=\"13.566\"/>\n",
       "</g>\n",
       "<path style=\"fill:none;stroke-width:0.3985;stroke-linecap:butt;stroke-linejoin:miter;stroke:rgb(0%,0%,0%);stroke-opacity:1;stroke-miterlimit:10;\" d=\"M 41.708438 -0.00125 C 51.032656 -0.00125 56.294375 -0.00125 65.618594 -0.00125 \" transform=\"matrix(1,0,0,-1,2.19,12.155)\"/>\n",
       "<g clip-path=\"url(#clip-1544992871540610-3)\" clip-rule=\"nonzero\">\n",
       "<path style=\" stroke:none;fill-rule:nonzero;fill:rgb(0%,0%,0%);fill-opacity:1;\" d=\"M 110.492188 12.15625 C 110.492188 11.054688 109.601562 10.164062 108.5 10.164062 C 107.402344 10.164062 106.511719 11.054688 106.511719 12.15625 C 106.511719 13.253906 107.402344 14.144531 108.5 14.144531 C 109.601562 14.144531 110.492188 13.253906 110.492188 12.15625 Z M 110.492188 12.15625 \"/>\n",
       "</g>\n",
       "<g clip-path=\"url(#clip-1544992871540610-4)\" clip-rule=\"nonzero\">\n",
       "<path style=\"fill:none;stroke-width:0.3985;stroke-linecap:butt;stroke-linejoin:miter;stroke:rgb(0%,0%,0%);stroke-opacity:1;stroke-miterlimit:10;\" d=\"M 2.689188 -0.00125 C 2.689188 1.100313 1.798563 1.990938 0.697 1.990938 C -0.400656 1.990938 -1.291281 1.100313 -1.291281 -0.00125 C -1.291281 -1.098906 -0.400656 -1.989531 0.697 -1.989531 C 1.798563 -1.989531 2.689188 -1.098906 2.689188 -0.00125 Z M 2.689188 -0.00125 \" transform=\"matrix(1,0,0,-1,107.803,12.155)\"/>\n",
       "</g>\n",
       "<g clip-path=\"url(#clip-1544992871540610-5)\" clip-rule=\"nonzero\">\n",
       "<path style=\"fill:none;stroke-width:0.3985;stroke-linecap:butt;stroke-linejoin:miter;stroke:rgb(0%,0%,0%);stroke-opacity:1;stroke-miterlimit:10;\" d=\"M 80.013125 -0.00125 C 89.415469 -0.00125 94.720156 -0.00125 104.1225 -0.00125 \" transform=\"matrix(1,0,0,-1,2.19,12.155)\"/>\n",
       "</g>\n",
       "</g>\n",
       "</svg>\n",
       "\n"
      ],
      "text/plain": [
       "Catlab.Graphics.TikZ.Picture(Catlab.Graphics.TikZ.Statement[Node(\"n\", Catlab.Graphics.TikZ.Property[Property(\"container\", Nullable{AbstractString}())], Nullable{Coordinate}(), Picture(Catlab.Graphics.TikZ.Statement[Node(\"n1\", Catlab.Graphics.TikZ.Property[Property(\"container\", Nullable{AbstractString}())], Nullable{Coordinate}(), Picture(Catlab.Graphics.TikZ.Statement[Node(\"n1 box\", Catlab.Graphics.TikZ.Property[Property(\"minimum height\", Nullable{AbstractString}(\"2.0em\"))], Nullable{Coordinate}(), \"\"), Node(\"n1 point\", Catlab.Graphics.TikZ.Property[Property(\"draw\", Nullable{AbstractString}()), Property(\"fill\", Nullable{AbstractString}()), Property(\"circle\", Nullable{AbstractString}()), Property(\"minimum size\", Nullable{AbstractString}(\"0.333em\")), Property(\"above\", Nullable{AbstractString}(\"0 of n1 box.center\")), Property(\"anchor\", Nullable{AbstractString}(\"center\"))], Nullable{Coordinate}(), \"\")], Catlab.Graphics.TikZ.Property[])), Node(\"n2\", Catlab.Graphics.TikZ.Property[Property(\"draw\", Nullable{AbstractString}()), Property(\"solid\", Nullable{AbstractString}()), Property(\"inner sep\", Nullable{AbstractString}(\"0.333em\")), Property(\"rectangle\", Nullable{AbstractString}()), Property(\"rounded corners\", Nullable{AbstractString}()), Property(\"minimum height\", Nullable{AbstractString}(\"2.0em\")), Property(\"right=2em of n1)\", Nullable{AbstractString}())], Nullable{Coordinate}(), \"f\"), Edge(\"n1 point.0\", \"n2.west\", PathOperation(\"to\", Catlab.Graphics.TikZ.Property[Property(\"out\", Nullable{AbstractString}(\"0\")), Property(\"in\", Nullable{AbstractString}(\"180\"))]), Catlab.Graphics.TikZ.Property[], Nullable{EdgeNode}()), Node(\"n3\", Catlab.Graphics.TikZ.Property[Property(\"draw\", Nullable{AbstractString}()), Property(\"solid\", Nullable{AbstractString}()), Property(\"inner sep\", Nullable{AbstractString}(\"0.333em\")), Property(\"rectangle\", Nullable{AbstractString}()), Property(\"rounded corners\", Nullable{AbstractString}()), Property(\"minimum height\", Nullable{AbstractString}(\"2.0em\")), Property(\"right=2em of n2)\", Nullable{AbstractString}())], Nullable{Coordinate}(), \"g\"), Edge(\"n2.east\", \"n3.west\", PathOperation(\"to\", Catlab.Graphics.TikZ.Property[Property(\"out\", Nullable{AbstractString}(\"0\")), Property(\"in\", Nullable{AbstractString}(\"180\"))]), Catlab.Graphics.TikZ.Property[], Nullable{EdgeNode}()), Node(\"n4\", Catlab.Graphics.TikZ.Property[Property(\"container\", Nullable{AbstractString}()), Property(\"right=2em of n3)\", Nullable{AbstractString}())], Nullable{Coordinate}(), Picture(Catlab.Graphics.TikZ.Statement[Node(\"n4 box\", Catlab.Graphics.TikZ.Property[Property(\"minimum height\", Nullable{AbstractString}(\"2.0em\"))], Nullable{Coordinate}(), \"\"), Node(\"n4 point\", Catlab.Graphics.TikZ.Property[Property(\"draw\", Nullable{AbstractString}()), Property(\"fill\", Nullable{AbstractString}()), Property(\"circle\", Nullable{AbstractString}()), Property(\"minimum size\", Nullable{AbstractString}(\"0.333em\")), Property(\"above\", Nullable{AbstractString}(\"0 of n4 box.center\")), Property(\"anchor\", Nullable{AbstractString}(\"center\"))], Nullable{Coordinate}(), \"\")], Catlab.Graphics.TikZ.Property[])), Edge(\"n3.east\", \"n4 point.180\", PathOperation(\"to\", Catlab.Graphics.TikZ.Property[Property(\"out\", Nullable{AbstractString}(\"0\")), Property(\"in\", Nullable{AbstractString}(\"180\"))]), Catlab.Graphics.TikZ.Property[], Nullable{EdgeNode}())], Catlab.Graphics.TikZ.Property[]))], Catlab.Graphics.TikZ.Property[Property(\"remember picture\", Nullable{AbstractString}()), Property(\"font\", Nullable{AbstractString}(\"{\\\\fontsize{12}{14.4}}\")), Property(\"container/.style\", Nullable{AbstractString}(\"{inner sep=0}\")), Property(\"every path/.style\", Nullable{AbstractString}(\"{solid, line width=0.4pt}\")), Property(\"execute at begin node\", Nullable{AbstractString}(\"\\$\")), Property(\"execute at end node\", Nullable{AbstractString}(\"\\$\"))])"
      ]
     },
     "execution_count": 18,
     "metadata": {},
     "output_type": "execute_result"
    }
   ],
   "source": [
    "to_tikz(compose(create(A), f, g, delete(A)))"
   ]
  },
  {
   "cell_type": "markdown",
   "metadata": {},
   "source": [
    "### Compact closed category "
   ]
  },
  {
   "cell_type": "code",
   "execution_count": 19,
   "metadata": {
    "collapsed": true
   },
   "outputs": [],
   "source": [
    "A, B = Ob(FreeCompactClosedCategory, :A, :B)\n",
    "f = Hom(:f, A, B)\n",
    "g = Hom(:g, B, A)\n",
    "h = Hom(:h, otimes(A,B), otimes(A,B));"
   ]
  },
  {
   "cell_type": "code",
   "execution_count": 20,
   "metadata": {
    "scrolled": true
   },
   "outputs": [
    {
     "data": {
      "image/svg+xml": [
       "<?xml version=\"1.0\" encoding=\"UTF-8\"?>\n",
       "<svg xmlns=\"http://www.w3.org/2000/svg\" xmlns:xlink=\"http://www.w3.org/1999/xlink\" width=\"26.301pt\" height=\"53.798pt\" viewBox=\"0 0 26.301 53.798\" version=\"1.1\">\n",
       "<defs>\n",
       "<clipPath id=\"clip-1544992871540611-1\">\n",
       "  <path d=\"M 0 6 L 26.300781 6 L 26.300781 33 L 0 33 Z M 0 6 \"/>\n",
       "</clipPath>\n",
       "<clipPath id=\"clip-1544992871540611-2\">\n",
       "  <path d=\"M 0 21 L 26.300781 21 L 26.300781 48 L 0 48 Z M 0 21 \"/>\n",
       "</clipPath>\n",
       "<clipPath id=\"clip-1544992871540611-3\">\n",
       "  <path d=\"M 11 30 L 26.300781 30 L 26.300781 45 L 11 45 Z M 11 30 \"/>\n",
       "</clipPath>\n",
       "</defs>\n",
       "<g id=\"surface1\">\n",
       "<g clip-path=\"url(#clip-1544992871540611-1)\" clip-rule=\"nonzero\">\n",
       "<path style=\"fill:none;stroke-width:0.3985;stroke-linecap:butt;stroke-linejoin:miter;stroke:rgb(0%,0%,0%);stroke-opacity:1;stroke-miterlimit:10;\" d=\"M -0.00190625 14.945875 C 11.474656 14.945875 25.306687 11.477125 25.306687 0.0005625 \" transform=\"matrix(1,0,0,-1,0.498,26.899)\"/>\n",
       "</g>\n",
       "<path style=\"fill-rule:nonzero;fill:rgb(0%,0%,0%);fill-opacity:1;stroke-width:0.3985;stroke-linecap:butt;stroke-linejoin:miter;stroke:rgb(0%,0%,0%);stroke-opacity:1;stroke-miterlimit:10;\" d=\"M 4.215479 0.0024641 L 0.642186 1.345504 L 1.817716 0.00189714 L 0.644012 -1.34726 Z M 4.215479 0.0024641 \" transform=\"matrix(0.92525,0.38795,0.38795,-0.92525,12.09086,12.85126)\"/>\n",
       "<g clip-path=\"url(#clip-1544992871540611-2)\" clip-rule=\"nonzero\">\n",
       "<path style=\"fill:none;stroke-width:0.3985;stroke-linecap:butt;stroke-linejoin:miter;stroke:rgb(0%,0%,0%);stroke-opacity:1;stroke-miterlimit:10;\" d=\"M 25.306687 0.0005625 C 25.306687 -11.476 11.474656 -14.94475 -0.00190625 -14.94475 \" transform=\"matrix(1,0,0,-1,0.498,26.899)\"/>\n",
       "</g>\n",
       "<path style=\" stroke:none;fill-rule:nonzero;fill:rgb(0%,0%,0%);fill-opacity:1;\" d=\"M 17.039062 38.871094 L 20.867188 38.730469 L 19.257812 37.941406 L 19.824219 36.242188 Z M 17.039062 38.871094 \"/>\n",
       "<g clip-path=\"url(#clip-1544992871540611-3)\" clip-rule=\"nonzero\">\n",
       "<path style=\"fill:none;stroke-width:0.3985;stroke-linecap:butt;stroke-linejoin:miter;stroke:rgb(0%,0%,0%);stroke-opacity:1;stroke-miterlimit:10;\" d=\"M 4.215867 -0.000790862 L 0.642894 1.345342 L 1.818104 -0.000223897 L 0.642575 -1.343831 Z M 4.215867 -0.000790862 \" transform=\"matrix(-0.92525,0.38795,0.38795,0.92525,20.9401,37.23628)\"/>\n",
       "</g>\n",
       "</g>\n",
       "</svg>\n",
       "\n"
      ],
      "text/plain": [
       "Catlab.Graphics.TikZ.Picture(Catlab.Graphics.TikZ.Statement[Node(\"n\", Catlab.Graphics.TikZ.Property[Property(\"container\", Nullable{AbstractString}())], Nullable{Coordinate}(), Picture(Catlab.Graphics.TikZ.Statement[Node(\"n1\", Catlab.Graphics.TikZ.Property[Property(\"minimum height\", Nullable{AbstractString}(\"4.5em\"))], Nullable{Coordinate}(), \"\"), Node(\"n2\", Catlab.Graphics.TikZ.Property[Property(\"minimum height\", Nullable{AbstractString}(\"4.5em\")), Property(\"right=2em of n1)\", Nullable{AbstractString}())], Nullable{Coordinate}(), \"\"), Edge(\"\\$(n1.center)+(0,1.25em)\\$\", \"n2.center\", PathOperation(\"to\", Catlab.Graphics.TikZ.Property[Property(\"out\", Nullable{AbstractString}(\"0\")), Property(\"in\", Nullable{AbstractString}(\"90\"))]), Catlab.Graphics.TikZ.Property[Property(\"postaction\", Nullable{AbstractString}(\"{decorate}\"))], Nullable{EdgeNode}()), Edge(\"n2.center\", \"\\$(n1.center)+(0,-1.25em)\\$\", PathOperation(\"to\", Catlab.Graphics.TikZ.Property[Property(\"out\", Nullable{AbstractString}(\"270\")), Property(\"in\", Nullable{AbstractString}(\"0\"))]), Catlab.Graphics.TikZ.Property[Property(\"postaction\", Nullable{AbstractString}(\"{decorate}\"))], Nullable{EdgeNode}())], Catlab.Graphics.TikZ.Property[]))], Catlab.Graphics.TikZ.Property[Property(\"remember picture\", Nullable{AbstractString}()), Property(\"font\", Nullable{AbstractString}(\"{\\\\fontsize{12}{14.4}}\")), Property(\"container/.style\", Nullable{AbstractString}(\"{inner sep=0}\")), Property(\"every path/.style\", Nullable{AbstractString}(\"{solid, line width=0.4pt}\")), Property(\"decoration\", Nullable{AbstractString}(\"{markings, mark=at position 0.5 with {\\\\arrow{Stealth}}}\")), Property(\"execute at begin node\", Nullable{AbstractString}(\"\\$\")), Property(\"execute at end node\", Nullable{AbstractString}(\"\\$\"))])"
      ]
     },
     "execution_count": 20,
     "metadata": {},
     "output_type": "execute_result"
    }
   ],
   "source": [
    "to_tikz(dcounit(A); arrowtip=\"Stealth\", labels=true)"
   ]
  },
  {
   "cell_type": "code",
   "execution_count": 21,
   "metadata": {},
   "outputs": [
    {
     "data": {
      "image/svg+xml": [
       "<?xml version=\"1.0\" encoding=\"UTF-8\"?>\n",
       "<svg xmlns=\"http://www.w3.org/2000/svg\" xmlns:xlink=\"http://www.w3.org/1999/xlink\" width=\"26.301pt\" height=\"53.798pt\" viewBox=\"0 0 26.301 53.798\" version=\"1.1\">\n",
       "<defs>\n",
       "<clipPath id=\"clip-1544992871540612-1\">\n",
       "  <path d=\"M 0 6 L 26.300781 6 L 26.300781 33 L 0 33 Z M 0 6 \"/>\n",
       "</clipPath>\n",
       "<clipPath id=\"clip-1544992871540612-2\">\n",
       "  <path d=\"M 0 21 L 26.300781 21 L 26.300781 48 L 0 48 Z M 0 21 \"/>\n",
       "</clipPath>\n",
       "</defs>\n",
       "<g id=\"surface1\">\n",
       "<g clip-path=\"url(#clip-1544992871540612-1)\" clip-rule=\"nonzero\">\n",
       "<path style=\"fill:none;stroke-width:0.3985;stroke-linecap:butt;stroke-linejoin:miter;stroke:rgb(0%,0%,0%);stroke-opacity:1;stroke-miterlimit:10;\" d=\"M 25.306687 14.945875 C 13.830125 14.945875 -0.00190625 11.477125 -0.00190625 0.0005625 \" transform=\"matrix(1,0,0,-1,0.498,26.899)\"/>\n",
       "</g>\n",
       "<path style=\"fill-rule:nonzero;fill:rgb(0%,0%,0%);fill-opacity:1;stroke-width:0.3985;stroke-linecap:butt;stroke-linejoin:miter;stroke:rgb(0%,0%,0%);stroke-opacity:1;stroke-miterlimit:10;\" d=\"M 4.212383 -0.00116624 L 0.644507 1.347052 L 1.818211 -0.00210478 L 0.642682 -1.345712 Z M 4.212383 -0.00116624 \" transform=\"matrix(-0.92525,0.38795,0.38795,0.92525,14.21046,12.85126)\"/>\n",
       "<g clip-path=\"url(#clip-1544992871540612-2)\" clip-rule=\"nonzero\">\n",
       "<path style=\"fill:none;stroke-width:0.3985;stroke-linecap:butt;stroke-linejoin:miter;stroke:rgb(0%,0%,0%);stroke-opacity:1;stroke-miterlimit:10;\" d=\"M -0.00190625 0.0005625 C -0.00190625 -11.476 13.830125 -14.94475 25.306687 -14.94475 \" transform=\"matrix(1,0,0,-1,0.498,26.899)\"/>\n",
       "</g>\n",
       "<path style=\"fill-rule:nonzero;fill:rgb(0%,0%,0%);fill-opacity:1;stroke-width:0.3985;stroke-linecap:butt;stroke-linejoin:miter;stroke:rgb(0%,0%,0%);stroke-opacity:1;stroke-miterlimit:10;\" d=\"M 4.215353 0.000575515 L 0.645652 1.345121 L 1.81759 0.00000854939 L 0.642381 -1.345558 Z M 4.215353 0.000575515 \" transform=\"matrix(0.92525,0.38795,0.38795,-0.92525,5.36124,37.23628)\"/>\n",
       "</g>\n",
       "</svg>\n",
       "\n"
      ],
      "text/plain": [
       "Catlab.Graphics.TikZ.Picture(Catlab.Graphics.TikZ.Statement[Node(\"n\", Catlab.Graphics.TikZ.Property[Property(\"container\", Nullable{AbstractString}())], Nullable{Coordinate}(), Picture(Catlab.Graphics.TikZ.Statement[Node(\"n1\", Catlab.Graphics.TikZ.Property[Property(\"minimum height\", Nullable{AbstractString}(\"4.5em\"))], Nullable{Coordinate}(), \"\"), Node(\"n2\", Catlab.Graphics.TikZ.Property[Property(\"minimum height\", Nullable{AbstractString}(\"4.5em\")), Property(\"right=2em of n1)\", Nullable{AbstractString}())], Nullable{Coordinate}(), \"\"), Edge(\"\\$(n2.center)+(0,1.25em)\\$\", \"n1.center\", PathOperation(\"to\", Catlab.Graphics.TikZ.Property[Property(\"out\", Nullable{AbstractString}(\"180\")), Property(\"in\", Nullable{AbstractString}(\"90\"))]), Catlab.Graphics.TikZ.Property[Property(\"postaction\", Nullable{AbstractString}(\"{decorate}\"))], Nullable{EdgeNode}()), Edge(\"n1.center\", \"\\$(n2.center)+(0,-1.25em)\\$\", PathOperation(\"to\", Catlab.Graphics.TikZ.Property[Property(\"out\", Nullable{AbstractString}(\"270\")), Property(\"in\", Nullable{AbstractString}(\"180\"))]), Catlab.Graphics.TikZ.Property[Property(\"postaction\", Nullable{AbstractString}(\"{decorate}\"))], Nullable{EdgeNode}())], Catlab.Graphics.TikZ.Property[]))], Catlab.Graphics.TikZ.Property[Property(\"remember picture\", Nullable{AbstractString}()), Property(\"font\", Nullable{AbstractString}(\"{\\\\fontsize{12}{14.4}}\")), Property(\"container/.style\", Nullable{AbstractString}(\"{inner sep=0}\")), Property(\"every path/.style\", Nullable{AbstractString}(\"{solid, line width=0.4pt}\")), Property(\"decoration\", Nullable{AbstractString}(\"{markings, mark=at position 0.5 with {\\\\arrow{Stealth}}}\")), Property(\"execute at begin node\", Nullable{AbstractString}(\"\\$\")), Property(\"execute at end node\", Nullable{AbstractString}(\"\\$\"))])"
      ]
     },
     "execution_count": 21,
     "metadata": {},
     "output_type": "execute_result"
    }
   ],
   "source": [
    "to_tikz(dunit(A); arrowtip=\"Stealth\", labels=true)"
   ]
  },
  {
   "cell_type": "code",
   "execution_count": 22,
   "metadata": {},
   "outputs": [
    {
     "data": {
      "text/latex": [
       "$\\left(\\eta_{A} \\otimes \\mathrm{id}_{B^*}\\right) \\cdot \\left(\\mathrm{id}_{A^*} \\otimes f \\otimes \\mathrm{id}_{B^*}\\right) \\cdot \\left(\\mathrm{id}_{A^*} \\otimes \\varepsilon_{B}\\right) : B^* \\to A^*$"
      ],
      "text/plain": [
       "compose(otimes(dunit(A),id(dual(B))),otimes(id(dual(A)),f,id(dual(B))),otimes(id(dual(A)),dcounit(B)))"
      ]
     },
     "execution_count": 22,
     "metadata": {},
     "output_type": "execute_result"
    }
   ],
   "source": [
    "transpose = compose(\n",
    "    otimes(dunit(A), id(dual(B))),\n",
    "    otimes(id(dual(A)), f, id(dual(B))),\n",
    "    otimes(id(dual(A)), dcounit(B)),\n",
    ")"
   ]
  },
  {
   "cell_type": "code",
   "execution_count": 23,
   "metadata": {},
   "outputs": [
    {
     "data": {
      "image/svg+xml": [
       "<?xml version=\"1.0\" encoding=\"UTF-8\"?>\n",
       "<svg xmlns=\"http://www.w3.org/2000/svg\" xmlns:xlink=\"http://www.w3.org/1999/xlink\" width=\"116.627pt\" height=\"84.483pt\" viewBox=\"0 0 116.627 84.483\" version=\"1.1\">\n",
       "<defs>\n",
       "<g>\n",
       "<symbol overflow=\"visible\" id=\"glyph-1544992871540613-0-0\">\n",
       "<path style=\"stroke:none;\" d=\"\"/>\n",
       "</symbol>\n",
       "<symbol overflow=\"visible\" id=\"glyph-1544992871540613-0-1\">\n",
       "<path style=\"stroke:none;\" d=\"M 5.328125 -4.8125 C 5.5625 -4.8125 5.671875 -4.8125 5.671875 -5.03125 C 5.671875 -5.15625 5.5625 -5.15625 5.359375 -5.15625 L 4.390625 -5.15625 C 4.609375 -6.390625 4.78125 -7.234375 4.875 -7.609375 C 4.953125 -7.90625 5.203125 -8.171875 5.515625 -8.171875 C 5.765625 -8.171875 6.015625 -8.0625 6.125 -7.953125 C 5.671875 -7.90625 5.515625 -7.5625 5.515625 -7.359375 C 5.515625 -7.125 5.703125 -6.984375 5.921875 -6.984375 C 6.171875 -6.984375 6.53125 -7.1875 6.53125 -7.640625 C 6.53125 -8.140625 6.03125 -8.421875 5.5 -8.421875 C 4.984375 -8.421875 4.484375 -8.03125 4.25 -7.5625 C 4.03125 -7.140625 3.90625 -6.71875 3.640625 -5.15625 L 2.828125 -5.15625 C 2.609375 -5.15625 2.484375 -5.15625 2.484375 -4.9375 C 2.484375 -4.8125 2.5625 -4.8125 2.796875 -4.8125 L 3.5625 -4.8125 C 3.34375 -3.6875 2.859375 -0.984375 2.578125 0.28125 C 2.375 1.328125 2.203125 2.203125 1.609375 2.203125 C 1.5625 2.203125 1.21875 2.203125 1 1.96875 C 1.609375 1.921875 1.609375 1.40625 1.609375 1.390625 C 1.609375 1.140625 1.4375 1 1.203125 1 C 0.96875 1 0.609375 1.203125 0.609375 1.65625 C 0.609375 2.171875 1.140625 2.4375 1.609375 2.4375 C 2.828125 2.4375 3.328125 0.25 3.453125 -0.34375 C 3.671875 -1.265625 4.25 -4.453125 4.3125 -4.8125 Z M 5.328125 -4.8125 \"/>\n",
       "</symbol>\n",
       "</g>\n",
       "<clipPath id=\"clip-1544992871540613-1\">\n",
       "  <path d=\"M 85 6 L 116.628906 6 L 116.628906 48 L 85 48 Z M 85 6 \"/>\n",
       "</clipPath>\n",
       "</defs>\n",
       "<g id=\"surface1\">\n",
       "<path style=\"fill:none;stroke-width:0.3985;stroke-linecap:butt;stroke-linejoin:miter;stroke:rgb(0%,0%,0%);stroke-opacity:1;stroke-miterlimit:10;\" d=\"M 25.306687 -30.087125 C 9.919969 -30.087125 15.384813 -0.0011875 -0.00190625 -0.0011875 \" transform=\"matrix(1,0,0,-1,0.498,42.241)\"/>\n",
       "<path style=\"fill:none;stroke-width:0.3985;stroke-linecap:butt;stroke-linejoin:miter;stroke:rgb(0%,0%,0%);stroke-opacity:1;stroke-miterlimit:10;\" d=\"M 4.216031 -18.330156 L -2.823031 -18.330156 C -5.02225 -18.330156 -6.807406 -20.115312 -6.807406 -22.318437 L -6.807406 -38.255937 C -6.807406 -40.459062 -5.02225 -42.240312 -2.823031 -42.240312 L 4.216031 -42.240312 C 6.419156 -42.240312 8.200406 -40.459062 8.200406 -38.255937 L 8.200406 -22.318437 C 8.200406 -20.115312 6.419156 -18.330156 4.216031 -18.330156 Z M 4.216031 -18.330156 \" transform=\"matrix(1,0,0,-1,57.616,11.955)\"/>\n",
       "<g style=\"fill:rgb(0%,0%,0%);fill-opacity:1;\">\n",
       "  <use xlink:href=\"#glyph-1544992871540613-0-1\" x=\"54.79\" y=\"45.23\"/>\n",
       "</g>\n",
       "<path style=\"fill:none;stroke-width:0.3985;stroke-linecap:butt;stroke-linejoin:miter;stroke:rgb(0%,0%,0%);stroke-opacity:1;stroke-miterlimit:10;\" d=\"M 57.8145 30.287875 C 43.830125 30.287875 25.306687 29.127719 25.306687 15.143344 \" transform=\"matrix(1,0,0,-1,0.498,42.241)\"/>\n",
       "<path style=\"fill:none;stroke-width:0.3985;stroke-linecap:butt;stroke-linejoin:miter;stroke:rgb(0%,0%,0%);stroke-opacity:1;stroke-miterlimit:10;\" d=\"M 25.306687 15.143344 C 25.306687 3.791781 38.759813 -0.0011875 50.111375 -0.0011875 \" transform=\"matrix(1,0,0,-1,0.498,42.241)\"/>\n",
       "<path style=\"fill:none;stroke-width:0.3985;stroke-linecap:butt;stroke-linejoin:miter;stroke:rgb(0%,0%,0%);stroke-opacity:1;stroke-miterlimit:10;\" d=\"M 57.8145 -30.286344 C 45.138719 -30.286344 37.982469 -30.087125 25.306687 -30.087125 \" transform=\"matrix(1,0,0,-1,0.498,42.241)\"/>\n",
       "<path style=\"fill:none;stroke-width:0.3985;stroke-linecap:butt;stroke-linejoin:miter;stroke:rgb(0%,0%,0%);stroke-opacity:1;stroke-miterlimit:10;\" d=\"M 90.326219 30.088656 C 77.650437 30.088656 70.494187 30.287875 57.8145 30.287875 \" transform=\"matrix(1,0,0,-1,0.498,42.241)\"/>\n",
       "<path style=\"fill:none;stroke-width:0.3985;stroke-linecap:butt;stroke-linejoin:miter;stroke:rgb(0%,0%,0%);stroke-opacity:1;stroke-miterlimit:10;\" d=\"M 65.521531 -0.0011875 C 76.873094 -0.0011875 90.326219 -3.79025 90.326219 -15.141813 \" transform=\"matrix(1,0,0,-1,0.498,42.241)\"/>\n",
       "<path style=\"fill:none;stroke-width:0.3985;stroke-linecap:butt;stroke-linejoin:miter;stroke:rgb(0%,0%,0%);stroke-opacity:1;stroke-miterlimit:10;\" d=\"M 90.326219 -15.141813 C 90.326219 -29.126188 71.798875 -30.286344 57.8145 -30.286344 \" transform=\"matrix(1,0,0,-1,0.498,42.241)\"/>\n",
       "<g clip-path=\"url(#clip-1544992871540613-1)\" clip-rule=\"nonzero\">\n",
       "<path style=\"fill:none;stroke-width:0.3985;stroke-linecap:butt;stroke-linejoin:miter;stroke:rgb(0%,0%,0%);stroke-opacity:1;stroke-miterlimit:10;\" d=\"M 115.630906 -0.0011875 C 100.248094 -0.0011875 105.712937 30.088656 90.326219 30.088656 \" transform=\"matrix(1,0,0,-1,0.498,42.241)\"/>\n",
       "</g>\n",
       "</g>\n",
       "</svg>\n",
       "\n"
      ],
      "text/plain": [
       "Catlab.Graphics.TikZ.Picture(Catlab.Graphics.TikZ.Statement[Node(\"n\", Catlab.Graphics.TikZ.Property[Property(\"container\", Nullable{AbstractString}())], Nullable{Coordinate}(), Picture(Catlab.Graphics.TikZ.Statement[Node(\"n1\", Catlab.Graphics.TikZ.Property[Property(\"minimum height\", Nullable{AbstractString}(\"2.0em\"))], Nullable{Coordinate}(), \"\"), Node(\"n2\", Catlab.Graphics.TikZ.Property[Property(\"container\", Nullable{AbstractString}()), Property(\"right=2em of n1)\", Nullable{AbstractString}())], Nullable{Coordinate}(), Picture(Catlab.Graphics.TikZ.Statement[Node(\"n21\", Catlab.Graphics.TikZ.Property[Property(\"minimum height\", Nullable{AbstractString}(\"4.5em\"))], Nullable{Coordinate}(), \"\"), Node(\"n22\", Catlab.Graphics.TikZ.Property[Property(\"minimum height\", Nullable{AbstractString}(\"2.0em\")), Property(\"below=0.5em of n21\", Nullable{AbstractString}())], Nullable{Coordinate}(), \"\")], Catlab.Graphics.TikZ.Property[])), Edge(\"n22.center\", \"n1.center\", PathOperation(\"to\", Catlab.Graphics.TikZ.Property[Property(\"out\", Nullable{AbstractString}(\"180\")), Property(\"in\", Nullable{AbstractString}(\"0\"))]), Catlab.Graphics.TikZ.Property[], Nullable{EdgeNode}()), Node(\"n3\", Catlab.Graphics.TikZ.Property[Property(\"container\", Nullable{AbstractString}()), Property(\"right=2em of n2)\", Nullable{AbstractString}())], Nullable{Coordinate}(), Picture(Catlab.Graphics.TikZ.Statement[Node(\"n31\", Catlab.Graphics.TikZ.Property[Property(\"minimum height\", Nullable{AbstractString}(\"2.0em\"))], Nullable{Coordinate}(), \"\"), Node(\"n32\", Catlab.Graphics.TikZ.Property[Property(\"draw\", Nullable{AbstractString}()), Property(\"solid\", Nullable{AbstractString}()), Property(\"inner sep\", Nullable{AbstractString}(\"0.333em\")), Property(\"rectangle\", Nullable{AbstractString}()), Property(\"rounded corners\", Nullable{AbstractString}()), Property(\"minimum height\", Nullable{AbstractString}(\"2.0em\")), Property(\"below=0.5em of n31\", Nullable{AbstractString}())], Nullable{Coordinate}(), \"f\"), Node(\"n33\", Catlab.Graphics.TikZ.Property[Property(\"minimum height\", Nullable{AbstractString}(\"2.0em\")), Property(\"below=0.5em of n32\", Nullable{AbstractString}())], Nullable{Coordinate}(), \"\")], Catlab.Graphics.TikZ.Property[])), Edge(\"n31.center\", \"n21.center\", PathOperation(\"to\", Catlab.Graphics.TikZ.Property[Property(\"out\", Nullable{AbstractString}(\"180\")), Property(\"in\", Nullable{AbstractString}(\"90\"))]), Catlab.Graphics.TikZ.Property[], Nullable{EdgeNode}()), Edge(\"n21.center\", \"n32.west\", PathOperation(\"to\", Catlab.Graphics.TikZ.Property[Property(\"out\", Nullable{AbstractString}(\"270\")), Property(\"in\", Nullable{AbstractString}(\"180\"))]), Catlab.Graphics.TikZ.Property[], Nullable{EdgeNode}()), Edge(\"n33.center\", \"n22.center\", PathOperation(\"to\", Catlab.Graphics.TikZ.Property[Property(\"out\", Nullable{AbstractString}(\"180\")), Property(\"in\", Nullable{AbstractString}(\"0\"))]), Catlab.Graphics.TikZ.Property[], Nullable{EdgeNode}()), Node(\"n4\", Catlab.Graphics.TikZ.Property[Property(\"container\", Nullable{AbstractString}()), Property(\"right=2em of n3)\", Nullable{AbstractString}())], Nullable{Coordinate}(), Picture(Catlab.Graphics.TikZ.Statement[Node(\"n41\", Catlab.Graphics.TikZ.Property[Property(\"minimum height\", Nullable{AbstractString}(\"2.0em\"))], Nullable{Coordinate}(), \"\"), Node(\"n42\", Catlab.Graphics.TikZ.Property[Property(\"minimum height\", Nullable{AbstractString}(\"4.5em\")), Property(\"below=0.5em of n41\", Nullable{AbstractString}())], Nullable{Coordinate}(), \"\")], Catlab.Graphics.TikZ.Property[])), Edge(\"n41.center\", \"n31.center\", PathOperation(\"to\", Catlab.Graphics.TikZ.Property[Property(\"out\", Nullable{AbstractString}(\"180\")), Property(\"in\", Nullable{AbstractString}(\"0\"))]), Catlab.Graphics.TikZ.Property[], Nullable{EdgeNode}()), Edge(\"n32.east\", \"n42.center\", PathOperation(\"to\", Catlab.Graphics.TikZ.Property[Property(\"out\", Nullable{AbstractString}(\"0\")), Property(\"in\", Nullable{AbstractString}(\"90\"))]), Catlab.Graphics.TikZ.Property[], Nullable{EdgeNode}()), Edge(\"n42.center\", \"n33.center\", PathOperation(\"to\", Catlab.Graphics.TikZ.Property[Property(\"out\", Nullable{AbstractString}(\"270\")), Property(\"in\", Nullable{AbstractString}(\"0\"))]), Catlab.Graphics.TikZ.Property[], Nullable{EdgeNode}()), Node(\"n5\", Catlab.Graphics.TikZ.Property[Property(\"minimum height\", Nullable{AbstractString}(\"2.0em\")), Property(\"right=2em of n4)\", Nullable{AbstractString}())], Nullable{Coordinate}(), \"\"), Edge(\"n5.center\", \"n41.center\", PathOperation(\"to\", Catlab.Graphics.TikZ.Property[Property(\"out\", Nullable{AbstractString}(\"180\")), Property(\"in\", Nullable{AbstractString}(\"0\"))]), Catlab.Graphics.TikZ.Property[], Nullable{EdgeNode}())], Catlab.Graphics.TikZ.Property[]))], Catlab.Graphics.TikZ.Property[Property(\"remember picture\", Nullable{AbstractString}()), Property(\"font\", Nullable{AbstractString}(\"{\\\\fontsize{12}{14.4}}\")), Property(\"container/.style\", Nullable{AbstractString}(\"{inner sep=0}\")), Property(\"every path/.style\", Nullable{AbstractString}(\"{solid, line width=0.4pt}\")), Property(\"execute at begin node\", Nullable{AbstractString}(\"\\$\")), Property(\"execute at end node\", Nullable{AbstractString}(\"\\$\"))])"
      ]
     },
     "execution_count": 23,
     "metadata": {},
     "output_type": "execute_result"
    }
   ],
   "source": [
    "to_tikz(transpose)"
   ]
  },
  {
   "cell_type": "code",
   "execution_count": 24,
   "metadata": {},
   "outputs": [
    {
     "data": {
      "text/latex": [
       "$f \\cdot \\left(\\eta_{A} \\otimes \\mathrm{id}_{B}\\right) \\cdot \\left(\\mathrm{id}_{A^*} \\otimes h\\right) \\cdot \\left(\\sigma_{A^*,A} \\otimes \\mathrm{id}_{B}\\right) \\cdot \\left(\\varepsilon_{A} \\otimes \\mathrm{id}_{B}\\right) \\cdot g : A \\to A$"
      ],
      "text/plain": [
       "compose(f,otimes(dunit(A),id(B)),otimes(id(dual(A)),h),otimes(braid(dual(A),A),id(B)),otimes(dcounit(A),id(B)),g)"
      ]
     },
     "execution_count": 24,
     "metadata": {},
     "output_type": "execute_result"
    }
   ],
   "source": [
    "trace = compose(\n",
    "    f,\n",
    "    otimes(dunit(A), id(B)),\n",
    "    otimes(id(dual(A)), h),\n",
    "    otimes(braid(dual(A),A), id(B)),\n",
    "    otimes(dcounit(A), id(B)),\n",
    "    g\n",
    ")"
   ]
  },
  {
   "cell_type": "code",
   "execution_count": 25,
   "metadata": {},
   "outputs": [
    {
     "data": {
      "image/svg+xml": [
       "<?xml version=\"1.0\" encoding=\"UTF-8\"?>\n",
       "<svg xmlns=\"http://www.w3.org/2000/svg\" xmlns:xlink=\"http://www.w3.org/1999/xlink\" width=\"219.247pt\" height=\"84.284pt\" viewBox=\"0 0 219.247 84.284\" version=\"1.1\">\n",
       "<defs>\n",
       "<g>\n",
       "<symbol overflow=\"visible\" id=\"glyph-1544992871540614-0-0\">\n",
       "<path style=\"stroke:none;\" d=\"\"/>\n",
       "</symbol>\n",
       "<symbol overflow=\"visible\" id=\"glyph-1544992871540614-0-1\">\n",
       "<path style=\"stroke:none;\" d=\"M 5.328125 -4.8125 C 5.5625 -4.8125 5.671875 -4.8125 5.671875 -5.03125 C 5.671875 -5.15625 5.5625 -5.15625 5.359375 -5.15625 L 4.390625 -5.15625 C 4.609375 -6.390625 4.78125 -7.234375 4.875 -7.609375 C 4.953125 -7.90625 5.203125 -8.171875 5.515625 -8.171875 C 5.765625 -8.171875 6.015625 -8.0625 6.125 -7.953125 C 5.671875 -7.90625 5.515625 -7.5625 5.515625 -7.359375 C 5.515625 -7.125 5.703125 -6.984375 5.921875 -6.984375 C 6.171875 -6.984375 6.53125 -7.1875 6.53125 -7.640625 C 6.53125 -8.140625 6.03125 -8.421875 5.5 -8.421875 C 4.984375 -8.421875 4.484375 -8.03125 4.25 -7.5625 C 4.03125 -7.140625 3.90625 -6.71875 3.640625 -5.15625 L 2.828125 -5.15625 C 2.609375 -5.15625 2.484375 -5.15625 2.484375 -4.9375 C 2.484375 -4.8125 2.5625 -4.8125 2.796875 -4.8125 L 3.5625 -4.8125 C 3.34375 -3.6875 2.859375 -0.984375 2.578125 0.28125 C 2.375 1.328125 2.203125 2.203125 1.609375 2.203125 C 1.5625 2.203125 1.21875 2.203125 1 1.96875 C 1.609375 1.921875 1.609375 1.40625 1.609375 1.390625 C 1.609375 1.140625 1.4375 1 1.203125 1 C 0.96875 1 0.609375 1.203125 0.609375 1.65625 C 0.609375 2.171875 1.140625 2.4375 1.609375 2.4375 C 2.828125 2.4375 3.328125 0.25 3.453125 -0.34375 C 3.671875 -1.265625 4.25 -4.453125 4.3125 -4.8125 Z M 5.328125 -4.8125 \"/>\n",
       "</symbol>\n",
       "<symbol overflow=\"visible\" id=\"glyph-1544992871540614-0-2\">\n",
       "<path style=\"stroke:none;\" d=\"M 3.359375 -8 C 3.375 -8.046875 3.390625 -8.109375 3.390625 -8.171875 C 3.390625 -8.296875 3.28125 -8.296875 3.25 -8.296875 C 3.234375 -8.296875 2.65625 -8.25 2.59375 -8.234375 C 2.390625 -8.21875 2.21875 -8.203125 2 -8.1875 C 1.703125 -8.15625 1.609375 -8.15625 1.609375 -7.9375 C 1.609375 -7.8125 1.703125 -7.8125 1.875 -7.8125 C 2.46875 -7.8125 2.46875 -7.703125 2.46875 -7.59375 C 2.46875 -7.515625 2.453125 -7.421875 2.4375 -7.390625 L 0.703125 -0.46875 C 0.65625 -0.28125 0.65625 -0.265625 0.65625 -0.1875 C 0.65625 0.078125 0.859375 0.125 0.984375 0.125 C 1.1875 0.125 1.34375 -0.03125 1.40625 -0.171875 L 1.9375 -2.328125 C 2 -2.59375 2.0625 -2.84375 2.125 -3.109375 C 2.265625 -3.609375 2.265625 -3.625 2.484375 -3.96875 C 2.71875 -4.3125 3.25 -5.03125 4.171875 -5.03125 C 4.65625 -5.03125 4.8125 -4.671875 4.8125 -4.203125 C 4.8125 -3.53125 4.34375 -2.21875 4.09375 -1.5 C 3.984375 -1.21875 3.921875 -1.0625 3.921875 -0.84375 C 3.921875 -0.3125 4.296875 0.125 4.859375 0.125 C 5.96875 0.125 6.390625 -1.640625 6.390625 -1.703125 C 6.390625 -1.765625 6.34375 -1.8125 6.28125 -1.8125 C 6.171875 -1.8125 6.15625 -1.78125 6.09375 -1.578125 C 5.828125 -0.625 5.375 -0.125 4.90625 -0.125 C 4.78125 -0.125 4.59375 -0.125 4.59375 -0.515625 C 4.59375 -0.828125 4.734375 -1.203125 4.78125 -1.34375 C 5 -1.90625 5.53125 -3.328125 5.53125 -4.015625 C 5.53125 -4.734375 5.109375 -5.265625 4.203125 -5.265625 C 3.53125 -5.265625 2.921875 -4.953125 2.4375 -4.328125 Z M 3.359375 -8 \"/>\n",
       "</symbol>\n",
       "<symbol overflow=\"visible\" id=\"glyph-1544992871540614-0-3\">\n",
       "<path style=\"stroke:none;\" d=\"M 4.046875 -1.515625 C 4 -1.328125 3.96875 -1.28125 3.8125 -1.09375 C 3.328125 -0.46875 2.828125 -0.234375 2.453125 -0.234375 C 2.0625 -0.234375 1.6875 -0.546875 1.6875 -1.375 C 1.6875 -2.015625 2.046875 -3.34375 2.3125 -3.890625 C 2.65625 -4.546875 3.1875 -5.03125 3.6875 -5.03125 C 4.484375 -5.03125 4.640625 -4.046875 4.640625 -3.984375 L 4.609375 -3.8125 Z M 4.78125 -4.484375 C 4.625 -4.828125 4.296875 -5.265625 3.6875 -5.265625 C 2.390625 -5.265625 0.90625 -3.640625 0.90625 -1.859375 C 0.90625 -0.609375 1.65625 0 2.421875 0 C 3.0625 0 3.625 -0.5 3.84375 -0.734375 L 3.578125 0.328125 C 3.40625 0.984375 3.328125 1.296875 2.90625 1.703125 C 2.421875 2.203125 1.953125 2.203125 1.703125 2.203125 C 1.34375 2.203125 1.046875 2.171875 0.734375 2.078125 C 1.125 1.96875 1.21875 1.640625 1.21875 1.5 C 1.21875 1.3125 1.078125 1.125 0.8125 1.125 C 0.53125 1.125 0.21875 1.359375 0.21875 1.75 C 0.21875 2.25 0.703125 2.4375 1.71875 2.4375 C 3.265625 2.4375 4.0625 1.453125 4.21875 0.796875 L 5.546875 -4.546875 C 5.578125 -4.703125 5.578125 -4.71875 5.578125 -4.75 C 5.578125 -4.90625 5.453125 -5.046875 5.265625 -5.046875 C 4.984375 -5.046875 4.8125 -4.8125 4.78125 -4.484375 Z M 4.78125 -4.484375 \"/>\n",
       "</symbol>\n",
       "</g>\n",
       "<clipPath id=\"clip-1544992871540614-1\">\n",
       "  <path d=\"M 84 24 L 111 24 L 111 84.285156 L 84 84.285156 Z M 84 24 \"/>\n",
       "</clipPath>\n",
       "<clipPath id=\"clip-1544992871540614-2\">\n",
       "  <path d=\"M 188 36 L 219.246094 36 L 219.246094 48 L 188 48 Z M 188 36 \"/>\n",
       "</clipPath>\n",
       "</defs>\n",
       "<g id=\"surface1\">\n",
       "<path style=\"fill:none;stroke-width:0.3985;stroke-linecap:butt;stroke-linejoin:miter;stroke:rgb(0%,0%,0%);stroke-opacity:1;stroke-miterlimit:10;\" d=\"M 35.830125 11.9545 L 28.791062 11.9545 C 26.591844 11.9545 24.806687 10.169344 24.806687 7.970125 L 24.806687 -7.971281 C 24.806687 -10.1705 26.591844 -11.955656 28.791062 -11.955656 L 35.830125 -11.955656 C 38.03325 -11.955656 39.8145 -10.1705 39.8145 -7.971281 L 39.8145 7.970125 C 39.8145 10.169344 38.03325 11.9545 35.830125 11.9545 Z M 35.830125 11.9545 \" transform=\"matrix(1,0,0,-1,0.498,42.142)\"/>\n",
       "<g style=\"fill:rgb(0%,0%,0%);fill-opacity:1;\">\n",
       "  <use xlink:href=\"#glyph-1544992871540614-0-1\" x=\"29.286\" y=\"45.131\"/>\n",
       "</g>\n",
       "<path style=\"fill:none;stroke-width:0.3985;stroke-linecap:butt;stroke-linejoin:miter;stroke:rgb(0%,0%,0%);stroke-opacity:1;stroke-miterlimit:10;\" d=\"M -0.00190625 0.001375 C 9.59575 0.001375 15.009813 0.001375 24.607469 0.001375 \" transform=\"matrix(1,0,0,-1,0.498,42.142)\"/>\n",
       "<path style=\"fill:none;stroke-width:0.3985;stroke-linecap:butt;stroke-linejoin:miter;stroke:rgb(0%,0%,0%);stroke-opacity:1;stroke-miterlimit:10;\" d=\"M 40.013719 0.001375 C 55.169969 0.001375 49.47075 -30.088469 64.623094 -30.088469 \" transform=\"matrix(1,0,0,-1,0.498,42.142)\"/>\n",
       "<g clip-path=\"url(#clip-1544992871540614-1)\" clip-rule=\"nonzero\">\n",
       "<path style=\"fill:none;stroke-width:0.3985;stroke-linecap:butt;stroke-linejoin:miter;stroke:rgb(0%,0%,0%);stroke-opacity:1;stroke-miterlimit:10;\" d=\"M 4.06375 -18.330156 L -2.666719 -18.330156 C -4.869844 -18.330156 -6.651094 -20.115312 -6.651094 -22.318437 L -6.651094 -68.146562 C -6.651094 -70.345781 -4.869844 -72.130937 -2.666719 -72.130937 L 4.06375 -72.130937 C 6.262969 -72.130937 8.048125 -70.345781 8.048125 -68.146562 L 8.048125 -22.318437 C 8.048125 -20.115312 6.262969 -18.330156 4.06375 -18.330156 Z M 4.06375 -18.330156 \" transform=\"matrix(1,0,0,-1,96.78,11.955)\"/>\n",
       "</g>\n",
       "<g style=\"fill:rgb(0%,0%,0%);fill-opacity:1;\">\n",
       "  <use xlink:href=\"#glyph-1544992871540614-0-2\" x=\"94.108\" y=\"61.337\"/>\n",
       "</g>\n",
       "<path style=\"fill:none;stroke-width:0.3985;stroke-linecap:butt;stroke-linejoin:miter;stroke:rgb(0%,0%,0%);stroke-opacity:1;stroke-miterlimit:10;\" d=\"M 96.978562 30.188875 C 83.060594 30.188875 64.623094 29.059969 64.623094 15.142 \" transform=\"matrix(1,0,0,-1,0.498,42.142)\"/>\n",
       "<path style=\"fill:none;stroke-width:0.3985;stroke-linecap:butt;stroke-linejoin:miter;stroke:rgb(0%,0%,0%);stroke-opacity:1;stroke-miterlimit:10;\" d=\"M 64.623094 15.142 C 64.623094 3.790438 78.076219 -0.100187 89.431687 -0.100187 \" transform=\"matrix(1,0,0,-1,0.498,42.142)\"/>\n",
       "<path style=\"fill:none;stroke-width:0.3985;stroke-linecap:butt;stroke-linejoin:miter;stroke:rgb(0%,0%,0%);stroke-opacity:1;stroke-miterlimit:10;\" d=\"M 64.623094 -30.088469 C 74.298875 -30.088469 79.755906 -29.986906 89.431687 -29.986906 \" transform=\"matrix(1,0,0,-1,0.498,42.142)\"/>\n",
       "<path style=\"fill:none;stroke-width:0.3985;stroke-linecap:butt;stroke-linejoin:miter;stroke:rgb(0%,0%,0%);stroke-opacity:1;stroke-miterlimit:10;\" d=\"M 129.337938 15.142 C 119.494187 24.98575 110.896531 30.188875 96.978562 30.188875 \" transform=\"matrix(1,0,0,-1,0.498,42.142)\"/>\n",
       "<path style=\"fill:none;stroke-width:0.3985;stroke-linecap:butt;stroke-linejoin:miter;stroke:rgb(0%,0%,0%);stroke-opacity:1;stroke-miterlimit:10;\" d=\"M 104.529344 -0.100187 C 115.880906 -0.100187 121.310594 7.114656 129.337938 15.142 \" transform=\"matrix(1,0,0,-1,0.498,42.142)\"/>\n",
       "<path style=\"fill:none;stroke-width:0.3985;stroke-linecap:butt;stroke-linejoin:miter;stroke:rgb(0%,0%,0%);stroke-opacity:1;stroke-miterlimit:10;\" d=\"M 104.529344 -29.986906 C 114.205125 -29.986906 119.662156 -30.088469 129.337938 -30.088469 \" transform=\"matrix(1,0,0,-1,0.498,42.142)\"/>\n",
       "<path style=\"fill:none;stroke-width:0.3985;stroke-linecap:butt;stroke-linejoin:miter;stroke:rgb(0%,0%,0%);stroke-opacity:1;stroke-miterlimit:10;\" d=\"M 129.337938 15.142 C 136.3145 22.122469 154.642625 25.013094 154.642625 15.142 \" transform=\"matrix(1,0,0,-1,0.498,42.142)\"/>\n",
       "<path style=\"fill:none;stroke-width:0.3985;stroke-linecap:butt;stroke-linejoin:miter;stroke:rgb(0%,0%,0%);stroke-opacity:1;stroke-miterlimit:10;\" d=\"M 154.642625 15.142 C 154.642625 5.274813 136.3145 8.165438 129.337938 15.142 \" transform=\"matrix(1,0,0,-1,0.498,42.142)\"/>\n",
       "<path style=\"fill:none;stroke-width:0.3985;stroke-linecap:butt;stroke-linejoin:miter;stroke:rgb(0%,0%,0%);stroke-opacity:1;stroke-miterlimit:10;\" d=\"M 129.337938 -30.088469 C 139.205125 -30.088469 144.775438 -30.088469 154.642625 -30.088469 \" transform=\"matrix(1,0,0,-1,0.498,42.142)\"/>\n",
       "<path style=\"fill:none;stroke-width:0.3985;stroke-linecap:butt;stroke-linejoin:miter;stroke:rgb(0%,0%,0%);stroke-opacity:1;stroke-miterlimit:10;\" d=\"M 189.459031 11.9545 L 183.435594 11.9545 C 181.232469 11.9545 179.451219 10.169344 179.451219 7.970125 L 179.451219 -7.971281 C 179.451219 -10.1705 181.232469 -11.955656 183.435594 -11.955656 L 189.459031 -11.955656 C 191.662156 -11.955656 193.447313 -10.1705 193.447313 -7.971281 L 193.447313 7.970125 C 193.447313 10.169344 191.662156 11.9545 189.459031 11.9545 Z M 189.459031 11.9545 \" transform=\"matrix(1,0,0,-1,0.498,42.142)\"/>\n",
       "<g style=\"fill:rgb(0%,0%,0%);fill-opacity:1;\">\n",
       "  <use xlink:href=\"#glyph-1544992871540614-0-3\" x=\"183.926\" y=\"43.553\"/>\n",
       "</g>\n",
       "<path style=\"fill:none;stroke-width:0.3985;stroke-linecap:butt;stroke-linejoin:miter;stroke:rgb(0%,0%,0%);stroke-opacity:1;stroke-miterlimit:10;\" d=\"M 154.642625 -30.088469 C 169.794969 -30.088469 164.09575 0.001375 179.252 0.001375 \" transform=\"matrix(1,0,0,-1,0.498,42.142)\"/>\n",
       "<g clip-path=\"url(#clip-1544992871540614-2)\" clip-rule=\"nonzero\">\n",
       "<path style=\"fill:none;stroke-width:0.3985;stroke-linecap:butt;stroke-linejoin:miter;stroke:rgb(0%,0%,0%);stroke-opacity:1;stroke-miterlimit:10;\" d=\"M 193.646531 0.001375 C 203.240281 0.001375 208.65825 0.001375 218.252 0.001375 \" transform=\"matrix(1,0,0,-1,0.498,42.142)\"/>\n",
       "</g>\n",
       "</g>\n",
       "</svg>\n",
       "\n"
      ],
      "text/plain": [
       "Catlab.Graphics.TikZ.Picture(Catlab.Graphics.TikZ.Statement[Node(\"n\", Catlab.Graphics.TikZ.Property[Property(\"container\", Nullable{AbstractString}())], Nullable{Coordinate}(), Picture(Catlab.Graphics.TikZ.Statement[Node(\"n1\", Catlab.Graphics.TikZ.Property[Property(\"minimum height\", Nullable{AbstractString}(\"2.0em\"))], Nullable{Coordinate}(), \"\"), Node(\"n2\", Catlab.Graphics.TikZ.Property[Property(\"draw\", Nullable{AbstractString}()), Property(\"solid\", Nullable{AbstractString}()), Property(\"inner sep\", Nullable{AbstractString}(\"0.333em\")), Property(\"rectangle\", Nullable{AbstractString}()), Property(\"rounded corners\", Nullable{AbstractString}()), Property(\"minimum height\", Nullable{AbstractString}(\"2.0em\")), Property(\"right=2em of n1)\", Nullable{AbstractString}())], Nullable{Coordinate}(), \"f\"), Edge(\"n1.center\", \"n2.west\", PathOperation(\"to\", Catlab.Graphics.TikZ.Property[Property(\"out\", Nullable{AbstractString}(\"0\")), Property(\"in\", Nullable{AbstractString}(\"180\"))]), Catlab.Graphics.TikZ.Property[], Nullable{EdgeNode}()), Node(\"n3\", Catlab.Graphics.TikZ.Property[Property(\"container\", Nullable{AbstractString}()), Property(\"right=2em of n2)\", Nullable{AbstractString}())], Nullable{Coordinate}(), Picture(Catlab.Graphics.TikZ.Statement[Node(\"n31\", Catlab.Graphics.TikZ.Property[Property(\"minimum height\", Nullable{AbstractString}(\"4.5em\"))], Nullable{Coordinate}(), \"\"), Node(\"n32\", Catlab.Graphics.TikZ.Property[Property(\"minimum height\", Nullable{AbstractString}(\"2.0em\")), Property(\"below=0.5em of n31\", Nullable{AbstractString}())], Nullable{Coordinate}(), \"\")], Catlab.Graphics.TikZ.Property[])), Edge(\"n2.east\", \"n32.center\", PathOperation(\"to\", Catlab.Graphics.TikZ.Property[Property(\"out\", Nullable{AbstractString}(\"0\")), Property(\"in\", Nullable{AbstractString}(\"180\"))]), Catlab.Graphics.TikZ.Property[], Nullable{EdgeNode}()), Node(\"n4\", Catlab.Graphics.TikZ.Property[Property(\"container\", Nullable{AbstractString}()), Property(\"right=2em of n3)\", Nullable{AbstractString}())], Nullable{Coordinate}(), Picture(Catlab.Graphics.TikZ.Statement[Node(\"n41\", Catlab.Graphics.TikZ.Property[Property(\"minimum height\", Nullable{AbstractString}(\"2.0em\"))], Nullable{Coordinate}(), \"\"), Node(\"n42\", Catlab.Graphics.TikZ.Property[Property(\"draw\", Nullable{AbstractString}()), Property(\"solid\", Nullable{AbstractString}()), Property(\"inner sep\", Nullable{AbstractString}(\"0.333em\")), Property(\"rectangle\", Nullable{AbstractString}()), Property(\"rounded corners\", Nullable{AbstractString}()), Property(\"minimum height\", Nullable{AbstractString}(\"4.5em\")), Property(\"below=0.5em of n41\", Nullable{AbstractString}())], Nullable{Coordinate}(), \"h\")], Catlab.Graphics.TikZ.Property[])), Edge(\"n41.center\", \"n31.center\", PathOperation(\"to\", Catlab.Graphics.TikZ.Property[Property(\"out\", Nullable{AbstractString}(\"180\")), Property(\"in\", Nullable{AbstractString}(\"90\"))]), Catlab.Graphics.TikZ.Property[], Nullable{EdgeNode}()), Edge(\"n31.center\", \"\\$(n42.west)+(0,1.25em)\\$\", PathOperation(\"to\", Catlab.Graphics.TikZ.Property[Property(\"out\", Nullable{AbstractString}(\"270\")), Property(\"in\", Nullable{AbstractString}(\"180\"))]), Catlab.Graphics.TikZ.Property[], Nullable{EdgeNode}()), Edge(\"n32.center\", \"\\$(n42.west)+(0,-1.25em)\\$\", PathOperation(\"to\", Catlab.Graphics.TikZ.Property[Property(\"out\", Nullable{AbstractString}(\"0\")), Property(\"in\", Nullable{AbstractString}(\"180\"))]), Catlab.Graphics.TikZ.Property[], Nullable{EdgeNode}()), Node(\"n5\", Catlab.Graphics.TikZ.Property[Property(\"container\", Nullable{AbstractString}()), Property(\"right=2em of n4)\", Nullable{AbstractString}())], Nullable{Coordinate}(), Picture(Catlab.Graphics.TikZ.Statement[Node(\"n51\", Catlab.Graphics.TikZ.Property[Property(\"minimum height\", Nullable{AbstractString}(\"4.5em\"))], Nullable{Coordinate}(), \"\"), Node(\"n52\", Catlab.Graphics.TikZ.Property[Property(\"minimum height\", Nullable{AbstractString}(\"2.0em\")), Property(\"below=0.5em of n51\", Nullable{AbstractString}())], Nullable{Coordinate}(), \"\")], Catlab.Graphics.TikZ.Property[]))  …  Edge(\"\\$(n42.east)+(0,1.25em)\\$\", \"n51.center\", PathOperation(\"to\", Catlab.Graphics.TikZ.Property[Property(\"out\", Nullable{AbstractString}(\"0\")), Property(\"in\", Nullable{AbstractString}(\"225\"))]), Catlab.Graphics.TikZ.Property[], Nullable{EdgeNode}()), Edge(\"\\$(n42.east)+(0,-1.25em)\\$\", \"n52.center\", PathOperation(\"to\", Catlab.Graphics.TikZ.Property[Property(\"out\", Nullable{AbstractString}(\"0\")), Property(\"in\", Nullable{AbstractString}(\"180\"))]), Catlab.Graphics.TikZ.Property[], Nullable{EdgeNode}()), Node(\"n6\", Catlab.Graphics.TikZ.Property[Property(\"container\", Nullable{AbstractString}()), Property(\"right=2em of n5)\", Nullable{AbstractString}())], Nullable{Coordinate}(), Picture(Catlab.Graphics.TikZ.Statement[Node(\"n61\", Catlab.Graphics.TikZ.Property[Property(\"minimum height\", Nullable{AbstractString}(\"4.5em\"))], Nullable{Coordinate}(), \"\"), Node(\"n62\", Catlab.Graphics.TikZ.Property[Property(\"minimum height\", Nullable{AbstractString}(\"2.0em\")), Property(\"below=0.5em of n61\", Nullable{AbstractString}())], Nullable{Coordinate}(), \"\")], Catlab.Graphics.TikZ.Property[])), Edge(\"n51.center\", \"n61.center\", PathOperation(\"to\", Catlab.Graphics.TikZ.Property[Property(\"out\", Nullable{AbstractString}(\"45\")), Property(\"in\", Nullable{AbstractString}(\"90\"))]), Catlab.Graphics.TikZ.Property[], Nullable{EdgeNode}()), Edge(\"n61.center\", \"n51.center\", PathOperation(\"to\", Catlab.Graphics.TikZ.Property[Property(\"out\", Nullable{AbstractString}(\"270\")), Property(\"in\", Nullable{AbstractString}(\"315\"))]), Catlab.Graphics.TikZ.Property[], Nullable{EdgeNode}()), Edge(\"n52.center\", \"n62.center\", PathOperation(\"to\", Catlab.Graphics.TikZ.Property[Property(\"out\", Nullable{AbstractString}(\"0\")), Property(\"in\", Nullable{AbstractString}(\"180\"))]), Catlab.Graphics.TikZ.Property[], Nullable{EdgeNode}()), Node(\"n7\", Catlab.Graphics.TikZ.Property[Property(\"draw\", Nullable{AbstractString}()), Property(\"solid\", Nullable{AbstractString}()), Property(\"inner sep\", Nullable{AbstractString}(\"0.333em\")), Property(\"rectangle\", Nullable{AbstractString}()), Property(\"rounded corners\", Nullable{AbstractString}()), Property(\"minimum height\", Nullable{AbstractString}(\"2.0em\")), Property(\"right=2em of n6)\", Nullable{AbstractString}())], Nullable{Coordinate}(), \"g\"), Edge(\"n62.center\", \"n7.west\", PathOperation(\"to\", Catlab.Graphics.TikZ.Property[Property(\"out\", Nullable{AbstractString}(\"0\")), Property(\"in\", Nullable{AbstractString}(\"180\"))]), Catlab.Graphics.TikZ.Property[], Nullable{EdgeNode}()), Node(\"n8\", Catlab.Graphics.TikZ.Property[Property(\"minimum height\", Nullable{AbstractString}(\"2.0em\")), Property(\"right=2em of n7)\", Nullable{AbstractString}())], Nullable{Coordinate}(), \"\"), Edge(\"n7.east\", \"n8.center\", PathOperation(\"to\", Catlab.Graphics.TikZ.Property[Property(\"out\", Nullable{AbstractString}(\"0\")), Property(\"in\", Nullable{AbstractString}(\"180\"))]), Catlab.Graphics.TikZ.Property[], Nullable{EdgeNode}())], Catlab.Graphics.TikZ.Property[]))], Catlab.Graphics.TikZ.Property[Property(\"remember picture\", Nullable{AbstractString}()), Property(\"font\", Nullable{AbstractString}(\"{\\\\fontsize{12}{14.4}}\")), Property(\"container/.style\", Nullable{AbstractString}(\"{inner sep=0}\")), Property(\"every path/.style\", Nullable{AbstractString}(\"{solid, line width=0.4pt}\")), Property(\"execute at begin node\", Nullable{AbstractString}(\"\\$\")), Property(\"execute at end node\", Nullable{AbstractString}(\"\\$\"))])"
      ]
     },
     "execution_count": 25,
     "metadata": {},
     "output_type": "execute_result"
    }
   ],
   "source": [
    "to_tikz(trace)"
   ]
  },
  {
   "cell_type": "markdown",
   "metadata": {},
   "source": [
    "## Graphviz\n",
    "\n",
    "Catlab can also draw wiring diagrams using Graphviz's `dot` program. This feature requires that Graphviz be installed."
   ]
  },
  {
   "cell_type": "markdown",
   "metadata": {},
   "source": [
    "### Symmetric monoidal category"
   ]
  },
  {
   "cell_type": "code",
   "execution_count": 3,
   "metadata": {
    "collapsed": true
   },
   "outputs": [],
   "source": [
    "A, B = Ob(FreeSymmetricMonoidalCategory, :A, :B)\n",
    "f = Hom(:f, A, B)\n",
    "g = Hom(:g, B, A)\n",
    "h = Hom(:h, otimes(A,B), otimes(A,B));"
   ]
  },
  {
   "cell_type": "code",
   "execution_count": 4,
   "metadata": {},
   "outputs": [
    {
     "data": {
      "image/svg+xml": [
       "<?xml version=\"1.0\" encoding=\"UTF-8\" standalone=\"no\"?>\n",
       "<!DOCTYPE svg PUBLIC \"-//W3C//DTD SVG 1.1//EN\"\n",
       " \"http://www.w3.org/Graphics/SVG/1.1/DTD/svg11.dtd\">\n",
       "<!-- Generated by graphviz version 2.40.1 (20161225.0304)\n",
       " -->\n",
       "<!-- Title: G Pages: 1 -->\n",
       "<svg width=\"32pt\" height=\"106pt\"\n",
       " viewBox=\"0.00 0.00 32.00 106.00\" xmlns=\"http://www.w3.org/2000/svg\" xmlns:xlink=\"http://www.w3.org/1999/xlink\">\n",
       "<g id=\"graph0\" class=\"graph\" transform=\"scale(1 1) rotate(0) translate(4 102)\">\n",
       "<title>G</title>\n",
       "<polygon fill=\"#ffffff\" stroke=\"transparent\" points=\"-4,4 -4,-102 28,-102 28,4 -4,4\"/>\n",
       "<!-- n1p1 -->\n",
       "<!-- n3 -->\n",
       "<g id=\"f\" class=\"node\">\n",
       "<title>n3</title>\n",
       "<polygon fill=\"none\" stroke=\"#000000\" points=\"0,-37 0,-61 24,-61 24,-37 0,-37\"/>\n",
       "<text text-anchor=\"start\" x=\"10.0552\" y=\"-44.8\" font-family=\"Serif\" font-size=\"14.00\" fill=\"#000000\">f</text>\n",
       "</g>\n",
       "<!-- n1p1&#45;&gt;n3 -->\n",
       "<g id=\"A\" class=\"edge\">\n",
       "<title>n1p1:s&#45;&gt;n3:n</title>\n",
       "<path fill=\"none\" stroke=\"#000000\" d=\"M12,-97C12,-82.875 12,-78.1023 12,-66.1692\"/>\n",
       "<polygon fill=\"#000000\" stroke=\"#000000\" points=\"13.7501,-66 12,-61 10.2501,-66 13.7501,-66\"/>\n",
       "</g>\n",
       "<!-- n2p1 -->\n",
       "<!-- n3&#45;&gt;n2p1 -->\n",
       "<g id=\"B\" class=\"edge\">\n",
       "<title>n3:s&#45;&gt;n2p1:n</title>\n",
       "<path fill=\"none\" stroke=\"#000000\" d=\"M12,-37C12,-22.875 12,-18.1023 12,-6.1692\"/>\n",
       "<polygon fill=\"#000000\" stroke=\"#000000\" points=\"13.7501,-6 12,-1 10.2501,-6 13.7501,-6\"/>\n",
       "</g>\n",
       "</g>\n",
       "</svg>\n",
       "\n"
      ],
      "text/plain": [
       "Catlab.Graphics.Graphviz.Graph(\"G\", true, Catlab.Graphics.Graphviz.Statement[Subgraph(\"\", Catlab.Graphics.Graphviz.Statement[Edge(Catlab.Graphics.Graphviz.NodeID[NodeID(\"n1p1\", \"\", \"\")], OrderedCollections.OrderedDict{Symbol,Union{String, Html}}())], OrderedCollections.OrderedDict{Symbol,Union{String, Html}}(:rank=>\"source\",:rankdir=>\"LR\"), OrderedCollections.OrderedDict{Symbol,Union{String, Html}}(:style=>\"invis\",:shape=>\"none\",:label=>\"\",:width=>\"0.333\",:height=>\"0\"), OrderedCollections.OrderedDict{Symbol,Union{String, Html}}(:style=>\"invis\")), Subgraph(\"\", Catlab.Graphics.Graphviz.Statement[Edge(Catlab.Graphics.Graphviz.NodeID[NodeID(\"n2p1\", \"\", \"\")], OrderedCollections.OrderedDict{Symbol,Union{String, Html}}())], OrderedCollections.OrderedDict{Symbol,Union{String, Html}}(:rank=>\"sink\",:rankdir=>\"LR\"), OrderedCollections.OrderedDict{Symbol,Union{String, Html}}(:style=>\"invis\",:shape=>\"none\",:label=>\"\",:width=>\"0.333\",:height=>\"0\"), OrderedCollections.OrderedDict{Symbol,Union{String, Html}}(:style=>\"invis\")), Node(\"n3\", OrderedCollections.OrderedDict{Symbol,Union{String, Html}}(:label=>Html(\"<TABLE BORDER=\\\"0\\\" CELLPADDING=\\\"0\\\" CELLSPACING=\\\"0\\\">\\n<TR><TD><TABLE BORDER=\\\"0\\\" CELLPADDING=\\\"0\\\" CELLSPACING=\\\"0\\\"><TR><TD HEIGHT=\\\"0\\\" WIDTH=\\\"24\\\" PORT=\\\"in1\\\"></TD></TR></TABLE></TD></TR>\\n<TR><TD BORDER=\\\"1\\\" CELLPADDING=\\\"4\\\">f</TD></TR>\\n<TR><TD><TABLE BORDER=\\\"0\\\" CELLPADDING=\\\"0\\\" CELLSPACING=\\\"0\\\"><TR><TD HEIGHT=\\\"0\\\" WIDTH=\\\"24\\\" PORT=\\\"out1\\\"></TD></TR></TABLE></TD></TR>\\n</TABLE>\"),:id=>\"f\")), Edge(Catlab.Graphics.Graphviz.NodeID[NodeID(\"n1p1\", \"s\", \"\"), NodeID(\"n3\", \"in1\", \"n\")], OrderedCollections.OrderedDict{Symbol,Union{String, Html}}(:id=>\"A\")), Edge(Catlab.Graphics.Graphviz.NodeID[NodeID(\"n3\", \"out1\", \"s\"), NodeID(\"n2p1\", \"n\", \"\")], OrderedCollections.OrderedDict{Symbol,Union{String, Html}}(:id=>\"B\"))], OrderedCollections.OrderedDict{Symbol,Union{String, Html}}(:fontname=>\"Serif\",:rankdir=>\"TB\"), OrderedCollections.OrderedDict{Symbol,Union{String, Html}}(:fontname=>\"Serif\",:shape=>\"none\",:width=>\"0\",:height=>\"0\",:margin=>\"0\"), OrderedCollections.OrderedDict{Symbol,Union{String, Html}}(:arrowsize=>\"0.5\",:fontname=>\"Serif\"))"
      ]
     },
     "execution_count": 4,
     "metadata": {},
     "output_type": "execute_result"
    }
   ],
   "source": [
    "to_graphviz(f)"
   ]
  },
  {
   "cell_type": "code",
   "execution_count": 5,
   "metadata": {},
   "outputs": [
    {
     "data": {
      "image/svg+xml": [
       "<?xml version=\"1.0\" encoding=\"UTF-8\" standalone=\"no\"?>\n",
       "<!DOCTYPE svg PUBLIC \"-//W3C//DTD SVG 1.1//EN\"\n",
       " \"http://www.w3.org/Graphics/SVG/1.1/DTD/svg11.dtd\">\n",
       "<!-- Generated by graphviz version 2.40.1 (20161225.0304)\n",
       " -->\n",
       "<!-- Title: G Pages: 1 -->\n",
       "<svg width=\"32pt\" height=\"166pt\"\n",
       " viewBox=\"0.00 0.00 32.00 166.00\" xmlns=\"http://www.w3.org/2000/svg\" xmlns:xlink=\"http://www.w3.org/1999/xlink\">\n",
       "<g id=\"graph0\" class=\"graph\" transform=\"scale(1 1) rotate(0) translate(4 162)\">\n",
       "<title>G</title>\n",
       "<polygon fill=\"#ffffff\" stroke=\"transparent\" points=\"-4,4 -4,-162 28,-162 28,4 -4,4\"/>\n",
       "<!-- n1p1 -->\n",
       "<!-- n3 -->\n",
       "<g id=\"f\" class=\"node\">\n",
       "<title>n3</title>\n",
       "<polygon fill=\"none\" stroke=\"#000000\" points=\"0,-97 0,-121 24,-121 24,-97 0,-97\"/>\n",
       "<text text-anchor=\"start\" x=\"10.0552\" y=\"-104.8\" font-family=\"Serif\" font-size=\"14.00\" fill=\"#000000\">f</text>\n",
       "</g>\n",
       "<!-- n1p1&#45;&gt;n3 -->\n",
       "<g id=\"A\" class=\"edge\">\n",
       "<title>n1p1:s&#45;&gt;n3:n</title>\n",
       "<path fill=\"none\" stroke=\"#000000\" d=\"M12,-157C12,-142.875 12,-138.1023 12,-126.1692\"/>\n",
       "<polygon fill=\"#000000\" stroke=\"#000000\" points=\"13.7501,-126 12,-121 10.2501,-126 13.7501,-126\"/>\n",
       "</g>\n",
       "<!-- n2p1 -->\n",
       "<!-- n4 -->\n",
       "<g id=\"g\" class=\"node\">\n",
       "<title>n4</title>\n",
       "<polygon fill=\"none\" stroke=\"#000000\" points=\"0,-37 0,-61 24,-61 24,-37 0,-37\"/>\n",
       "<text text-anchor=\"start\" x=\"8.1069\" y=\"-44.8\" font-family=\"Serif\" font-size=\"14.00\" fill=\"#000000\">g</text>\n",
       "</g>\n",
       "<!-- n3&#45;&gt;n4 -->\n",
       "<g id=\"B\" class=\"edge\">\n",
       "<title>n3:s&#45;&gt;n4:n</title>\n",
       "<path fill=\"none\" stroke=\"#000000\" d=\"M12,-97C12,-82.875 12,-78.1023 12,-66.1692\"/>\n",
       "<polygon fill=\"#000000\" stroke=\"#000000\" points=\"13.7501,-66 12,-61 10.2501,-66 13.7501,-66\"/>\n",
       "</g>\n",
       "<!-- n4&#45;&gt;n2p1 -->\n",
       "<g id=\"A\" class=\"edge\">\n",
       "<title>n4:s&#45;&gt;n2p1:n</title>\n",
       "<path fill=\"none\" stroke=\"#000000\" d=\"M12,-37C12,-22.875 12,-18.1023 12,-6.1692\"/>\n",
       "<polygon fill=\"#000000\" stroke=\"#000000\" points=\"13.7501,-6 12,-1 10.2501,-6 13.7501,-6\"/>\n",
       "</g>\n",
       "</g>\n",
       "</svg>\n",
       "\n"
      ],
      "text/plain": [
       "Catlab.Graphics.Graphviz.Graph(\"G\", true, Catlab.Graphics.Graphviz.Statement[Subgraph(\"\", Catlab.Graphics.Graphviz.Statement[Edge(Catlab.Graphics.Graphviz.NodeID[NodeID(\"n1p1\", \"\", \"\")], OrderedCollections.OrderedDict{Symbol,Union{String, Html}}())], OrderedCollections.OrderedDict{Symbol,Union{String, Html}}(:rank=>\"source\",:rankdir=>\"LR\"), OrderedCollections.OrderedDict{Symbol,Union{String, Html}}(:style=>\"invis\",:shape=>\"none\",:label=>\"\",:width=>\"0.333\",:height=>\"0\"), OrderedCollections.OrderedDict{Symbol,Union{String, Html}}(:style=>\"invis\")), Subgraph(\"\", Catlab.Graphics.Graphviz.Statement[Edge(Catlab.Graphics.Graphviz.NodeID[NodeID(\"n2p1\", \"\", \"\")], OrderedCollections.OrderedDict{Symbol,Union{String, Html}}())], OrderedCollections.OrderedDict{Symbol,Union{String, Html}}(:rank=>\"sink\",:rankdir=>\"LR\"), OrderedCollections.OrderedDict{Symbol,Union{String, Html}}(:style=>\"invis\",:shape=>\"none\",:label=>\"\",:width=>\"0.333\",:height=>\"0\"), OrderedCollections.OrderedDict{Symbol,Union{String, Html}}(:style=>\"invis\")), Node(\"n3\", OrderedCollections.OrderedDict{Symbol,Union{String, Html}}(:label=>Html(\"<TABLE BORDER=\\\"0\\\" CELLPADDING=\\\"0\\\" CELLSPACING=\\\"0\\\">\\n<TR><TD><TABLE BORDER=\\\"0\\\" CELLPADDING=\\\"0\\\" CELLSPACING=\\\"0\\\"><TR><TD HEIGHT=\\\"0\\\" WIDTH=\\\"24\\\" PORT=\\\"in1\\\"></TD></TR></TABLE></TD></TR>\\n<TR><TD BORDER=\\\"1\\\" CELLPADDING=\\\"4\\\">f</TD></TR>\\n<TR><TD><TABLE BORDER=\\\"0\\\" CELLPADDING=\\\"0\\\" CELLSPACING=\\\"0\\\"><TR><TD HEIGHT=\\\"0\\\" WIDTH=\\\"24\\\" PORT=\\\"out1\\\"></TD></TR></TABLE></TD></TR>\\n</TABLE>\"),:id=>\"f\")), Node(\"n4\", OrderedCollections.OrderedDict{Symbol,Union{String, Html}}(:label=>Html(\"<TABLE BORDER=\\\"0\\\" CELLPADDING=\\\"0\\\" CELLSPACING=\\\"0\\\">\\n<TR><TD><TABLE BORDER=\\\"0\\\" CELLPADDING=\\\"0\\\" CELLSPACING=\\\"0\\\"><TR><TD HEIGHT=\\\"0\\\" WIDTH=\\\"24\\\" PORT=\\\"in1\\\"></TD></TR></TABLE></TD></TR>\\n<TR><TD BORDER=\\\"1\\\" CELLPADDING=\\\"4\\\">g</TD></TR>\\n<TR><TD><TABLE BORDER=\\\"0\\\" CELLPADDING=\\\"0\\\" CELLSPACING=\\\"0\\\"><TR><TD HEIGHT=\\\"0\\\" WIDTH=\\\"24\\\" PORT=\\\"out1\\\"></TD></TR></TABLE></TD></TR>\\n</TABLE>\"),:id=>\"g\")), Edge(Catlab.Graphics.Graphviz.NodeID[NodeID(\"n1p1\", \"s\", \"\"), NodeID(\"n3\", \"in1\", \"n\")], OrderedCollections.OrderedDict{Symbol,Union{String, Html}}(:id=>\"A\")), Edge(Catlab.Graphics.Graphviz.NodeID[NodeID(\"n3\", \"out1\", \"s\"), NodeID(\"n4\", \"in1\", \"n\")], OrderedCollections.OrderedDict{Symbol,Union{String, Html}}(:id=>\"B\")), Edge(Catlab.Graphics.Graphviz.NodeID[NodeID(\"n4\", \"out1\", \"s\"), NodeID(\"n2p1\", \"n\", \"\")], OrderedCollections.OrderedDict{Symbol,Union{String, Html}}(:id=>\"A\"))], OrderedCollections.OrderedDict{Symbol,Union{String, Html}}(:fontname=>\"Serif\",:rankdir=>\"TB\"), OrderedCollections.OrderedDict{Symbol,Union{String, Html}}(:fontname=>\"Serif\",:shape=>\"none\",:width=>\"0\",:height=>\"0\",:margin=>\"0\"), OrderedCollections.OrderedDict{Symbol,Union{String, Html}}(:arrowsize=>\"0.5\",:fontname=>\"Serif\"))"
      ]
     },
     "execution_count": 5,
     "metadata": {},
     "output_type": "execute_result"
    }
   ],
   "source": [
    "to_graphviz(compose(f,g))"
   ]
  },
  {
   "cell_type": "markdown",
   "metadata": {},
   "source": [
    "Notice, in the next example, how the Graphviz wiring diagram automatically \"untwists\" the double braiding to minimize edge crossings. Compare with the TikZ picture above."
   ]
  },
  {
   "cell_type": "code",
   "execution_count": 6,
   "metadata": {},
   "outputs": [
    {
     "data": {
      "image/svg+xml": [
       "<?xml version=\"1.0\" encoding=\"UTF-8\" standalone=\"no\"?>\n",
       "<!DOCTYPE svg PUBLIC \"-//W3C//DTD SVG 1.1//EN\"\n",
       " \"http://www.w3.org/Graphics/SVG/1.1/DTD/svg11.dtd\">\n",
       "<!-- Generated by graphviz version 2.40.1 (20161225.0304)\n",
       " -->\n",
       "<!-- Title: G Pages: 1 -->\n",
       "<svg width=\"74pt\" height=\"106pt\"\n",
       " viewBox=\"0.00 0.00 74.00 106.00\" xmlns=\"http://www.w3.org/2000/svg\" xmlns:xlink=\"http://www.w3.org/1999/xlink\">\n",
       "<g id=\"graph0\" class=\"graph\" transform=\"scale(1 1) rotate(0) translate(4 102)\">\n",
       "<title>G</title>\n",
       "<polygon fill=\"#ffffff\" stroke=\"transparent\" points=\"-4,4 -4,-102 70,-102 70,4 -4,4\"/>\n",
       "<!-- n1p1 -->\n",
       "<!-- n1p2 -->\n",
       "<!-- n1p1&#45;&gt;n1p2 -->\n",
       "<!-- n4 -->\n",
       "<g id=\"f\" class=\"node\">\n",
       "<title>n4</title>\n",
       "<polygon fill=\"none\" stroke=\"#000000\" points=\"0,-37 0,-61 24,-61 24,-37 0,-37\"/>\n",
       "<text text-anchor=\"start\" x=\"10.0552\" y=\"-44.8\" font-family=\"Serif\" font-size=\"14.00\" fill=\"#000000\">f</text>\n",
       "</g>\n",
       "<!-- n1p1&#45;&gt;n4 -->\n",
       "<g id=\"A\" class=\"edge\">\n",
       "<title>n1p1:s&#45;&gt;n4:n</title>\n",
       "<path fill=\"none\" stroke=\"#000000\" d=\"M12,-97C12,-82.875 12,-78.1023 12,-66.1692\"/>\n",
       "<polygon fill=\"#000000\" stroke=\"#000000\" points=\"13.7501,-66 12,-61 10.2501,-66 13.7501,-66\"/>\n",
       "</g>\n",
       "<!-- n3 -->\n",
       "<g id=\"f\" class=\"node\">\n",
       "<title>n3</title>\n",
       "<polygon fill=\"none\" stroke=\"#000000\" points=\"42,-37 42,-61 66,-61 66,-37 42,-37\"/>\n",
       "<text text-anchor=\"start\" x=\"52.0552\" y=\"-44.8\" font-family=\"Serif\" font-size=\"14.00\" fill=\"#000000\">f</text>\n",
       "</g>\n",
       "<!-- n1p2&#45;&gt;n3 -->\n",
       "<g id=\"A\" class=\"edge\">\n",
       "<title>n1p2:s&#45;&gt;n3:n</title>\n",
       "<path fill=\"none\" stroke=\"#000000\" d=\"M54,-97C54,-82.875 54,-78.1023 54,-66.1692\"/>\n",
       "<polygon fill=\"#000000\" stroke=\"#000000\" points=\"55.7501,-66 54,-61 52.2501,-66 55.7501,-66\"/>\n",
       "</g>\n",
       "<!-- n2p1 -->\n",
       "<!-- n2p2 -->\n",
       "<!-- n2p1&#45;&gt;n2p2 -->\n",
       "<!-- n3&#45;&gt;n2p2 -->\n",
       "<g id=\"B\" class=\"edge\">\n",
       "<title>n3:s&#45;&gt;n2p2:n</title>\n",
       "<path fill=\"none\" stroke=\"#000000\" d=\"M54,-37C54,-22.875 54,-18.1023 54,-6.1692\"/>\n",
       "<polygon fill=\"#000000\" stroke=\"#000000\" points=\"55.7501,-6 54,-1 52.2501,-6 55.7501,-6\"/>\n",
       "</g>\n",
       "<!-- n4&#45;&gt;n2p1 -->\n",
       "<g id=\"B\" class=\"edge\">\n",
       "<title>n4:s&#45;&gt;n2p1:n</title>\n",
       "<path fill=\"none\" stroke=\"#000000\" d=\"M12,-37C12,-22.875 12,-18.1023 12,-6.1692\"/>\n",
       "<polygon fill=\"#000000\" stroke=\"#000000\" points=\"13.7501,-6 12,-1 10.2501,-6 13.7501,-6\"/>\n",
       "</g>\n",
       "</g>\n",
       "</svg>\n",
       "\n"
      ],
      "text/plain": [
       "Catlab.Graphics.Graphviz.Graph(\"G\", true, Catlab.Graphics.Graphviz.Statement[Subgraph(\"\", Catlab.Graphics.Graphviz.Statement[Edge(Catlab.Graphics.Graphviz.NodeID[NodeID(\"n1p1\", \"\", \"\"), NodeID(\"n1p2\", \"\", \"\")], OrderedCollections.OrderedDict{Symbol,Union{String, Html}}())], OrderedCollections.OrderedDict{Symbol,Union{String, Html}}(:rank=>\"source\",:rankdir=>\"LR\"), OrderedCollections.OrderedDict{Symbol,Union{String, Html}}(:style=>\"invis\",:shape=>\"none\",:label=>\"\",:width=>\"0.333\",:height=>\"0\"), OrderedCollections.OrderedDict{Symbol,Union{String, Html}}(:style=>\"invis\")), Subgraph(\"\", Catlab.Graphics.Graphviz.Statement[Edge(Catlab.Graphics.Graphviz.NodeID[NodeID(\"n2p1\", \"\", \"\"), NodeID(\"n2p2\", \"\", \"\")], OrderedCollections.OrderedDict{Symbol,Union{String, Html}}())], OrderedCollections.OrderedDict{Symbol,Union{String, Html}}(:rank=>\"sink\",:rankdir=>\"LR\"), OrderedCollections.OrderedDict{Symbol,Union{String, Html}}(:style=>\"invis\",:shape=>\"none\",:label=>\"\",:width=>\"0.333\",:height=>\"0\"), OrderedCollections.OrderedDict{Symbol,Union{String, Html}}(:style=>\"invis\")), Node(\"n3\", OrderedCollections.OrderedDict{Symbol,Union{String, Html}}(:label=>Html(\"<TABLE BORDER=\\\"0\\\" CELLPADDING=\\\"0\\\" CELLSPACING=\\\"0\\\">\\n<TR><TD><TABLE BORDER=\\\"0\\\" CELLPADDING=\\\"0\\\" CELLSPACING=\\\"0\\\"><TR><TD HEIGHT=\\\"0\\\" WIDTH=\\\"24\\\" PORT=\\\"in1\\\"></TD></TR></TABLE></TD></TR>\\n<TR><TD BORDER=\\\"1\\\" CELLPADDING=\\\"4\\\">f</TD></TR>\\n<TR><TD><TABLE BORDER=\\\"0\\\" CELLPADDING=\\\"0\\\" CELLSPACING=\\\"0\\\"><TR><TD HEIGHT=\\\"0\\\" WIDTH=\\\"24\\\" PORT=\\\"out1\\\"></TD></TR></TABLE></TD></TR>\\n</TABLE>\"),:id=>\"f\")), Node(\"n4\", OrderedCollections.OrderedDict{Symbol,Union{String, Html}}(:label=>Html(\"<TABLE BORDER=\\\"0\\\" CELLPADDING=\\\"0\\\" CELLSPACING=\\\"0\\\">\\n<TR><TD><TABLE BORDER=\\\"0\\\" CELLPADDING=\\\"0\\\" CELLSPACING=\\\"0\\\"><TR><TD HEIGHT=\\\"0\\\" WIDTH=\\\"24\\\" PORT=\\\"in1\\\"></TD></TR></TABLE></TD></TR>\\n<TR><TD BORDER=\\\"1\\\" CELLPADDING=\\\"4\\\">f</TD></TR>\\n<TR><TD><TABLE BORDER=\\\"0\\\" CELLPADDING=\\\"0\\\" CELLSPACING=\\\"0\\\"><TR><TD HEIGHT=\\\"0\\\" WIDTH=\\\"24\\\" PORT=\\\"out1\\\"></TD></TR></TABLE></TD></TR>\\n</TABLE>\"),:id=>\"f\")), Edge(Catlab.Graphics.Graphviz.NodeID[NodeID(\"n1p2\", \"s\", \"\"), NodeID(\"n3\", \"in1\", \"n\")], OrderedCollections.OrderedDict{Symbol,Union{String, Html}}(:id=>\"A\")), Edge(Catlab.Graphics.Graphviz.NodeID[NodeID(\"n1p1\", \"s\", \"\"), NodeID(\"n4\", \"in1\", \"n\")], OrderedCollections.OrderedDict{Symbol,Union{String, Html}}(:id=>\"A\")), Edge(Catlab.Graphics.Graphviz.NodeID[NodeID(\"n3\", \"out1\", \"s\"), NodeID(\"n2p2\", \"n\", \"\")], OrderedCollections.OrderedDict{Symbol,Union{String, Html}}(:id=>\"B\")), Edge(Catlab.Graphics.Graphviz.NodeID[NodeID(\"n4\", \"out1\", \"s\"), NodeID(\"n2p1\", \"n\", \"\")], OrderedCollections.OrderedDict{Symbol,Union{String, Html}}(:id=>\"B\"))], OrderedCollections.OrderedDict{Symbol,Union{String, Html}}(:fontname=>\"Serif\",:rankdir=>\"TB\"), OrderedCollections.OrderedDict{Symbol,Union{String, Html}}(:fontname=>\"Serif\",:shape=>\"none\",:width=>\"0\",:height=>\"0\",:margin=>\"0\"), OrderedCollections.OrderedDict{Symbol,Union{String, Html}}(:arrowsize=>\"0.5\",:fontname=>\"Serif\"))"
      ]
     },
     "execution_count": 6,
     "metadata": {},
     "output_type": "execute_result"
    }
   ],
   "source": [
    "to_graphviz(compose(braid(A,A), otimes(f,f), braid(B,B)))"
   ]
  },
  {
   "cell_type": "markdown",
   "metadata": {},
   "source": [
    "Here is a larger composite morphism."
   ]
  },
  {
   "cell_type": "code",
   "execution_count": 7,
   "metadata": {},
   "outputs": [
    {
     "data": {
      "image/svg+xml": [
       "<?xml version=\"1.0\" encoding=\"UTF-8\" standalone=\"no\"?>\n",
       "<!DOCTYPE svg PUBLIC \"-//W3C//DTD SVG 1.1//EN\"\n",
       " \"http://www.w3.org/Graphics/SVG/1.1/DTD/svg11.dtd\">\n",
       "<!-- Generated by graphviz version 2.40.1 (20161225.0304)\n",
       " -->\n",
       "<!-- Title: G Pages: 1 -->\n",
       "<svg width=\"74pt\" height=\"226pt\"\n",
       " viewBox=\"0.00 0.00 74.00 226.00\" xmlns=\"http://www.w3.org/2000/svg\" xmlns:xlink=\"http://www.w3.org/1999/xlink\">\n",
       "<g id=\"graph0\" class=\"graph\" transform=\"scale(1 1) rotate(0) translate(4 222)\">\n",
       "<title>G</title>\n",
       "<polygon fill=\"#ffffff\" stroke=\"transparent\" points=\"-4,4 -4,-222 70,-222 70,4 -4,4\"/>\n",
       "<!-- n1p1 -->\n",
       "<!-- n1p2 -->\n",
       "<!-- n1p1&#45;&gt;n1p2 -->\n",
       "<!-- n7 -->\n",
       "<g id=\"g\" class=\"node\">\n",
       "<title>n7</title>\n",
       "<polygon fill=\"none\" stroke=\"#000000\" points=\"0,-157 0,-181 24,-181 24,-157 0,-157\"/>\n",
       "<text text-anchor=\"start\" x=\"8.1069\" y=\"-164.8\" font-family=\"Serif\" font-size=\"14.00\" fill=\"#000000\">g</text>\n",
       "</g>\n",
       "<!-- n1p1&#45;&gt;n7 -->\n",
       "<g id=\"B\" class=\"edge\">\n",
       "<title>n1p1:s&#45;&gt;n7:n</title>\n",
       "<path fill=\"none\" stroke=\"#000000\" d=\"M12,-217C12,-202.875 12,-198.1023 12,-186.1692\"/>\n",
       "<polygon fill=\"#000000\" stroke=\"#000000\" points=\"13.7501,-186 12,-181 10.2501,-186 13.7501,-186\"/>\n",
       "</g>\n",
       "<!-- n5 -->\n",
       "<g id=\"f\" class=\"node\">\n",
       "<title>n5</title>\n",
       "<polygon fill=\"none\" stroke=\"#000000\" points=\"42,-157 42,-181 66,-181 66,-157 42,-157\"/>\n",
       "<text text-anchor=\"start\" x=\"52.0552\" y=\"-164.8\" font-family=\"Serif\" font-size=\"14.00\" fill=\"#000000\">f</text>\n",
       "</g>\n",
       "<!-- n1p2&#45;&gt;n5 -->\n",
       "<g id=\"A\" class=\"edge\">\n",
       "<title>n1p2:s&#45;&gt;n5:n</title>\n",
       "<path fill=\"none\" stroke=\"#000000\" d=\"M54,-217C54,-202.875 54,-198.1023 54,-186.1692\"/>\n",
       "<polygon fill=\"#000000\" stroke=\"#000000\" points=\"55.7501,-186 54,-181 52.2501,-186 55.7501,-186\"/>\n",
       "</g>\n",
       "<!-- n2p1 -->\n",
       "<!-- n2p2 -->\n",
       "<!-- n2p1&#45;&gt;n2p2 -->\n",
       "<!-- n3 -->\n",
       "<g id=\"f\" class=\"node\">\n",
       "<title>n3</title>\n",
       "<polygon fill=\"none\" stroke=\"#000000\" points=\"0,-37 0,-61 24,-61 24,-37 0,-37\"/>\n",
       "<text text-anchor=\"start\" x=\"10.0552\" y=\"-44.8\" font-family=\"Serif\" font-size=\"14.00\" fill=\"#000000\">f</text>\n",
       "</g>\n",
       "<!-- n3&#45;&gt;n2p1 -->\n",
       "<g id=\"B\" class=\"edge\">\n",
       "<title>n3:s&#45;&gt;n2p1:n</title>\n",
       "<path fill=\"none\" stroke=\"#000000\" d=\"M12,-37C12,-22.875 12,-18.1023 12,-6.1692\"/>\n",
       "<polygon fill=\"#000000\" stroke=\"#000000\" points=\"13.7501,-6 12,-1 10.2501,-6 13.7501,-6\"/>\n",
       "</g>\n",
       "<!-- n4 -->\n",
       "<g id=\"g\" class=\"node\">\n",
       "<title>n4</title>\n",
       "<polygon fill=\"none\" stroke=\"#000000\" points=\"42,-37 42,-61 66,-61 66,-37 42,-37\"/>\n",
       "<text text-anchor=\"start\" x=\"50.1069\" y=\"-44.8\" font-family=\"Serif\" font-size=\"14.00\" fill=\"#000000\">g</text>\n",
       "</g>\n",
       "<!-- n4&#45;&gt;n2p2 -->\n",
       "<g id=\"A\" class=\"edge\">\n",
       "<title>n4:s&#45;&gt;n2p2:n</title>\n",
       "<path fill=\"none\" stroke=\"#000000\" d=\"M54,-37C54,-22.875 54,-18.1023 54,-6.1692\"/>\n",
       "<polygon fill=\"#000000\" stroke=\"#000000\" points=\"55.7501,-6 54,-1 52.2501,-6 55.7501,-6\"/>\n",
       "</g>\n",
       "<!-- n6 -->\n",
       "<g id=\"h\" class=\"node\">\n",
       "<title>n6</title>\n",
       "<polygon fill=\"none\" stroke=\"#000000\" points=\"9,-97 9,-121 57,-121 57,-97 9,-97\"/>\n",
       "<text text-anchor=\"start\" x=\"29.1069\" y=\"-104.8\" font-family=\"Serif\" font-size=\"14.00\" fill=\"#000000\">h</text>\n",
       "</g>\n",
       "<!-- n5&#45;&gt;n6 -->\n",
       "<g id=\"B\" class=\"edge\">\n",
       "<title>n5:s&#45;&gt;n6:n</title>\n",
       "<path fill=\"none\" stroke=\"#000000\" d=\"M54,-157C54,-142.4403 46.9858,-138.3842 45.3418,-126.2862\"/>\n",
       "<polygon fill=\"#000000\" stroke=\"#000000\" points=\"47.0691,-125.8766 45,-121 43.5764,-126.1025 47.0691,-125.8766\"/>\n",
       "</g>\n",
       "<!-- n6&#45;&gt;n3 -->\n",
       "<g id=\"A\" class=\"edge\">\n",
       "<title>n6:s&#45;&gt;n3:n</title>\n",
       "<path fill=\"none\" stroke=\"#000000\" d=\"M21,-97C21,-82.4403 13.9858,-78.3842 12.3418,-66.2862\"/>\n",
       "<polygon fill=\"#000000\" stroke=\"#000000\" points=\"14.0691,-65.8766 12,-61 10.5764,-66.1025 14.0691,-65.8766\"/>\n",
       "</g>\n",
       "<!-- n6&#45;&gt;n4 -->\n",
       "<g id=\"B\" class=\"edge\">\n",
       "<title>n6:s&#45;&gt;n4:n</title>\n",
       "<path fill=\"none\" stroke=\"#000000\" d=\"M45,-97C45,-82.4403 52.0142,-78.3842 53.6582,-66.2862\"/>\n",
       "<polygon fill=\"#000000\" stroke=\"#000000\" points=\"55.4236,-66.1025 54,-61 51.9309,-65.8766 55.4236,-66.1025\"/>\n",
       "</g>\n",
       "<!-- n7&#45;&gt;n6 -->\n",
       "<g id=\"A\" class=\"edge\">\n",
       "<title>n7:s&#45;&gt;n6:n</title>\n",
       "<path fill=\"none\" stroke=\"#000000\" d=\"M12,-157C12,-142.4403 19.0142,-138.3842 20.6582,-126.2862\"/>\n",
       "<polygon fill=\"#000000\" stroke=\"#000000\" points=\"22.4236,-126.1025 21,-121 18.9309,-125.8766 22.4236,-126.1025\"/>\n",
       "</g>\n",
       "</g>\n",
       "</svg>\n",
       "\n"
      ],
      "text/plain": [
       "Catlab.Graphics.Graphviz.Graph(\"G\", true, Catlab.Graphics.Graphviz.Statement[Subgraph(\"\", Catlab.Graphics.Graphviz.Statement[Edge(Catlab.Graphics.Graphviz.NodeID[NodeID(\"n1p1\", \"\", \"\"), NodeID(\"n1p2\", \"\", \"\")], OrderedCollections.OrderedDict{Symbol,Union{String, Html}}())], OrderedCollections.OrderedDict{Symbol,Union{String, Html}}(:rank=>\"source\",:rankdir=>\"LR\"), OrderedCollections.OrderedDict{Symbol,Union{String, Html}}(:style=>\"invis\",:shape=>\"none\",:label=>\"\",:width=>\"0.333\",:height=>\"0\"), OrderedCollections.OrderedDict{Symbol,Union{String, Html}}(:style=>\"invis\")), Subgraph(\"\", Catlab.Graphics.Graphviz.Statement[Edge(Catlab.Graphics.Graphviz.NodeID[NodeID(\"n2p1\", \"\", \"\"), NodeID(\"n2p2\", \"\", \"\")], OrderedCollections.OrderedDict{Symbol,Union{String, Html}}())], OrderedCollections.OrderedDict{Symbol,Union{String, Html}}(:rank=>\"sink\",:rankdir=>\"LR\"), OrderedCollections.OrderedDict{Symbol,Union{String, Html}}(:style=>\"invis\",:shape=>\"none\",:label=>\"\",:width=>\"0.333\",:height=>\"0\"), OrderedCollections.OrderedDict{Symbol,Union{String, Html}}(:style=>\"invis\")), Node(\"n3\", OrderedCollections.OrderedDict{Symbol,Union{String, Html}}(:label=>Html(\"<TABLE BORDER=\\\"0\\\" CELLPADDING=\\\"0\\\" CELLSPACING=\\\"0\\\">\\n<TR><TD><TABLE BORDER=\\\"0\\\" CELLPADDING=\\\"0\\\" CELLSPACING=\\\"0\\\"><TR><TD HEIGHT=\\\"0\\\" WIDTH=\\\"24\\\" PORT=\\\"in1\\\"></TD></TR></TABLE></TD></TR>\\n<TR><TD BORDER=\\\"1\\\" CELLPADDING=\\\"4\\\">f</TD></TR>\\n<TR><TD><TABLE BORDER=\\\"0\\\" CELLPADDING=\\\"0\\\" CELLSPACING=\\\"0\\\"><TR><TD HEIGHT=\\\"0\\\" WIDTH=\\\"24\\\" PORT=\\\"out1\\\"></TD></TR></TABLE></TD></TR>\\n</TABLE>\"),:id=>\"f\")), Node(\"n4\", OrderedCollections.OrderedDict{Symbol,Union{String, Html}}(:label=>Html(\"<TABLE BORDER=\\\"0\\\" CELLPADDING=\\\"0\\\" CELLSPACING=\\\"0\\\">\\n<TR><TD><TABLE BORDER=\\\"0\\\" CELLPADDING=\\\"0\\\" CELLSPACING=\\\"0\\\"><TR><TD HEIGHT=\\\"0\\\" WIDTH=\\\"24\\\" PORT=\\\"in1\\\"></TD></TR></TABLE></TD></TR>\\n<TR><TD BORDER=\\\"1\\\" CELLPADDING=\\\"4\\\">g</TD></TR>\\n<TR><TD><TABLE BORDER=\\\"0\\\" CELLPADDING=\\\"0\\\" CELLSPACING=\\\"0\\\"><TR><TD HEIGHT=\\\"0\\\" WIDTH=\\\"24\\\" PORT=\\\"out1\\\"></TD></TR></TABLE></TD></TR>\\n</TABLE>\"),:id=>\"g\")), Node(\"n5\", OrderedCollections.OrderedDict{Symbol,Union{String, Html}}(:label=>Html(\"<TABLE BORDER=\\\"0\\\" CELLPADDING=\\\"0\\\" CELLSPACING=\\\"0\\\">\\n<TR><TD><TABLE BORDER=\\\"0\\\" CELLPADDING=\\\"0\\\" CELLSPACING=\\\"0\\\"><TR><TD HEIGHT=\\\"0\\\" WIDTH=\\\"24\\\" PORT=\\\"in1\\\"></TD></TR></TABLE></TD></TR>\\n<TR><TD BORDER=\\\"1\\\" CELLPADDING=\\\"4\\\">f</TD></TR>\\n<TR><TD><TABLE BORDER=\\\"0\\\" CELLPADDING=\\\"0\\\" CELLSPACING=\\\"0\\\"><TR><TD HEIGHT=\\\"0\\\" WIDTH=\\\"24\\\" PORT=\\\"out1\\\"></TD></TR></TABLE></TD></TR>\\n</TABLE>\"),:id=>\"f\")), Node(\"n6\", OrderedCollections.OrderedDict{Symbol,Union{String, Html}}(:label=>Html(\"<TABLE BORDER=\\\"0\\\" CELLPADDING=\\\"0\\\" CELLSPACING=\\\"0\\\">\\n<TR><TD><TABLE BORDER=\\\"0\\\" CELLPADDING=\\\"0\\\" CELLSPACING=\\\"0\\\"><TR><TD HEIGHT=\\\"0\\\" WIDTH=\\\"24\\\" PORT=\\\"in1\\\"></TD><TD HEIGHT=\\\"0\\\" WIDTH=\\\"24\\\" PORT=\\\"in2\\\"></TD></TR></TABLE></TD></TR>\\n<TR><TD BORDER=\\\"1\\\" CELLPADDING=\\\"4\\\">h</TD></TR>\\n<TR><TD><TABLE BORDER=\\\"0\\\" CELLPADDING=\\\"0\\\" CELLSPACING=\\\"0\\\"><TR><TD HEIGHT=\\\"0\\\" WIDTH=\\\"24\\\" PORT=\\\"out1\\\"></TD><TD HEIGHT=\\\"0\\\" WIDTH=\\\"24\\\" PORT=\\\"out2\\\"></TD></TR></TABLE></TD></TR>\\n</TABLE>\"),:id=>\"h\")), Node(\"n7\", OrderedCollections.OrderedDict{Symbol,Union{String, Html}}(:label=>Html(\"<TABLE BORDER=\\\"0\\\" CELLPADDING=\\\"0\\\" CELLSPACING=\\\"0\\\">\\n<TR><TD><TABLE BORDER=\\\"0\\\" CELLPADDING=\\\"0\\\" CELLSPACING=\\\"0\\\"><TR><TD HEIGHT=\\\"0\\\" WIDTH=\\\"24\\\" PORT=\\\"in1\\\"></TD></TR></TABLE></TD></TR>\\n<TR><TD BORDER=\\\"1\\\" CELLPADDING=\\\"4\\\">g</TD></TR>\\n<TR><TD><TABLE BORDER=\\\"0\\\" CELLPADDING=\\\"0\\\" CELLSPACING=\\\"0\\\"><TR><TD HEIGHT=\\\"0\\\" WIDTH=\\\"24\\\" PORT=\\\"out1\\\"></TD></TR></TABLE></TD></TR>\\n</TABLE>\"),:id=>\"g\")), Edge(Catlab.Graphics.Graphviz.NodeID[NodeID(\"n1p2\", \"s\", \"\"), NodeID(\"n5\", \"in1\", \"n\")], OrderedCollections.OrderedDict{Symbol,Union{String, Html}}(:id=>\"A\")), Edge(Catlab.Graphics.Graphviz.NodeID[NodeID(\"n1p1\", \"s\", \"\"), NodeID(\"n7\", \"in1\", \"n\")], OrderedCollections.OrderedDict{Symbol,Union{String, Html}}(:id=>\"B\")), Edge(Catlab.Graphics.Graphviz.NodeID[NodeID(\"n3\", \"out1\", \"s\"), NodeID(\"n2p1\", \"n\", \"\")], OrderedCollections.OrderedDict{Symbol,Union{String, Html}}(:id=>\"B\")), Edge(Catlab.Graphics.Graphviz.NodeID[NodeID(\"n4\", \"out1\", \"s\"), NodeID(\"n2p2\", \"n\", \"\")], OrderedCollections.OrderedDict{Symbol,Union{String, Html}}(:id=>\"A\")), Edge(Catlab.Graphics.Graphviz.NodeID[NodeID(\"n5\", \"out1\", \"s\"), NodeID(\"n6\", \"in2\", \"n\")], OrderedCollections.OrderedDict{Symbol,Union{String, Html}}(:id=>\"B\")), Edge(Catlab.Graphics.Graphviz.NodeID[NodeID(\"n6\", \"out1\", \"s\"), NodeID(\"n3\", \"in1\", \"n\")], OrderedCollections.OrderedDict{Symbol,Union{String, Html}}(:id=>\"A\")), Edge(Catlab.Graphics.Graphviz.NodeID[NodeID(\"n6\", \"out2\", \"s\"), NodeID(\"n4\", \"in1\", \"n\")], OrderedCollections.OrderedDict{Symbol,Union{String, Html}}(:id=>\"B\")), Edge(Catlab.Graphics.Graphviz.NodeID[NodeID(\"n7\", \"out1\", \"s\"), NodeID(\"n6\", \"in1\", \"n\")], OrderedCollections.OrderedDict{Symbol,Union{String, Html}}(:id=>\"A\"))], OrderedCollections.OrderedDict{Symbol,Union{String, Html}}(:fontname=>\"Serif\",:rankdir=>\"TB\"), OrderedCollections.OrderedDict{Symbol,Union{String, Html}}(:fontname=>\"Serif\",:shape=>\"none\",:width=>\"0\",:height=>\"0\",:margin=>\"0\"), OrderedCollections.OrderedDict{Symbol,Union{String, Html}}(:arrowsize=>\"0.5\",:fontname=>\"Serif\"))"
      ]
     },
     "execution_count": 7,
     "metadata": {},
     "output_type": "execute_result"
    }
   ],
   "source": [
    "to_graphviz(compose(otimes(g,f), h, otimes(f,g)))"
   ]
  },
  {
   "cell_type": "markdown",
   "metadata": {},
   "source": [
    "We can also tell Graphviz to lay out the diagrams in the horizontal (left-to-right) direction."
   ]
  },
  {
   "cell_type": "code",
   "execution_count": 8,
   "metadata": {},
   "outputs": [
    {
     "data": {
      "image/svg+xml": [
       "<?xml version=\"1.0\" encoding=\"UTF-8\" standalone=\"no\"?>\n",
       "<!DOCTYPE svg PUBLIC \"-//W3C//DTD SVG 1.1//EN\"\n",
       " \"http://www.w3.org/Graphics/SVG/1.1/DTD/svg11.dtd\">\n",
       "<!-- Generated by graphviz version 2.40.1 (20161225.0304)\n",
       " -->\n",
       "<!-- Title: G Pages: 1 -->\n",
       "<svg width=\"205pt\" height=\"74pt\"\n",
       " viewBox=\"0.00 0.00 205.00 74.00\" xmlns=\"http://www.w3.org/2000/svg\" xmlns:xlink=\"http://www.w3.org/1999/xlink\">\n",
       "<g id=\"graph0\" class=\"graph\" transform=\"scale(1 1) rotate(0) translate(4 70)\">\n",
       "<title>G</title>\n",
       "<polygon fill=\"#ffffff\" stroke=\"transparent\" points=\"-4,4 -4,-70 201,-70 201,4 -4,4\"/>\n",
       "<!-- n1p1 -->\n",
       "<!-- n1p2 -->\n",
       "<!-- n1p1&#45;&gt;n1p2 -->\n",
       "<!-- n7 -->\n",
       "<g id=\"g\" class=\"node\">\n",
       "<title>n7</title>\n",
       "<polygon fill=\"none\" stroke=\"#000000\" points=\"37.5,-42 37.5,-66 54.5,-66 54.5,-42 37.5,-42\"/>\n",
       "<text text-anchor=\"start\" x=\"42.1069\" y=\"-49.8\" font-family=\"Serif\" font-size=\"14.00\" fill=\"#000000\">g</text>\n",
       "</g>\n",
       "<!-- n1p1&#45;&gt;n7 -->\n",
       "<g id=\"B\" class=\"edge\">\n",
       "<title>n1p1:e&#45;&gt;n7:w</title>\n",
       "<path fill=\"none\" stroke=\"#000000\" d=\"M1,-54C15.3212,-54 20.1602,-54 32.259,-54\"/>\n",
       "<polygon fill=\"#000000\" stroke=\"#000000\" points=\"32.5,-55.7501 37.5,-54 32.5,-52.2501 32.5,-55.7501\"/>\n",
       "</g>\n",
       "<!-- n5 -->\n",
       "<g id=\"f\" class=\"node\">\n",
       "<title>n5</title>\n",
       "<polygon fill=\"none\" stroke=\"#000000\" points=\"39.5,0 39.5,-24 52.5,-24 52.5,0 39.5,0\"/>\n",
       "<text text-anchor=\"start\" x=\"44.0552\" y=\"-7.8\" font-family=\"Serif\" font-size=\"14.00\" fill=\"#000000\">f</text>\n",
       "</g>\n",
       "<!-- n1p2&#45;&gt;n5 -->\n",
       "<g id=\"A\" class=\"edge\">\n",
       "<title>n1p2:e&#45;&gt;n5:w</title>\n",
       "<path fill=\"none\" stroke=\"#000000\" d=\"M1,-12C16.2396,-12 21.2996,-12 34.3124,-12\"/>\n",
       "<polygon fill=\"#000000\" stroke=\"#000000\" points=\"34.5,-13.7501 39.5,-12 34.5,-10.2501 34.5,-13.7501\"/>\n",
       "</g>\n",
       "<!-- n2p1 -->\n",
       "<!-- n2p2 -->\n",
       "<!-- n2p1&#45;&gt;n2p2 -->\n",
       "<!-- n3 -->\n",
       "<g id=\"f\" class=\"node\">\n",
       "<title>n3</title>\n",
       "<polygon fill=\"none\" stroke=\"#000000\" points=\"145.5,-42 145.5,-66 158.5,-66 158.5,-42 145.5,-42\"/>\n",
       "<text text-anchor=\"start\" x=\"150.0552\" y=\"-49.8\" font-family=\"Serif\" font-size=\"14.00\" fill=\"#000000\">f</text>\n",
       "</g>\n",
       "<!-- n3&#45;&gt;n2p1 -->\n",
       "<g id=\"B\" class=\"edge\">\n",
       "<title>n3:e&#45;&gt;n2p1:w</title>\n",
       "<path fill=\"none\" stroke=\"#000000\" d=\"M158.5,-54C173.3438,-54 178.2723,-54 190.9471,-54\"/>\n",
       "<polygon fill=\"#000000\" stroke=\"#000000\" points=\"191,-55.7501 196,-54 191,-52.2501 191,-55.7501\"/>\n",
       "</g>\n",
       "<!-- n4 -->\n",
       "<g id=\"g\" class=\"node\">\n",
       "<title>n4</title>\n",
       "<polygon fill=\"none\" stroke=\"#000000\" points=\"143.5,0 143.5,-24 160.5,-24 160.5,0 143.5,0\"/>\n",
       "<text text-anchor=\"start\" x=\"148.1069\" y=\"-7.8\" font-family=\"Serif\" font-size=\"14.00\" fill=\"#000000\">g</text>\n",
       "</g>\n",
       "<!-- n4&#45;&gt;n2p2 -->\n",
       "<g id=\"A\" class=\"edge\">\n",
       "<title>n4:e&#45;&gt;n2p2:w</title>\n",
       "<path fill=\"none\" stroke=\"#000000\" d=\"M160,-12C174.125,-12 178.8977,-12 190.8308,-12\"/>\n",
       "<polygon fill=\"#000000\" stroke=\"#000000\" points=\"191,-13.7501 196,-12 191,-10.2501 191,-13.7501\"/>\n",
       "</g>\n",
       "<!-- n6 -->\n",
       "<g id=\"h\" class=\"node\">\n",
       "<title>n6</title>\n",
       "<polygon fill=\"none\" stroke=\"#000000\" points=\"90.5,-9 90.5,-57 107.5,-57 107.5,-9 90.5,-9\"/>\n",
       "<text text-anchor=\"start\" x=\"95.1069\" y=\"-28.8\" font-family=\"Serif\" font-size=\"14.00\" fill=\"#000000\">h</text>\n",
       "</g>\n",
       "<!-- n5&#45;&gt;n6 -->\n",
       "<g id=\"B\" class=\"edge\">\n",
       "<title>n5:e&#45;&gt;n6:w</title>\n",
       "<path fill=\"none\" stroke=\"#000000\" d=\"M52.5,-12C67.9578,-12 72.2564,-19.1389 85.2731,-20.7006\"/>\n",
       "<polygon fill=\"#000000\" stroke=\"#000000\" points=\"85.4081,-22.4611 90.5,-21 85.6083,-18.9668 85.4081,-22.4611\"/>\n",
       "</g>\n",
       "<!-- n6&#45;&gt;n3 -->\n",
       "<g id=\"A\" class=\"edge\">\n",
       "<title>n6:e&#45;&gt;n3:w</title>\n",
       "<path fill=\"none\" stroke=\"#000000\" d=\"M107,-45C122.6504,-45 127.0236,-52.1389 140.2071,-53.7006\"/>\n",
       "<polygon fill=\"#000000\" stroke=\"#000000\" points=\"140.4091,-55.4647 145.5,-54 140.6069,-51.9703 140.4091,-55.4647\"/>\n",
       "</g>\n",
       "<!-- n6&#45;&gt;n4 -->\n",
       "<g id=\"B\" class=\"edge\">\n",
       "<title>n6:e&#45;&gt;n4:w</title>\n",
       "<path fill=\"none\" stroke=\"#000000\" d=\"M107,-21C121.8806,-21 125.9543,-13.8611 138.471,-12.2994\"/>\n",
       "<polygon fill=\"#000000\" stroke=\"#000000\" points=\"138.6129,-14.0442 143.5,-12 138.4048,-10.5504 138.6129,-14.0442\"/>\n",
       "</g>\n",
       "<!-- n7&#45;&gt;n6 -->\n",
       "<g id=\"A\" class=\"edge\">\n",
       "<title>n7:e&#45;&gt;n6:w</title>\n",
       "<path fill=\"none\" stroke=\"#000000\" d=\"M54,-54C68.8806,-54 72.9543,-46.8611 85.471,-45.2994\"/>\n",
       "<polygon fill=\"#000000\" stroke=\"#000000\" points=\"85.6129,-47.0442 90.5,-45 85.4048,-43.5504 85.6129,-47.0442\"/>\n",
       "</g>\n",
       "</g>\n",
       "</svg>\n",
       "\n"
      ],
      "text/plain": [
       "Catlab.Graphics.Graphviz.Graph(\"G\", true, Catlab.Graphics.Graphviz.Statement[Subgraph(\"\", Catlab.Graphics.Graphviz.Statement[Edge(Catlab.Graphics.Graphviz.NodeID[NodeID(\"n1p1\", \"\", \"\"), NodeID(\"n1p2\", \"\", \"\")], OrderedCollections.OrderedDict{Symbol,Union{String, Html}}())], OrderedCollections.OrderedDict{Symbol,Union{String, Html}}(:rank=>\"source\",:rankdir=>\"TB\"), OrderedCollections.OrderedDict{Symbol,Union{String, Html}}(:style=>\"invis\",:shape=>\"none\",:label=>\"\",:width=>\"0\",:height=>\"0.333\"), OrderedCollections.OrderedDict{Symbol,Union{String, Html}}(:style=>\"invis\")), Subgraph(\"\", Catlab.Graphics.Graphviz.Statement[Edge(Catlab.Graphics.Graphviz.NodeID[NodeID(\"n2p1\", \"\", \"\"), NodeID(\"n2p2\", \"\", \"\")], OrderedCollections.OrderedDict{Symbol,Union{String, Html}}())], OrderedCollections.OrderedDict{Symbol,Union{String, Html}}(:rank=>\"sink\",:rankdir=>\"TB\"), OrderedCollections.OrderedDict{Symbol,Union{String, Html}}(:style=>\"invis\",:shape=>\"none\",:label=>\"\",:width=>\"0\",:height=>\"0.333\"), OrderedCollections.OrderedDict{Symbol,Union{String, Html}}(:style=>\"invis\")), Node(\"n3\", OrderedCollections.OrderedDict{Symbol,Union{String, Html}}(:label=>Html(\"<TABLE BORDER=\\\"0\\\" CELLPADDING=\\\"0\\\" CELLSPACING=\\\"0\\\">\\n<TR>\\n<TD><TABLE BORDER=\\\"0\\\" CELLPADDING=\\\"0\\\" CELLSPACING=\\\"0\\\"><TR><TD HEIGHT=\\\"24\\\" WIDTH=\\\"0\\\" PORT=\\\"in1\\\"></TD></TR></TABLE></TD>\\n<TD BORDER=\\\"1\\\" CELLPADDING=\\\"4\\\">f</TD>\\n<TD><TABLE BORDER=\\\"0\\\" CELLPADDING=\\\"0\\\" CELLSPACING=\\\"0\\\"><TR><TD HEIGHT=\\\"24\\\" WIDTH=\\\"0\\\" PORT=\\\"out1\\\"></TD></TR></TABLE></TD>\\n</TR>\\n</TABLE>\"),:id=>\"f\")), Node(\"n4\", OrderedCollections.OrderedDict{Symbol,Union{String, Html}}(:label=>Html(\"<TABLE BORDER=\\\"0\\\" CELLPADDING=\\\"0\\\" CELLSPACING=\\\"0\\\">\\n<TR>\\n<TD><TABLE BORDER=\\\"0\\\" CELLPADDING=\\\"0\\\" CELLSPACING=\\\"0\\\"><TR><TD HEIGHT=\\\"24\\\" WIDTH=\\\"0\\\" PORT=\\\"in1\\\"></TD></TR></TABLE></TD>\\n<TD BORDER=\\\"1\\\" CELLPADDING=\\\"4\\\">g</TD>\\n<TD><TABLE BORDER=\\\"0\\\" CELLPADDING=\\\"0\\\" CELLSPACING=\\\"0\\\"><TR><TD HEIGHT=\\\"24\\\" WIDTH=\\\"0\\\" PORT=\\\"out1\\\"></TD></TR></TABLE></TD>\\n</TR>\\n</TABLE>\"),:id=>\"g\")), Node(\"n5\", OrderedCollections.OrderedDict{Symbol,Union{String, Html}}(:label=>Html(\"<TABLE BORDER=\\\"0\\\" CELLPADDING=\\\"0\\\" CELLSPACING=\\\"0\\\">\\n<TR>\\n<TD><TABLE BORDER=\\\"0\\\" CELLPADDING=\\\"0\\\" CELLSPACING=\\\"0\\\"><TR><TD HEIGHT=\\\"24\\\" WIDTH=\\\"0\\\" PORT=\\\"in1\\\"></TD></TR></TABLE></TD>\\n<TD BORDER=\\\"1\\\" CELLPADDING=\\\"4\\\">f</TD>\\n<TD><TABLE BORDER=\\\"0\\\" CELLPADDING=\\\"0\\\" CELLSPACING=\\\"0\\\"><TR><TD HEIGHT=\\\"24\\\" WIDTH=\\\"0\\\" PORT=\\\"out1\\\"></TD></TR></TABLE></TD>\\n</TR>\\n</TABLE>\"),:id=>\"f\")), Node(\"n6\", OrderedCollections.OrderedDict{Symbol,Union{String, Html}}(:label=>Html(\"<TABLE BORDER=\\\"0\\\" CELLPADDING=\\\"0\\\" CELLSPACING=\\\"0\\\">\\n<TR>\\n<TD><TABLE BORDER=\\\"0\\\" CELLPADDING=\\\"0\\\" CELLSPACING=\\\"0\\\"><TR><TD HEIGHT=\\\"24\\\" WIDTH=\\\"0\\\" PORT=\\\"in1\\\"></TD></TR><TR><TD HEIGHT=\\\"24\\\" WIDTH=\\\"0\\\" PORT=\\\"in2\\\"></TD></TR></TABLE></TD>\\n<TD BORDER=\\\"1\\\" CELLPADDING=\\\"4\\\">h</TD>\\n<TD><TABLE BORDER=\\\"0\\\" CELLPADDING=\\\"0\\\" CELLSPACING=\\\"0\\\"><TR><TD HEIGHT=\\\"24\\\" WIDTH=\\\"0\\\" PORT=\\\"out1\\\"></TD></TR><TR><TD HEIGHT=\\\"24\\\" WIDTH=\\\"0\\\" PORT=\\\"out2\\\"></TD></TR></TABLE></TD>\\n</TR>\\n</TABLE>\"),:id=>\"h\")), Node(\"n7\", OrderedCollections.OrderedDict{Symbol,Union{String, Html}}(:label=>Html(\"<TABLE BORDER=\\\"0\\\" CELLPADDING=\\\"0\\\" CELLSPACING=\\\"0\\\">\\n<TR>\\n<TD><TABLE BORDER=\\\"0\\\" CELLPADDING=\\\"0\\\" CELLSPACING=\\\"0\\\"><TR><TD HEIGHT=\\\"24\\\" WIDTH=\\\"0\\\" PORT=\\\"in1\\\"></TD></TR></TABLE></TD>\\n<TD BORDER=\\\"1\\\" CELLPADDING=\\\"4\\\">g</TD>\\n<TD><TABLE BORDER=\\\"0\\\" CELLPADDING=\\\"0\\\" CELLSPACING=\\\"0\\\"><TR><TD HEIGHT=\\\"24\\\" WIDTH=\\\"0\\\" PORT=\\\"out1\\\"></TD></TR></TABLE></TD>\\n</TR>\\n</TABLE>\"),:id=>\"g\")), Edge(Catlab.Graphics.Graphviz.NodeID[NodeID(\"n1p2\", \"e\", \"\"), NodeID(\"n5\", \"in1\", \"w\")], OrderedCollections.OrderedDict{Symbol,Union{String, Html}}(:id=>\"A\")), Edge(Catlab.Graphics.Graphviz.NodeID[NodeID(\"n1p1\", \"e\", \"\"), NodeID(\"n7\", \"in1\", \"w\")], OrderedCollections.OrderedDict{Symbol,Union{String, Html}}(:id=>\"B\")), Edge(Catlab.Graphics.Graphviz.NodeID[NodeID(\"n3\", \"out1\", \"e\"), NodeID(\"n2p1\", \"w\", \"\")], OrderedCollections.OrderedDict{Symbol,Union{String, Html}}(:id=>\"B\")), Edge(Catlab.Graphics.Graphviz.NodeID[NodeID(\"n4\", \"out1\", \"e\"), NodeID(\"n2p2\", \"w\", \"\")], OrderedCollections.OrderedDict{Symbol,Union{String, Html}}(:id=>\"A\")), Edge(Catlab.Graphics.Graphviz.NodeID[NodeID(\"n5\", \"out1\", \"e\"), NodeID(\"n6\", \"in2\", \"w\")], OrderedCollections.OrderedDict{Symbol,Union{String, Html}}(:id=>\"B\")), Edge(Catlab.Graphics.Graphviz.NodeID[NodeID(\"n6\", \"out1\", \"e\"), NodeID(\"n3\", \"in1\", \"w\")], OrderedCollections.OrderedDict{Symbol,Union{String, Html}}(:id=>\"A\")), Edge(Catlab.Graphics.Graphviz.NodeID[NodeID(\"n6\", \"out2\", \"e\"), NodeID(\"n4\", \"in1\", \"w\")], OrderedCollections.OrderedDict{Symbol,Union{String, Html}}(:id=>\"B\")), Edge(Catlab.Graphics.Graphviz.NodeID[NodeID(\"n7\", \"out1\", \"e\"), NodeID(\"n6\", \"in1\", \"w\")], OrderedCollections.OrderedDict{Symbol,Union{String, Html}}(:id=>\"A\"))], OrderedCollections.OrderedDict{Symbol,Union{String, Html}}(:fontname=>\"Serif\",:rankdir=>\"LR\"), OrderedCollections.OrderedDict{Symbol,Union{String, Html}}(:fontname=>\"Serif\",:shape=>\"none\",:width=>\"0\",:height=>\"0\",:margin=>\"0\"), OrderedCollections.OrderedDict{Symbol,Union{String, Html}}(:arrowsize=>\"0.5\",:fontname=>\"Serif\"))"
      ]
     },
     "execution_count": 8,
     "metadata": {},
     "output_type": "execute_result"
    }
   ],
   "source": [
    "to_graphviz(compose(otimes(g,f), h, otimes(f,g)), direction=:horizontal)"
   ]
  },
  {
   "cell_type": "markdown",
   "metadata": {},
   "source": [
    "### Biproduct category"
   ]
  },
  {
   "cell_type": "code",
   "execution_count": 9,
   "metadata": {
    "collapsed": true
   },
   "outputs": [],
   "source": [
    "A, B = Ob(FreeBiproductCategory, :A, :B)\n",
    "f = Hom(:f, A, B)\n",
    "g = Hom(:g, B, A);"
   ]
  },
  {
   "cell_type": "code",
   "execution_count": 10,
   "metadata": {},
   "outputs": [
    {
     "data": {
      "image/svg+xml": [
       "<?xml version=\"1.0\" encoding=\"UTF-8\" standalone=\"no\"?>\n",
       "<!DOCTYPE svg PUBLIC \"-//W3C//DTD SVG 1.1//EN\"\n",
       " \"http://www.w3.org/Graphics/SVG/1.1/DTD/svg11.dtd\">\n",
       "<!-- Generated by graphviz version 2.40.1 (20161225.0304)\n",
       " -->\n",
       "<!-- Title: G Pages: 1 -->\n",
       "<svg width=\"74pt\" height=\"106pt\"\n",
       " viewBox=\"0.00 0.00 74.00 106.00\" xmlns=\"http://www.w3.org/2000/svg\" xmlns:xlink=\"http://www.w3.org/1999/xlink\">\n",
       "<g id=\"graph0\" class=\"graph\" transform=\"scale(1 1) rotate(0) translate(4 102)\">\n",
       "<title>G</title>\n",
       "<polygon fill=\"#ffffff\" stroke=\"transparent\" points=\"-4,4 -4,-102 70,-102 70,4 -4,4\"/>\n",
       "<!-- n1p1 -->\n",
       "<!-- n3 -->\n",
       "<g id=\"f\" class=\"node\">\n",
       "<title>n3</title>\n",
       "<polygon fill=\"none\" stroke=\"#000000\" points=\"0,-37 0,-61 24,-61 24,-37 0,-37\"/>\n",
       "<text text-anchor=\"start\" x=\"10.0552\" y=\"-44.8\" font-family=\"Serif\" font-size=\"14.00\" fill=\"#000000\">f</text>\n",
       "</g>\n",
       "<!-- n1p1&#45;&gt;n3 -->\n",
       "<g id=\"A\" class=\"edge\">\n",
       "<title>n1p1:s&#45;&gt;n3:n</title>\n",
       "<path fill=\"none\" stroke=\"#000000\" d=\"M33,-97C33,-80.358 16.049,-79.5125 12.6058,-66.0792\"/>\n",
       "<polygon fill=\"#000000\" stroke=\"#000000\" points=\"14.33,-65.7575 12,-61 10.8546,-66.1721 14.33,-65.7575\"/>\n",
       "</g>\n",
       "<!-- n4 -->\n",
       "<g id=\"f\" class=\"node\">\n",
       "<title>n4</title>\n",
       "<polygon fill=\"none\" stroke=\"#000000\" points=\"42,-37 42,-61 66,-61 66,-37 42,-37\"/>\n",
       "<text text-anchor=\"start\" x=\"52.0552\" y=\"-44.8\" font-family=\"Serif\" font-size=\"14.00\" fill=\"#000000\">f</text>\n",
       "</g>\n",
       "<!-- n1p1&#45;&gt;n4 -->\n",
       "<g id=\"A\" class=\"edge\">\n",
       "<title>n1p1:s&#45;&gt;n4:n</title>\n",
       "<path fill=\"none\" stroke=\"#000000\" d=\"M33,-97C33,-80.358 49.951,-79.5125 53.3942,-66.0792\"/>\n",
       "<polygon fill=\"#000000\" stroke=\"#000000\" points=\"55.1454,-66.1721 54,-61 51.67,-65.7575 55.1454,-66.1721\"/>\n",
       "</g>\n",
       "<!-- n2p1 -->\n",
       "<!-- n2p2 -->\n",
       "<!-- n2p1&#45;&gt;n2p2 -->\n",
       "<!-- n3&#45;&gt;n2p1 -->\n",
       "<g id=\"B\" class=\"edge\">\n",
       "<title>n3:s&#45;&gt;n2p1:n</title>\n",
       "<path fill=\"none\" stroke=\"#000000\" d=\"M12,-37C12,-22.875 12,-18.1023 12,-6.1692\"/>\n",
       "<polygon fill=\"#000000\" stroke=\"#000000\" points=\"13.7501,-6 12,-1 10.2501,-6 13.7501,-6\"/>\n",
       "</g>\n",
       "<!-- n4&#45;&gt;n2p2 -->\n",
       "<g id=\"B\" class=\"edge\">\n",
       "<title>n4:s&#45;&gt;n2p2:n</title>\n",
       "<path fill=\"none\" stroke=\"#000000\" d=\"M54,-37C54,-22.875 54,-18.1023 54,-6.1692\"/>\n",
       "<polygon fill=\"#000000\" stroke=\"#000000\" points=\"55.7501,-6 54,-1 52.2501,-6 55.7501,-6\"/>\n",
       "</g>\n",
       "</g>\n",
       "</svg>\n",
       "\n"
      ],
      "text/plain": [
       "Catlab.Graphics.Graphviz.Graph(\"G\", true, Catlab.Graphics.Graphviz.Statement[Subgraph(\"\", Catlab.Graphics.Graphviz.Statement[Edge(Catlab.Graphics.Graphviz.NodeID[NodeID(\"n1p1\", \"\", \"\")], OrderedCollections.OrderedDict{Symbol,Union{String, Html}}())], OrderedCollections.OrderedDict{Symbol,Union{String, Html}}(:rank=>\"source\",:rankdir=>\"LR\"), OrderedCollections.OrderedDict{Symbol,Union{String, Html}}(:style=>\"invis\",:shape=>\"none\",:label=>\"\",:width=>\"0.333\",:height=>\"0\"), OrderedCollections.OrderedDict{Symbol,Union{String, Html}}(:style=>\"invis\")), Subgraph(\"\", Catlab.Graphics.Graphviz.Statement[Edge(Catlab.Graphics.Graphviz.NodeID[NodeID(\"n2p1\", \"\", \"\"), NodeID(\"n2p2\", \"\", \"\")], OrderedCollections.OrderedDict{Symbol,Union{String, Html}}())], OrderedCollections.OrderedDict{Symbol,Union{String, Html}}(:rank=>\"sink\",:rankdir=>\"LR\"), OrderedCollections.OrderedDict{Symbol,Union{String, Html}}(:style=>\"invis\",:shape=>\"none\",:label=>\"\",:width=>\"0.333\",:height=>\"0\"), OrderedCollections.OrderedDict{Symbol,Union{String, Html}}(:style=>\"invis\")), Node(\"n3\", OrderedCollections.OrderedDict{Symbol,Union{String, Html}}(:label=>Html(\"<TABLE BORDER=\\\"0\\\" CELLPADDING=\\\"0\\\" CELLSPACING=\\\"0\\\">\\n<TR><TD><TABLE BORDER=\\\"0\\\" CELLPADDING=\\\"0\\\" CELLSPACING=\\\"0\\\"><TR><TD HEIGHT=\\\"0\\\" WIDTH=\\\"24\\\" PORT=\\\"in1\\\"></TD></TR></TABLE></TD></TR>\\n<TR><TD BORDER=\\\"1\\\" CELLPADDING=\\\"4\\\">f</TD></TR>\\n<TR><TD><TABLE BORDER=\\\"0\\\" CELLPADDING=\\\"0\\\" CELLSPACING=\\\"0\\\"><TR><TD HEIGHT=\\\"0\\\" WIDTH=\\\"24\\\" PORT=\\\"out1\\\"></TD></TR></TABLE></TD></TR>\\n</TABLE>\"),:id=>\"f\")), Node(\"n4\", OrderedCollections.OrderedDict{Symbol,Union{String, Html}}(:label=>Html(\"<TABLE BORDER=\\\"0\\\" CELLPADDING=\\\"0\\\" CELLSPACING=\\\"0\\\">\\n<TR><TD><TABLE BORDER=\\\"0\\\" CELLPADDING=\\\"0\\\" CELLSPACING=\\\"0\\\"><TR><TD HEIGHT=\\\"0\\\" WIDTH=\\\"24\\\" PORT=\\\"in1\\\"></TD></TR></TABLE></TD></TR>\\n<TR><TD BORDER=\\\"1\\\" CELLPADDING=\\\"4\\\">f</TD></TR>\\n<TR><TD><TABLE BORDER=\\\"0\\\" CELLPADDING=\\\"0\\\" CELLSPACING=\\\"0\\\"><TR><TD HEIGHT=\\\"0\\\" WIDTH=\\\"24\\\" PORT=\\\"out1\\\"></TD></TR></TABLE></TD></TR>\\n</TABLE>\"),:id=>\"f\")), Edge(Catlab.Graphics.Graphviz.NodeID[NodeID(\"n1p1\", \"s\", \"\"), NodeID(\"n3\", \"in1\", \"n\")], OrderedCollections.OrderedDict{Symbol,Union{String, Html}}(:id=>\"A\")), Edge(Catlab.Graphics.Graphviz.NodeID[NodeID(\"n1p1\", \"s\", \"\"), NodeID(\"n4\", \"in1\", \"n\")], OrderedCollections.OrderedDict{Symbol,Union{String, Html}}(:id=>\"A\")), Edge(Catlab.Graphics.Graphviz.NodeID[NodeID(\"n3\", \"out1\", \"s\"), NodeID(\"n2p1\", \"n\", \"\")], OrderedCollections.OrderedDict{Symbol,Union{String, Html}}(:id=>\"B\")), Edge(Catlab.Graphics.Graphviz.NodeID[NodeID(\"n4\", \"out1\", \"s\"), NodeID(\"n2p2\", \"n\", \"\")], OrderedCollections.OrderedDict{Symbol,Union{String, Html}}(:id=>\"B\"))], OrderedCollections.OrderedDict{Symbol,Union{String, Html}}(:fontname=>\"Serif\",:rankdir=>\"TB\"), OrderedCollections.OrderedDict{Symbol,Union{String, Html}}(:fontname=>\"Serif\",:shape=>\"none\",:width=>\"0\",:height=>\"0\",:margin=>\"0\"), OrderedCollections.OrderedDict{Symbol,Union{String, Html}}(:arrowsize=>\"0.5\",:fontname=>\"Serif\"))"
      ]
     },
     "execution_count": 10,
     "metadata": {},
     "output_type": "execute_result"
    }
   ],
   "source": [
    "to_graphviz(compose(mcopy(A), otimes(f,f)))"
   ]
  },
  {
   "cell_type": "code",
   "execution_count": 11,
   "metadata": {},
   "outputs": [
    {
     "data": {
      "image/svg+xml": [
       "<?xml version=\"1.0\" encoding=\"UTF-8\" standalone=\"no\"?>\n",
       "<!DOCTYPE svg PUBLIC \"-//W3C//DTD SVG 1.1//EN\"\n",
       " \"http://www.w3.org/Graphics/SVG/1.1/DTD/svg11.dtd\">\n",
       "<!-- Generated by graphviz version 2.40.1 (20161225.0304)\n",
       " -->\n",
       "<!-- Title: G Pages: 1 -->\n",
       "<svg width=\"74pt\" height=\"106pt\"\n",
       " viewBox=\"0.00 0.00 74.00 106.00\" xmlns=\"http://www.w3.org/2000/svg\" xmlns:xlink=\"http://www.w3.org/1999/xlink\">\n",
       "<g id=\"graph0\" class=\"graph\" transform=\"scale(1 1) rotate(0) translate(4 102)\">\n",
       "<title>G</title>\n",
       "<polygon fill=\"#ffffff\" stroke=\"transparent\" points=\"-4,4 -4,-102 70,-102 70,4 -4,4\"/>\n",
       "<!-- n1p1 -->\n",
       "<!-- n3 -->\n",
       "<g id=\"f\" class=\"node\">\n",
       "<title>n3</title>\n",
       "<polygon fill=\"none\" stroke=\"#000000\" points=\"0,-37 0,-61 24,-61 24,-37 0,-37\"/>\n",
       "<text text-anchor=\"start\" x=\"10.0552\" y=\"-44.8\" font-family=\"Serif\" font-size=\"14.00\" fill=\"#000000\">f</text>\n",
       "</g>\n",
       "<!-- n1p1&#45;&gt;n3 -->\n",
       "<g id=\"A\" class=\"edge\">\n",
       "<title>n1p1:s&#45;&gt;n3:n</title>\n",
       "<path fill=\"none\" stroke=\"#000000\" d=\"M33,-97C33,-80.358 16.049,-79.5125 12.6058,-66.0792\"/>\n",
       "<polygon fill=\"#000000\" stroke=\"#000000\" points=\"14.33,-65.7575 12,-61 10.8546,-66.1721 14.33,-65.7575\"/>\n",
       "</g>\n",
       "<!-- n4 -->\n",
       "<g id=\"f\" class=\"node\">\n",
       "<title>n4</title>\n",
       "<polygon fill=\"none\" stroke=\"#000000\" points=\"42,-37 42,-61 66,-61 66,-37 42,-37\"/>\n",
       "<text text-anchor=\"start\" x=\"52.0552\" y=\"-44.8\" font-family=\"Serif\" font-size=\"14.00\" fill=\"#000000\">f</text>\n",
       "</g>\n",
       "<!-- n1p1&#45;&gt;n4 -->\n",
       "<g id=\"A\" class=\"edge\">\n",
       "<title>n1p1:s&#45;&gt;n4:n</title>\n",
       "<path fill=\"none\" stroke=\"#000000\" d=\"M33,-97C33,-80.358 49.951,-79.5125 53.3942,-66.0792\"/>\n",
       "<polygon fill=\"#000000\" stroke=\"#000000\" points=\"55.1454,-66.1721 54,-61 51.67,-65.7575 55.1454,-66.1721\"/>\n",
       "</g>\n",
       "<!-- n2p1 -->\n",
       "<!-- n3&#45;&gt;n2p1 -->\n",
       "<g id=\"B\" class=\"edge\">\n",
       "<title>n3:s&#45;&gt;n2p1:n</title>\n",
       "<path fill=\"none\" stroke=\"#000000\" d=\"M12,-37C12,-20.358 28.951,-19.5125 32.3942,-6.0792\"/>\n",
       "<polygon fill=\"#000000\" stroke=\"#000000\" points=\"34.1454,-6.1721 33,-1 30.67,-5.7575 34.1454,-6.1721\"/>\n",
       "</g>\n",
       "<!-- n4&#45;&gt;n2p1 -->\n",
       "<g id=\"B\" class=\"edge\">\n",
       "<title>n4:s&#45;&gt;n2p1:n</title>\n",
       "<path fill=\"none\" stroke=\"#000000\" d=\"M54,-37C54,-20.358 37.049,-19.5125 33.6058,-6.0792\"/>\n",
       "<polygon fill=\"#000000\" stroke=\"#000000\" points=\"35.33,-5.7575 33,-1 31.8546,-6.1721 35.33,-5.7575\"/>\n",
       "</g>\n",
       "</g>\n",
       "</svg>\n",
       "\n"
      ],
      "text/plain": [
       "Catlab.Graphics.Graphviz.Graph(\"G\", true, Catlab.Graphics.Graphviz.Statement[Subgraph(\"\", Catlab.Graphics.Graphviz.Statement[Edge(Catlab.Graphics.Graphviz.NodeID[NodeID(\"n1p1\", \"\", \"\")], OrderedCollections.OrderedDict{Symbol,Union{String, Html}}())], OrderedCollections.OrderedDict{Symbol,Union{String, Html}}(:rank=>\"source\",:rankdir=>\"LR\"), OrderedCollections.OrderedDict{Symbol,Union{String, Html}}(:style=>\"invis\",:shape=>\"none\",:label=>\"\",:width=>\"0.333\",:height=>\"0\"), OrderedCollections.OrderedDict{Symbol,Union{String, Html}}(:style=>\"invis\")), Subgraph(\"\", Catlab.Graphics.Graphviz.Statement[Edge(Catlab.Graphics.Graphviz.NodeID[NodeID(\"n2p1\", \"\", \"\")], OrderedCollections.OrderedDict{Symbol,Union{String, Html}}())], OrderedCollections.OrderedDict{Symbol,Union{String, Html}}(:rank=>\"sink\",:rankdir=>\"LR\"), OrderedCollections.OrderedDict{Symbol,Union{String, Html}}(:style=>\"invis\",:shape=>\"none\",:label=>\"\",:width=>\"0.333\",:height=>\"0\"), OrderedCollections.OrderedDict{Symbol,Union{String, Html}}(:style=>\"invis\")), Node(\"n3\", OrderedCollections.OrderedDict{Symbol,Union{String, Html}}(:label=>Html(\"<TABLE BORDER=\\\"0\\\" CELLPADDING=\\\"0\\\" CELLSPACING=\\\"0\\\">\\n<TR><TD><TABLE BORDER=\\\"0\\\" CELLPADDING=\\\"0\\\" CELLSPACING=\\\"0\\\"><TR><TD HEIGHT=\\\"0\\\" WIDTH=\\\"24\\\" PORT=\\\"in1\\\"></TD></TR></TABLE></TD></TR>\\n<TR><TD BORDER=\\\"1\\\" CELLPADDING=\\\"4\\\">f</TD></TR>\\n<TR><TD><TABLE BORDER=\\\"0\\\" CELLPADDING=\\\"0\\\" CELLSPACING=\\\"0\\\"><TR><TD HEIGHT=\\\"0\\\" WIDTH=\\\"24\\\" PORT=\\\"out1\\\"></TD></TR></TABLE></TD></TR>\\n</TABLE>\"),:id=>\"f\")), Node(\"n4\", OrderedCollections.OrderedDict{Symbol,Union{String, Html}}(:label=>Html(\"<TABLE BORDER=\\\"0\\\" CELLPADDING=\\\"0\\\" CELLSPACING=\\\"0\\\">\\n<TR><TD><TABLE BORDER=\\\"0\\\" CELLPADDING=\\\"0\\\" CELLSPACING=\\\"0\\\"><TR><TD HEIGHT=\\\"0\\\" WIDTH=\\\"24\\\" PORT=\\\"in1\\\"></TD></TR></TABLE></TD></TR>\\n<TR><TD BORDER=\\\"1\\\" CELLPADDING=\\\"4\\\">f</TD></TR>\\n<TR><TD><TABLE BORDER=\\\"0\\\" CELLPADDING=\\\"0\\\" CELLSPACING=\\\"0\\\"><TR><TD HEIGHT=\\\"0\\\" WIDTH=\\\"24\\\" PORT=\\\"out1\\\"></TD></TR></TABLE></TD></TR>\\n</TABLE>\"),:id=>\"f\")), Edge(Catlab.Graphics.Graphviz.NodeID[NodeID(\"n1p1\", \"s\", \"\"), NodeID(\"n3\", \"in1\", \"n\")], OrderedCollections.OrderedDict{Symbol,Union{String, Html}}(:id=>\"A\")), Edge(Catlab.Graphics.Graphviz.NodeID[NodeID(\"n1p1\", \"s\", \"\"), NodeID(\"n4\", \"in1\", \"n\")], OrderedCollections.OrderedDict{Symbol,Union{String, Html}}(:id=>\"A\")), Edge(Catlab.Graphics.Graphviz.NodeID[NodeID(\"n3\", \"out1\", \"s\"), NodeID(\"n2p1\", \"n\", \"\")], OrderedCollections.OrderedDict{Symbol,Union{String, Html}}(:id=>\"B\")), Edge(Catlab.Graphics.Graphviz.NodeID[NodeID(\"n4\", \"out1\", \"s\"), NodeID(\"n2p1\", \"n\", \"\")], OrderedCollections.OrderedDict{Symbol,Union{String, Html}}(:id=>\"B\"))], OrderedCollections.OrderedDict{Symbol,Union{String, Html}}(:fontname=>\"Serif\",:rankdir=>\"TB\"), OrderedCollections.OrderedDict{Symbol,Union{String, Html}}(:fontname=>\"Serif\",:shape=>\"none\",:width=>\"0\",:height=>\"0\",:margin=>\"0\"), OrderedCollections.OrderedDict{Symbol,Union{String, Html}}(:arrowsize=>\"0.5\",:fontname=>\"Serif\"))"
      ]
     },
     "execution_count": 11,
     "metadata": {},
     "output_type": "execute_result"
    }
   ],
   "source": [
    "to_graphviz(compose(mcopy(A), otimes(f,f), mmerge(B)))"
   ]
  }
 ],
 "metadata": {
  "kernelspec": {
   "display_name": "Julia 1.0.1",
   "language": "julia",
   "name": "julia-1.0"
  },
  "language_info": {
   "file_extension": ".jl",
   "mimetype": "application/julia",
   "name": "julia",
   "version": "1.0.1"
  }
 },
 "nbformat": 4,
 "nbformat_minor": 2
}
